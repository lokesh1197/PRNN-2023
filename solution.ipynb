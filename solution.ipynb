{
 "cells": [
  {
   "cell_type": "markdown",
   "id": "8ffc01bd-eb75-4f77-a22e-93b3861ed8c4",
   "metadata": {},
   "source": [
    "# Initialization"
   ]
  },
  {
   "cell_type": "code",
   "execution_count": 3,
   "id": "2bcc2464-43fb-47e7-98d7-289b92809c6e",
   "metadata": {},
   "outputs": [],
   "source": [
    "import numpy as np\n",
    "from matplotlib import pyplot as plt\n",
    "\n",
    "# for p-value out of significance test\n",
    "from scipy.stats import ttest_ind"
   ]
  },
  {
   "cell_type": "code",
   "execution_count": 97,
   "id": "547e5a6d-ddf9-437d-8861-4d7bf8d6eaa9",
   "metadata": {},
   "outputs": [],
   "source": [
    "dataFolder = \"./data\"\n",
    "p1 = { \"testDir\": dataFolder + \"/p1_test.csv\", \"trainDir\": dataFolder + \"/p1_train.csv\" }\n",
    "p2 = { \"testDir\": dataFolder + \"/p2_test.csv\", \"trainDir\": dataFolder + \"/p2_train.csv\" }\n",
    "p3 = { \"testDir\": dataFolder + \"/p3_test.csv\", \"trainDir\": dataFolder + \"/p3_train.csv\" }\n",
    "p4 = {}\n",
    "p5 = {}\n",
    "\n",
    "p1[\"test\"] = np.genfromtxt(p1[\"testDir\"], delimiter=',')\n",
    "p1[\"train\"] = np.genfromtxt(p1[\"trainDir\"], delimiter=',')\n",
    "p2[\"test\"] = np.genfromtxt(p2[\"testDir\"], delimiter=',')\n",
    "p2[\"train\"] = np.genfromtxt(p2[\"trainDir\"], delimiter=',')\n",
    "p3[\"test\"] = np.genfromtxt(p3[\"testDir\"], delimiter=',')\n",
    "p3[\"train\"] = np.genfromtxt(p3[\"trainDir\"], delimiter=',')"
   ]
  },
  {
   "cell_type": "markdown",
   "id": "d8765b9d-a70b-4a8f-8413-4e5555717473",
   "metadata": {},
   "source": [
    "# Custom functions for P1 and P2"
   ]
  },
  {
   "cell_type": "code",
   "execution_count": 36,
   "id": "5d88fd7a-4d01-4992-9969-a44641a513aa",
   "metadata": {},
   "outputs": [],
   "source": [
    "# Compute mean squared error\n",
    "def mse(X, Y, W):\n",
    "    return (1/2) * (X @ W - Y) @ (X @ W - Y)\n",
    "\n",
    "# Compute mean absolute error\n",
    "def mae(X, Y, W):\n",
    "    return np.sum(np.abs(X @ W - Y))\n",
    "\n",
    "# Normalize a vector\n",
    "def normalize(v):\n",
    "    min = v.min()\n",
    "    max = v.max()\n",
    "    return (v - min) / (max - min)\n",
    "\n",
    "# Standardize a vector\n",
    "def standardize(v):\n",
    "    mean = np.mean(v)\n",
    "    std = np.std(v)\n",
    "    return (v - mean) / std\n",
    "\n",
    "# Normalize and split the training data into features matrix with bias and the result vector\n",
    "def parseData(data):\n",
    "    m, n = data.shape\n",
    "    data = np.array([normalize(col) for col in data.T]).T\n",
    "    X = np.c_[np.ones(m), data.T[:-1].T]\n",
    "    Y = data.T[-1].T\n",
    "    return X, Y\n",
    "\n",
    "# Print the required metrics\n",
    "def printResult(x_train, y_train, x_test, y_test, func = lambda x : x):\n",
    "    x_train = func(x_train)\n",
    "    x_test = func(x_test)\n",
    "    \n",
    "    m, n = x_train.shape\n",
    "    w = np.linalg.pinv(x_train) @ y_train\n",
    "\n",
    "    mse_train = mse(x_train, y_train, w)\n",
    "    mae_train = mae(x_train, y_train, w)\n",
    "    p_train = ttest_ind(x_train @ w, y_train).pvalue\n",
    "    mse_test = mse(x_test, y_test, w)\n",
    "    mae_test = mae(x_test, y_test, w)\n",
    "    p_test = ttest_ind(x_test @ w, y_test).pvalue\n",
    "    \n",
    "    print(\"MSE (train-split)     : \", mse_train)\n",
    "    print(\"MAE (train-split)     : \", mae_train)\n",
    "    print(\"p-value (train-split) : \", p_train)\n",
    "\n",
    "    print(\"--------------------------------------\")\n",
    "\n",
    "    print(\"a) MSE     : \", mse_test)\n",
    "    print(\"b) MAE     : \", mae_test)\n",
    "    print(\"c) p-value : \", p_test)\n",
    "    return [mse_train, mae_train, p_train], [mse_test, mae_test, p_test]"
   ]
  },
  {
   "cell_type": "markdown",
   "id": "c411608f-3337-476f-ae39-2c61e30896d0",
   "metadata": {},
   "source": [
    "# P1 (Regression Analysis)\n",
    "\n",
    "In this problem, the task is to predict the current health (as given by the target variable) of an organism given the measurements from two biological sensors measuring their bio-markers (negative indicates that it is lesser than the average case). \n",
    "\n",
    "With this data, you are expected to try our linear regression models on the  training data and report the following metrics on the test split: \n",
    "- Mean Squared Error, \n",
    "- Mean Absolute Error, \n",
    "- p-value out of significance test.\n",
    "\n",
    "**DATA:** `p1train/test.csv`"
   ]
  },
  {
   "cell_type": "code",
   "execution_count": 37,
   "id": "489c6de3-7ff2-4352-8460-277b06db2a7e",
   "metadata": {},
   "outputs": [
    {
     "data": {
      "text/plain": [
       "(10000, 3)"
      ]
     },
     "execution_count": 37,
     "metadata": {},
     "output_type": "execute_result"
    }
   ],
   "source": [
    "p1[\"train\"].shape"
   ]
  },
  {
   "cell_type": "code",
   "execution_count": 38,
   "id": "56b60d44-defc-4830-b0b2-537204d8ebbc",
   "metadata": {},
   "outputs": [
    {
     "name": "stdout",
     "output_type": "stream",
     "text": [
      "1476.0901088253356\n",
      "5019.547076086856\n"
     ]
    }
   ],
   "source": [
    "X, Y = parseData(p1[\"train\"])\n",
    "X_test, Y_test = parseData(p1[\"test\"])\n",
    "\n",
    "# Initialise the parameters to be a null vector\n",
    "W = np.array([0, 0, 0])\n",
    "\n",
    "X, Y, W\n",
    "# Check metrics with parameters as null vector\n",
    "print(mse(X, Y, W))\n",
    "print(mae(X, Y, W))"
   ]
  },
  {
   "cell_type": "markdown",
   "id": "860229d1-0d79-41d1-b907-9f4b658aafa7",
   "metadata": {},
   "source": [
    "## Linear regression\n",
    "$h(x) = w_0 + w_1x_1 + w_2x_2$"
   ]
  },
  {
   "cell_type": "code",
   "execution_count": 40,
   "id": "aebea7f7-c05c-47e6-ac85-f7bec38bf958",
   "metadata": {},
   "outputs": [
    {
     "name": "stdout",
     "output_type": "stream",
     "text": [
      "MSE (train-split)     :  1.6377431789576247\n",
      "MAE (train-split)     :  144.16318383122172\n",
      "p-value (train-split) :  0.9999999999998793\n",
      "--------------------------------------\n",
      "a) MSE     :  1.0198792104638341\n",
      "b) MAE     :  81.01047477588321\n",
      "c) p-value :  0.030717508773848688\n"
     ]
    }
   ],
   "source": [
    "p1[\"result\"] = printResult(X, Y, X_test, Y_test)"
   ]
  },
  {
   "cell_type": "markdown",
   "id": "4da34880-85e7-4471-9ff1-2da09b1af936",
   "metadata": {},
   "source": [
    "# P2 (Regression Analysis)\n",
    "\n",
    "Here, you are expected to predict the lifespan of the above organism given the data from three sensors. In this case, the model is not linear.\n",
    "\n",
    "You are expected to try several (at least 3) non-linear regression models on the train split and report the following metrics on the test split.\n",
    "- Mean Squared Error\n",
    "- Mean Absolute Error\n",
    "- p-value out of significance test\n",
    "\n",
    "**DATA**: `p2train/test.csv`"
   ]
  },
  {
   "cell_type": "code",
   "execution_count": 41,
   "id": "2394ecdf-9b19-447c-90a3-31e54dbd4753",
   "metadata": {},
   "outputs": [
    {
     "data": {
      "text/plain": [
       "((10000, 4), (5000, 4))"
      ]
     },
     "execution_count": 41,
     "metadata": {},
     "output_type": "execute_result"
    }
   ],
   "source": [
    "p2[\"train\"].shape, p2[\"test\"].shape"
   ]
  },
  {
   "cell_type": "code",
   "execution_count": 42,
   "id": "af5dd888-2ae1-4bf0-b8fa-5e366fbe21a5",
   "metadata": {},
   "outputs": [
    {
     "name": "stdout",
     "output_type": "stream",
     "text": [
      "93.14053909693217\n",
      "729.3773208010364\n"
     ]
    }
   ],
   "source": [
    "X, Y = parseData(p2[\"train\"])\n",
    "X_test, Y_test = parseData(p2[\"test\"])\n",
    "\n",
    "# Initialise the parameters to be a null vector\n",
    "W = np.array([0, 0, 0, 0])\n",
    "\n",
    "# Check metrics with parameters as null vector\n",
    "print(mse(X, Y, W))\n",
    "print(mae(X, Y, W))"
   ]
  },
  {
   "cell_type": "markdown",
   "id": "e6210373-c081-4f0e-b17b-8599e379e72a",
   "metadata": {},
   "source": [
    "## Linear regression\n",
    "$h(x) = w_0 + w_1x_1 + w_2x_2 + w_3x_3$"
   ]
  },
  {
   "cell_type": "code",
   "execution_count": 56,
   "id": "0c7b7650-165b-435e-bce3-a3bdafe587de",
   "metadata": {},
   "outputs": [
    {
     "name": "stdout",
     "output_type": "stream",
     "text": [
      "MSE (train-split)     :  64.04261865353428\n",
      "MAE (train-split)     :  792.8424805196497\n",
      "p-value (train-split) :  1.0\n",
      "--------------------------------------\n",
      "a) MSE     :  34.45351730675273\n",
      "b) MAE     :  402.40621699350675\n",
      "c) p-value :  0.04567218862928123\n"
     ]
    }
   ],
   "source": [
    "p2[\"result\"] = [[] for _ in range(8)]\n",
    "p2[\"result\"][0] = printResult(X, Y, X_test, Y_test)"
   ]
  },
  {
   "cell_type": "markdown",
   "id": "a9759cf6-e3fc-452c-9399-8c2e6bc06595",
   "metadata": {},
   "source": [
    "## Non-Linear regression (1)\n",
    "$h_1(x) = w_0 + w_1x_1 + w_2x_2 + w_3x_3 + w_4x_1x_2 + w_5x_2x_3 + w_6x_3x_1 + w_7x_1^2 + w_8x_2^2 + w_9x_3^2$"
   ]
  },
  {
   "cell_type": "code",
   "execution_count": 57,
   "id": "bfb48b3d-d973-4a0e-bea6-9032326dd838",
   "metadata": {},
   "outputs": [
    {
     "name": "stdout",
     "output_type": "stream",
     "text": [
      "MSE (train-split)     :  15.025195918707364\n",
      "MAE (train-split)     :  414.43543405251074\n",
      "p-value (train-split) :  0.9999999999995892\n",
      "--------------------------------------\n",
      "a) MSE     :  8.293925461081386\n",
      "b) MAE     :  214.73836188569697\n",
      "c) p-value :  0.6539657025513983\n"
     ]
    }
   ],
   "source": [
    "def makeQuadratic(data):\n",
    "    n = data.shape[1]\n",
    "    return np.array([data.T[i] * data.T[j] for i in range(n) for j in range(n) if j <= i]).T\n",
    "\n",
    "p2[\"result\"][1] = printResult(X, Y, X_test, Y_test, makeQuadratic)"
   ]
  },
  {
   "cell_type": "markdown",
   "id": "a344bf2b-262b-41b5-9f0a-aa6276c0caf7",
   "metadata": {},
   "source": [
    "## Non-Linear regression (2)\n",
    "$h_2(x) = w_0 + w_1x_1 + w_2x_2 + w_3x_3$\n",
    "     $+ w_4x_1x_2 + w_5x_2x_3 + w_6x_3x_1 + w_7x_1^2 + w_8x_2^2 + w_9x_3^2$\n",
    "     $+ w_{10}x_1x_2x_3 + w_{11}x_1^2x_2 + w_{12}x_2^2x_1 + w_{13}x_2^2x_3 + w_{14}x_3^2x_2 + w_{15}x_3^2x_1 + w_{16}x_1^2x_3 + w_{17}x_1^3 + w_{18}x_2^3 + w_{19}x_3^3$"
   ]
  },
  {
   "cell_type": "code",
   "execution_count": 58,
   "id": "00d16ea3-c663-4b38-a7f9-ab9cfe49b3a4",
   "metadata": {},
   "outputs": [
    {
     "name": "stdout",
     "output_type": "stream",
     "text": [
      "MSE (train-split)     :  14.015061295947277\n",
      "MAE (train-split)     :  403.4520118357519\n",
      "p-value (train-split) :  0.9999999999999714\n",
      "--------------------------------------\n",
      "a) MSE     :  7.792580568256314\n",
      "b) MAE     :  210.3268643472337\n",
      "c) p-value :  0.6337887955340187\n"
     ]
    }
   ],
   "source": [
    "def makeCubic(data):\n",
    "    n = data.shape[1]\n",
    "    return np.array([data.T[i] * data.T[j] * data.T[k] for i in range(n) for j in range(n) for k in range(n) if j <= i and k <= j]).T\n",
    "\n",
    "p2[\"result\"][2] = printResult(X, Y, X_test, Y_test, makeCubic)"
   ]
  },
  {
   "cell_type": "markdown",
   "id": "9515b659-e04a-42e1-b519-f63fefabb2d1",
   "metadata": {},
   "source": [
    "## Non-Linear regression (3)\n",
    "$h_3(x) = h_1(h_1(x))$"
   ]
  },
  {
   "cell_type": "code",
   "execution_count": 59,
   "id": "1e29d8f6-6218-48ac-ba92-60738e587d69",
   "metadata": {},
   "outputs": [
    {
     "name": "stdout",
     "output_type": "stream",
     "text": [
      "MSE (train-split)     :  0.8243996952040266\n",
      "MAE (train-split)     :  97.24998340500956\n",
      "p-value (train-split) :  0.9999999999995098\n",
      "--------------------------------------\n",
      "a) MSE     :  0.47367918630981265\n",
      "b) MAE     :  48.4986710732787\n",
      "c) p-value :  0.44918301185120135\n"
     ]
    }
   ],
   "source": [
    "p2[\"result\"][3] = printResult(X, Y, X_test, Y_test, lambda x : makeQuadratic(makeQuadratic(x)))"
   ]
  },
  {
   "cell_type": "markdown",
   "id": "fc6000af-3ab7-4ea0-9882-97485c86edf2",
   "metadata": {},
   "source": [
    "## Non-Linear regression (4)\n",
    "$h_4(x) = h_1(h_2(x))$"
   ]
  },
  {
   "cell_type": "code",
   "execution_count": 60,
   "id": "498423ed-299c-4982-bfbc-e5cfd1129700",
   "metadata": {},
   "outputs": [
    {
     "name": "stdout",
     "output_type": "stream",
     "text": [
      "MSE (train-split)     :  0.016265667882183227\n",
      "MAE (train-split)     :  10.770107850314911\n",
      "p-value (train-split) :  0.999999999986867\n",
      "--------------------------------------\n",
      "a) MSE     :  0.03926868382605306\n",
      "b) MAE     :  10.629900379280002\n",
      "c) p-value :  0.42898862281953176\n"
     ]
    }
   ],
   "source": [
    "p2[\"result\"][4] = printResult(X, Y, X_test, Y_test, lambda x : makeQuadratic(makeCubic(x)))"
   ]
  },
  {
   "cell_type": "markdown",
   "id": "e6c9f695-2d40-4f2b-bf1d-7e7a98e4b5a1",
   "metadata": {},
   "source": [
    "## Non-Linear regression (5)\n",
    "$h_5(x) = h_2(h_2(x))$"
   ]
  },
  {
   "cell_type": "code",
   "execution_count": 61,
   "id": "531e2244-b873-4ed9-b0c2-87c61c409301",
   "metadata": {},
   "outputs": [
    {
     "name": "stdout",
     "output_type": "stream",
     "text": [
      "MSE (train-split)     :  0.015762615029126598\n",
      "MAE (train-split)     :  10.675718560412275\n",
      "p-value (train-split) :  0.9999999999146658\n",
      "--------------------------------------\n",
      "a) MSE     :  0.03979982849860955\n",
      "b) MAE     :  10.671505405575594\n",
      "c) p-value :  0.4293311009552302\n"
     ]
    }
   ],
   "source": [
    "p2[\"result\"][5] = printResult(X, Y, X_test, Y_test, lambda x : makeCubic(makeCubic(x)))"
   ]
  },
  {
   "cell_type": "markdown",
   "id": "460f69c1-ef25-44e8-ae93-57abe7832501",
   "metadata": {},
   "source": [
    "## Non-Linear regression (6)\n",
    "$\\phi(x) = \\sum_{i=0, j=0, i \\neq j}^n w_{ij} x_ie^{x_j} + \\sum_{i=0}^n w_{ii} x_ie^{x_i}$\n",
    "\n",
    "$h_6(x) = \\phi(h_1(x))$"
   ]
  },
  {
   "cell_type": "code",
   "execution_count": 62,
   "id": "11e92c43-4662-4ed0-9105-556e72be0016",
   "metadata": {},
   "outputs": [
    {
     "name": "stdout",
     "output_type": "stream",
     "text": [
      "MSE (train-split)     :  0.01657736594080365\n",
      "MAE (train-split)     :  11.059370346143844\n",
      "p-value (train-split) :  0.9999999644023003\n",
      "--------------------------------------\n",
      "a) MSE     :  0.03941869125570922\n",
      "b) MAE     :  10.746865814541174\n",
      "c) p-value :  0.4282532953053031\n"
     ]
    }
   ],
   "source": [
    "def makeExp(data):\n",
    "    n = data.shape[1]\n",
    "    return np.array([data.T[i] * np.exp(data.T[j]) for i in range(n) for j in range(n) if i != j] + [data.T[i] * np.exp(data.T[i]) for i in range(n)]).T\n",
    "\n",
    "p2[\"result\"][6] = printResult(X, Y, X_test, Y_test, lambda x : makeExp(makeQuadratic(x)))"
   ]
  },
  {
   "cell_type": "markdown",
   "id": "7956b985-4572-450e-b988-c97d196063bc",
   "metadata": {},
   "source": [
    "## Non-Linear regression (7)\n",
    "$h_7(x) = \\phi(h_2(x))$"
   ]
  },
  {
   "cell_type": "code",
   "execution_count": 63,
   "id": "d797320c-bcc8-4920-b069-3295fe5e62ef",
   "metadata": {},
   "outputs": [
    {
     "name": "stdout",
     "output_type": "stream",
     "text": [
      "MSE (train-split)     :  0.015293426509348219\n",
      "MAE (train-split)     :  10.688583380035912\n",
      "p-value (train-split) :  0.9365993155260983\n",
      "--------------------------------------\n",
      "a) MSE     :  0.04209638251358401\n",
      "b) MAE     :  11.098570146056602\n",
      "c) p-value :  0.39757197242435915\n"
     ]
    }
   ],
   "source": [
    "p2[\"result\"][7] = printResult(X, Y, X_test, Y_test, lambda x : makeExp(makeCubic(x)))"
   ]
  },
  {
   "cell_type": "code",
   "execution_count": 80,
   "id": "dc6a10ca-1f6e-4007-a1bc-795d9b48ac34",
   "metadata": {},
   "outputs": [
    {
     "data": {
      "image/png": "[encoded data removed]",
      "text/plain": [
       "<Figure size 1500x400 with 3 Axes>"
      ]
     },
     "metadata": {},
     "output_type": "display_data"
    }
   ],
   "source": [
    "results = np.array(p2[\"result\"])\n",
    "fig, ax = plt.subplots(1, 3, figsize=(15, 4))\n",
    "ax[0].plot([i + 1 for i in range(8)], [np.log(row[0][0]) for row in results], label=\"train\", marker='o')\n",
    "ax[0].plot([i + 1 for i in range(8)], [np.log(row[1][0]) for row in results], label=\"test\", marker='x')\n",
    "ax[0].set_xlabel(\"Complexity -->\")\n",
    "ax[0].set_ylabel(\"ln(MSE)\")\n",
    "ax[0].legend()\n",
    "ax[0].set_title(\"MSE vs complexity\")\n",
    "\n",
    "ax[1].plot([i + 1 for i in range(8)], [np.log(row[0][1]) for row in results], label=\"train\", marker='o')\n",
    "ax[1].plot([i + 1 for i in range(8)], [np.log(row[1][1]) for row in results], label=\"test\", marker='x')\n",
    "ax[1].set_xlabel(\"Complexity -->\")\n",
    "ax[1].set_ylabel(\"ln(MAE)\")\n",
    "ax[1].legend()\n",
    "ax[1].set_title(\"MAE vs complexity\")\n",
    "\n",
    "ax[2].plot([i + 1 for i in range(8)], [(row[0][2]) for row in results], label=\"train\", marker='o')\n",
    "ax[2].plot([i + 1 for i in range(8)], [(row[1][2]) for row in results], label=\"test\", marker='x')\n",
    "ax[2].set_xlabel(\"Complexity -->\")\n",
    "ax[2].set_ylabel(\"p-value\")\n",
    "ax[2].legend()\n",
    "ax[2].set_title(\"p-value vs complexity\")\n",
    "\n",
    "fig.tight_layout()"
   ]
  },
  {
   "cell_type": "markdown",
   "id": "78a64ac9-e2ca-402d-a005-1475f4b91383",
   "metadata": {},
   "source": [
    "# Custom functions for P3, P4 and P5"
   ]
  },
  {
   "cell_type": "code",
   "execution_count": 190,
   "id": "5097954d-b63f-4da4-8f9a-3731d0a35707",
   "metadata": {},
   "outputs": [],
   "source": [
    "def classify(x, classStats, func):\n",
    "    label = '0.0'\n",
    "    max = -99999\n",
    "    for key in classStats:\n",
    "        mean = classStats[key][\"mean\"]\n",
    "        cov = classStats[key][\"cov\"]\n",
    "        prior = classStats[key][\"prior\"]\n",
    "        val = np.log(prior) + func(x, mean, cov)\n",
    "        if val > max:\n",
    "            max, label = val, key\n",
    "    return label\n",
    "    \n",
    "class metrics:\n",
    "    def accuracy(predicted, actual):\n",
    "        m = actual.size\n",
    "        correctCount = sum([1 if int(float(predicted[i])) == int(actual[i]) else 0 for i in range(m)])\n",
    "        return correctCount / m\n",
    "    \n",
    "    def confusionMatrix(predicted, actual, n = 5):\n",
    "        cnf = np.zeros((n, n), dtype='uint')\n",
    "        for i in range(actual.size):\n",
    "            cnf[int(actual[i]) - 1][int(float(predicted[i])) - 1] += 1\n",
    "        return cnf\n",
    "    \n",
    "    # precision = TP/(TP + FP), recall = TP/(TP + FN), \n",
    "    # f1 = 2 * precision * recall / (precision + recall)\n",
    "    def f1Score(cnf):\n",
    "        sum_predict = np.sum(cnf, axis=0)\n",
    "        sum_actual  = np.sum(cnf, axis=1)\n",
    "        f1 = np.zeros(cnf.shape[1])\n",
    "        for i in range(f1.size):\n",
    "            TP = cnf[i][i]\n",
    "            FP, FN = sum_predict[i] - TP, sum_actual[i] - TP\n",
    "            p, r = TP/(TP + FP), TP/(TP + FN)\n",
    "            f1[i] = 2 * p * r / (p + r)\n",
    "        return f1\n",
    "    \n",
    "    def print(X, Y, X_test, Y_test, classStats, density):\n",
    "        n_labels = len(classStats)\n",
    "        y_train = np.array([classify(x, classStats, density) for x in X])\n",
    "        y_test = np.array([classify(x, classStats, density) for x in X_test])\n",
    "        \n",
    "        cnf_train = metrics.confusionMatrix(y_train, Y, n_labels)\n",
    "        cnf_test = metrics.confusionMatrix(y_test, Y_test, n_labels)\n",
    "        acc_train = metrics.accuracy(y_train, Y)\n",
    "        acc_test = metrics.accuracy(y_test, Y_test)\n",
    "        f1_train = metrics.f1Score(cnf_train)\n",
    "        f1_test = metrics.f1Score(cnf_test)\n",
    "        \n",
    "        print(\"------------------ Train ---------------------\")\n",
    "        print(\"Classification Accuracy : \", acc_train)\n",
    "        print(\"F1 Score                : \", f1_train)\n",
    "        print(\"------------------ Test ----------------------\")\n",
    "        print(\"Classification Accuracy : \", acc_test)\n",
    "        print(\"F1 Score                : \", f1_test)\n",
    "        \n",
    "        fig, ax = plt.subplots(1, 2, figsize=(8, 4))\n",
    "        ax[0].matshow(cnf_train)\n",
    "        ax[0].set_xlabel(\"Predicted\")\n",
    "        ax[0].set_ylabel(\"Actual\")\n",
    "        ax[0].set_title(\"Confusion Matrix (train)\")\n",
    "        \n",
    "        ax[1].matshow(cnf_test)\n",
    "        ax[1].set_xlabel(\"Predicted\")\n",
    "        ax[1].set_ylabel(\"Actual\")\n",
    "        ax[1].set_title(\"Confusion Matrix (test)\")\n",
    "        \n",
    "        return [acc_train, f1_train], [acc_test, f1_test]"
   ]
  },
  {
   "cell_type": "markdown",
   "id": "2337fbae-68a6-4b90-a8ac-27c8063205a9",
   "metadata": {},
   "source": [
    "# P3 (Multi-class classification)\n",
    "\n",
    "We have data from 10 sensors fitted in an industrial plant. There are five classes indicating which product is being produced. The task is to predict the product being produced by looking at the observation from these 10 sensors. \n",
    "\n",
    "Given this, you are expected to implement \n",
    "- Bayes’ classifiers with 0-1 loss assuming Normal, exponential, and GMMs (with diagonal co-variances) as class-conditional densities. For GMMs, code up the EM algorithm,\n",
    "- Linear classifier using the one-vs-rest approach\n",
    "- Multi-class Logistic regressor with gradient descent.\n",
    "\n",
    "The metrics to be computed are \n",
    "- Classification accuracy, \n",
    "- Confusion matrix,\n",
    "- Class-wise F1 score, \n",
    "- RoC curves for any pair of classes, and \n",
    "- likelihood curve for EM with different choices for the number of mixtures as hyper-parameters, \n",
    "- Emipiral risk on the train and test data while using logistic regressor.\n",
    "\n",
    "**DATA:** `p3train/test.csv`"
   ]
  },
  {
   "cell_type": "code",
   "execution_count": 163,
   "id": "32e444d8-c4ec-4633-90ec-be138198f4fc",
   "metadata": {},
   "outputs": [
    {
     "data": {
      "text/plain": [
       "((60000, 11), (15000, 11))"
      ]
     },
     "execution_count": 163,
     "metadata": {},
     "output_type": "execute_result"
    }
   ],
   "source": [
    "p3[\"train\"].shape, p3[\"test\"].shape"
   ]
  },
  {
   "cell_type": "code",
   "execution_count": 164,
   "id": "4101591c-28fe-4081-a6fd-461d228485cf",
   "metadata": {},
   "outputs": [],
   "source": [
    "classes = {}\n",
    "for row in p3[\"train\"]:\n",
    "    label = str(row[-1])\n",
    "    if label in classes:\n",
    "        classes[label] = np.r_[classes[label], [row[:-1]]]\n",
    "    else:\n",
    "        classes[label] = np.r_[[row[:-1]]]\n",
    "        \n",
    "for key in classes:\n",
    "    mean = np.mean(classes[key], axis=0)\n",
    "    cov = np.cov(classes[key].T)\n",
    "    prior = classes[key].shape[0]\n",
    "    classes[key] = { \"mean\": mean, \"cov\": cov, \"prior\": prior }"
   ]
  },
  {
   "cell_type": "code",
   "execution_count": 165,
   "id": "a0374a04-65ff-42ae-9a49-14365afcb770",
   "metadata": {},
   "outputs": [],
   "source": [
    "def splitData(data):\n",
    "    X = data.T[:-1].T\n",
    "    Y = data.T[-1].T\n",
    "    return X, Y\n",
    "\n",
    "X, Y = splitData(p3[\"train\"])\n",
    "X_test, Y_test = splitData(p3[\"test\"])"
   ]
  },
  {
   "cell_type": "markdown",
   "id": "4a241d07-4431-4933-bea8-fe66abb05383",
   "metadata": {},
   "source": [
    "## Bayes' classifier with normal distribution"
   ]
  },
  {
   "cell_type": "code",
   "execution_count": 166,
   "id": "a46a0864-a6c0-4916-899d-66714309ccfd",
   "metadata": {},
   "outputs": [
    {
     "name": "stdout",
     "output_type": "stream",
     "text": [
      "------------------ Train ---------------------\n",
      "Classification Accuracy :  0.5938\n",
      "F1 Score                :  [0.55580828 0.58142531 0.64570972 0.60869926 0.57806419]\n",
      "------------------ Test ----------------------\n",
      "Classification Accuracy :  0.5938666666666667\n",
      "F1 Score                :  [0.54618609 0.57881651 0.64010713 0.60593792 0.59836066]\n"
     ]
    },
    {
     "data": {
      "image/png": "[encoded data removed]",
      "text/plain": [
       "<Figure size 800x400 with 2 Axes>"
      ]
     },
     "metadata": {},
     "output_type": "display_data"
    }
   ],
   "source": [
    "def logNormal(x, mean, cov):\n",
    "    return - 0.5 * (np.log(2 * np.pi * np.linalg.det(cov)) + ((x - mean) @ np.linalg.inv(cov) @ (x - mean)))\n",
    "\n",
    "p3[\"result\"] = [[] for _ in range(5)]\n",
    "p3[\"result\"][0] = metrics.print(X, Y, X_test, Y_test, classes, logNormal)"
   ]
  },
  {
   "cell_type": "markdown",
   "id": "1d976f34-136b-45a6-ace0-a19ce4daa8a6",
   "metadata": {},
   "source": [
    "## Bayes' classifier with exponential distribution"
   ]
  },
  {
   "cell_type": "code",
   "execution_count": 167,
   "id": "b2eff135-a1ff-4313-a727-9a6ea8326689",
   "metadata": {},
   "outputs": [
    {
     "name": "stdout",
     "output_type": "stream",
     "text": [
      "------------------ Train ---------------------\n",
      "Classification Accuracy :  0.20061666666666667\n",
      "F1 Score                :  [0.28455516 0.05332337 0.22691824 0.01385902 0.24428515]\n",
      "------------------ Test ----------------------\n",
      "Classification Accuracy :  0.20133333333333334\n",
      "F1 Score                :  [0.27869482 0.05913571 0.22525849 0.0122739  0.25114155]\n"
     ]
    },
    {
     "data": {
      "image/png": "[encoded data removed]",
      "text/plain": [
       "<Figure size 800x400 with 2 Axes>"
      ]
     },
     "metadata": {},
     "output_type": "display_data"
    }
   ],
   "source": [
    "# assume independent features\n",
    "def logExp(x, mean, _):\n",
    "    # ignore features with negative mean\n",
    "    # for i in range(mean.size):\n",
    "    #     if x[i] <= 0:\n",
    "    #         np.delete(mean, i)\n",
    "    #         np.delete(x, i)\n",
    "    # print(\"Mean: \", mean)\n",
    "    return np.log(np.abs(np.prod(mean))) - np.reciprocal(mean) @ x\n",
    "\n",
    "p3[\"result\"][1] = metrics.print(X, Y, X_test, Y_test, classes, logExp)"
   ]
  },
  {
   "cell_type": "markdown",
   "id": "70c4ffda-da5a-4cff-8bb9-7814723417d9",
   "metadata": {},
   "source": [
    "# P4 (Multi-class classification)\n",
    "\n",
    "In this problem, we consider an image dataset called Kannada-MNIST. This dataset contains images (60,000 images with 6000 per class) of digits from the south Indian language of Kannada. The task is to build a 10-class classifier for the digits. \n",
    "\n",
    "You are supposed to test the following classification schemes: \n",
    "- Naive Bayes’ with Normal as Class conditional\n",
    "- Logistic regressor with gradient descent\n",
    "- Multi-class Bayes’ classifier with GMMs with diagonal co-variances for class conditionals.\n",
    "\n",
    "Report the following metrics on the test data: \n",
    "- Classification accuracy\n",
    "- Confusion matrix\n",
    "- Class-wise F1 score\n",
    "- RoC curves for any pair of classes\n",
    "- likelihood curve for EM with different choices for the number of mixtures as hyper-parameters\n",
    "- Emipiral risk on the train and test data while using logistic regressor\n",
    "\n",
    "In this problem, first split the data into train and test parts with the following ratios of **20:80**, **30:70**, **50:50**, **70:30**, and **90:10**, and record your observations. Train the algorithms on the train part and evaluate over the test part.\n",
    "\n",
    "**DATA:** `images.zip`"
   ]
  },
  {
   "cell_type": "code",
   "execution_count": 25,
   "id": "22399eac-b519-490c-8d85-dea8685886c6",
   "metadata": {},
   "outputs": [],
   "source": [
    "%%capture\n",
    "!unzip -n data/images.zip -d data"
   ]
  },
  {
   "cell_type": "markdown",
   "id": "76191a41-0109-4be9-9968-ecdd21e4f66e",
   "metadata": {},
   "source": [
    "## Data handling"
   ]
  },
  {
   "cell_type": "code",
   "execution_count": 98,
   "id": "f5375d8f-1fd4-4344-a7a6-ba1fd335a18c",
   "metadata": {},
   "outputs": [
    {
     "data": {
      "text/plain": [
       "(10, 6000, 8, 8)"
      ]
     },
     "execution_count": 98,
     "metadata": {},
     "output_type": "execute_result"
    }
   ],
   "source": [
    "import os\n",
    "from os.path import join\n",
    "from PIL import Image\n",
    "\n",
    "imageDir = \"./data/images\"\n",
    "\n",
    "labels = os.listdir(imageDir)\n",
    "data = [[] for _ in labels]\n",
    "for label in labels:\n",
    "    # label = \"0\"\n",
    "    dir = join(imageDir, label)\n",
    "    files = os.listdir(dir)\n",
    "    data[int(label)] = np.array([np.array(Image.open(join(dir, file)).convert(\"L\").resize((8, 8)), dtype='uint8') for file in files])\n",
    "\n",
    "p4[\"data\"] = np.array(data)\n",
    "p4[\"data\"].shape"
   ]
  },
  {
   "cell_type": "code",
   "execution_count": 100,
   "id": "4326c625-75f0-4646-a3dd-52f5a6a34d46",
   "metadata": {},
   "outputs": [
    {
     "data": {
      "image/png": "[encoded data removed]",
      "text/plain": [
       "<Figure size 1200x400 with 10 Axes>"
      ]
     },
     "metadata": {},
     "output_type": "display_data"
    }
   ],
   "source": [
    "fig, ax = plt.subplots(2, 5, figsize=(12, 4))\n",
    "for i in range(p4[\"data\"].shape[0]):\n",
    "    ax[i // 5][i % 5].imshow(p4[\"data\"][i][0].astype(np.uint8), cmap='gray')\n",
    "    ax[i // 5][i % 5].set_title(str(i))\n",
    "    ax[i // 5][i % 5].get_xaxis().set_visible(False)\n",
    "    ax[i // 5][i % 5].get_yaxis().set_visible(False)\n",
    "\n",
    "fig.tight_layout()"
   ]
  },
  {
   "cell_type": "code",
   "execution_count": 181,
   "id": "783f63a3-994d-43bb-901a-3c8aa17d0229",
   "metadata": {},
   "outputs": [],
   "source": [
    "# returns X, Y, X_test, Y_test and classStats\n",
    "def trainTestSplit(data, train_ratio):\n",
    "    n = data.shape[0]\n",
    "    m = int(np.floor(data.shape[1] * train_ratio))\n",
    "    train = np.zeros((n, m, data.shape[2], data.shape[3]))\n",
    "    test = np.zeros((n, data.shape[1] - m, data.shape[2], data.shape[3]))\n",
    "    classStats = {}\n",
    "    x_train, y_train, x_test, y_test = [[[] for _ in range(n)] for _ in range(4)]\n",
    "    for label in range(data.shape[0]):\n",
    "        x_train[label], y_train[label], classStats[str(label)] = imgToFeatures(label, data[label][:m], True)\n",
    "        x_test[label], y_test[label] = imgToFeatures(label, data[label][m:])\n",
    "    \n",
    "    X, Y, X_test, Y_test = [x.reshape(-1, x.shape[-1]) for x in [np.array(x) for x in [x_train, y_train, x_test, y_test]]]\n",
    "    return X, Y.flatten(), X_test, Y_test.flatten(), classStats\n",
    "        \n",
    "def imgToFeatures(label, data, stats=False):\n",
    "    X = np.array([x.flatten() for x in data]) / 255\n",
    "    Y = label * np.ones(data.shape[0])\n",
    "    if stats:\n",
    "        return X, Y, { \"mean\": np.mean(X, axis=0), \"cov\": np.cov(X.T), \"prior\": data.shape[0] }\n",
    "    return X, Y"
   ]
  },
  {
   "cell_type": "code",
   "execution_count": 182,
   "id": "a16b64ba-4a9f-4ed1-8389-944b07645767",
   "metadata": {},
   "outputs": [],
   "source": [
    "splitData = [trainTestSplit(p4[\"data\"], r) for r in [0.2, 0.3, 0.5, 0.7, 0.9]]"
   ]
  },
  {
   "cell_type": "markdown",
   "id": "53d38672-be8d-40b2-b92e-e055e8d6257f",
   "metadata": {},
   "source": [
    "## Naive Bayes"
   ]
  },
  {
   "cell_type": "code",
   "execution_count": 191,
   "id": "6a5eb3a2-c72f-4a0e-8d21-7bbf4edf864c",
   "metadata": {},
   "outputs": [
    {
     "name": "stdout",
     "output_type": "stream",
     "text": [
      "------------------ Train ---------------------\n",
      "Classification Accuracy :  0.53425\n",
      "F1 Score                :  [0.51333729 0.94897549 0.08372828 0.42997097 0.45335003 0.65400593\n",
      " 0.24928367 0.71159875 0.68919562 0.3868066 ]\n",
      "------------------ Test ----------------------\n",
      "Classification Accuracy :  0.5366041666666667\n",
      "F1 Score                :  [0.50253807 0.95760041 0.08965788 0.43509903 0.43977901 0.64502834\n",
      " 0.25859015 0.72446864 0.69423858 0.40105254]\n"
     ]
    },
    {
     "data": {
      "image/png": "[encoded data removed]",
      "text/plain": [
       "<Figure size 800x400 with 2 Axes>"
      ]
     },
     "metadata": {},
     "output_type": "display_data"
    }
   ],
   "source": [
    "def naiveLogNormal(x, u, v):\n",
    "    return -0.5 * np.sum([np.log(2 * np.pi * v[i][i]) + (x[i] - u[i]) * (x[i] - u[i])/v[i][i] for i in range(u.shape[0]) if v[i][i] > 0])\n",
    "\n",
    "p3[\"result\"][0] = metrics.print(splitData[0][0], splitData[0][1], splitData[0][2], splitData[0][3], splitData[0][4], naiveLogNormal)"
   ]
  },
  {
   "cell_type": "markdown",
   "id": "52ea00d9-ca3b-4b22-9d58-4f5591e9106a",
   "metadata": {},
   "source": [
    "## Logistic Regressor"
   ]
  },
  {
   "cell_type": "code",
   "execution_count": null,
   "id": "f068a5ab-544f-4f11-add5-5fe68d6bbf9d",
   "metadata": {},
   "outputs": [],
   "source": []
  },
  {
   "cell_type": "markdown",
   "id": "3ef07930-8c45-400a-a5b6-1fc6b9ef2c7b",
   "metadata": {},
   "source": [
    "## GMM"
   ]
  },
  {
   "cell_type": "code",
   "execution_count": null,
   "id": "6479603b-b37b-4794-a865-ce2379ce1c87",
   "metadata": {},
   "outputs": [],
   "source": []
  },
  {
   "cell_type": "markdown",
   "id": "55265079-c87a-4aa6-a23d-865a1ad9f853",
   "metadata": {},
   "source": [
    "# P5 (Multi-class classification)\n",
    "\n",
    "In this part, the data from the previous problem is ’condensed’ (using PCA) to **10 dimensions**. Repeat the above experiment with all the models and metrics and record your observations.\n",
    "\n",
    "**DATA:** `PCA_MNIST`(KannadaMNISTPCA.csv)"
   ]
  },
  {
   "cell_type": "code",
   "execution_count": null,
   "id": "415c87c0-d3a1-447e-8573-c76f0e6a5b79",
   "metadata": {},
   "outputs": [],
   "source": [
    "p5[\"data\"] = np.genfromtxt(dataFolder + \"/PCA_MNIST.csv\", delimiter=',')"
   ]
  },
  {
   "cell_type": "code",
   "execution_count": null,
   "id": "8e9fd679-25e0-4cc7-848c-74b25c1f61e9",
   "metadata": {},
   "outputs": [],
   "source": []
  }
 ],
 "metadata": {
  "kernelspec": {
   "display_name": "Python 3 (ipykernel)",
   "language": "python",
   "name": "python3"
  },
  "language_info": {
   "codemirror_mode": {
    "name": "ipython",
    "version": 3
   },
   "file_extension": ".py",
   "mimetype": "text/x-python",
   "name": "python",
   "nbconvert_exporter": "python",
   "pygments_lexer": "ipython3",
   "version": "3.10.8"
  }
 },
 "nbformat": 4,
 "nbformat_minor": 5
}
