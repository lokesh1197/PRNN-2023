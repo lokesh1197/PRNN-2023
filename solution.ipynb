{
 "cells": [
  {
   "cell_type": "markdown",
   "id": "8ffc01bd-eb75-4f77-a22e-93b3861ed8c4",
   "metadata": {},
   "source": [
    "# Initialization"
   ]
  },
  {
   "cell_type": "code",
   "execution_count": 3,
   "id": "2bcc2464-43fb-47e7-98d7-289b92809c6e",
   "metadata": {},
   "outputs": [],
   "source": [
    "import numpy as np\n",
    "from matplotlib import pyplot as plt\n",
    "\n",
    "# for p-value out of significance test\n",
    "from scipy.stats import ttest_ind"
   ]
  },
  {
   "cell_type": "code",
   "execution_count": 4,
   "id": "547e5a6d-ddf9-437d-8861-4d7bf8d6eaa9",
   "metadata": {},
   "outputs": [],
   "source": [
    "dataFolder = \"./data\"\n",
    "p1 = { \"testDir\": dataFolder + \"/p1_test.csv\", \"trainDir\": dataFolder + \"/p1_train.csv\" }\n",
    "p2 = { \"testDir\": dataFolder + \"/p2_test.csv\", \"trainDir\": dataFolder + \"/p2_train.csv\" }\n",
    "p3 = { \"testDir\": dataFolder + \"/p3_test.csv\", \"trainDir\": dataFolder + \"/p3_train.csv\" }\n",
    "\n",
    "p1[\"test\"] = np.genfromtxt(p1[\"testDir\"], delimiter=',')\n",
    "p1[\"train\"] = np.genfromtxt(p1[\"trainDir\"], delimiter=',')\n",
    "p2[\"test\"] = np.genfromtxt(p2[\"testDir\"], delimiter=',')\n",
    "p2[\"train\"] = np.genfromtxt(p2[\"trainDir\"], delimiter=',')\n",
    "p3[\"test\"] = np.genfromtxt(p3[\"testDir\"], delimiter=',')\n",
    "p3[\"train\"] = np.genfromtxt(p3[\"trainDir\"], delimiter=',')"
   ]
  },
  {
   "cell_type": "markdown",
   "id": "d8765b9d-a70b-4a8f-8413-4e5555717473",
   "metadata": {},
   "source": [
    "# Custom functions for P1 and P2"
   ]
  },
  {
   "cell_type": "code",
   "execution_count": 5,
   "id": "5d88fd7a-4d01-4992-9969-a44641a513aa",
   "metadata": {},
   "outputs": [],
   "source": [
    "# Compute mean squared error\n",
    "def mse(X, Y, W):\n",
    "    return (1/2) * (X @ W - Y) @ (X @ W - Y)\n",
    "\n",
    "# Compute mean absolute error\n",
    "def mae(X, Y, W):\n",
    "    return np.sum(np.abs(X @ W - Y))\n",
    "\n",
    "# Normalize a vector\n",
    "def normalize(v):\n",
    "    min = v.min()\n",
    "    max = v.max()\n",
    "    return (v - min) / (max - min)\n",
    "\n",
    "# Standardize a vector\n",
    "def standardize(v):\n",
    "    mean = np.average(v)\n",
    "    std = np.std(v)\n",
    "    return (v - mean) / std\n",
    "\n",
    "# Normalize and split the training data into features matrix with bias and the result vector\n",
    "def parseData(data):\n",
    "    m, n = data.shape\n",
    "    data = np.array([normalize(col) for col in data.T]).T\n",
    "    X = np.c_[np.ones(m), data.T[:-1].T]\n",
    "    Y = data.T[-1].T\n",
    "    return X, Y\n",
    "\n",
    "# Print the required metrics\n",
    "def printResult(x_train, y_train, x_test, y_test, func = lambda x : x):\n",
    "    x_train = func(x_train)\n",
    "    x_test = func(x_test)\n",
    "    \n",
    "    m, n = x_train.shape\n",
    "    w = np.linalg.pinv(x_train) @ y_train\n",
    "\n",
    "    print(\"MSE (train-split)     : \", mse(x_train, y_train, w))\n",
    "    print(\"MAE (train-split)     : \", mae(x_train, y_train, w))\n",
    "    print(\"p-value (train-split) : \", ttest_ind(x_train @ w, y_train).pvalue)\n",
    "\n",
    "    print(\"--------------------------------------\")\n",
    "\n",
    "    print(\"a) MSE     : \", mse(x_test, y_test, w))\n",
    "    print(\"b) MAE     : \", mae(x_test, y_test, w))\n",
    "    print(\"c) p-value : \", ttest_ind(x_test @ w, y_test).pvalue)"
   ]
  },
  {
   "cell_type": "markdown",
   "id": "c411608f-3337-476f-ae39-2c61e30896d0",
   "metadata": {},
   "source": [
    "# P1 (Regression Analysis)\n",
    "\n",
    "In this problem, the task is to predict the current health (as given by the target variable) of an organism given the measurements from two biological sensors measuring their bio-markers (negative indicates that it is lesser than the average case). \n",
    "\n",
    "With this data, you are expected to try our linear regression models on the  training data and report the following metrics on the test split: \n",
    "- Mean Squared Error, \n",
    "- Mean Absolute Error, \n",
    "- p-value out of significance test.\n",
    "\n",
    "**DATA:** `p1train/test.csv`"
   ]
  },
  {
   "cell_type": "code",
   "execution_count": 6,
   "id": "489c6de3-7ff2-4352-8460-277b06db2a7e",
   "metadata": {},
   "outputs": [
    {
     "data": {
      "text/plain": [
       "(10000, 3)"
      ]
     },
     "execution_count": 6,
     "metadata": {},
     "output_type": "execute_result"
    }
   ],
   "source": [
    "p1[\"train\"].shape"
   ]
  },
  {
   "cell_type": "code",
   "execution_count": 7,
   "id": "56b60d44-defc-4830-b0b2-537204d8ebbc",
   "metadata": {},
   "outputs": [
    {
     "name": "stdout",
     "output_type": "stream",
     "text": [
      "1476.0901088253356\n",
      "5019.547076086856\n"
     ]
    }
   ],
   "source": [
    "X, Y = parseData(p1[\"train\"])\n",
    "X_test, Y_test = parseData(p1[\"test\"])\n",
    "\n",
    "# Initialise the parameters to be a null vector\n",
    "W = np.array([0, 0, 0])\n",
    "\n",
    "X, Y, W\n",
    "# Check metrics with parameters as null vector\n",
    "print(mse(X, Y, W))\n",
    "print(mae(X, Y, W))"
   ]
  },
  {
   "cell_type": "markdown",
   "id": "860229d1-0d79-41d1-b907-9f4b658aafa7",
   "metadata": {},
   "source": [
    "## Linear regression\n",
    "$h(x) = w_0 + w_1x_1 + w_2x_2$"
   ]
  },
  {
   "cell_type": "code",
   "execution_count": 8,
   "id": "aebea7f7-c05c-47e6-ac85-f7bec38bf958",
   "metadata": {},
   "outputs": [
    {
     "name": "stdout",
     "output_type": "stream",
     "text": [
      "MSE (train-split)     :  1.6377431789576247\n",
      "MAE (train-split)     :  144.16318383122172\n",
      "p-value (train-split) :  0.9999999999998793\n",
      "--------------------------------------\n",
      "a) MSE     :  1.0198792104638341\n",
      "b) MAE     :  81.01047477588321\n",
      "c) p-value :  0.030717508773848688\n"
     ]
    }
   ],
   "source": [
    "printResult(X, Y, X_test, Y_test)"
   ]
  },
  {
   "cell_type": "markdown",
   "id": "4da34880-85e7-4471-9ff1-2da09b1af936",
   "metadata": {},
   "source": [
    "# P2 (Regression Analysis)\n",
    "\n",
    "Here, you are expected to predict the lifespan of the above organism given the data from three sensors. In this case, the model is not linear.\n",
    "\n",
    "You are expected to try several (at least 3) non-linear regression models on the train split and report the following metrics on the test split.\n",
    "- Mean Squared Error\n",
    "- Mean Absolute Error\n",
    "- p-value out of significance test\n",
    "\n",
    "**DATA**: `p2train/test.csv`"
   ]
  },
  {
   "cell_type": "code",
   "execution_count": 9,
   "id": "2394ecdf-9b19-447c-90a3-31e54dbd4753",
   "metadata": {},
   "outputs": [
    {
     "data": {
      "text/plain": [
       "(10000, 4)"
      ]
     },
     "execution_count": 9,
     "metadata": {},
     "output_type": "execute_result"
    }
   ],
   "source": [
    "p2[\"train\"].shape"
   ]
  },
  {
   "cell_type": "code",
   "execution_count": 10,
   "id": "af5dd888-2ae1-4bf0-b8fa-5e366fbe21a5",
   "metadata": {},
   "outputs": [
    {
     "name": "stdout",
     "output_type": "stream",
     "text": [
      "93.14053909693217\n",
      "729.3773208010364\n"
     ]
    }
   ],
   "source": [
    "X, Y = parseData(p2[\"train\"])\n",
    "X_test, Y_test = parseData(p2[\"test\"])\n",
    "\n",
    "# Initialise the parameters to be a null vector\n",
    "W = np.array([0, 0, 0, 0])\n",
    "\n",
    "# Check metrics with parameters as null vector\n",
    "print(mse(X, Y, W))\n",
    "print(mae(X, Y, W))"
   ]
  },
  {
   "cell_type": "markdown",
   "id": "e6210373-c081-4f0e-b17b-8599e379e72a",
   "metadata": {},
   "source": [
    "## Linear regression\n",
    "$h(x) = w_0 + w_1x_1 + w_2x_2 + w_3x_3$"
   ]
  },
  {
   "cell_type": "code",
   "execution_count": 11,
   "id": "0c7b7650-165b-435e-bce3-a3bdafe587de",
   "metadata": {},
   "outputs": [
    {
     "name": "stdout",
     "output_type": "stream",
     "text": [
      "MSE (train-split)     :  64.04261865353428\n",
      "MAE (train-split)     :  792.8424805196497\n",
      "p-value (train-split) :  1.0\n",
      "--------------------------------------\n",
      "a) MSE     :  34.45351730675273\n",
      "b) MAE     :  402.40621699350675\n",
      "c) p-value :  0.04567218862928123\n"
     ]
    }
   ],
   "source": [
    "printResult(X, Y, X_test, Y_test)"
   ]
  },
  {
   "cell_type": "markdown",
   "id": "a9759cf6-e3fc-452c-9399-8c2e6bc06595",
   "metadata": {},
   "source": [
    "## Non-Linear regression (1)\n",
    "$h_1(x) = w_0 + w_1x_1 + w_2x_2 + w_3x_3 + w_4x_1x_2 + w_5x_2x_3 + w_6x_3x_1 + w_7x_1^2 + w_8x_2^2 + w_9x_3^2$"
   ]
  },
  {
   "cell_type": "code",
   "execution_count": 12,
   "id": "bfb48b3d-d973-4a0e-bea6-9032326dd838",
   "metadata": {},
   "outputs": [
    {
     "name": "stdout",
     "output_type": "stream",
     "text": [
      "MSE (train-split)     :  15.025195918707364\n",
      "MAE (train-split)     :  414.43543405251074\n",
      "p-value (train-split) :  0.9999999999995892\n",
      "--------------------------------------\n",
      "a) MSE     :  8.293925461081386\n",
      "b) MAE     :  214.73836188569697\n",
      "c) p-value :  0.6539657025513983\n"
     ]
    }
   ],
   "source": [
    "def makeQuadratic(data):\n",
    "    n = data.shape[1]\n",
    "    return np.array([data.T[i] * data.T[j] for i in range(n) for j in range(n) if j <= i]).T\n",
    "\n",
    "printResult(X, Y, X_test, Y_test, makeQuadratic)"
   ]
  },
  {
   "cell_type": "markdown",
   "id": "a344bf2b-262b-41b5-9f0a-aa6276c0caf7",
   "metadata": {},
   "source": [
    "## Non-Linear regression (2)\n",
    "$h_2(x) = w_0 + w_1x_1 + w_2x_2 + w_3x_3$\n",
    "     $+ w_4x_1x_2 + w_5x_2x_3 + w_6x_3x_1 + w_7x_1^2 + w_8x_2^2 + w_9x_3^2$\n",
    "     $+ w_{10}x_1x_2x_3 + w_{11}x_1^2x_2 + w_{12}x_2^2x_1 + w_{13}x_2^2x_3 + w_{14}x_3^2x_2 + w_{15}x_3^2x_1 + w_{16}x_1^2x_3 + w_{17}x_1^3 + w_{18}x_2^3 + w_{19}x_3^3$"
   ]
  },
  {
   "cell_type": "code",
   "execution_count": 13,
   "id": "00d16ea3-c663-4b38-a7f9-ab9cfe49b3a4",
   "metadata": {},
   "outputs": [
    {
     "name": "stdout",
     "output_type": "stream",
     "text": [
      "MSE (train-split)     :  14.015061295947277\n",
      "MAE (train-split)     :  403.4520118357519\n",
      "p-value (train-split) :  0.9999999999999714\n",
      "--------------------------------------\n",
      "a) MSE     :  7.792580568256314\n",
      "b) MAE     :  210.3268643472337\n",
      "c) p-value :  0.6337887955340187\n"
     ]
    }
   ],
   "source": [
    "def makeCubic(data):\n",
    "    n = data.shape[1]\n",
    "    return np.array([data.T[i] * data.T[j] * data.T[k] for i in range(n) for j in range(n) for k in range(n) if j <= i and k <= j]).T\n",
    "\n",
    "printResult(X, Y, X_test, Y_test, makeCubic)"
   ]
  },
  {
   "cell_type": "markdown",
   "id": "9515b659-e04a-42e1-b519-f63fefabb2d1",
   "metadata": {},
   "source": [
    "## Non-Linear regression (3)\n",
    "$h_3(x) = h_1(h_1(x))$"
   ]
  },
  {
   "cell_type": "code",
   "execution_count": 14,
   "id": "1e29d8f6-6218-48ac-ba92-60738e587d69",
   "metadata": {},
   "outputs": [
    {
     "name": "stdout",
     "output_type": "stream",
     "text": [
      "MSE (train-split)     :  0.8243996952040266\n",
      "MAE (train-split)     :  97.24998340500956\n",
      "p-value (train-split) :  0.9999999999995098\n",
      "--------------------------------------\n",
      "a) MSE     :  0.47367918630981265\n",
      "b) MAE     :  48.4986710732787\n",
      "c) p-value :  0.44918301185120135\n"
     ]
    }
   ],
   "source": [
    "printResult(X, Y, X_test, Y_test, lambda x : makeQuadratic(makeQuadratic(x)))"
   ]
  },
  {
   "cell_type": "markdown",
   "id": "fc6000af-3ab7-4ea0-9882-97485c86edf2",
   "metadata": {},
   "source": [
    "## Non-Linear regression (4)\n",
    "$h_4(x) = h_1(h_2(x))$"
   ]
  },
  {
   "cell_type": "code",
   "execution_count": 15,
   "id": "498423ed-299c-4982-bfbc-e5cfd1129700",
   "metadata": {},
   "outputs": [
    {
     "name": "stdout",
     "output_type": "stream",
     "text": [
      "MSE (train-split)     :  0.016265667882183227\n",
      "MAE (train-split)     :  10.770107850314911\n",
      "p-value (train-split) :  0.999999999986867\n",
      "--------------------------------------\n",
      "a) MSE     :  0.03926868382605306\n",
      "b) MAE     :  10.629900379280002\n",
      "c) p-value :  0.42898862281953176\n"
     ]
    }
   ],
   "source": [
    "printResult(X, Y, X_test, Y_test, lambda x : makeQuadratic(makeCubic(x)))"
   ]
  },
  {
   "cell_type": "markdown",
   "id": "e6c9f695-2d40-4f2b-bf1d-7e7a98e4b5a1",
   "metadata": {},
   "source": [
    "## Non-Linear regression (5)\n",
    "$h_3(x) = h_2(h_2(x))$"
   ]
  },
  {
   "cell_type": "code",
   "execution_count": 16,
   "id": "531e2244-b873-4ed9-b0c2-87c61c409301",
   "metadata": {},
   "outputs": [
    {
     "name": "stdout",
     "output_type": "stream",
     "text": [
      "MSE (train-split)     :  0.015762615029126598\n",
      "MAE (train-split)     :  10.675718560412275\n",
      "p-value (train-split) :  0.9999999999146658\n",
      "--------------------------------------\n",
      "a) MSE     :  0.03979982849860955\n",
      "b) MAE     :  10.671505405575594\n",
      "c) p-value :  0.4293311009552302\n"
     ]
    }
   ],
   "source": [
    "printResult(X, Y, X_test, Y_test, lambda x : makeCubic(makeCubic(x)))"
   ]
  },
  {
   "cell_type": "markdown",
   "id": "460f69c1-ef25-44e8-ae93-57abe7832501",
   "metadata": {},
   "source": [
    "## Non-Linear regression (6)\n",
    "$h_3(x) = h_1(h_1(h_1(x)))$"
   ]
  },
  {
   "cell_type": "code",
   "execution_count": 17,
   "id": "11e92c43-4662-4ed0-9105-556e72be0016",
   "metadata": {},
   "outputs": [
    {
     "name": "stdout",
     "output_type": "stream",
     "text": [
      "MSE (train-split)     :  0.015956425766832035\n",
      "MAE (train-split)     :  10.69491349283181\n",
      "p-value (train-split) :  0.999999999841779\n",
      "--------------------------------------\n",
      "a) MSE     :  0.039514123289274505\n",
      "b) MAE     :  10.641599853358713\n",
      "c) p-value :  0.42992684854076213\n"
     ]
    }
   ],
   "source": [
    "printResult(X, Y, X_test, Y_test, lambda x : makeQuadratic(makeQuadratic(makeQuadratic(x))))"
   ]
  },
  {
   "cell_type": "markdown",
   "id": "4401c4f0-ee24-439c-bfa3-1530cc1b2d68",
   "metadata": {},
   "source": [
    "## Non-Linear regression (7)\n",
    "$h_3(x) = h_1(h_1((h_2(x)))$"
   ]
  },
  {
   "cell_type": "code",
   "execution_count": 20,
   "id": "c09317ca-8d1e-44b6-9e8c-967205611a86",
   "metadata": {},
   "outputs": [],
   "source": [
    "# printResult(X, Y, X_test, Y_test, lambda x : makeQuadratic(makeQuadratic(makeCubic(x))))"
   ]
  },
  {
   "cell_type": "markdown",
   "id": "65d3fcaf-0b61-41fb-8d2f-61facc43ba86",
   "metadata": {},
   "source": [
    "## Non-Linear regression (8)\n",
    "$h_3(x) = h_1(h_2(h_2(x)))$"
   ]
  },
  {
   "cell_type": "code",
   "execution_count": 19,
   "id": "c53f6e2b-78a0-41a7-adbe-d622ac8ec3b6",
   "metadata": {},
   "outputs": [],
   "source": [
    "# printResult(X, Y, X_test, Y_test, lambda x : makeQuadratic(makeCubic(makeCubic(x))))"
   ]
  },
  {
   "cell_type": "markdown",
   "id": "e446485e-3d72-4e60-90f8-f8af76c3c23b",
   "metadata": {},
   "source": [
    "## Non-Linear regression (9)\n",
    "$h_3(x) = h_2(h_2(h_2(x)))$"
   ]
  },
  {
   "cell_type": "code",
   "execution_count": 21,
   "id": "0e9791ae-42c1-4e22-9800-52630ccb31be",
   "metadata": {},
   "outputs": [],
   "source": [
    "# printResult(X, Y, X_test, Y_test, lambda x : makeCubic(makeCubic(makeCubic(x))))"
   ]
  },
  {
   "cell_type": "markdown",
   "id": "78a64ac9-e2ca-402d-a005-1475f4b91383",
   "metadata": {},
   "source": [
    "# Custom functions for P3, P4 and P5"
   ]
  },
  {
   "cell_type": "code",
   "execution_count": 23,
   "id": "5097954d-b63f-4da4-8f9a-3731d0a35707",
   "metadata": {},
   "outputs": [],
   "source": [
    "# Class conditional density functions\n",
    "class ccd:\n",
    "    def normal(u, v):\n",
    "        return u * v\n",
    "    \n",
    "class metrics:\n",
    "    def accuracy(X, Y, W):\n",
    "        return W"
   ]
  },
  {
   "cell_type": "markdown",
   "id": "2337fbae-68a6-4b90-a8ac-27c8063205a9",
   "metadata": {},
   "source": [
    "# P3 (Multi-class classification)\n",
    "\n",
    "We have data from 10 sensors fitted in an industrial plant. There are five classes indicating which product is being produced. The task is to predict the product being produced by looking at the observation from these 10 sensors. \n",
    "\n",
    "Given this, you are expected to implement \n",
    "- Bayes’ classifiers with 0-1 loss assuming Normal, exponential, and GMMs (with diagonal co-variances) as class-conditional densities. For GMMs, code up the EM algorithm,\n",
    "- Linear classifier using the one-vs-rest approach\n",
    "- Multi-class Logistic regressor with gradient descent.\n",
    "\n",
    "The metrics to be computed are \n",
    "- Classification accuracy, \n",
    "- Confusion matrix,\n",
    "- Class-wise F1 score, \n",
    "- RoC curves for any pair of classes, and \n",
    "- likelihood curve for EM with different choices for the number of mixtures as hyper-parameters, \n",
    "- Emipiral risk on the train and test data while using logistic regressor.\n",
    "\n",
    "**DATA:** `p3train/test.csv`"
   ]
  },
  {
   "cell_type": "code",
   "execution_count": 22,
   "id": "32e444d8-c4ec-4633-90ec-be138198f4fc",
   "metadata": {},
   "outputs": [
    {
     "data": {
      "text/plain": [
       "(60000, 11)"
      ]
     },
     "execution_count": 22,
     "metadata": {},
     "output_type": "execute_result"
    }
   ],
   "source": [
    "p3[\"train\"].shape"
   ]
  },
  {
   "cell_type": "markdown",
   "id": "70c4ffda-da5a-4cff-8bb9-7814723417d9",
   "metadata": {},
   "source": [
    "# P4 (Multi-class classification)\n",
    "\n",
    "In this problem, we consider an image dataset called Kannada-MNIST. This dataset contains images (60,000 images with 6000 per class) of digits from the south Indian language of Kannada. The task is to build a 10-class classifier for the digits. \n",
    "\n",
    "You are supposed to test the following classification schemes: \n",
    "- Naive Bayes’ with Normal as Class conditional\n",
    "- Logistic regressor with gradient descent\n",
    "- Multi-class Bayes’ classifier with GMMs with diagonal co-variances for class conditionals.\n",
    "\n",
    "Report the following metrics on the test data: \n",
    "- Classification accuracy\n",
    "- Confusion matrix\n",
    "- Class-wise F1 score\n",
    "- RoC curves for any pair of classes\n",
    "- likelihood curve for EM with different choices for the number of mixtures as hyper-parameters\n",
    "- Emipiral risk on the train and test data while using logistic regressor\n",
    "\n",
    "In this problem, first split the data into train and test parts with the following ratios of **20:80**, **30:70**, **50:50**, **70:30**, and **90:10**, and record your observations. Train the algorithms on the train part and evaluate over the test part.\n",
    "\n",
    "**DATA:** `images.zip`"
   ]
  },
  {
   "cell_type": "code",
   "execution_count": null,
   "id": "4326c625-75f0-4646-a3dd-52f5a6a34d46",
   "metadata": {},
   "outputs": [],
   "source": []
  },
  {
   "cell_type": "markdown",
   "id": "55265079-c87a-4aa6-a23d-865a1ad9f853",
   "metadata": {},
   "source": [
    "# P5 (Multi-class classification)\n",
    "\n",
    "In this part, the data from the previous problem is ’condensed’ (using PCA) to **10 dimensions**. Repeat the above experiment with all the models and metrics and record your observations.\n",
    "\n",
    "**DATA:** `KannadaMNISTPCA.csv`"
   ]
  },
  {
   "cell_type": "code",
   "execution_count": null,
   "id": "415c87c0-d3a1-447e-8573-c76f0e6a5b79",
   "metadata": {},
   "outputs": [],
   "source": []
  }
 ],
 "metadata": {
  "kernelspec": {
   "display_name": "Python 3 (ipykernel)",
   "language": "python",
   "name": "python3"
  },
  "language_info": {
   "codemirror_mode": {
    "name": "ipython",
    "version": 3
   },
   "file_extension": ".py",
   "mimetype": "text/x-python",
   "name": "python",
   "nbconvert_exporter": "python",
   "pygments_lexer": "ipython3",
   "version": "3.10.8"
  }
 },
 "nbformat": 4,
 "nbformat_minor": 5
}
