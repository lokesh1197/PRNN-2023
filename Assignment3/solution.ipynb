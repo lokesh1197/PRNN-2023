{
 "cells": [
  {
   "cell_type": "markdown",
   "id": "09071dc4-5778-4cf5-84ec-e94e8a8bff4e",
   "metadata": {
    "jp-MarkdownHeadingCollapsed": true,
    "tags": []
   },
   "source": [
    "# Initialization"
   ]
  },
  {
   "cell_type": "code",
   "execution_count": 1,
   "id": "2bcc2464-43fb-47e7-98d7-289b92809c6e",
   "metadata": {},
   "outputs": [],
   "source": [
    "import numpy as np\n",
    "from matplotlib import pyplot as plt\n",
    "\n",
    "# for image data handling\n",
    "import os\n",
    "from os.path import join, isfile, dirname\n",
    "from PIL import Image"
   ]
  },
  {
   "cell_type": "markdown",
   "id": "5bac9bdd-9a79-43b7-85c3-63a97dc2156c",
   "metadata": {
    "jp-MarkdownHeadingCollapsed": true,
    "tags": []
   },
   "source": [
    "# Data Handling"
   ]
  },
  {
   "cell_type": "markdown",
   "id": "2e9b62ea-16b4-49a9-99e9-1ea5540e7c2c",
   "metadata": {
    "tags": []
   },
   "source": [
    "### Uncompress compressed files"
   ]
  },
  {
   "cell_type": "code",
   "execution_count": 2,
   "id": "f6f0be7f-2f3c-420e-b02f-f58e5c9b2843",
   "metadata": {},
   "outputs": [],
   "source": [
    "%%capture\n",
    "!unzip -n ../data/images.zip -d ../data"
   ]
  },
  {
   "cell_type": "markdown",
   "id": "0406ab32-c6bc-4307-9e80-c2cdb0432058",
   "metadata": {
    "tags": []
   },
   "source": [
    "### Custom functions"
   ]
  },
  {
   "cell_type": "code",
   "execution_count": 3,
   "id": "a81167db-99f0-4e02-8d35-4d9cc7fa9b3c",
   "metadata": {},
   "outputs": [],
   "source": [
    "def genFromImage(imageDir, size=(8, 8)):\n",
    "    dir = dirname(imageDir)\n",
    "    dataFile = join(dir, \"p4_data\") + str(size) + \".npy\"\n",
    "    if isfile(dataFile):\n",
    "        with open(dataFile, 'rb') as f:\n",
    "            return np.load(f)\n",
    "    \n",
    "    labels = os.listdir(imageDir)\n",
    "    image_data = [[] for _ in labels]\n",
    "    for label in labels:\n",
    "        dir = join(imageDir, label)\n",
    "        files = os.listdir(dir)\n",
    "        image_data[int(label)] = np.array([np.array(\n",
    "            Image.open(join(dir, file)).convert(\"L\").resize(size), dtype='uint8'\n",
    "        ) for file in files])\n",
    "        \n",
    "    image_data = np.array(image_data)\n",
    "    with open(dataFile, 'wb') as f:\n",
    "        np.save(f, image_data)\n",
    "    return image_data\n",
    "\n",
    "# returns X, Y, X_test, Y_test and classStats\n",
    "def trainTestSplit(data, train_ratio, func):\n",
    "    n = len(data)\n",
    "    m = int(np.floor(data.shape[1] * train_ratio))\n",
    "    classStats = {}\n",
    "    x_train, y_train, x_test, y_test = [[[] for _ in range(n)] for _ in range(4)]\n",
    "    for label in range(n):\n",
    "        x_train[label], y_train[label], classStats[label] = func(label, data[label][:m], True)\n",
    "        x_test[label], y_test[label] = func(label, data[label][m:])\n",
    "    \n",
    "    X, Y, X_test, Y_test = [x.reshape(-1, x.shape[-1]) for x in [np.array(x) for x in [x_train, y_train, x_test, y_test]]]\n",
    "    return X, Y.flatten(), X_test, Y_test.flatten(), classStats\n",
    "\n",
    "def imgToFeatures(label, data, stats=False):\n",
    "    X = np.array([x.flatten() for x in data]) / 255\n",
    "    Y = label * np.ones(data.shape[0])\n",
    "    if stats:\n",
    "        return X, Y, { \"mean\": np.mean(X, axis=0), \"cov\": np.cov(X.T), \"prior\": data.shape[0], \"data\": X }\n",
    "    return X, Y\n",
    "\n",
    "def stats(label, data, stats=False):\n",
    "    X = data\n",
    "    Y = label * np.ones(data.shape[0])\n",
    "    if stats:\n",
    "        return X, Y, { \"mean\": np.mean(X, axis=0), \"cov\": np.cov(X.T), \"prior\": data.shape[0], \"data\": X }\n",
    "    return X, Y"
   ]
  },
  {
   "cell_type": "markdown",
   "id": "bdafbc18-d751-4f53-970a-db90960ec5df",
   "metadata": {
    "tags": []
   },
   "source": [
    "### Data extraction"
   ]
  },
  {
   "cell_type": "code",
   "execution_count": 4,
   "id": "547e5a6d-ddf9-437d-8861-4d7bf8d6eaa9",
   "metadata": {},
   "outputs": [
    {
     "name": "stdout",
     "output_type": "stream",
     "text": [
      "--------------------------- Data Shapes ------------------------------\n",
      "(Classification) p3[train]:      (60000, 11) , p3[test]:  (15000, 11)\n",
      "(Classification)  p4[data]: (10, 6000, 8, 8)\n",
      "(Classification)  p5[data]:      (60000, 11)\n"
     ]
    }
   ],
   "source": [
    "dataFolder = \"../data\"\n",
    "imageDir = join(dataFolder, \"images\")\n",
    "\n",
    "# p1 = { \"testDir\": dataFolder + \"/p1_test.csv\", \"trainDir\": dataFolder + \"/p1_train.csv\" } # regression\n",
    "# p2 = { \"testDir\": dataFolder + \"/p2_test.csv\", \"trainDir\": dataFolder + \"/p2_train.csv\" } # regression\n",
    "p3 = { \"testDir\": dataFolder + \"/p3_test.csv\", \"trainDir\": dataFolder + \"/p3_train.csv\" } # classification\n",
    "p4 = {}                                                                                   # classification\n",
    "p5 = {}                                                                                   # classification\n",
    "\n",
    "# p1[\"test\"] = np.genfromtxt(p1[\"testDir\"], delimiter=',')\n",
    "# p1[\"train\"] = np.genfromtxt(p1[\"trainDir\"], delimiter=',')\n",
    "# p2[\"test\"] = np.genfromtxt(p2[\"testDir\"], delimiter=',')\n",
    "# p2[\"train\"] = np.genfromtxt(p2[\"trainDir\"], delimiter=',')\n",
    "p3[\"test\"] = np.genfromtxt(p3[\"testDir\"], delimiter=',')\n",
    "p3[\"train\"] = np.genfromtxt(p3[\"trainDir\"], delimiter=',')\n",
    "p4[\"data\"] = genFromImage(imageDir)\n",
    "p5[\"data\"] = np.genfromtxt(dataFolder + \"/PCA_MNIST.csv\", delimiter=',')[1:]\n",
    "\n",
    "print(\"--------------------------- Data Shapes ------------------------------\")\n",
    "# print(\"    (Regression) p1[train]:      \", p1[\"train\"].shape, \", p1[test]: \", p1[\"test\"].shape)\n",
    "# print(\"    (Regression) p2[train]:      \", p2[\"train\"].shape, \", p2[test]: \", p2[\"test\"].shape)\n",
    "print(\"(Classification) p3[train]:     \", p3[\"train\"].shape, \", p3[test]: \", p3[\"test\"].shape)\n",
    "print(\"(Classification)  p4[data]:\", p4[\"data\"].shape)\n",
    "print(\"(Classification)  p5[data]:     \", p5[\"data\"].shape)"
   ]
  },
  {
   "cell_type": "code",
   "execution_count": 5,
   "id": "d68cfdaa-7085-4dc2-9b09-f21659356f68",
   "metadata": {},
   "outputs": [
    {
     "data": {
      "text/plain": [
       "((60000, 10), (60000,), (15000, 10), (15000,))"
      ]
     },
     "execution_count": 5,
     "metadata": {},
     "output_type": "execute_result"
    }
   ],
   "source": [
    "classStats = {}\n",
    "for row in p3[\"train\"]:\n",
    "    label = int(row[-1]) - 1\n",
    "    if label in classStats:\n",
    "        classStats[label].append(row[:-1])\n",
    "    else:\n",
    "        classStats[label] = [row[:-1]]\n",
    "\n",
    "# classStats = [np.array(data) for data in classStats]\n",
    "for i in range(len(classStats)):\n",
    "    data = np.array(classStats[i])\n",
    "    classStats[i] = { \"mean\": np.mean(data, axis=0), \"cov\": np.cov(data.T), \"prior\": data.shape[0], \"data\": data }\n",
    "    \n",
    "def splitData(data):\n",
    "    # X = np.array([normalize(col) for col in data.T[:-1]]).T\n",
    "    X = data.T[:-1].T\n",
    "    Y = data.T[-1].T.astype(\"int\") - 1\n",
    "    return X, Y\n",
    "\n",
    "p3[\"classStats\"] = classStats\n",
    "p3[\"X\"], p3[\"Y\"] = splitData(p3[\"train\"])\n",
    "p3[\"X_test\"], p3[\"Y_test\"] = splitData(p3[\"test\"])\n",
    "\n",
    "p3[\"X\"].shape, p3[\"Y\"].shape, p3[\"X_test\"].shape, p3[\"Y_test\"].shape"
   ]
  },
  {
   "cell_type": "code",
   "execution_count": 6,
   "id": "dfe8621f-c3b8-4f87-8673-f0fe905fa846",
   "metadata": {},
   "outputs": [
    {
     "data": {
      "text/plain": [
       "((42000, 64), (42000,), (18000, 64), (18000,))"
      ]
     },
     "execution_count": 6,
     "metadata": {},
     "output_type": "execute_result"
    }
   ],
   "source": [
    "p4[\"X\"], p4[\"Y\"], p4[\"X_test\"], p4[\"Y_test\"], p4[\"classStats\"] = trainTestSplit(p4[\"data\"], 0.7, imgToFeatures)\n",
    "\n",
    "p4[\"X\"].shape, p4[\"Y\"].shape, p4[\"X_test\"].shape, p4[\"Y_test\"].shape"
   ]
  },
  {
   "cell_type": "code",
   "execution_count": 7,
   "id": "e0f6fa89",
   "metadata": {},
   "outputs": [
    {
     "data": {
      "text/plain": [
       "((30000, 10), (30000,), (30000, 10), (30000,))"
      ]
     },
     "execution_count": 7,
     "metadata": {},
     "output_type": "execute_result"
    }
   ],
   "source": [
    "classWiseData = [[] for _ in range(10)]\n",
    "for row in p5[\"data\"]:\n",
    "    label = int(row[0])\n",
    "    classWiseData[label].append(row[1:])\n",
    "    \n",
    "p5[\"X\"], p5[\"Y\"], p5[\"X_test\"], p5[\"Y_test\"], p5[\"classStats\"] = trainTestSplit(np.array(classWiseData), 0.5, stats)\n",
    "p5[\"X\"].shape, p5[\"Y\"].shape, p5[\"X_test\"].shape, p5[\"Y_test\"].shape"
   ]
  },
  {
   "cell_type": "code",
   "execution_count": 8,
   "id": "1fc25cef-9392-4252-9c9b-ca12699479ef",
   "metadata": {},
   "outputs": [
    {
     "data": {
      "image/png": "[encoded data removed]",
      "text/plain": [
       "<Figure size 1200x400 with 10 Axes>"
      ]
     },
     "metadata": {},
     "output_type": "display_data"
    }
   ],
   "source": [
    "fig, ax = plt.subplots(2, 5, figsize=(12, 4))\n",
    "for i in range(p4[\"data\"].shape[0]):\n",
    "    ax[i // 5][i % 5].imshow(p4[\"data\"][i][0].astype(np.uint8), cmap='gray')\n",
    "    ax[i // 5][i % 5].set_title(str(i))\n",
    "    ax[i // 5][i % 5].get_xaxis().set_visible(False)\n",
    "    ax[i // 5][i % 5].get_yaxis().set_visible(False)\n",
    "\n",
    "fig.tight_layout()"
   ]
  },
  {
   "cell_type": "markdown",
   "id": "d8765b9d-a70b-4a8f-8413-4e5555717473",
   "metadata": {
    "jp-MarkdownHeadingCollapsed": true,
    "tags": []
   },
   "source": [
    "# Custom common functions"
   ]
  },
  {
   "cell_type": "code",
   "execution_count": 9,
   "id": "5d88fd7a-4d01-4992-9969-a44641a513aa",
   "metadata": {},
   "outputs": [],
   "source": [
    "class metrics:\n",
    "    def accuracy(predicted, actual):\n",
    "        m = actual.size\n",
    "        correctCount = sum([1 if int(predicted[i]) == int(actual[i]) else 0 for i in range(m)])\n",
    "        return correctCount / m\n",
    "    \n",
    "    def confusionMatrix(predicted, actual, n = 5):\n",
    "        cnf = np.zeros((n, n), dtype='uint')\n",
    "        for i in range(actual.size):\n",
    "            cnf[int(actual[i])][int(predicted[i])] += 1\n",
    "        return cnf\n",
    "    \n",
    "    def f1Score(cnf):\n",
    "        sum_predict = np.sum(cnf, axis=0)\n",
    "        sum_actual  = np.sum(cnf, axis=1)\n",
    "        f1 = np.zeros(cnf.shape[1])\n",
    "        for i in range(f1.size):\n",
    "            TP = cnf[i][i]\n",
    "            FP, FN = sum_predict[i] - TP, sum_actual[i] - TP\n",
    "            p, r = TP/(TP + FP + 1e-8), TP/(TP + FN + 1e-8)\n",
    "            f1[i] = 2 * p * r / (p + r + 1e-8)\n",
    "        return f1      \n",
    "    \n",
    "    def print(pred, Y, pred_test, Y_test, result=False):\n",
    "        n_labels = len(np.unique(Y))\n",
    "                \n",
    "        cnf_train = metrics.confusionMatrix(pred, Y, n_labels)\n",
    "        cnf_test = metrics.confusionMatrix(pred_test, Y_test, n_labels)\n",
    "        acc_train = metrics.accuracy(pred, Y)\n",
    "        acc_test = metrics.accuracy(pred_test, Y_test)\n",
    "        f1_train = metrics.f1Score(cnf_train)\n",
    "        f1_test = metrics.f1Score(cnf_test)\n",
    "        \n",
    "        print(\"------------------ Train ---------------------\")\n",
    "        print(\"Classification Accuracy : \", acc_train * 100, \"%\")\n",
    "        print(\"F1 Score                : \", f1_train)\n",
    "        print(\"------------------ Test ----------------------\")\n",
    "        print(\"Classification Accuracy : \", acc_test * 100, \"%\")\n",
    "        print(\"F1 Score                : \", f1_test)\n",
    "        print(\"Confusion Matrix        : \")\n",
    "        print(cnf_test)\n",
    "        \n",
    "        fig, ax = plt.subplots(1, 2, figsize=(16, 8))\n",
    "        ax[0].matshow(cnf_train.T, cmap='GnBu')\n",
    "        ax[0].set_xlabel(\"Predicted\")\n",
    "        ax[0].set_ylabel(\"Actual\")\n",
    "        ax[0].set_title(\"Confusion Matrix (train)\")\n",
    "        for (x, y), value in np.ndenumerate(cnf_train):\n",
    "            ax[0].text(x, y, f\"{value: .0f}\", va=\"center\", ha=\"center\")\n",
    "        \n",
    "        ax[1].matshow(cnf_test.T, cmap='GnBu')\n",
    "        ax[1].set_xlabel(\"Predicted\")\n",
    "        ax[1].set_ylabel(\"Actual\")\n",
    "        ax[1].set_title(\"Confusion Matrix (test)\")\n",
    "        for (x, y), value in np.ndenumerate(cnf_test):\n",
    "            ax[1].text(x, y, f\"{value: .0f}\", va=\"center\", ha=\"center\")\n",
    "        \n",
    "        if result:\n",
    "            return [acc_train, f1_train], [acc_test, f1_test]"
   ]
  },
  {
   "cell_type": "markdown",
   "id": "4022d59b-91bd-455a-b4e0-8bcfcb98a042",
   "metadata": {},
   "source": [
    "# Problem 1\n",
    "\n",
    "Implement classification trees using Gini impurity and cross-entropy as impurity functions with different depths. \n",
    "\n",
    "For the MNIST problem, consider the PCA data\n",
    "\n",
    "Data: `p3, p5`"
   ]
  },
  {
   "cell_type": "markdown",
   "id": "a4755f20-9369-4736-9f44-27f3b6ff18a5",
   "metadata": {},
   "source": [
    "# Problem 2\n",
    "\n",
    "Implement Random forest Algorithm with varying numbers of trees and features and report your observations\n",
    "\n",
    "Data: `p3, p4, p5`"
   ]
  },
  {
   "cell_type": "markdown",
   "id": "e1027fc6-5d0f-4483-8335-81275de29acc",
   "metadata": {},
   "source": [
    "# Problem 3\n",
    "\n",
    "Implement the Adaboost algorithm with at least 3 learners and one of them must be a Neural Network (MLP/CNN). \n",
    "\n",
    "Report the comparison between this and using only one classifier. \n",
    "\n",
    "Plot the convergence of train error as a function of the number of learners.\n",
    "\n",
    "Data: `p3, p4, p5`"
   ]
  },
  {
   "cell_type": "markdown",
   "id": "c544ed93-1f07-4963-add8-16beeb9da85c",
   "metadata": {},
   "source": [
    "# Problem 4\n",
    "\n",
    "Consider the KMNIST data and implement \n",
    "\n",
    "    (a) GMM-based clustering, \n",
    "    \n",
    "    (b) K means clustering.\n",
    "    \n",
    "Evaluate and compare the Normalized Mutual Information for both algorithms. \n",
    "\n",
    "Experiment with different number of cluster sizes and plot the t-sne plots for all cases.\n",
    "\n",
    "Data: `p3, p4, p5`"
   ]
  },
  {
   "cell_type": "markdown",
   "id": "3a2d238b-66f1-4b26-950e-fc6167ac0654",
   "metadata": {},
   "source": [
    "# Problem 5\n",
    "\n",
    "Implement Principal Component Analysis on KMNIST. \n",
    "\n",
    "Plot the data variance as a function of the number of principal components.\n",
    "\n",
    "Data: `p3, p4, p5`"
   ]
  },
  {
   "cell_type": "code",
   "execution_count": null,
   "id": "68d3f218-fc01-41c8-991e-3390e3c2f424",
   "metadata": {},
   "outputs": [],
   "source": []
  }
 ],
 "metadata": {
  "kernelspec": {
   "display_name": "jupyter",
   "language": "python",
   "name": "jupyter"
  },
  "language_info": {
   "codemirror_mode": {
    "name": "ipython",
    "version": 3
   },
   "file_extension": ".py",
   "mimetype": "text/x-python",
   "name": "python",
   "nbconvert_exporter": "python",
   "pygments_lexer": "ipython3",
   "version": "3.10.8"
  }
 },
 "nbformat": 4,
 "nbformat_minor": 5
}
