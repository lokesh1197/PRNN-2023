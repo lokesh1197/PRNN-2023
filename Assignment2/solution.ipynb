{
 "cells": [
  {
   "cell_type": "markdown",
   "id": "09071dc4-5778-4cf5-84ec-e94e8a8bff4e",
   "metadata": {
    "jp-MarkdownHeadingCollapsed": true,
    "tags": []
   },
   "source": [
    "# Initialization"
   ]
  },
  {
   "cell_type": "code",
   "execution_count": 99,
   "id": "2bcc2464-43fb-47e7-98d7-289b92809c6e",
   "metadata": {},
   "outputs": [],
   "source": [
    "import numpy as np\n",
    "from matplotlib import pyplot as plt\n",
    "\n",
    "# for p-value out of significance test\n",
    "from scipy.stats import ttest_ind\n",
    "\n",
    "# for image data handling\n",
    "import os\n",
    "from os.path import join, isfile, dirname\n",
    "from PIL import Image\n",
    "\n",
    "# for svm\n",
    "from libsvm.svmutil import *"
   ]
  },
  {
   "cell_type": "markdown",
   "id": "5bac9bdd-9a79-43b7-85c3-63a97dc2156c",
   "metadata": {
    "jp-MarkdownHeadingCollapsed": true,
    "tags": []
   },
   "source": [
    "# Data Handling"
   ]
  },
  {
   "cell_type": "markdown",
   "id": "2e9b62ea-16b4-49a9-99e9-1ea5540e7c2c",
   "metadata": {
    "tags": []
   },
   "source": [
    "### Uncompress compressed files"
   ]
  },
  {
   "cell_type": "code",
   "execution_count": 128,
   "id": "f6f0be7f-2f3c-420e-b02f-f58e5c9b2843",
   "metadata": {},
   "outputs": [],
   "source": [
    "%%capture\n",
    "!unzip -n ../data/images.zip -d ../data"
   ]
  },
  {
   "cell_type": "markdown",
   "id": "0406ab32-c6bc-4307-9e80-c2cdb0432058",
   "metadata": {
    "tags": []
   },
   "source": [
    "### Custom functions"
   ]
  },
  {
   "cell_type": "code",
   "execution_count": 177,
   "id": "a81167db-99f0-4e02-8d35-4d9cc7fa9b3c",
   "metadata": {},
   "outputs": [],
   "source": [
    "def genFromImage(imageDir, size=(8, 8)):\n",
    "    dir = dirname(imageDir)\n",
    "    dataFile = join(dir, \"p4_data\") + str(size) + \".npy\"\n",
    "    if isfile(dataFile):\n",
    "        with open(dataFile, 'rb') as f:\n",
    "            return np.load(f)\n",
    "    \n",
    "    labels = os.listdir(imageDir)\n",
    "    image_data = [[] for _ in labels]\n",
    "    for label in labels:\n",
    "        dir = join(imageDir, label)\n",
    "        files = os.listdir(dir)\n",
    "        image_data[int(label)] = np.array([np.array(\n",
    "            Image.open(join(dir, file)).convert(\"L\").resize(size), dtype='uint8'\n",
    "        ) for file in files])\n",
    "        \n",
    "    image_data = np.array(image_data)\n",
    "    with open(dataFile, 'wb') as f:\n",
    "        np.save(f, image_data)\n",
    "    return image_data\n",
    "\n",
    "# returns X, Y, X_test, Y_test and classStats\n",
    "def trainTestSplit(data, train_ratio, func):\n",
    "    n = len(data)\n",
    "    m = int(np.floor(data.shape[1] * train_ratio))\n",
    "    classStats = {}\n",
    "    x_train, y_train, x_test, y_test = [[[] for _ in range(n)] for _ in range(4)]\n",
    "    for label in range(n):\n",
    "        x_train[label], y_train[label], classStats[label] = func(label, data[label][:m], True)\n",
    "        x_test[label], y_test[label] = func(label, data[label][m:])\n",
    "    \n",
    "    X, Y, X_test, Y_test = [x.reshape(-1, x.shape[-1]) for x in [np.array(x) for x in [x_train, y_train, x_test, y_test]]]\n",
    "    return X, Y.flatten(), X_test, Y_test.flatten(), classStats\n",
    "\n",
    "def imgToFeatures(label, data, stats=False):\n",
    "    X = np.array([x.flatten() for x in data]) / 255\n",
    "    Y = label * np.ones(data.shape[0])\n",
    "    if stats:\n",
    "        return X, Y, { \"mean\": np.mean(X, axis=0), \"cov\": np.cov(X.T), \"prior\": data.shape[0], \"data\": X }\n",
    "    return X, Y\n",
    "\n",
    "def stats(label, data, stats=False):\n",
    "    X = data\n",
    "    Y = label * np.ones(data.shape[0])\n",
    "    if stats:\n",
    "        return X, Y, { \"mean\": np.mean(X, axis=0), \"cov\": np.cov(X.T), \"prior\": data.shape[0], \"data\": X }\n",
    "    return X, Y"
   ]
  },
  {
   "cell_type": "markdown",
   "id": "bdafbc18-d751-4f53-970a-db90960ec5df",
   "metadata": {
    "tags": []
   },
   "source": [
    "### Data extraction"
   ]
  },
  {
   "cell_type": "code",
   "execution_count": 130,
   "id": "547e5a6d-ddf9-437d-8861-4d7bf8d6eaa9",
   "metadata": {},
   "outputs": [
    {
     "name": "stdout",
     "output_type": "stream",
     "text": [
      "--------------------------- Data Shapes ------------------------------\n",
      "    (Regression) p1[train]:       (10000, 3) , p1[test]:  (5000, 3)\n",
      "    (Regression) p2[train]:       (10000, 4) , p2[test]:  (5000, 4)\n",
      "(Classification) p3[train]:      (60000, 11) , p3[test]:  (15000, 11)\n",
      "(Classification)  p4[data]: (10, 6000, 8, 8)\n",
      "(Classification)  p5[data]:      (60000, 11)\n"
     ]
    }
   ],
   "source": [
    "dataFolder = \"../data\"\n",
    "imageDir = join(dataFolder, \"images\")\n",
    "\n",
    "p1 = { \"testDir\": dataFolder + \"/p1_test.csv\", \"trainDir\": dataFolder + \"/p1_train.csv\" } # regression\n",
    "p2 = { \"testDir\": dataFolder + \"/p2_test.csv\", \"trainDir\": dataFolder + \"/p2_train.csv\" } # regression\n",
    "p3 = { \"testDir\": dataFolder + \"/p3_test.csv\", \"trainDir\": dataFolder + \"/p3_train.csv\" } # classification\n",
    "p4 = {}                                                                                   # classification\n",
    "p5 = {}                                                                                   # classification\n",
    "\n",
    "p1[\"test\"] = np.genfromtxt(p1[\"testDir\"], delimiter=',')\n",
    "p1[\"train\"] = np.genfromtxt(p1[\"trainDir\"], delimiter=',')\n",
    "p2[\"test\"] = np.genfromtxt(p2[\"testDir\"], delimiter=',')\n",
    "p2[\"train\"] = np.genfromtxt(p2[\"trainDir\"], delimiter=',')\n",
    "p3[\"test\"] = np.genfromtxt(p3[\"testDir\"], delimiter=',')\n",
    "p3[\"train\"] = np.genfromtxt(p3[\"trainDir\"], delimiter=',')\n",
    "p4[\"data\"] = genFromImage(imageDir)\n",
    "p5[\"data\"] = np.genfromtxt(dataFolder + \"/PCA_MNIST.csv\", delimiter=',')[1:]\n",
    "\n",
    "print(\"--------------------------- Data Shapes ------------------------------\")\n",
    "print(\"    (Regression) p1[train]:      \", p1[\"train\"].shape, \", p1[test]: \", p1[\"test\"].shape)\n",
    "print(\"    (Regression) p2[train]:      \", p2[\"train\"].shape, \", p2[test]: \", p2[\"test\"].shape)\n",
    "print(\"(Classification) p3[train]:     \", p3[\"train\"].shape, \", p3[test]: \", p3[\"test\"].shape)\n",
    "print(\"(Classification)  p4[data]:\", p4[\"data\"].shape)\n",
    "print(\"(Classification)  p5[data]:     \", p5[\"data\"].shape)"
   ]
  },
  {
   "cell_type": "code",
   "execution_count": 131,
   "id": "d68cfdaa-7085-4dc2-9b09-f21659356f68",
   "metadata": {},
   "outputs": [
    {
     "data": {
      "text/plain": [
       "((60000, 10), (60000,), (15000, 10), (15000,))"
      ]
     },
     "execution_count": 131,
     "metadata": {},
     "output_type": "execute_result"
    }
   ],
   "source": [
    "classStats = {}\n",
    "for row in p3[\"train\"]:\n",
    "    label = int(row[-1]) - 1\n",
    "    if label in classStats:\n",
    "        classStats[label].append(row[:-1])\n",
    "    else:\n",
    "        classStats[label] = [row[:-1]]\n",
    "\n",
    "# classStats = [np.array(data) for data in classStats]\n",
    "for i in range(len(classStats)):\n",
    "    data = np.array(classStats[i])\n",
    "    classStats[i] = { \"mean\": np.mean(data, axis=0), \"cov\": np.cov(data.T), \"prior\": data.shape[0], \"data\": data }\n",
    "    \n",
    "def splitData(data):\n",
    "    # X = np.array([normalize(col) for col in data.T[:-1]]).T\n",
    "    X = data.T[:-1].T\n",
    "    Y = data.T[-1].T.astype(\"int\") - 1\n",
    "    return X, Y\n",
    "\n",
    "p3[\"classStats\"] = classStats\n",
    "p3[\"X\"], p3[\"Y\"] = splitData(p3[\"train\"])\n",
    "p3[\"X_test\"], p3[\"Y_test\"] = splitData(p3[\"test\"])\n",
    "\n",
    "p3[\"X\"].shape, p3[\"Y\"].shape, p3[\"X_test\"].shape, p3[\"Y_test\"].shape"
   ]
  },
  {
   "cell_type": "code",
   "execution_count": 132,
   "id": "dfe8621f-c3b8-4f87-8673-f0fe905fa846",
   "metadata": {},
   "outputs": [
    {
     "data": {
      "text/plain": [
       "((42000, 64), (42000,), (18000, 64), (18000,))"
      ]
     },
     "execution_count": 132,
     "metadata": {},
     "output_type": "execute_result"
    }
   ],
   "source": [
    "p4[\"X\"], p4[\"Y\"], p4[\"X_test\"], p4[\"Y_test\"], p4[\"classStats\"] = trainTestSplit(p4[\"data\"], 0.7, imgToFeatures)\n",
    "\n",
    "p4[\"X\"].shape, p4[\"Y\"].shape, p4[\"X_test\"].shape, p4[\"Y_test\"].shape"
   ]
  },
  {
   "cell_type": "code",
   "execution_count": 178,
   "id": "e0f6fa89",
   "metadata": {},
   "outputs": [
    {
     "data": {
      "text/plain": [
       "((30000, 10), (30000,), (30000, 10), (30000,))"
      ]
     },
     "execution_count": 178,
     "metadata": {},
     "output_type": "execute_result"
    }
   ],
   "source": [
    "classWiseData = [[] for _ in range(10)]\n",
    "for row in p5[\"data\"]:\n",
    "    label = int(row[0])\n",
    "    classWiseData[label].append(row[1:])\n",
    "    \n",
    "p5[\"X\"], p5[\"Y\"], p5[\"X_test\"], p5[\"Y_test\"], p5[\"classStats\"] = trainTestSplit(np.array(classWiseData), 0.5, stats)\n",
    "p5[\"X\"].shape, p5[\"Y\"].shape, p5[\"X_test\"].shape, p5[\"Y_test\"].shape"
   ]
  },
  {
   "cell_type": "code",
   "execution_count": 134,
   "id": "1fc25cef-9392-4252-9c9b-ca12699479ef",
   "metadata": {},
   "outputs": [
    {
     "data": {
      "image/png": "[encoded data removed]",
      "text/plain": [
       "<Figure size 1200x400 with 10 Axes>"
      ]
     },
     "metadata": {},
     "output_type": "display_data"
    }
   ],
   "source": [
    "fig, ax = plt.subplots(2, 5, figsize=(12, 4))\n",
    "for i in range(p4[\"data\"].shape[0]):\n",
    "    ax[i // 5][i % 5].imshow(p4[\"data\"][i][0].astype(np.uint8), cmap='gray')\n",
    "    ax[i // 5][i % 5].set_title(str(i))\n",
    "    ax[i // 5][i % 5].get_xaxis().set_visible(False)\n",
    "    ax[i // 5][i % 5].get_yaxis().set_visible(False)\n",
    "\n",
    "fig.tight_layout()"
   ]
  },
  {
   "cell_type": "markdown",
   "id": "d8765b9d-a70b-4a8f-8413-4e5555717473",
   "metadata": {
    "jp-MarkdownHeadingCollapsed": true,
    "tags": []
   },
   "source": [
    "# Custom common functions"
   ]
  },
  {
   "cell_type": "code",
   "execution_count": 197,
   "id": "5d88fd7a-4d01-4992-9969-a44641a513aa",
   "metadata": {},
   "outputs": [],
   "source": [
    "class metrics:\n",
    "    def accuracy(predicted, actual):\n",
    "        m = actual.size\n",
    "        correctCount = sum([1 if int(predicted[i]) == int(actual[i]) else 0 for i in range(m)])\n",
    "        return correctCount / m\n",
    "    \n",
    "    def confusionMatrix(predicted, actual, n = 5):\n",
    "        cnf = np.zeros((n, n), dtype='uint')\n",
    "        for i in range(actual.size):\n",
    "            cnf[int(actual[i])][int(predicted[i])] += 1\n",
    "        return cnf\n",
    "    \n",
    "    def f1Score(cnf):\n",
    "        sum_predict = np.sum(cnf, axis=0)\n",
    "        sum_actual  = np.sum(cnf, axis=1)\n",
    "        f1 = np.zeros(cnf.shape[1])\n",
    "        for i in range(f1.size):\n",
    "            TP = cnf[i][i]\n",
    "            FP, FN = sum_predict[i] - TP, sum_actual[i] - TP\n",
    "            p, r = TP/(TP + FP + 1e-8), TP/(TP + FN + 1e-8)\n",
    "            f1[i] = 2 * p * r / (p + r + 1e-8)\n",
    "        return f1      \n",
    "    \n",
    "    def print(pred, Y, pred_test, Y_test, result=False):\n",
    "        n_labels = len(np.unique(Y))\n",
    "                \n",
    "        cnf_train = metrics.confusionMatrix(pred, Y, n_labels)\n",
    "        cnf_test = metrics.confusionMatrix(pred_test, Y_test, n_labels)\n",
    "        acc_train = metrics.accuracy(pred, Y)\n",
    "        acc_test = metrics.accuracy(pred_test, Y_test)\n",
    "        f1_train = metrics.f1Score(cnf_train)\n",
    "        f1_test = metrics.f1Score(cnf_test)\n",
    "        \n",
    "        print(\"------------------ Train ---------------------\")\n",
    "        print(\"Classification Accuracy : \", acc_train * 100, \"%\")\n",
    "        print(\"F1 Score                : \", f1_train)\n",
    "        print(\"------------------ Test ----------------------\")\n",
    "        print(\"Classification Accuracy : \", acc_test * 100, \"%\")\n",
    "        print(\"F1 Score                : \", f1_test)\n",
    "        print(\"Confusion Matrix        : \")\n",
    "        print(cnf_test)\n",
    "        \n",
    "        fig, ax = plt.subplots(1, 2, figsize=(16, 8))\n",
    "        ax[0].matshow(cnf_train.T, cmap='GnBu')\n",
    "        ax[0].set_xlabel(\"Predicted\")\n",
    "        ax[0].set_ylabel(\"Actual\")\n",
    "        ax[0].set_title(\"Confusion Matrix (train)\")\n",
    "        for (x, y), value in np.ndenumerate(cnf_train):\n",
    "            ax[0].text(x, y, f\"{value: .0f}\", va=\"center\", ha=\"center\")\n",
    "        \n",
    "        ax[1].matshow(cnf_test.T, cmap='GnBu')\n",
    "        ax[1].set_xlabel(\"Predicted\")\n",
    "        ax[1].set_ylabel(\"Actual\")\n",
    "        ax[1].set_title(\"Confusion Matrix (test)\")\n",
    "        for (x, y), value in np.ndenumerate(cnf_test):\n",
    "            ax[1].text(x, y, f\"{value: .0f}\", va=\"center\", ha=\"center\")\n",
    "        \n",
    "        if result:\n",
    "            return [acc_train, f1_train], [acc_test, f1_test]"
   ]
  },
  {
   "cell_type": "markdown",
   "id": "c411608f-3337-476f-ae39-2c61e30896d0",
   "metadata": {
    "jp-MarkdownHeadingCollapsed": true,
    "tags": []
   },
   "source": [
    "# P1 (SVM)\n",
    "\n",
    "- For the classification problems given in A1, implement SVMs both with and without slack formulations. \n",
    "- Experiment with at least 3 Kernels and grid search on hyper-parameters on different kernels.\n",
    "- Report your observations (you can use standard python library, LibSVM and need not implement SMO). \n",
    "- For multi-class classification, implement a one-vs-rest approach.\n",
    "\n",
    "**DATA:** `p3train/test.csv`, `images.zip (p4[data])`"
   ]
  },
  {
   "cell_type": "code",
   "execution_count": 28,
   "id": "ce3bf424-5e15-4b82-9a15-3ecc66ed3727",
   "metadata": {},
   "outputs": [
    {
     "data": {
      "text/plain": [
       "array([1., 2., 3., 4., 5.])"
      ]
     },
     "execution_count": 28,
     "metadata": {},
     "output_type": "execute_result"
    }
   ],
   "source": [
    "np.unique(Y)"
   ]
  },
  {
   "cell_type": "code",
   "execution_count": 10,
   "id": "56b60d44-defc-4830-b0b2-537204d8ebbc",
   "metadata": {},
   "outputs": [
    {
     "name": "stdout",
     "output_type": "stream",
     "text": [
      "..............*......*.*\n",
      "optimization finished, #iter = 20306\n",
      "nu = 0.496974\n",
      "obj = -11403.024718, rho = -0.023997\n",
      "nSV = 12684, nBSV = 11277\n",
      "..............*......*\n",
      "optimization finished, #iter = 20791\n",
      "nu = 0.498322\n",
      "obj = -11461.624285, rho = -0.020723\n",
      "nSV = 12766, nBSV = 11313\n",
      ".............*.....*\n",
      "optimization finished, #iter = 18809\n",
      "nu = 0.434987\n",
      "obj = -9932.090353, rho = -0.068203\n",
      "nSV = 11166, nBSV = 9836\n",
      "..............*.....*\n",
      "optimization finished, #iter = 19499\n",
      "nu = 0.476169\n",
      "obj = -10935.817291, rho = -0.015499\n",
      "nSV = 12213, nBSV = 10837\n",
      "..............*......*.*\n",
      "optimization finished, #iter = 20259\n",
      "nu = 0.479992\n",
      "obj = -11001.990224, rho = 0.006709\n",
      "nSV = 12293, nBSV = 10865\n",
      ".............*.....*\n",
      "optimization finished, #iter = 18144\n",
      "nu = 0.422784\n",
      "obj = -9619.386556, rho = -0.059632\n",
      "nSV = 10863, nBSV = 9485\n",
      ".............*.....*\n",
      "optimization finished, #iter = 18429\n",
      "nu = 0.446640\n",
      "obj = -10220.737507, rho = -0.047383\n",
      "nSV = 11449, nBSV = 10091\n",
      ".............*....*\n",
      "optimization finished, #iter = 17933\n",
      "nu = 0.417295\n",
      "obj = -9522.072235, rho = -0.038138\n",
      "nSV = 10776, nBSV = 9415\n",
      ".............*......*\n",
      "optimization finished, #iter = 19270\n",
      "nu = 0.456412\n",
      "obj = -10462.233541, rho = -0.019484\n",
      "nSV = 11788, nBSV = 10352\n",
      "............*....*.*\n",
      "optimization finished, #iter = 17854\n",
      "nu = 0.396876\n",
      "obj = -9033.781611, rho = 0.000009\n",
      "nSV = 10248, nBSV = 8912\n",
      "Total nSV = 41750\n",
      "Accuracy = 58.84% (8826/15000) (classification)\n"
     ]
    },
    {
     "data": {
      "text/plain": [
       "(58.84, 2.2312, 0.2061966884670215)"
      ]
     },
     "execution_count": 10,
     "metadata": {},
     "output_type": "execute_result"
    }
   ],
   "source": [
    "# https://www.csie.ntu.edu.tw/~cjlin/libsvm/\n",
    "# https://github.com/prathmachowksey/Fisher-Linear-Discriminant-Analysis/blob/master/fisher_lda.ipynb\n",
    "# https://python-course.eu/machine-learning/linear-discriminant-analysis-in-python.php\n",
    "\n",
    "X, Y = parseData(p3[\"train\"])\n",
    "X_test, Y_test = parseData(p3[\"test\"])\n",
    "Y, Y_test = Y - 1, Y_test - 1\n",
    "labels = np.unique(Y)\n",
    "\n",
    "# Initialise the parameters to be a null vector\n",
    "W = svm_train(Y, X)\n",
    "p_label, p_acc, p_val = svm_predict(Y_test, X_test, W)\n",
    "\n",
    "p_acc"
   ]
  },
  {
   "cell_type": "code",
   "execution_count": 57,
   "id": "f8b774b4-0b69-4252-9b42-d7b8c761f561",
   "metadata": {},
   "outputs": [
    {
     "name": "stdout",
     "output_type": "stream",
     "text": [
      "..................................................*...................................*.*\n",
      "optimization finished, #iter = 86677\n",
      "nu = 0.321739\n",
      "obj = -14191.601730, rho = 0.691534\n",
      "nSV = 22098, nBSV = 12018\n",
      "Total nSV = 22098\n",
      "................................................*...................................*.*\n",
      "optimization finished, #iter = 83941\n",
      "nu = 0.325478\n",
      "obj = -14364.562908, rho = 0.691764\n",
      "nSV = 22213, nBSV = 12214\n",
      "Total nSV = 22213\n",
      "................................................*..................................*.*\n",
      "optimization finished, #iter = 82462\n",
      "nu = 0.325798\n",
      "obj = -14369.233647, rho = 0.682552\n",
      "nSV = 22178, nBSV = 12257\n",
      "Total nSV = 22178\n",
      ".................................................*....................................*.*\n",
      "optimization finished, #iter = 85345\n",
      "nu = 0.323635\n",
      "obj = -14266.726718, rho = 0.692187\n",
      "nSV = 22211, nBSV = 12117\n",
      "Total nSV = 22211\n",
      "................................................*.................................*\n",
      "optimization finished, #iter = 81411\n",
      "nu = 0.322619\n",
      "obj = -14227.401479, rho = 0.691406\n",
      "nSV = 22058, nBSV = 12124\n",
      "Total nSV = 22058\n",
      "................................................................*...............................................*..*\n",
      "optimization finished, #iter = 113071\n",
      "nu = 0.322770\n",
      "obj = -17945.628083, rho = 0.688569\n",
      "nSV = 27173, nBSV = 15293\n",
      "Total nSV = 27173\n",
      "...............................................*....................................*..*\n",
      "optimization finished, #iter = 84317\n",
      "nu = 0.307749\n",
      "obj = -13525.010773, rho = -0.700254\n",
      "nSV = 21382, nBSV = 11407\n",
      "Total nSV = 21382\n",
      "..............................................*...................................*\n",
      "optimization finished, #iter = 81054\n",
      "nu = 0.308915\n",
      "obj = -13564.368057, rho = -0.693947\n",
      "nSV = 21396, nBSV = 11507\n",
      "Total nSV = 21396\n",
      "................................................*.................................*\n",
      "optimization finished, #iter = 81170\n",
      "nu = 0.308473\n",
      "obj = -13541.843764, rho = -0.691424\n",
      "nSV = 21333, nBSV = 11508\n",
      "Total nSV = 21333\n",
      "...............................................*.................................*\n",
      "optimization finished, #iter = 80717\n",
      "nu = 0.309610\n",
      "obj = -13575.186832, rho = -0.683397\n",
      "nSV = 21391, nBSV = 11524\n",
      "Total nSV = 21391\n",
      "................................................*....................................*.*\n",
      "optimization finished, #iter = 84812\n",
      "nu = 0.311144\n",
      "obj = -13654.738125, rho = -0.693660\n",
      "nSV = 21655, nBSV = 11589\n",
      "Total nSV = 21655\n",
      "..............................................................*.............................................*.*\n",
      "optimization finished, #iter = 107611\n",
      "nu = 0.307885\n",
      "obj = -17041.534218, rho = -0.693640\n",
      "nSV = 26170, nBSV = 14543\n",
      "Total nSV = 26170\n",
      ".........................................*.................................*.*\n",
      "optimization finished, #iter = 74788\n",
      "nu = 0.265754\n",
      "obj = -11558.602015, rho = -0.649639\n",
      "nSV = 19162, nBSV = 9624\n",
      "Total nSV = 19162\n",
      "..........................................*..............................*\n",
      "optimization finished, #iter = 72486\n",
      "nu = 0.263820\n",
      "obj = -11472.717578, rho = -0.662789\n",
      "nSV = 19042, nBSV = 9597\n",
      "Total nSV = 19042\n",
      ".........................................*..............................*.*\n",
      "optimization finished, #iter = 71824\n",
      "nu = 0.263651\n",
      "obj = -11455.949318, rho = -0.652097\n",
      "nSV = 19055, nBSV = 9556\n",
      "Total nSV = 19055\n",
      ".........................................*................................*\n",
      "optimization finished, #iter = 73209\n",
      "nu = 0.264156\n",
      "obj = -11480.869914, rho = -0.643964\n",
      "nSV = 19068, nBSV = 9589\n",
      "Total nSV = 19068\n",
      "..........................................*..............................*\n",
      "optimization finished, #iter = 72351\n",
      "nu = 0.266769\n",
      "obj = -11603.263289, rho = -0.662550\n",
      "nSV = 19234, nBSV = 9719\n",
      "Total nSV = 19234\n",
      ".......................................................*.......................................*\n",
      "optimization finished, #iter = 94609\n",
      "nu = 0.263297\n",
      "obj = -14442.152758, rho = -0.653895\n",
      "nSV = 23252, nBSV = 12103\n",
      "Total nSV = 23252\n",
      "............................................*.................................*.*\n",
      "optimization finished, #iter = 77714\n",
      "nu = 0.290369\n",
      "obj = -12695.780405, rho = -0.667802\n",
      "nSV = 20495, nBSV = 10704\n",
      "Total nSV = 20495\n",
      "............................................*...............................*\n",
      "optimization finished, #iter = 75500\n",
      "nu = 0.290854\n",
      "obj = -12707.151099, rho = -0.662442\n",
      "nSV = 20403, nBSV = 10749\n",
      "Total nSV = 20403\n",
      ".............................................*.................................*.*\n",
      "optimization finished, #iter = 78337\n",
      "nu = 0.285317\n",
      "obj = -12462.809763, rho = -0.670701\n",
      "nSV = 20257, nBSV = 10457\n",
      "Total nSV = 20257\n",
      ".............................................*..................................*\n",
      "optimization finished, #iter = 79419\n",
      "nu = 0.290712\n",
      "obj = -12722.117686, rho = -0.674288\n",
      "nSV = 20449, nBSV = 10693\n",
      "Total nSV = 20449\n",
      "..............................................*..................................*..*\n",
      "optimization finished, #iter = 82056\n",
      "nu = 0.287335\n",
      "obj = -12581.223978, rho = -0.684392\n",
      "nSV = 20361, nBSV = 10525\n",
      "Total nSV = 20361\n",
      ".........................................................*..............................................*.*\n",
      "optimization finished, #iter = 104269\n",
      "nu = 0.287635\n",
      "obj = -15859.200040, rho = -0.672709\n",
      "nSV = 24932, nBSV = 13424\n",
      "Total nSV = 24932\n",
      "..............................................*....................................*.*\n",
      "optimization finished, #iter = 82647\n",
      "nu = 0.308372\n",
      "obj = -13574.794914, rho = -0.700484\n",
      "nSV = 21369, nBSV = 11483\n",
      "Total nSV = 21369\n",
      "..............................................*................................*\n",
      "optimization finished, #iter = 78428\n",
      "nu = 0.308505\n",
      "obj = -13555.184799, rho = -0.696331\n",
      "nSV = 21126, nBSV = 11583\n",
      "Total nSV = 21126\n",
      ".............................................*................................*.*\n",
      "optimization finished, #iter = 77403\n",
      "nu = 0.309550\n",
      "obj = -13596.495048, rho = -0.693301\n",
      "nSV = 21275, nBSV = 11626\n",
      "Total nSV = 21275\n",
      ".............................................*..................................*.*\n",
      "optimization finished, #iter = 79395\n",
      "nu = 0.308824\n",
      "obj = -13561.613564, rho = -0.701376\n",
      "nSV = 21240, nBSV = 11539\n",
      "Total nSV = 21240\n",
      "..............................................*..................................*.*\n",
      "optimization finished, #iter = 80339\n",
      "nu = 0.312154\n",
      "obj = -13725.924937, rho = -0.694901\n",
      "nSV = 21387, nBSV = 11657\n",
      "Total nSV = 21387\n",
      "............................................................*..............................................*\n",
      "optimization finished, #iter = 106739\n",
      "nu = 0.308350\n",
      "obj = -17085.509521, rho = -0.698607\n",
      "nSV = 26061, nBSV = 14605\n",
      "Total nSV = 26061\n"
     ]
    }
   ],
   "source": [
    "X, Y = p3[\"train\"][:, :-1], p3[\"train\"][:, -1]\n",
    "X_test, Y_test = p3[\"test\"][:, :-1], p3[\"test\"][:, -1]\n",
    "\n",
    "# train one-vs-rest approach\n",
    "svm = {}\n",
    "for k in range(len(labels)):\n",
    "    svm[k] = svm_train(np.double(Y==k+1), X, '-c 1 -g 0.2 -b 1')"
   ]
  },
  {
   "cell_type": "code",
   "execution_count": 83,
   "id": "01dac20f-3562-44d5-bde0-35b60545a06d",
   "metadata": {},
   "outputs": [
    {
     "name": "stdout",
     "output_type": "stream",
     "text": [
      "Accuracy = 92.4% (13860/15000) (classification)\n",
      "Accuracy = 72.62% (10893/15000) (classification)\n",
      "Accuracy = 70.2867% (10543/15000) (classification)\n",
      "Accuracy = 70.7% (10605/15000) (classification)\n",
      "Accuracy = 71.9867% (10798/15000) (classification)\n",
      "Overall Accuracy:  0.35013333333333335\n"
     ]
    }
   ],
   "source": [
    "prob = np.zeros((len(Y_test), len(labels)));\n",
    "\n",
    "for k in range(len(labels)):\n",
    "    _, _, p = svm_predict(np.double(Y_test==k), X_test, svm[k], '-b 1')\n",
    "    prob[:,k] = np.array(p)[:, 1]\n",
    "    \n",
    "pred = np.argmax(prob, axis=1) + 1;\n",
    "acc = np.sum(np.abs(pred - Y_test) < 0.5) / len(Y_test)\n",
    "print(\"Overall Accuracy: \", acc)"
   ]
  },
  {
   "cell_type": "markdown",
   "id": "4da34880-85e7-4471-9ff1-2da09b1af936",
   "metadata": {
    "jp-MarkdownHeadingCollapsed": true,
    "tags": []
   },
   "source": [
    "# P2 (FLDA)\n",
    "\n",
    "Implement FLDA for the classification problems in A1 and report the metrics as in A1\n",
    "\n",
    "**DATA**: `p3train/test.csv`, `images.zip (p4[data])`"
   ]
  },
  {
   "cell_type": "code",
   "execution_count": 137,
   "id": "5a892f25-a4fe-4482-85e5-cd2303bea97b",
   "metadata": {},
   "outputs": [],
   "source": [
    "class FLDA:\n",
    "    def __init__(self):\n",
    "        self.num_classes = None\n",
    "        self.parameters = None\n",
    "        self.first_label = 0\n",
    "        self.dimension = 0\n",
    "\n",
    "    def compute_Sb_Sw(self,X,y):\n",
    "        self.means = []\n",
    "        Sb = np.zeros((self.dimension,self.dimension))\n",
    "        Sw = np.zeros((self.dimension,self.dimension))\n",
    "        mean = np.mean(X,axis = 0)\n",
    "        unique , class_count = np.unique(y,return_counts = True)  \n",
    "        for i in range(self.num_classes):\n",
    "            self.means.append(np.mean(X[y == i + self.first_label],axis = 0))\n",
    "            Sb += class_count[i] * (np.array([self.means[i]-mean]).T@np.array([self.means[i]-mean]))\n",
    "        for j in range(len(X)):\n",
    "            x = np.array([X[j]])\n",
    "            m = np.array([self.means[(y[j]-self.first_label).astype(int)]])\n",
    "            Sw += (x-m).T@(x-m)\n",
    "        return Sb,Sw \n",
    "\n",
    "    def compute_w(self,X,y):\n",
    "        Sb , Sw = self.compute_Sb_Sw(X,y)\n",
    "        e_val , e_vec =  np.linalg.eig(np.linalg.pinv(Sw)@Sb)\n",
    "        idxs = np.argsort(e_val)[::-1][:self.num_classes-1]\n",
    "        self.parameters = e_vec[:,idxs].T\n",
    "\n",
    "    def project(self,X):\n",
    "        return X @ self.parameters.T\n",
    "\n",
    "    def fit(self, x, y):\n",
    "        unique = np.unique(y,return_counts = False)\n",
    "        self.first_label = np.min(y)\n",
    "        self.num_classes = len(unique)\n",
    "        self.dimension = x.shape[1]\n",
    "        self.compute_w(x, y)\n",
    "\n",
    "    def predict(self,test_data):\n",
    "        projected_means = np.array(self.means)@self.parameters.T\n",
    "        projected_data = test_data @ self.parameters.T\n",
    "        pred_label = np.zeros(len(test_data))\n",
    "        for i in range(len(test_data)):\n",
    "            dist = np.sum((projected_means - projected_data[i])**2 , axis = 1)\n",
    "            pred_label[i] = np.argmin(dist) + self.first_label\n",
    "\n",
    "        return pred_label"
   ]
  },
  {
   "cell_type": "code",
   "execution_count": 200,
   "id": "7781e2a6-1868-4aba-81d6-e86ae78b6d1c",
   "metadata": {},
   "outputs": [
    {
     "name": "stdout",
     "output_type": "stream",
     "text": [
      "------------------ Train ---------------------\n",
      "Classification Accuracy :  57.263333333333335 %\n",
      "F1 Score                :  [0.52778935 0.56287425 0.62782332 0.5873161  0.55754795]\n",
      "------------------ Test ----------------------\n",
      "Classification Accuracy :  57.41333333333334 %\n",
      "F1 Score                :  [0.51742308 0.56262359 0.62537562 0.58599156 0.57841538]\n",
      "Confusion Matrix        : \n",
      "[[1522  395  294  364  396]\n",
      " [ 379 1707  284  270  341]\n",
      " [ 308  311 1873  252  296]\n",
      " [ 346  349  250 1736  294]\n",
      " [ 357  325  249  328 1774]]\n"
     ]
    },
    {
     "data": {
      "image/png": "[encoded data removed]",
      "text/plain": [
       "<Figure size 1600x800 with 2 Axes>"
      ]
     },
     "metadata": {},
     "output_type": "display_data"
    }
   ],
   "source": [
    "p3_model = FLDA()\n",
    "p3_model.fit(p3[\"X\"], p3[\"Y\"])\n",
    "pred = p3_model.predict(p3[\"X\"])\n",
    "pred_test = p3_model.predict(p3[\"X_test\"])\n",
    "\n",
    "metrics.print(pred, p3[\"Y\"], pred_test, p3[\"Y_test\"])"
   ]
  },
  {
   "cell_type": "code",
   "execution_count": 270,
   "id": "0b1dc225-d375-4808-9129-abea204e5f40",
   "metadata": {},
   "outputs": [
    {
     "name": "stdout",
     "output_type": "stream",
     "text": [
      "------------------ Train ---------------------\n",
      "Classification Accuracy :  88.40476190476191 %\n",
      "F1 Score                :  [0.90378869 0.89365628 0.9668858  0.84427429 0.8408551  0.89815043\n",
      " 0.85488061 0.79873602 0.91883116 0.92919163]\n",
      "------------------ Test ----------------------\n",
      "Classification Accuracy :  88.38333333333334 %\n",
      "F1 Score                :  [0.89511653 0.88997026 0.96818181 0.84026143 0.85205897 0.8973098\n",
      " 0.85567304 0.79670173 0.92254134 0.92853058]\n",
      "Confusion Matrix        : \n",
      "[[1613  133    2   25   10    0    4    4    8    1]\n",
      " [  60 1646    2   56   33    1    0    0    0    2]\n",
      " [  24   19 1704   37    2   13    1    0    0    0]\n",
      " [  18   26    0 1607   67   23    1   58    0    0]\n",
      " [   1    7    0   46 1676   62    0    0    7    1]\n",
      " [   1   11   12   46  172 1551    0    1    6    0]\n",
      " [   4    5    0   42   27    2 1497  223    0    0]\n",
      " [  29    9    0  138   33    1  189 1401    0    0]\n",
      " [  24   10    0    4   96    4    0    2 1590   70]\n",
      " [  30   33    0   24   18    0    7   28   36 1624]]\n"
     ]
    },
    {
     "data": {
      "image/png": "[encoded data removed]",
      "text/plain": [
       "<Figure size 1600x800 with 2 Axes>"
      ]
     },
     "metadata": {},
     "output_type": "display_data"
    }
   ],
   "source": [
    "p4_model = FLDA()\n",
    "p4_model.fit(p4[\"X\"], p4[\"Y\"])\n",
    "pred = p4_model.predict(p4[\"X\"])\n",
    "pred_test = p4_model.predict(p4[\"X_test\"])\n",
    "\n",
    "metrics.print(pred, p4[\"Y\"], pred_test, p4[\"Y_test\"])"
   ]
  },
  {
   "cell_type": "code",
   "execution_count": 202,
   "id": "f8e36f02-df54-4b3b-86b4-4234feafd8d7",
   "metadata": {},
   "outputs": [
    {
     "name": "stdout",
     "output_type": "stream",
     "text": [
      "------------------ Train ---------------------\n",
      "Classification Accuracy :  83.59666666666666 %\n",
      "F1 Score                :  [0.84916966 0.90407358 0.9171587  0.77918215 0.88075965 0.88698234\n",
      " 0.74750499 0.63678837 0.87582379 0.8871391 ]\n",
      "------------------ Test ----------------------\n",
      "Classification Accuracy :  86.26 %\n",
      "F1 Score                :  [0.88073707 0.90509259 0.91562388 0.85895806 0.92036827 0.88016398\n",
      " 0.77255985 0.65298776 0.93031123 0.90570021]\n",
      "Confusion Matrix        : \n",
      "[[2581  270    0   49    4    0    3   33   47   13]\n",
      " [  63 2737    0  147   10    6    1    3    7   26]\n",
      " [  27    9 2561   19    4  366    0    4    9    1]\n",
      " [  15    1    4 2704   22   48   20  185    1    0]\n",
      " [   0    1    0   47 2849   85    0    3    1   14]\n",
      " [   0    7   25   74   84 2791    5    9    4    1]\n",
      " [   1    0    0   26    4   12 2517  438    0    2]\n",
      " [   1    0    3  187   19   11  965 1814    0    0]\n",
      " [ 123   17    1    3   25   17    2    9 2750   53]\n",
      " [  50    6    0   40  170    6    3   58   93 2574]]\n"
     ]
    },
    {
     "data": {
      "image/png": "[encoded data removed]",
      "text/plain": [
       "<Figure size 1600x800 with 2 Axes>"
      ]
     },
     "metadata": {},
     "output_type": "display_data"
    }
   ],
   "source": [
    "p5_model = FLDA()\n",
    "p5_model.fit(p5[\"X\"], p5[\"Y\"])\n",
    "pred = p5_model.predict(p5[\"X\"])\n",
    "pred_test = p5_model.predict(p5[\"X_test\"])\n",
    "\n",
    "metrics.print(pred, p5[\"Y\"], pred_test, p5[\"Y_test\"])"
   ]
  },
  {
   "cell_type": "markdown",
   "id": "aeb59366-837e-49ae-b1b2-d81fbd057b35",
   "metadata": {
    "jp-MarkdownHeadingCollapsed": true,
    "tags": []
   },
   "source": [
    "# P3 (Regression)\n",
    "\n",
    "For the regression problem p1 in A1, overfit the data with over-parameterized models (at least 3). \n",
    "In the next part, impose different types of regularizers (L2, L1, and a combination of both) and \n",
    "plot the bias-variance curves.\n",
    "\n",
    "**DATA**: `p1train/test.csv`"
   ]
  },
  {
   "cell_type": "code",
   "execution_count": 158,
   "id": "e00f0e38-db0a-42c4-bbe9-635684e0058a",
   "metadata": {},
   "outputs": [],
   "source": [
    "# Compute mean squared error\n",
    "def mse(X, Y, W):\n",
    "    return (1/len(Y)) * (X @ W - Y) @ (X @ W - Y)\n",
    "\n",
    "# Print the required metrics\n",
    "def regression(x_train, y_train, x_test, y_test, func = lambda x : x):\n",
    "    x_train = func(x_train)\n",
    "    x_test = func(x_test)\n",
    "    \n",
    "    m, n = x_train.shape\n",
    "    w = np.linalg.pinv(x_train) @ y_train\n",
    "\n",
    "    mse_train = mse(x_train, y_train, w)\n",
    "    mae_train = mae(x_train, y_train, w)\n",
    "    p_train = ttest_ind(x_train @ w, y_train).pvalue\n",
    "    mse_test = mse(x_test, y_test, w)\n",
    "    mae_test = mae(x_test, y_test, w)\n",
    "    p_test = ttest_ind(x_test @ w, y_test).pvalue\n",
    "    \n",
    "    print(\"MSE (train-split)     : \", mse_train)\n",
    "    print(\"MAE (train-split)     : \", mae_train)\n",
    "    print(\"p-value (train-split) : \", p_train)\n",
    "\n",
    "    print(\"--------------------------------------\")\n",
    "\n",
    "    print(\"a) MSE     : \", mse_test)\n",
    "    print(\"b) MAE     : \", mae_test)\n",
    "    print(\"c) p-value : \", p_test)\n",
    "    return [mse_train, mae_train, p_train], [mse_test, mae_test, p_test]"
   ]
  },
  {
   "cell_type": "code",
   "execution_count": 75,
   "id": "532b1b23-ccce-4033-a5f5-1b1126c384c7",
   "metadata": {},
   "outputs": [
    {
     "name": "stdout",
     "output_type": "stream",
     "text": [
      "MSE (train-split)     :  668.234786180195\n",
      "MAE (train-split)     :  215864.05219664107\n",
      "p-value (train-split) :  0.9999999999999973\n",
      "--------------------------------------\n",
      "a) MSE     :  688.6933406199939\n",
      "b) MAE     :  110325.60934113807\n",
      "c) p-value :  0.5482536887507075\n"
     ]
    },
    {
     "name": "stderr",
     "output_type": "stream",
     "text": [
      "/tmp/ipykernel_1435218/1984451752.py:40: RuntimeWarning: Precision loss occurred in moment calculation due to catastrophic cancellation. This occurs when the data are nearly identical. Results may be unreliable.\n",
      "  p_train = ttest_ind(x_train @ w, y_train).pvalue\n",
      "/tmp/ipykernel_1435218/1984451752.py:43: RuntimeWarning: Precision loss occurred in moment calculation due to catastrophic cancellation. This occurs when the data are nearly identical. Results may be unreliable.\n",
      "  p_test = ttest_ind(x_test @ w, y_test).pvalue\n"
     ]
    }
   ],
   "source": [
    "X, Y = parseData(p1[\"train\"])\n",
    "X_test, Y_test = parseData(p1[\"test\"])\n",
    "\n",
    "# Uniform distribution\n",
    "p3[\"result\"] = [[] for _ in range(9)]\n",
    "p3[\"result\"][0] = printResult(X, Y, X_test, Y_test, lambda x : np.ones(x.shape[0]).reshape(x.shape[0], 1))"
   ]
  },
  {
   "cell_type": "code",
   "execution_count": 76,
   "id": "d470054a-6996-41e7-9a3b-72ba6a7ea3c4",
   "metadata": {},
   "outputs": [
    {
     "name": "stdout",
     "output_type": "stream",
     "text": [
      "MSE (train-split)     :  5.059684615643717\n",
      "MAE (train-split)     :  17917.53209393991\n",
      "p-value (train-split) :  0.999999999999998\n",
      "--------------------------------------\n",
      "a) MSE     :  5.0464360039512535\n",
      "b) MAE     :  8995.400265491306\n",
      "c) p-value :  0.9084780712932894\n"
     ]
    }
   ],
   "source": [
    "p3[\"result\"][1] = printResult(X, Y, X_test, Y_test)"
   ]
  },
  {
   "cell_type": "code",
   "execution_count": 77,
   "id": "80997323-28b1-48ae-b989-be0c1021b46d",
   "metadata": {},
   "outputs": [
    {
     "name": "stdout",
     "output_type": "stream",
     "text": [
      "MSE (train-split)     :  5.057337646427746\n",
      "MAE (train-split)     :  17912.881059172036\n",
      "p-value (train-split) :  0.9999999999995446\n",
      "--------------------------------------\n",
      "a) MSE     :  5.0460393419222935\n",
      "b) MAE     :  8994.498298744744\n",
      "c) p-value :  0.9085274641616161\n"
     ]
    }
   ],
   "source": [
    "def makeQuadratic(data):\n",
    "    n = data.shape[1]\n",
    "    return np.array([data.T[i] * data.T[j] for i in range(n) for j in range(n) if j <= i]).T\n",
    "\n",
    "p3[\"result\"][2] = printResult(X, Y, X_test, Y_test, makeQuadratic)"
   ]
  },
  {
   "cell_type": "code",
   "execution_count": 78,
   "id": "481445bf-6c51-468a-a90d-87b0e07defb6",
   "metadata": {},
   "outputs": [
    {
     "name": "stdout",
     "output_type": "stream",
     "text": [
      "MSE (train-split)     :  5.055143947861669\n",
      "MAE (train-split)     :  17911.136229672695\n",
      "p-value (train-split) :  0.9999999999999603\n",
      "--------------------------------------\n",
      "a) MSE     :  5.0504576371743\n",
      "b) MAE     :  9000.349636098199\n",
      "c) p-value :  0.907889365818987\n"
     ]
    }
   ],
   "source": [
    "def makeCubic(data):\n",
    "    n = data.shape[1]\n",
    "    return np.array([data.T[i] * data.T[j] * data.T[k] for i in range(n) for j in range(n) for k in range(n) if j <= i and k <= j]).T\n",
    "\n",
    "p3[\"result\"][3] = printResult(X, Y, X_test, Y_test, makeCubic)"
   ]
  },
  {
   "cell_type": "markdown",
   "id": "83cd466c-aea5-4d14-aeb4-e654bd7a9fb9",
   "metadata": {},
   "source": [
    "## Non-Linear regression (4)\n",
    "$h_3(x) = h_1(h_1(x))$"
   ]
  },
  {
   "cell_type": "code",
   "execution_count": 79,
   "id": "2bd95ea8-daf7-4a21-9730-0f8c37da2d6d",
   "metadata": {},
   "outputs": [
    {
     "name": "stdout",
     "output_type": "stream",
     "text": [
      "MSE (train-split)     :  5.052063535022622\n",
      "MAE (train-split)     :  17903.052149605162\n",
      "p-value (train-split) :  0.999999999928211\n",
      "--------------------------------------\n",
      "a) MSE     :  5.053306488271599\n",
      "b) MAE     :  9002.643104243063\n",
      "c) p-value :  0.9112055609046055\n"
     ]
    }
   ],
   "source": [
    "p3[\"result\"][4] = printResult(X, Y, X_test, Y_test, lambda x : makeQuadratic(makeQuadratic(x)))"
   ]
  },
  {
   "cell_type": "markdown",
   "id": "289a044f-18d8-45d3-a8f0-0d50af627a9f",
   "metadata": {},
   "source": [
    "## Non-Linear regression (5)\n",
    "$h_4(x) = h_1(h_2(x))$"
   ]
  },
  {
   "cell_type": "code",
   "execution_count": 80,
   "id": "05e1b408-cde1-46f6-bd41-e8aecf8a7e2f",
   "metadata": {},
   "outputs": [
    {
     "name": "stdout",
     "output_type": "stream",
     "text": [
      "MSE (train-split)     :  5.036182828226298\n",
      "MAE (train-split)     :  17891.20957238561\n",
      "p-value (train-split) :  0.9999999998032667\n",
      "--------------------------------------\n",
      "a) MSE     :  5.059898421648326\n",
      "b) MAE     :  9012.195988905325\n",
      "c) p-value :  0.9100196705445498\n"
     ]
    }
   ],
   "source": [
    "p3[\"result\"][5] = printResult(X, Y, X_test, Y_test, lambda x : makeQuadratic(makeCubic(x)))"
   ]
  },
  {
   "cell_type": "markdown",
   "id": "0fbebf47-dfb5-472e-8918-f9828a44ffd2",
   "metadata": {},
   "source": [
    "## Non-Linear regression (6)\n",
    "$h_5(x) = h_2(h_2(x))$"
   ]
  },
  {
   "cell_type": "code",
   "execution_count": 81,
   "id": "48a2a0c7-ec42-4486-a91f-4c34ac27d812",
   "metadata": {},
   "outputs": [
    {
     "name": "stdout",
     "output_type": "stream",
     "text": [
      "MSE (train-split)     :  5.025080763598227\n",
      "MAE (train-split)     :  17871.889903932144\n",
      "p-value (train-split) :  0.9999838382049027\n",
      "--------------------------------------\n",
      "a) MSE     :  5.074239570702316\n",
      "b) MAE     :  9030.49305673658\n",
      "c) p-value :  0.9108650785034057\n"
     ]
    }
   ],
   "source": [
    "p3[\"result\"][6] = printResult(X, Y, X_test, Y_test, lambda x : makeCubic(makeCubic(x)))"
   ]
  },
  {
   "cell_type": "markdown",
   "id": "d3c1b2b0-5a4f-4779-a0ea-d18d003f9676",
   "metadata": {},
   "source": [
    "## Non-Linear regression (7)\n",
    "$h_6(x) = h_1(h_1(h_2(x)))$"
   ]
  },
  {
   "cell_type": "code",
   "execution_count": 90,
   "id": "0aecdca0-8cd1-4b80-a1ae-cb852ff3536b",
   "metadata": {},
   "outputs": [
    {
     "name": "stdout",
     "output_type": "stream",
     "text": [
      "MSE (train-split)     :  7.278581524675927\n",
      "MAE (train-split)     :  21009.67687783465\n",
      "p-value (train-split) :  0.6709381814486539\n",
      "--------------------------------------\n",
      "a) MSE     :  7.492180313509383\n",
      "b) MAE     :  10662.32249665149\n",
      "c) p-value :  0.6631472355153263\n"
     ]
    }
   ],
   "source": [
    "p3[\"result\"][7] = printResult(X, Y, X_test, Y_test, lambda x : makeQuadratic(makeQuadratic(makeCubic(x))))"
   ]
  },
  {
   "cell_type": "markdown",
   "id": "8361e912-5b29-4abf-a916-480580e571c3",
   "metadata": {},
   "source": [
    "## Non-Linear regression (8)\n",
    "$h_7(x) = h_1(h_1(h_1(h_1(x))))$"
   ]
  },
  {
   "cell_type": "code",
   "execution_count": null,
   "id": "2cce647d-e1eb-4910-856d-7cd18155c0d0",
   "metadata": {},
   "outputs": [],
   "source": [
    "p3[\"result\"][8] = printResult(X, Y, X_test, Y_test, lambda x : makeQuadratic(makeQuadratic(makeQuadratic(makeQuadratic(x)))))"
   ]
  },
  {
   "cell_type": "code",
   "execution_count": 89,
   "id": "ea304ca2-79df-42e0-8d49-c9fa3e188d20",
   "metadata": {},
   "outputs": [
    {
     "name": "stderr",
     "output_type": "stream",
     "text": [
      "/tmp/ipykernel_1435218/3727559068.py:1: VisibleDeprecationWarning: Creating an ndarray from ragged nested sequences (which is a list-or-tuple of lists-or-tuples-or ndarrays with different lengths or shapes) is deprecated. If you meant to do this, you must specify 'dtype=object' when creating the ndarray.\n",
      "  results = np.array(p3[\"result\"])[1:7]\n"
     ]
    },
    {
     "data": {
      "image/png": "[encoded data removed]",
      "text/plain": [
       "<Figure size 500x400 with 1 Axes>"
      ]
     },
     "metadata": {},
     "output_type": "display_data"
    }
   ],
   "source": [
    "results = np.array(p3[\"result\"])[1:7]\n",
    "fig, ax = plt.subplots(1, 1, figsize=(5, 4))\n",
    "ax.plot([i + 1 for i in range(6)], [((row[0][0])) for row in results], label=\"train\", marker='o')\n",
    "ax.plot([i + 1 for i in range(6)], [((row[1][0])) for row in results], label=\"test\", marker='x')\n",
    "ax.set_xlabel(\"Complexity -->\")\n",
    "ax.set_ylabel(\"MSE\")\n",
    "ax.legend()\n",
    "ax.set_title(\"MSE vs complexity\")\n",
    "\n",
    "fig.tight_layout()"
   ]
  },
  {
   "cell_type": "markdown",
   "id": "110885ac-036e-4ed1-916e-321a4d6b9da3",
   "metadata": {},
   "source": [
    "# Custom functions for Neural Networks"
   ]
  },
  {
   "cell_type": "markdown",
   "id": "1b96c34c-010c-4f7c-b522-f506a1d9a8ca",
   "metadata": {
    "jp-MarkdownHeadingCollapsed": true,
    "tags": []
   },
   "source": [
    "## 1. Multi-Layer Perceptron"
   ]
  },
  {
   "cell_type": "code",
   "execution_count": null,
   "id": "6c01a7ac-5279-4cc1-802d-6334d66621fb",
   "metadata": {},
   "outputs": [],
   "source": [
    "class MLP:\n",
    "    def __init__(self, sizes, activation='sigmoid', activation_last_layer='softmax', loss='ce', learning_rate=0.01, random_seed=42):\n",
    "        np.random.seed(random_seed)\n",
    "        self.num_layers = len(sizes)\n",
    "        self.sizes = sizes\n",
    "        self.activation = activation\n",
    "        self.activation_last_layer = activation_last_layer\n",
    "        self.loss = loss\n",
    "        self.learning_rate = learning_rate\n",
    "        self.weights = [np.random.randn(sizes[i], sizes[i-1]) / np.sqrt(sizes[i-1]) for i in range(1, self.num_layers)]\n",
    "        self.biases = [np.random.randn(sizes[i], 1) for i in range(1, self.num_layers)]\n",
    "\n",
    "    def sigmoid(self, z):\n",
    "        return 1.0 / (1.0 + np.exp(-z))\n",
    "\n",
    "    def sigmoid_prime(self, z):\n",
    "        return self.sigmoid(z) * (1 - self.sigmoid(z))\n",
    "\n",
    "    def relu(self, z):\n",
    "        return np.maximum(0, z)\n",
    "\n",
    "    def relu_prime(self, z):\n",
    "        return np.where(z > 0, 1, 0)\n",
    "\n",
    "\n",
    "    def softmax(self, z):\n",
    "        exp_z = np.exp(z - np.max(z))\n",
    "        return exp_z / np.sum(exp_z, axis=0, keepdims=True)\n",
    "\n",
    "    def softmax_prime(self, z):\n",
    "        return self.softmax(z) * (1 - self.softmax(z))\n",
    "\n",
    "    def cross_entropy_loss(self, y, y_pred):\n",
    "        m = y.shape[1]\n",
    "        cost = -1/m * np.sum(y * np.log(y_pred + 1e-8))\n",
    "        return np.squeeze(cost)\n",
    "\n",
    "    def cross_entropy_loss_prime(self, y, y_pred):\n",
    "        return y_pred - y\n",
    "\n",
    "    def squared_error_loss(self, y, y_pred):\n",
    "        m = y.shape[1]\n",
    "        cost = 1/(2*m) * np.sum((y_pred - y)**2)\n",
    "        return np.squeeze(cost)\n",
    "\n",
    "    def squared_error_loss_prime(self, y, y_pred):\n",
    "        return y_pred - y\n",
    "\n",
    "    def forward(self, X):\n",
    "        a = X.T\n",
    "        for i in range(self.num_layers-1):\n",
    "            z = np.dot(self.weights[i], a) + self.biases[i]\n",
    "            if i == self.num_layers-2:\n",
    "                if self.activation_last_layer == 'softmax':\n",
    "                    a = self.softmax(z)\n",
    "            else:\n",
    "                if self.activation == 'sigmoid':\n",
    "                    a = self.sigmoid(z)\n",
    "                elif self.activation == 'relu':\n",
    "                    a = self.relu(z)\n",
    "                    \n",
    "        return a.T\n",
    "\n",
    "\n",
    "    def backward(self, X, y):\n",
    "        m = X.shape[0]\n",
    "        a = [X.T]\n",
    "        z_s = []\n",
    "        for i in range(self.num_layers-1):\n",
    "            z = np.dot(self.weights[i], a[-1]) + self.biases[i]\n",
    "            z_s.append(z)\n",
    "            if i == self.num_layers-2:\n",
    "                if self.activation_last_layer == 'softmax':\n",
    "                    a.append(self.softmax(z))\n",
    "            else:\n",
    "                if self.activation == 'sigmoid':\n",
    "                    a.append(self.sigmoid(z))\n",
    "                elif self.activation == 'relu':\n",
    "                    a.append(self.relu(z))\n",
    "                    \n",
    "        if self.loss == 'ce':\n",
    "            d_a = self.cross_entropy_loss_prime(y.T, a[-1])\n",
    "        elif self.loss == 'mse':\n",
    "            d_a = self.squared_error_loss_prime(y.T, a[-1])\n",
    "            \n",
    "        d_z = d_a\n",
    "        d_weights = []\n",
    "        d_biases = []\n",
    "        for i in range(self.num_layers-2, -1, -1):\n",
    "            d_weights.insert(0, np.dot(d_z, a[i].T) / m)\n",
    "            d_biases.insert(0, np.sum(d_z, axis=1, keepdims=True) / m)\n",
    "            if i > 0:\n",
    "                if self.activation == 'sigmoid':\n",
    "                    d_z = np.dot(self.weights[i].T, d_z) * self.sigmoid_prime(z_s[i-1])\n",
    "                elif self.activation == 'relu':\n",
    "                    d_z = np.dot(self.weights[i].T, d_z) * self.relu_prime(z_s[i-1])\n",
    "                    \n",
    "        return d_weights, d_biases\n",
    "    \n",
    "\n",
    "    def train(self, X_train, Y_train, X_val, Y_val, num_epochs, batch_size): \n",
    "        n_labels = len(np.unique(Y_train))\n",
    "        y_train, y_val = [np.zeros((y.shape[0], n_labels)) for y in [Y_train, Y_val]]\n",
    "        for i, j in enumerate(Y_train):\n",
    "            y_train[i][int(j)] = 1\n",
    "        for i, j in enumerate(Y_val):\n",
    "            y_val[i][int(j)] = 1   \n",
    "            \n",
    "        train_losses = []\n",
    "        val_losses = []\n",
    "        train_accs = []\n",
    "        val_accs = []\n",
    "        \n",
    "        for i in range(num_epochs):\n",
    "            permutation = np.random.permutation(X_train.shape[0])\n",
    "            X_train = X_train[permutation, :]\n",
    "            y_train = y_train[permutation]\n",
    "            \n",
    "            for j in range(0, X_train.shape[0], batch_size):\n",
    "                \n",
    "                X_batch = X_train[j : j + batch_size, :]\n",
    "                y_batch = y_train[j : j + batch_size]\n",
    "                \n",
    "                d_weights, d_biases = self.backward(X_batch, y_batch)\n",
    "                \n",
    "                for k in range(len(self.weights)):\n",
    "                    self.weights[k] -= self.learning_rate * d_weights[k]\n",
    "                    self.biases[k] -= self.learning_rate * d_biases[k]\n",
    "                    \n",
    "            y_pred_train = self.forward(X_train)\n",
    "            y_pred_val = self.forward(X_val)\n",
    "            \n",
    "            if self.loss == 'ce':\n",
    "                train_loss = self.cross_entropy_loss(y_train, y_pred_train)\n",
    "                val_loss = self.cross_entropy_loss(y_val, y_pred_val)\n",
    "            elif self.loss == 'mse':\n",
    "                train_loss = self.squared_error_loss(y_train, y_pred_train)\n",
    "                val_loss = self.squared_error_loss(y_val, y_pred_val)\n",
    "                \n",
    "            train_losses.append(train_loss)\n",
    "            val_losses.append(val_loss)\n",
    "            \n",
    "            acc_params_train = [np.argmax(y_train, axis=1), np.argmax(y_pred_train, axis=1)]\n",
    "            acc_params_val = [np.argmax(y_val, axis=1), np.argmax(y_pred_val, axis=1)]\n",
    "            \n",
    "            train_acc = metrics.accuracy(*acc_params_train)\n",
    "            val_acc = metrics.accuracy(*acc_params_val)\n",
    "            \n",
    "            train_accs.append(train_acc)\n",
    "            val_accs.append(val_acc)\n",
    "            \n",
    "            # train_f1 = metrics.f1Score(metrics.confusionMatrix(*acc_params_train, n_labels))\n",
    "            # val_f1 = metrics.f1Score(metrics.confusionMatrix(*acc_params_val, n_labels))\n",
    "            \n",
    "            print(f\"Epoch {i+1}: \\t  train_loss = {train_loss:.2f}  \\tval_loss = {val_loss:.2f} \\t  train_acc = {train_acc:.2f}  \\t val_acc = {val_acc:.2f}\")\n",
    "        return train_losses, val_losses, train_accs, val_accs"
   ]
  },
  {
   "cell_type": "markdown",
   "id": "2337fbae-68a6-4b90-a8ac-27c8063205a9",
   "metadata": {
    "jp-MarkdownHeadingCollapsed": true,
    "tags": []
   },
   "source": [
    "# P4 (Neural Networks, MLP)\n",
    "\n",
    "- Construct a Multi-layer Perception (MLP) or a feed-forward neural network to work on the K-MNIST dataset. \n",
    "- Experiment with at least 3 settings of the number of hidden layers and Neurons. \n",
    "- Explicitly code the Error Backpropagation algorithm as a class and use it on MLPs with different architectures and loss functions (CE, squared error loss).\n",
    "- For this part, you should only use Numpy. \n",
    "\n",
    "Report the accuracy and F1 scores with all the considered configurations.\n",
    "\n",
    "**DATA:** `images.zip (p4['data'])`"
   ]
  },
  {
   "cell_type": "code",
   "execution_count": 276,
   "id": "7ee3fb19",
   "metadata": {},
   "outputs": [
    {
     "name": "stdout",
     "output_type": "stream",
     "text": [
      "Epoch 1: \t  train_loss = 6772.50  \tval_loss = 2904.61 \t  train_acc = 0.10  \t val_acc = 0.10\n",
      "Epoch 2: \t  train_loss = 6772.33  \tval_loss = 2904.17 \t  train_acc = 0.10  \t val_acc = 0.10\n",
      "Epoch 3: \t  train_loss = 6771.86  \tval_loss = 2904.27 \t  train_acc = 0.10  \t val_acc = 0.10\n",
      "Epoch 4: \t  train_loss = 6772.97  \tval_loss = 2904.68 \t  train_acc = 0.10  \t val_acc = 0.10\n",
      "Epoch 5: \t  train_loss = 6771.38  \tval_loss = 2903.73 \t  train_acc = 0.10  \t val_acc = 0.10\n",
      "Epoch 6: \t  train_loss = 6772.12  \tval_loss = 2902.43 \t  train_acc = 0.10  \t val_acc = 0.10\n",
      "Epoch 7: \t  train_loss = 6772.88  \tval_loss = 2904.64 \t  train_acc = 0.10  \t val_acc = 0.10\n",
      "Epoch 8: \t  train_loss = 6772.63  \tval_loss = 2904.06 \t  train_acc = 0.10  \t val_acc = 0.10\n",
      "Epoch 9: \t  train_loss = 6774.03  \tval_loss = 2903.83 \t  train_acc = 0.10  \t val_acc = 0.10\n",
      "Epoch 10: \t  train_loss = 6770.47  \tval_loss = 2902.42 \t  train_acc = 0.10  \t val_acc = 0.10\n",
      "Epoch 11: \t  train_loss = 6770.81  \tval_loss = 2903.38 \t  train_acc = 0.10  \t val_acc = 0.10\n",
      "Epoch 12: \t  train_loss = 6773.13  \tval_loss = 2905.61 \t  train_acc = 0.10  \t val_acc = 0.10\n",
      "Epoch 13: \t  train_loss = 6769.28  \tval_loss = 2902.12 \t  train_acc = 0.10  \t val_acc = 0.10\n",
      "Epoch 14: \t  train_loss = 6770.42  \tval_loss = 2901.51 \t  train_acc = 0.10  \t val_acc = 0.10\n",
      "Epoch 15: \t  train_loss = 6769.65  \tval_loss = 2901.46 \t  train_acc = 0.10  \t val_acc = 0.10\n",
      "Epoch 16: \t  train_loss = 6771.34  \tval_loss = 2901.83 \t  train_acc = 0.10  \t val_acc = 0.10\n",
      "Epoch 17: \t  train_loss = 6771.54  \tval_loss = 2902.41 \t  train_acc = 0.10  \t val_acc = 0.10\n",
      "Epoch 18: \t  train_loss = 6771.26  \tval_loss = 2902.52 \t  train_acc = 0.10  \t val_acc = 0.10\n",
      "Epoch 19: \t  train_loss = 6769.04  \tval_loss = 2901.86 \t  train_acc = 0.10  \t val_acc = 0.10\n",
      "Epoch 20: \t  train_loss = 6768.73  \tval_loss = 2900.77 \t  train_acc = 0.10  \t val_acc = 0.10\n",
      "Epoch 21: \t  train_loss = 6770.40  \tval_loss = 2901.88 \t  train_acc = 0.10  \t val_acc = 0.10\n",
      "Epoch 22: \t  train_loss = 6768.89  \tval_loss = 2901.64 \t  train_acc = 0.10  \t val_acc = 0.10\n",
      "Epoch 23: \t  train_loss = 6768.73  \tval_loss = 2903.10 \t  train_acc = 0.10  \t val_acc = 0.10\n",
      "Epoch 24: \t  train_loss = 6767.29  \tval_loss = 2901.58 \t  train_acc = 0.10  \t val_acc = 0.10\n",
      "Epoch 25: \t  train_loss = 6773.07  \tval_loss = 2902.93 \t  train_acc = 0.10  \t val_acc = 0.10\n",
      "Epoch 26: \t  train_loss = 6769.25  \tval_loss = 2902.54 \t  train_acc = 0.10  \t val_acc = 0.10\n",
      "Epoch 27: \t  train_loss = 6768.25  \tval_loss = 2901.59 \t  train_acc = 0.10  \t val_acc = 0.10\n",
      "Epoch 28: \t  train_loss = 6768.15  \tval_loss = 2900.59 \t  train_acc = 0.10  \t val_acc = 0.10\n",
      "Epoch 29: \t  train_loss = 6767.98  \tval_loss = 2900.43 \t  train_acc = 0.10  \t val_acc = 0.10\n",
      "Epoch 30: \t  train_loss = 6768.45  \tval_loss = 2901.10 \t  train_acc = 0.10  \t val_acc = 0.10\n",
      "Epoch 31: \t  train_loss = 6768.46  \tval_loss = 2901.00 \t  train_acc = 0.10  \t val_acc = 0.11\n",
      "Epoch 32: \t  train_loss = 6766.97  \tval_loss = 2900.72 \t  train_acc = 0.10  \t val_acc = 0.10\n",
      "Epoch 33: \t  train_loss = 6767.20  \tval_loss = 2900.52 \t  train_acc = 0.14  \t val_acc = 0.14\n",
      "Epoch 34: \t  train_loss = 6768.70  \tval_loss = 2900.54 \t  train_acc = 0.10  \t val_acc = 0.10\n",
      "Epoch 35: \t  train_loss = 6766.51  \tval_loss = 2901.40 \t  train_acc = 0.10  \t val_acc = 0.10\n",
      "Epoch 36: \t  train_loss = 6766.86  \tval_loss = 2900.96 \t  train_acc = 0.10  \t val_acc = 0.10\n",
      "Epoch 37: \t  train_loss = 6767.00  \tval_loss = 2900.72 \t  train_acc = 0.10  \t val_acc = 0.10\n",
      "Epoch 38: \t  train_loss = 6767.76  \tval_loss = 2902.38 \t  train_acc = 0.10  \t val_acc = 0.10\n",
      "Epoch 39: \t  train_loss = 6765.61  \tval_loss = 2900.31 \t  train_acc = 0.10  \t val_acc = 0.10\n",
      "Epoch 40: \t  train_loss = 6764.71  \tval_loss = 2900.01 \t  train_acc = 0.10  \t val_acc = 0.10\n",
      "Epoch 41: \t  train_loss = 6767.34  \tval_loss = 2902.75 \t  train_acc = 0.10  \t val_acc = 0.10\n",
      "Epoch 42: \t  train_loss = 6766.78  \tval_loss = 2901.09 \t  train_acc = 0.10  \t val_acc = 0.10\n",
      "Epoch 43: \t  train_loss = 6764.65  \tval_loss = 2899.91 \t  train_acc = 0.10  \t val_acc = 0.10\n",
      "Epoch 44: \t  train_loss = 6765.88  \tval_loss = 2899.43 \t  train_acc = 0.13  \t val_acc = 0.13\n",
      "Epoch 45: \t  train_loss = 6764.40  \tval_loss = 2898.81 \t  train_acc = 0.10  \t val_acc = 0.11\n",
      "Epoch 46: \t  train_loss = 6765.09  \tval_loss = 2901.07 \t  train_acc = 0.10  \t val_acc = 0.10\n",
      "Epoch 47: \t  train_loss = 6765.40  \tval_loss = 2900.46 \t  train_acc = 0.10  \t val_acc = 0.10\n",
      "Epoch 48: \t  train_loss = 6763.76  \tval_loss = 2898.58 \t  train_acc = 0.10  \t val_acc = 0.10\n",
      "Epoch 49: \t  train_loss = 6764.76  \tval_loss = 2901.11 \t  train_acc = 0.10  \t val_acc = 0.10\n",
      "Epoch 50: \t  train_loss = 6765.05  \tval_loss = 2899.47 \t  train_acc = 0.22  \t val_acc = 0.21\n"
     ]
    }
   ],
   "source": [
    "mlp = [[] for _ in range(4)]\n",
    "n_labels = len(np.unique(p4['Y']))\n",
    "\n",
    "# Shuffle the training data randomly\n",
    "indices = np.arange(p4['X'].shape[0])\n",
    "np.random.shuffle(indices)\n",
    "\n",
    "s = int(0.7 * p4['X'].shape[0])\n",
    "xtrain, xval = p4['X'][indices[:s]], p4['X'][indices[s:]]\n",
    "ytrain, yval = p4['Y'][indices[:s]], p4['Y'][indices[s:]]\n",
    "\n",
    "layers = [xtrain.shape[1], 128, 64, 32, n_labels]\n",
    "mlp[0] = MLP(layers, 'sigmoid', 'softmax','ce', learning_rate = 0.1)\n",
    "\n",
    "train_losses, val_losses, train_accs, val_accs = mlp[0].train(xtrain, ytrain, xval, yval, num_epochs = 50 , batch_size = 256)"
   ]
  },
  {
   "cell_type": "code",
   "execution_count": 277,
   "id": "009841fc-c712-44f1-8547-30426313f46d",
   "metadata": {},
   "outputs": [
    {
     "name": "stdout",
     "output_type": "stream",
     "text": [
      "Epoch 1: \t  train_loss = 6724.05  \tval_loss = 2882.97 \t  train_acc = 0.14  \t val_acc = 0.13\n",
      "Epoch 2: \t  train_loss = 6691.24  \tval_loss = 2868.91 \t  train_acc = 0.24  \t val_acc = 0.24\n",
      "Epoch 3: \t  train_loss = 6662.83  \tval_loss = 2856.92 \t  train_acc = 0.22  \t val_acc = 0.22\n",
      "Epoch 4: \t  train_loss = 6618.63  \tval_loss = 2837.89 \t  train_acc = 0.20  \t val_acc = 0.19\n",
      "Epoch 5: \t  train_loss = 6555.90  \tval_loss = 2809.07 \t  train_acc = 0.42  \t val_acc = 0.43\n",
      "Epoch 6: \t  train_loss = 6469.59  \tval_loss = 2773.06 \t  train_acc = 0.43  \t val_acc = 0.44\n",
      "Epoch 7: \t  train_loss = 6342.79  \tval_loss = 2718.56 \t  train_acc = 0.43  \t val_acc = 0.43\n",
      "Epoch 8: \t  train_loss = 6170.58  \tval_loss = 2641.76 \t  train_acc = 0.37  \t val_acc = 0.38\n",
      "Epoch 9: \t  train_loss = 6015.64  \tval_loss = 2583.87 \t  train_acc = 0.25  \t val_acc = 0.26\n",
      "Epoch 10: \t  train_loss = 6260.84  \tval_loss = 2697.50 \t  train_acc = 0.11  \t val_acc = 0.11\n",
      "Epoch 11: \t  train_loss = 6514.92  \tval_loss = 2778.25 \t  train_acc = 0.13  \t val_acc = 0.14\n",
      "Epoch 12: \t  train_loss = 5981.04  \tval_loss = 2578.70 \t  train_acc = 0.14  \t val_acc = 0.15\n",
      "Epoch 13: \t  train_loss = 5260.52  \tval_loss = 2261.75 \t  train_acc = 0.38  \t val_acc = 0.38\n",
      "Epoch 14: \t  train_loss = 6131.55  \tval_loss = 2614.32 \t  train_acc = 0.17  \t val_acc = 0.17\n",
      "Epoch 15: \t  train_loss = 4889.85  \tval_loss = 2096.42 \t  train_acc = 0.34  \t val_acc = 0.34\n",
      "Epoch 16: \t  train_loss = 4211.80  \tval_loss = 1814.04 \t  train_acc = 0.62  \t val_acc = 0.61\n",
      "Epoch 17: \t  train_loss = 4691.09  \tval_loss = 2002.47 \t  train_acc = 0.43  \t val_acc = 0.44\n",
      "Epoch 18: \t  train_loss = 4520.80  \tval_loss = 1964.04 \t  train_acc = 0.36  \t val_acc = 0.35\n",
      "Epoch 19: \t  train_loss = 3785.52  \tval_loss = 1618.66 \t  train_acc = 0.47  \t val_acc = 0.47\n",
      "Epoch 20: \t  train_loss = 3409.64  \tval_loss = 1477.26 \t  train_acc = 0.56  \t val_acc = 0.55\n",
      "Epoch 21: \t  train_loss = 3523.49  \tval_loss = 1507.89 \t  train_acc = 0.53  \t val_acc = 0.53\n",
      "Epoch 22: \t  train_loss = 3031.58  \tval_loss = 1303.37 \t  train_acc = 0.60  \t val_acc = 0.60\n",
      "Epoch 23: \t  train_loss = 3057.51  \tval_loss = 1308.11 \t  train_acc = 0.67  \t val_acc = 0.67\n",
      "Epoch 24: \t  train_loss = 3384.43  \tval_loss = 1449.85 \t  train_acc = 0.54  \t val_acc = 0.54\n",
      "Epoch 25: \t  train_loss = 2299.73  \tval_loss = 992.21 \t  train_acc = 0.77  \t val_acc = 0.77\n",
      "Epoch 26: \t  train_loss = 2675.32  \tval_loss = 1158.74 \t  train_acc = 0.66  \t val_acc = 0.65\n",
      "Epoch 27: \t  train_loss = 2200.32  \tval_loss = 949.83 \t  train_acc = 0.77  \t val_acc = 0.77\n",
      "Epoch 28: \t  train_loss = 3496.72  \tval_loss = 1491.84 \t  train_acc = 0.57  \t val_acc = 0.57\n",
      "Epoch 29: \t  train_loss = 2056.20  \tval_loss = 884.52 \t  train_acc = 0.79  \t val_acc = 0.78\n",
      "Epoch 30: \t  train_loss = 2205.51  \tval_loss = 951.66 \t  train_acc = 0.74  \t val_acc = 0.74\n",
      "Epoch 31: \t  train_loss = 1884.24  \tval_loss = 815.05 \t  train_acc = 0.81  \t val_acc = 0.81\n",
      "Epoch 32: \t  train_loss = 1865.37  \tval_loss = 807.44 \t  train_acc = 0.81  \t val_acc = 0.80\n",
      "Epoch 33: \t  train_loss = 2254.81  \tval_loss = 982.70 \t  train_acc = 0.72  \t val_acc = 0.71\n",
      "Epoch 34: \t  train_loss = 1956.75  \tval_loss = 847.20 \t  train_acc = 0.77  \t val_acc = 0.77\n",
      "Epoch 35: \t  train_loss = 1697.10  \tval_loss = 729.68 \t  train_acc = 0.83  \t val_acc = 0.82\n",
      "Epoch 36: \t  train_loss = 2947.47  \tval_loss = 1280.41 \t  train_acc = 0.62  \t val_acc = 0.62\n",
      "Epoch 37: \t  train_loss = 1607.54  \tval_loss = 693.94 \t  train_acc = 0.83  \t val_acc = 0.83\n",
      "Epoch 38: \t  train_loss = 1920.71  \tval_loss = 830.58 \t  train_acc = 0.77  \t val_acc = 0.76\n",
      "Epoch 39: \t  train_loss = 1694.96  \tval_loss = 732.79 \t  train_acc = 0.81  \t val_acc = 0.80\n",
      "Epoch 40: \t  train_loss = 1853.77  \tval_loss = 809.03 \t  train_acc = 0.77  \t val_acc = 0.77\n",
      "Epoch 41: \t  train_loss = 1592.65  \tval_loss = 681.26 \t  train_acc = 0.84  \t val_acc = 0.84\n",
      "Epoch 42: \t  train_loss = 1800.38  \tval_loss = 767.63 \t  train_acc = 0.77  \t val_acc = 0.77\n",
      "Epoch 43: \t  train_loss = 1570.97  \tval_loss = 665.46 \t  train_acc = 0.83  \t val_acc = 0.83\n",
      "Epoch 44: \t  train_loss = 1808.23  \tval_loss = 786.05 \t  train_acc = 0.79  \t val_acc = 0.79\n",
      "Epoch 45: \t  train_loss = 1395.97  \tval_loss = 601.98 \t  train_acc = 0.85  \t val_acc = 0.85\n",
      "Epoch 46: \t  train_loss = 1473.85  \tval_loss = 642.78 \t  train_acc = 0.84  \t val_acc = 0.84\n",
      "Epoch 47: \t  train_loss = 1665.12  \tval_loss = 719.03 \t  train_acc = 0.81  \t val_acc = 0.80\n",
      "Epoch 48: \t  train_loss = 1792.79  \tval_loss = 775.24 \t  train_acc = 0.78  \t val_acc = 0.77\n",
      "Epoch 49: \t  train_loss = 1391.77  \tval_loss = 591.85 \t  train_acc = 0.85  \t val_acc = 0.86\n",
      "Epoch 50: \t  train_loss = 1339.37  \tval_loss = 571.79 \t  train_acc = 0.86  \t val_acc = 0.86\n"
     ]
    }
   ],
   "source": [
    "layers = [xtrain.shape[1], 256, 128, 64, 32, n_labels]\n",
    "mlp[1] = MLP(layers, 'relu', 'softmax','ce', learning_rate = 0.01)\n",
    "\n",
    "train_losses, val_losses, train_accs, val_accs = mlp[1].train(xtrain, ytrain, xval, yval, num_epochs = 50 , batch_size = 256)"
   ]
  },
  {
   "cell_type": "code",
   "execution_count": 278,
   "id": "3647f1ad-d333-4c97-8fba-33ab67669c3d",
   "metadata": {},
   "outputs": [
    {
     "name": "stdout",
     "output_type": "stream",
     "text": [
      "Epoch 1: \t  train_loss = 1337.57  \tval_loss = 573.80 \t  train_acc = 0.10  \t val_acc = 0.10\n",
      "Epoch 2: \t  train_loss = 1324.50  \tval_loss = 567.93 \t  train_acc = 0.10  \t val_acc = 0.10\n",
      "Epoch 3: \t  train_loss = 1323.09  \tval_loss = 567.22 \t  train_acc = 0.10  \t val_acc = 0.10\n",
      "Epoch 4: \t  train_loss = 1322.97  \tval_loss = 567.15 \t  train_acc = 0.10  \t val_acc = 0.10\n",
      "Epoch 5: \t  train_loss = 1322.96  \tval_loss = 567.13 \t  train_acc = 0.10  \t val_acc = 0.10\n",
      "Epoch 6: \t  train_loss = 1322.95  \tval_loss = 567.11 \t  train_acc = 0.10  \t val_acc = 0.10\n",
      "Epoch 7: \t  train_loss = 1322.95  \tval_loss = 567.12 \t  train_acc = 0.10  \t val_acc = 0.10\n",
      "Epoch 8: \t  train_loss = 1322.96  \tval_loss = 567.11 \t  train_acc = 0.10  \t val_acc = 0.10\n",
      "Epoch 9: \t  train_loss = 1322.95  \tval_loss = 567.11 \t  train_acc = 0.10  \t val_acc = 0.10\n",
      "Epoch 10: \t  train_loss = 1322.95  \tval_loss = 567.11 \t  train_acc = 0.10  \t val_acc = 0.10\n",
      "Epoch 11: \t  train_loss = 1322.95  \tval_loss = 567.11 \t  train_acc = 0.10  \t val_acc = 0.10\n",
      "Epoch 12: \t  train_loss = 1322.95  \tval_loss = 567.12 \t  train_acc = 0.10  \t val_acc = 0.10\n",
      "Epoch 13: \t  train_loss = 1322.94  \tval_loss = 567.10 \t  train_acc = 0.10  \t val_acc = 0.10\n",
      "Epoch 14: \t  train_loss = 1322.94  \tval_loss = 567.09 \t  train_acc = 0.10  \t val_acc = 0.10\n",
      "Epoch 15: \t  train_loss = 1322.95  \tval_loss = 567.10 \t  train_acc = 0.10  \t val_acc = 0.10\n",
      "Epoch 16: \t  train_loss = 1322.94  \tval_loss = 567.10 \t  train_acc = 0.10  \t val_acc = 0.10\n",
      "Epoch 17: \t  train_loss = 1322.94  \tval_loss = 567.09 \t  train_acc = 0.10  \t val_acc = 0.10\n",
      "Epoch 18: \t  train_loss = 1322.94  \tval_loss = 567.10 \t  train_acc = 0.10  \t val_acc = 0.09\n",
      "Epoch 19: \t  train_loss = 1322.94  \tval_loss = 567.11 \t  train_acc = 0.10  \t val_acc = 0.10\n",
      "Epoch 20: \t  train_loss = 1322.94  \tval_loss = 567.10 \t  train_acc = 0.10  \t val_acc = 0.10\n",
      "Epoch 21: \t  train_loss = 1322.94  \tval_loss = 567.10 \t  train_acc = 0.10  \t val_acc = 0.10\n",
      "Epoch 22: \t  train_loss = 1322.94  \tval_loss = 567.11 \t  train_acc = 0.10  \t val_acc = 0.10\n",
      "Epoch 23: \t  train_loss = 1322.94  \tval_loss = 567.11 \t  train_acc = 0.10  \t val_acc = 0.10\n",
      "Epoch 24: \t  train_loss = 1322.93  \tval_loss = 567.10 \t  train_acc = 0.10  \t val_acc = 0.10\n",
      "Epoch 25: \t  train_loss = 1322.94  \tval_loss = 567.10 \t  train_acc = 0.10  \t val_acc = 0.10\n",
      "Epoch 26: \t  train_loss = 1322.93  \tval_loss = 567.09 \t  train_acc = 0.10  \t val_acc = 0.10\n",
      "Epoch 27: \t  train_loss = 1322.94  \tval_loss = 567.09 \t  train_acc = 0.10  \t val_acc = 0.10\n",
      "Epoch 28: \t  train_loss = 1322.93  \tval_loss = 567.09 \t  train_acc = 0.10  \t val_acc = 0.10\n",
      "Epoch 29: \t  train_loss = 1322.93  \tval_loss = 567.09 \t  train_acc = 0.10  \t val_acc = 0.10\n",
      "Epoch 30: \t  train_loss = 1322.93  \tval_loss = 567.10 \t  train_acc = 0.10  \t val_acc = 0.10\n",
      "Epoch 31: \t  train_loss = 1322.93  \tval_loss = 567.10 \t  train_acc = 0.14  \t val_acc = 0.13\n",
      "Epoch 32: \t  train_loss = 1322.93  \tval_loss = 567.09 \t  train_acc = 0.10  \t val_acc = 0.10\n",
      "Epoch 33: \t  train_loss = 1322.93  \tval_loss = 567.09 \t  train_acc = 0.10  \t val_acc = 0.10\n",
      "Epoch 34: \t  train_loss = 1322.93  \tval_loss = 567.09 \t  train_acc = 0.10  \t val_acc = 0.10\n",
      "Epoch 35: \t  train_loss = 1322.92  \tval_loss = 567.10 \t  train_acc = 0.10  \t val_acc = 0.10\n",
      "Epoch 36: \t  train_loss = 1322.92  \tval_loss = 567.10 \t  train_acc = 0.10  \t val_acc = 0.10\n",
      "Epoch 37: \t  train_loss = 1322.92  \tval_loss = 567.09 \t  train_acc = 0.10  \t val_acc = 0.10\n",
      "Epoch 38: \t  train_loss = 1322.92  \tval_loss = 567.10 \t  train_acc = 0.10  \t val_acc = 0.10\n",
      "Epoch 39: \t  train_loss = 1322.92  \tval_loss = 567.10 \t  train_acc = 0.10  \t val_acc = 0.10\n",
      "Epoch 40: \t  train_loss = 1322.92  \tval_loss = 567.10 \t  train_acc = 0.10  \t val_acc = 0.10\n",
      "Epoch 41: \t  train_loss = 1322.92  \tval_loss = 567.11 \t  train_acc = 0.10  \t val_acc = 0.10\n",
      "Epoch 42: \t  train_loss = 1322.92  \tval_loss = 567.11 \t  train_acc = 0.10  \t val_acc = 0.10\n",
      "Epoch 43: \t  train_loss = 1322.92  \tval_loss = 567.11 \t  train_acc = 0.10  \t val_acc = 0.10\n",
      "Epoch 44: \t  train_loss = 1322.92  \tval_loss = 567.09 \t  train_acc = 0.10  \t val_acc = 0.10\n",
      "Epoch 45: \t  train_loss = 1322.92  \tval_loss = 567.08 \t  train_acc = 0.10  \t val_acc = 0.10\n",
      "Epoch 46: \t  train_loss = 1322.92  \tval_loss = 567.10 \t  train_acc = 0.10  \t val_acc = 0.10\n",
      "Epoch 47: \t  train_loss = 1322.91  \tval_loss = 567.10 \t  train_acc = 0.10  \t val_acc = 0.10\n",
      "Epoch 48: \t  train_loss = 1322.91  \tval_loss = 567.08 \t  train_acc = 0.12  \t val_acc = 0.11\n",
      "Epoch 49: \t  train_loss = 1322.91  \tval_loss = 567.10 \t  train_acc = 0.10  \t val_acc = 0.10\n",
      "Epoch 50: \t  train_loss = 1322.91  \tval_loss = 567.09 \t  train_acc = 0.10  \t val_acc = 0.10\n"
     ]
    }
   ],
   "source": [
    "layers = [xtrain.shape[1], 128, 64, 32, n_labels]\n",
    "mlp[2] = MLP(layers, 'sigmoid', 'softmax','mse', learning_rate = 0.01)\n",
    "\n",
    "train_losses, val_losses, train_accs, val_accs = mlp[2].train(xtrain, ytrain, xval, yval, num_epochs = 50 , batch_size = 256)"
   ]
  },
  {
   "cell_type": "code",
   "execution_count": 279,
   "id": "e49df7be-0963-4127-b726-ba23bafda132",
   "metadata": {},
   "outputs": [
    {
     "name": "stdout",
     "output_type": "stream",
     "text": [
      "Epoch 1: \t  train_loss = 1312.71  \tval_loss = 562.93 \t  train_acc = 0.20  \t val_acc = 0.19\n",
      "Epoch 2: \t  train_loss = 1277.06  \tval_loss = 547.29 \t  train_acc = 0.23  \t val_acc = 0.22\n",
      "Epoch 3: \t  train_loss = 1189.88  \tval_loss = 511.03 \t  train_acc = 0.21  \t val_acc = 0.21\n",
      "Epoch 4: \t  train_loss = 1200.20  \tval_loss = 512.60 \t  train_acc = 0.22  \t val_acc = 0.23\n",
      "Epoch 5: \t  train_loss = 1171.75  \tval_loss = 501.69 \t  train_acc = 0.26  \t val_acc = 0.26\n",
      "Epoch 6: \t  train_loss = 1332.70  \tval_loss = 570.87 \t  train_acc = 0.16  \t val_acc = 0.16\n",
      "Epoch 7: \t  train_loss = 1235.68  \tval_loss = 528.01 \t  train_acc = 0.20  \t val_acc = 0.20\n",
      "Epoch 8: \t  train_loss = 896.68  \tval_loss = 385.17 \t  train_acc = 0.53  \t val_acc = 0.53\n",
      "Epoch 9: \t  train_loss = 1268.54  \tval_loss = 543.07 \t  train_acc = 0.16  \t val_acc = 0.16\n",
      "Epoch 10: \t  train_loss = 823.57  \tval_loss = 351.75 \t  train_acc = 0.58  \t val_acc = 0.58\n",
      "Epoch 11: \t  train_loss = 1075.34  \tval_loss = 461.84 \t  train_acc = 0.35  \t val_acc = 0.35\n",
      "Epoch 12: \t  train_loss = 926.83  \tval_loss = 399.04 \t  train_acc = 0.50  \t val_acc = 0.50\n",
      "Epoch 13: \t  train_loss = 759.74  \tval_loss = 325.44 \t  train_acc = 0.60  \t val_acc = 0.60\n",
      "Epoch 14: \t  train_loss = 905.04  \tval_loss = 389.85 \t  train_acc = 0.47  \t val_acc = 0.47\n",
      "Epoch 15: \t  train_loss = 924.27  \tval_loss = 396.92 \t  train_acc = 0.49  \t val_acc = 0.49\n",
      "Epoch 16: \t  train_loss = 829.39  \tval_loss = 354.07 \t  train_acc = 0.56  \t val_acc = 0.56\n",
      "Epoch 17: \t  train_loss = 391.30  \tval_loss = 168.82 \t  train_acc = 0.84  \t val_acc = 0.84\n",
      "Epoch 18: \t  train_loss = 743.46  \tval_loss = 318.90 \t  train_acc = 0.63  \t val_acc = 0.63\n",
      "Epoch 19: \t  train_loss = 583.20  \tval_loss = 255.69 \t  train_acc = 0.73  \t val_acc = 0.72\n",
      "Epoch 20: \t  train_loss = 735.57  \tval_loss = 321.04 \t  train_acc = 0.64  \t val_acc = 0.63\n",
      "Epoch 21: \t  train_loss = 457.88  \tval_loss = 193.90 \t  train_acc = 0.79  \t val_acc = 0.79\n",
      "Epoch 22: \t  train_loss = 563.89  \tval_loss = 242.84 \t  train_acc = 0.73  \t val_acc = 0.73\n",
      "Epoch 23: \t  train_loss = 552.52  \tval_loss = 240.30 \t  train_acc = 0.73  \t val_acc = 0.72\n",
      "Epoch 24: \t  train_loss = 514.46  \tval_loss = 225.59 \t  train_acc = 0.75  \t val_acc = 0.75\n",
      "Epoch 25: \t  train_loss = 1222.37  \tval_loss = 522.79 \t  train_acc = 0.22  \t val_acc = 0.22\n",
      "Epoch 26: \t  train_loss = 541.89  \tval_loss = 233.28 \t  train_acc = 0.79  \t val_acc = 0.79\n",
      "Epoch 27: \t  train_loss = 424.12  \tval_loss = 181.08 \t  train_acc = 0.81  \t val_acc = 0.81\n",
      "Epoch 28: \t  train_loss = 872.86  \tval_loss = 371.22 \t  train_acc = 0.52  \t val_acc = 0.53\n",
      "Epoch 29: \t  train_loss = 585.94  \tval_loss = 251.64 \t  train_acc = 0.70  \t val_acc = 0.70\n",
      "Epoch 30: \t  train_loss = 469.08  \tval_loss = 204.78 \t  train_acc = 0.78  \t val_acc = 0.77\n",
      "Epoch 31: \t  train_loss = 408.76  \tval_loss = 177.37 \t  train_acc = 0.80  \t val_acc = 0.80\n",
      "Epoch 32: \t  train_loss = 753.94  \tval_loss = 320.91 \t  train_acc = 0.59  \t val_acc = 0.60\n",
      "Epoch 33: \t  train_loss = 418.71  \tval_loss = 185.07 \t  train_acc = 0.80  \t val_acc = 0.80\n",
      "Epoch 34: \t  train_loss = 395.43  \tval_loss = 171.13 \t  train_acc = 0.81  \t val_acc = 0.81\n",
      "Epoch 35: \t  train_loss = 273.18  \tval_loss = 121.41 \t  train_acc = 0.88  \t val_acc = 0.87\n",
      "Epoch 36: \t  train_loss = 594.61  \tval_loss = 259.68 \t  train_acc = 0.71  \t val_acc = 0.70\n",
      "Epoch 37: \t  train_loss = 319.03  \tval_loss = 138.30 \t  train_acc = 0.85  \t val_acc = 0.85\n",
      "Epoch 38: \t  train_loss = 293.05  \tval_loss = 131.14 \t  train_acc = 0.87  \t val_acc = 0.86\n",
      "Epoch 39: \t  train_loss = 276.11  \tval_loss = 117.99 \t  train_acc = 0.87  \t val_acc = 0.88\n",
      "Epoch 40: \t  train_loss = 317.81  \tval_loss = 137.41 \t  train_acc = 0.85  \t val_acc = 0.85\n",
      "Epoch 41: \t  train_loss = 333.38  \tval_loss = 140.88 \t  train_acc = 0.84  \t val_acc = 0.85\n",
      "Epoch 42: \t  train_loss = 236.18  \tval_loss = 104.19 \t  train_acc = 0.89  \t val_acc = 0.89\n",
      "Epoch 43: \t  train_loss = 294.67  \tval_loss = 124.96 \t  train_acc = 0.86  \t val_acc = 0.86\n",
      "Epoch 44: \t  train_loss = 475.71  \tval_loss = 206.27 \t  train_acc = 0.77  \t val_acc = 0.77\n",
      "Epoch 45: \t  train_loss = 333.23  \tval_loss = 150.25 \t  train_acc = 0.84  \t val_acc = 0.83\n",
      "Epoch 46: \t  train_loss = 536.96  \tval_loss = 234.52 \t  train_acc = 0.75  \t val_acc = 0.74\n",
      "Epoch 47: \t  train_loss = 947.57  \tval_loss = 405.69 \t  train_acc = 0.50  \t val_acc = 0.50\n",
      "Epoch 48: \t  train_loss = 385.60  \tval_loss = 171.33 \t  train_acc = 0.82  \t val_acc = 0.81\n",
      "Epoch 49: \t  train_loss = 267.71  \tval_loss = 118.52 \t  train_acc = 0.88  \t val_acc = 0.87\n",
      "Epoch 50: \t  train_loss = 227.14  \tval_loss = 99.83 \t  train_acc = 0.90  \t val_acc = 0.89\n"
     ]
    }
   ],
   "source": [
    "layers = [xtrain.shape[1], 128, 64, 32, n_labels]\n",
    "mlp[3] = MLP(layers, 'relu', 'softmax','mse', learning_rate = 0.1)\n",
    "\n",
    "train_losses, val_losses, train_accs, val_accs = mlp[3].train(xtrain, ytrain, xval, yval, num_epochs = 50 , batch_size = 256)"
   ]
  },
  {
   "cell_type": "markdown",
   "id": "ea3f1337-cecd-4e95-aeef-d2ae58d8c1d2",
   "metadata": {},
   "source": [
    "#### Final accuracy and F1 score"
   ]
  },
  {
   "cell_type": "code",
   "execution_count": 280,
   "id": "9bf4dbee-5d3d-4d79-ac96-ad03a81b057c",
   "metadata": {},
   "outputs": [
    {
     "name": "stdout",
     "output_type": "stream",
     "text": [
      "3 hidden layers, activation function: 'sigmoid', loss function: 'cross-entropy'\n",
      "Classification Accuracy :  21.205555555555556 %\n",
      "               F1 Score :  0.09491137271588837\n",
      "-------------------------------------------------------------------------------------\n",
      "4 hidden layers, activation function: 'relu', loss function: 'mean squared error'\n",
      "Classification Accuracy :  85.62222222222222 %\n",
      "               F1 Score :  0.8556740540704817\n",
      "-------------------------------------------------------------------------------------\n",
      "3 hidden layers, activation function: 'sigmoid', loss function: 'cross-entropy'\n",
      "Classification Accuracy :  10.0 %\n",
      "               F1 Score :  0.01819008623753513\n",
      "-------------------------------------------------------------------------------------\n",
      "3 hidden layers, activation function: 'relu', loss function: 'mean squared error'\n",
      "Classification Accuracy :  89.3 %\n",
      "               F1 Score :  0.893049386450607\n",
      "-------------------------------------------------------------------------------------\n"
     ]
    }
   ],
   "source": [
    "models = [\"3 hidden layers, activation function: 'sigmoid', loss function: 'cross-entropy'\",\n",
    "         \"4 hidden layers, activation function: 'relu', loss function: 'mean squared error'\",\n",
    "         \"3 hidden layers, activation function: 'sigmoid', loss function: 'cross-entropy'\",\n",
    "         \"3 hidden layers, activation function: 'relu', loss function: 'mean squared error'\"]\n",
    "\n",
    "for i in range(4):\n",
    "    pred = np.argmax(mlp[i].forward(p4['X_test']), axis=1)\n",
    "    cnf = metrics.confusionMatrix(pred, p4['Y_test'], n_labels)\n",
    "    acc = metrics.accuracy(pred, p4['Y_test'])\n",
    "    f1 = metrics.f1Score(cnf)\n",
    "                         \n",
    "    print(models[i])\n",
    "    print(\"Classification Accuracy : \", acc * 100, \"%\")\n",
    "    print(\"               F1 Score : \", np.mean(f1))\n",
    "    print(\"-------------------------------------------------------------------------------------\")"
   ]
  },
  {
   "cell_type": "markdown",
   "id": "70c4ffda-da5a-4cff-8bb9-7814723417d9",
   "metadata": {
    "tags": []
   },
   "source": [
    "# P5 (Neural Networks, CNN)\n",
    "\n",
    "- Construct a CNN for the K-MNIST dataset and code the back-propagation algorithm with weight sharing and local-receptive fields. \n",
    "- Experiment with 3 different architectures and report the accuracy.\n",
    "\n",
    "**DATA:** `images.zip (p4[data])`"
   ]
  },
  {
   "cell_type": "code",
   "execution_count": null,
   "id": "4b674a36-c7a1-4f01-9d98-3432372a3544",
   "metadata": {},
   "outputs": [],
   "source": []
  },
  {
   "cell_type": "markdown",
   "id": "92f86e37-c5c9-4dac-84bf-ad9d7eceb669",
   "metadata": {
    "tags": []
   },
   "source": [
    "# P6 (Neural Networks, CNN)\n",
    "\n",
    "- For the above problem, build a big-enough CNN architecture that would overfit the K-MNIST data. \n",
    "- Impose L2 and early-stopping as regularizers and plot the bias-variance curves. \n",
    "- Perturb each of the input images with additive Gaussian noise and report its regularization impact.\n",
    "\n",
    "**DATA:** `images.zip (p4[data])`"
   ]
  },
  {
   "cell_type": "code",
   "execution_count": null,
   "id": "168fb96e-4902-4137-ad7f-82133538429d",
   "metadata": {},
   "outputs": [],
   "source": []
  },
  {
   "cell_type": "markdown",
   "id": "55265079-c87a-4aa6-a23d-865a1ad9f853",
   "metadata": {
    "jp-MarkdownHeadingCollapsed": true,
    "tags": []
   },
   "source": [
    "# P7 (Neural Networks, MLP)\n",
    "\n",
    "Train an MLP on the PCA counterpart of the KMINST dataset and report your observations\n",
    "\n",
    "**DATA:** `p5[data]`"
   ]
  },
  {
   "cell_type": "code",
   "execution_count": 286,
   "id": "9b126dec-7392-4078-82f1-c1e2cb7afeda",
   "metadata": {},
   "outputs": [
    {
     "name": "stderr",
     "output_type": "stream",
     "text": [
      "/tmp/ipykernel_1435218/786607946.py:14: RuntimeWarning: overflow encountered in exp\n",
      "  return 1.0 / (1.0 + np.exp(-z))\n"
     ]
    },
    {
     "name": "stdout",
     "output_type": "stream",
     "text": [
      "Epoch 1: \t  train_loss = 1901.53  \tval_loss = 821.29 \t  train_acc = 0.82  \t val_acc = 0.82\n",
      "Epoch 2: \t  train_loss = 1331.07  \tval_loss = 577.65 \t  train_acc = 0.85  \t val_acc = 0.85\n",
      "Epoch 3: \t  train_loss = 1130.10  \tval_loss = 491.74 \t  train_acc = 0.86  \t val_acc = 0.86\n",
      "Epoch 4: \t  train_loss = 1041.30  \tval_loss = 459.21 \t  train_acc = 0.87  \t val_acc = 0.86\n",
      "Epoch 5: \t  train_loss = 965.91  \tval_loss = 426.14 \t  train_acc = 0.88  \t val_acc = 0.87\n",
      "Epoch 6: \t  train_loss = 935.50  \tval_loss = 413.98 \t  train_acc = 0.87  \t val_acc = 0.87\n",
      "Epoch 7: \t  train_loss = 884.92  \tval_loss = 394.73 \t  train_acc = 0.88  \t val_acc = 0.88\n",
      "Epoch 8: \t  train_loss = 859.36  \tval_loss = 383.16 \t  train_acc = 0.88  \t val_acc = 0.88\n",
      "Epoch 9: \t  train_loss = 835.14  \tval_loss = 374.90 \t  train_acc = 0.89  \t val_acc = 0.88\n",
      "Epoch 10: \t  train_loss = 810.50  \tval_loss = 365.90 \t  train_acc = 0.89  \t val_acc = 0.88\n",
      "Epoch 11: \t  train_loss = 790.91  \tval_loss = 356.96 \t  train_acc = 0.89  \t val_acc = 0.89\n",
      "Epoch 12: \t  train_loss = 782.83  \tval_loss = 359.56 \t  train_acc = 0.89  \t val_acc = 0.88\n",
      "Epoch 13: \t  train_loss = 765.75  \tval_loss = 346.54 \t  train_acc = 0.89  \t val_acc = 0.89\n",
      "Epoch 14: \t  train_loss = 751.93  \tval_loss = 343.00 \t  train_acc = 0.89  \t val_acc = 0.89\n",
      "Epoch 15: \t  train_loss = 743.19  \tval_loss = 339.30 \t  train_acc = 0.90  \t val_acc = 0.89\n",
      "Epoch 16: \t  train_loss = 740.26  \tval_loss = 339.11 \t  train_acc = 0.90  \t val_acc = 0.89\n",
      "Epoch 17: \t  train_loss = 720.83  \tval_loss = 332.79 \t  train_acc = 0.90  \t val_acc = 0.89\n",
      "Epoch 18: \t  train_loss = 716.72  \tval_loss = 326.33 \t  train_acc = 0.90  \t val_acc = 0.89\n",
      "Epoch 19: \t  train_loss = 718.35  \tval_loss = 323.88 \t  train_acc = 0.90  \t val_acc = 0.89\n",
      "Epoch 20: \t  train_loss = 707.09  \tval_loss = 320.41 \t  train_acc = 0.90  \t val_acc = 0.90\n",
      "Epoch 21: \t  train_loss = 759.38  \tval_loss = 340.06 \t  train_acc = 0.89  \t val_acc = 0.89\n",
      "Epoch 22: \t  train_loss = 720.84  \tval_loss = 330.81 \t  train_acc = 0.90  \t val_acc = 0.89\n",
      "Epoch 23: \t  train_loss = 706.79  \tval_loss = 325.03 \t  train_acc = 0.90  \t val_acc = 0.89\n",
      "Epoch 24: \t  train_loss = 708.81  \tval_loss = 322.84 \t  train_acc = 0.90  \t val_acc = 0.89\n",
      "Epoch 25: \t  train_loss = 700.05  \tval_loss = 316.03 \t  train_acc = 0.90  \t val_acc = 0.90\n",
      "Epoch 26: \t  train_loss = 699.77  \tval_loss = 314.49 \t  train_acc = 0.90  \t val_acc = 0.90\n",
      "Epoch 27: \t  train_loss = 688.75  \tval_loss = 314.42 \t  train_acc = 0.90  \t val_acc = 0.90\n",
      "Epoch 28: \t  train_loss = 775.16  \tval_loss = 349.46 \t  train_acc = 0.89  \t val_acc = 0.89\n",
      "Epoch 29: \t  train_loss = 715.00  \tval_loss = 327.69 \t  train_acc = 0.90  \t val_acc = 0.89\n",
      "Epoch 30: \t  train_loss = 705.36  \tval_loss = 326.95 \t  train_acc = 0.90  \t val_acc = 0.89\n",
      "Epoch 31: \t  train_loss = 701.54  \tval_loss = 319.56 \t  train_acc = 0.90  \t val_acc = 0.90\n",
      "Epoch 32: \t  train_loss = 695.20  \tval_loss = 319.32 \t  train_acc = 0.90  \t val_acc = 0.90\n",
      "Epoch 33: \t  train_loss = 687.70  \tval_loss = 320.40 \t  train_acc = 0.90  \t val_acc = 0.89\n",
      "Epoch 34: \t  train_loss = 676.15  \tval_loss = 311.40 \t  train_acc = 0.91  \t val_acc = 0.90\n",
      "Epoch 35: \t  train_loss = 680.14  \tval_loss = 315.02 \t  train_acc = 0.90  \t val_acc = 0.89\n",
      "Epoch 36: \t  train_loss = 672.58  \tval_loss = 310.95 \t  train_acc = 0.90  \t val_acc = 0.89\n",
      "Epoch 37: \t  train_loss = 674.66  \tval_loss = 309.89 \t  train_acc = 0.90  \t val_acc = 0.90\n",
      "Epoch 38: \t  train_loss = 678.64  \tval_loss = 315.70 \t  train_acc = 0.90  \t val_acc = 0.89\n",
      "Epoch 39: \t  train_loss = 683.93  \tval_loss = 317.30 \t  train_acc = 0.90  \t val_acc = 0.89\n",
      "Epoch 40: \t  train_loss = 671.23  \tval_loss = 313.15 \t  train_acc = 0.90  \t val_acc = 0.90\n",
      "Epoch 41: \t  train_loss = 668.86  \tval_loss = 311.73 \t  train_acc = 0.91  \t val_acc = 0.90\n",
      "Epoch 42: \t  train_loss = 674.24  \tval_loss = 314.79 \t  train_acc = 0.90  \t val_acc = 0.90\n",
      "Epoch 43: \t  train_loss = 677.06  \tval_loss = 311.21 \t  train_acc = 0.90  \t val_acc = 0.89\n",
      "Epoch 44: \t  train_loss = 658.44  \tval_loss = 307.78 \t  train_acc = 0.90  \t val_acc = 0.90\n",
      "Epoch 45: \t  train_loss = 657.26  \tval_loss = 303.53 \t  train_acc = 0.91  \t val_acc = 0.90\n",
      "Epoch 46: \t  train_loss = 657.01  \tval_loss = 308.94 \t  train_acc = 0.90  \t val_acc = 0.90\n",
      "Epoch 47: \t  train_loss = 644.54  \tval_loss = 306.28 \t  train_acc = 0.91  \t val_acc = 0.90\n",
      "Epoch 48: \t  train_loss = 648.86  \tval_loss = 302.16 \t  train_acc = 0.91  \t val_acc = 0.90\n",
      "Epoch 49: \t  train_loss = 651.58  \tval_loss = 303.94 \t  train_acc = 0.91  \t val_acc = 0.90\n",
      "Epoch 50: \t  train_loss = 644.58  \tval_loss = 301.22 \t  train_acc = 0.91  \t val_acc = 0.90\n"
     ]
    }
   ],
   "source": [
    "mlp = [[] for _ in range(4)]\n",
    "n_labels = len(np.unique(p4['Y']))\n",
    "\n",
    "# Shuffle the training data randomly\n",
    "indices = np.arange(p5['X'].shape[0])\n",
    "np.random.shuffle(indices)\n",
    "\n",
    "s = int(0.7 * p5['X'].shape[0])\n",
    "xtrain, xval = p5['X'][indices[:s]], p5['X'][indices[s:]]\n",
    "ytrain, yval = p5['Y'][indices[:s]], p5['Y'][indices[s:]]\n",
    "\n",
    "layers = [xtrain.shape[1], 32, n_labels]\n",
    "mlp[0] = MLP(layers, 'sigmoid', 'softmax','ce', learning_rate = 0.1)\n",
    "\n",
    "train_losses, val_losses, train_accs, val_accs = mlp[0].train(xtrain, ytrain, xval, yval, num_epochs = 50 , batch_size = 256)"
   ]
  },
  {
   "cell_type": "code",
   "execution_count": 287,
   "id": "29246440-bbdc-4cd5-828b-224dd687077c",
   "metadata": {},
   "outputs": [
    {
     "name": "stderr",
     "output_type": "stream",
     "text": [
      "/tmp/ipykernel_1435218/786607946.py:28: RuntimeWarning: invalid value encountered in divide\n",
      "  return exp_z / np.sum(exp_z, axis=0, keepdims=True)\n"
     ]
    },
    {
     "name": "stdout",
     "output_type": "stream",
     "text": [
      "Epoch 1: \t  train_loss = nan  \tval_loss = nan \t  train_acc = 0.10  \t val_acc = 0.10\n",
      "Epoch 2: \t  train_loss = nan  \tval_loss = nan \t  train_acc = 0.10  \t val_acc = 0.10\n",
      "Epoch 3: \t  train_loss = nan  \tval_loss = nan \t  train_acc = 0.10  \t val_acc = 0.10\n",
      "Epoch 4: \t  train_loss = nan  \tval_loss = nan \t  train_acc = 0.10  \t val_acc = 0.10\n",
      "Epoch 5: \t  train_loss = nan  \tval_loss = nan \t  train_acc = 0.10  \t val_acc = 0.10\n",
      "Epoch 6: \t  train_loss = nan  \tval_loss = nan \t  train_acc = 0.10  \t val_acc = 0.10\n",
      "Epoch 7: \t  train_loss = nan  \tval_loss = nan \t  train_acc = 0.10  \t val_acc = 0.10\n",
      "Epoch 8: \t  train_loss = nan  \tval_loss = nan \t  train_acc = 0.10  \t val_acc = 0.10\n",
      "Epoch 9: \t  train_loss = nan  \tval_loss = nan \t  train_acc = 0.10  \t val_acc = 0.10\n",
      "Epoch 10: \t  train_loss = nan  \tval_loss = nan \t  train_acc = 0.10  \t val_acc = 0.10\n",
      "Epoch 11: \t  train_loss = nan  \tval_loss = nan \t  train_acc = 0.10  \t val_acc = 0.10\n",
      "Epoch 12: \t  train_loss = nan  \tval_loss = nan \t  train_acc = 0.10  \t val_acc = 0.10\n",
      "Epoch 13: \t  train_loss = nan  \tval_loss = nan \t  train_acc = 0.10  \t val_acc = 0.10\n",
      "Epoch 14: \t  train_loss = nan  \tval_loss = nan \t  train_acc = 0.10  \t val_acc = 0.10\n",
      "Epoch 15: \t  train_loss = nan  \tval_loss = nan \t  train_acc = 0.10  \t val_acc = 0.10\n",
      "Epoch 16: \t  train_loss = nan  \tval_loss = nan \t  train_acc = 0.10  \t val_acc = 0.10\n",
      "Epoch 17: \t  train_loss = nan  \tval_loss = nan \t  train_acc = 0.10  \t val_acc = 0.10\n",
      "Epoch 18: \t  train_loss = nan  \tval_loss = nan \t  train_acc = 0.10  \t val_acc = 0.10\n",
      "Epoch 19: \t  train_loss = nan  \tval_loss = nan \t  train_acc = 0.10  \t val_acc = 0.10\n",
      "Epoch 20: \t  train_loss = nan  \tval_loss = nan \t  train_acc = 0.10  \t val_acc = 0.10\n",
      "Epoch 21: \t  train_loss = nan  \tval_loss = nan \t  train_acc = 0.10  \t val_acc = 0.10\n",
      "Epoch 22: \t  train_loss = nan  \tval_loss = nan \t  train_acc = 0.10  \t val_acc = 0.10\n",
      "Epoch 23: \t  train_loss = nan  \tval_loss = nan \t  train_acc = 0.10  \t val_acc = 0.10\n",
      "Epoch 24: \t  train_loss = nan  \tval_loss = nan \t  train_acc = 0.10  \t val_acc = 0.10\n",
      "Epoch 25: \t  train_loss = nan  \tval_loss = nan \t  train_acc = 0.10  \t val_acc = 0.10\n",
      "Epoch 26: \t  train_loss = nan  \tval_loss = nan \t  train_acc = 0.10  \t val_acc = 0.10\n",
      "Epoch 27: \t  train_loss = nan  \tval_loss = nan \t  train_acc = 0.10  \t val_acc = 0.10\n",
      "Epoch 28: \t  train_loss = nan  \tval_loss = nan \t  train_acc = 0.10  \t val_acc = 0.10\n",
      "Epoch 29: \t  train_loss = nan  \tval_loss = nan \t  train_acc = 0.10  \t val_acc = 0.10\n",
      "Epoch 30: \t  train_loss = nan  \tval_loss = nan \t  train_acc = 0.10  \t val_acc = 0.10\n",
      "Epoch 31: \t  train_loss = nan  \tval_loss = nan \t  train_acc = 0.10  \t val_acc = 0.10\n",
      "Epoch 32: \t  train_loss = nan  \tval_loss = nan \t  train_acc = 0.10  \t val_acc = 0.10\n",
      "Epoch 33: \t  train_loss = nan  \tval_loss = nan \t  train_acc = 0.10  \t val_acc = 0.10\n",
      "Epoch 34: \t  train_loss = nan  \tval_loss = nan \t  train_acc = 0.10  \t val_acc = 0.10\n",
      "Epoch 35: \t  train_loss = nan  \tval_loss = nan \t  train_acc = 0.10  \t val_acc = 0.10\n",
      "Epoch 36: \t  train_loss = nan  \tval_loss = nan \t  train_acc = 0.10  \t val_acc = 0.10\n",
      "Epoch 37: \t  train_loss = nan  \tval_loss = nan \t  train_acc = 0.10  \t val_acc = 0.10\n",
      "Epoch 38: \t  train_loss = nan  \tval_loss = nan \t  train_acc = 0.10  \t val_acc = 0.10\n",
      "Epoch 39: \t  train_loss = nan  \tval_loss = nan \t  train_acc = 0.10  \t val_acc = 0.10\n",
      "Epoch 40: \t  train_loss = nan  \tval_loss = nan \t  train_acc = 0.10  \t val_acc = 0.10\n",
      "Epoch 41: \t  train_loss = nan  \tval_loss = nan \t  train_acc = 0.10  \t val_acc = 0.10\n",
      "Epoch 42: \t  train_loss = nan  \tval_loss = nan \t  train_acc = 0.10  \t val_acc = 0.10\n",
      "Epoch 43: \t  train_loss = nan  \tval_loss = nan \t  train_acc = 0.10  \t val_acc = 0.10\n",
      "Epoch 44: \t  train_loss = nan  \tval_loss = nan \t  train_acc = 0.10  \t val_acc = 0.10\n",
      "Epoch 45: \t  train_loss = nan  \tval_loss = nan \t  train_acc = 0.10  \t val_acc = 0.10\n",
      "Epoch 46: \t  train_loss = nan  \tval_loss = nan \t  train_acc = 0.10  \t val_acc = 0.10\n",
      "Epoch 47: \t  train_loss = nan  \tval_loss = nan \t  train_acc = 0.10  \t val_acc = 0.10\n",
      "Epoch 48: \t  train_loss = nan  \tval_loss = nan \t  train_acc = 0.10  \t val_acc = 0.10\n",
      "Epoch 49: \t  train_loss = nan  \tval_loss = nan \t  train_acc = 0.10  \t val_acc = 0.10\n",
      "Epoch 50: \t  train_loss = nan  \tval_loss = nan \t  train_acc = 0.10  \t val_acc = 0.10\n"
     ]
    }
   ],
   "source": [
    "layers = [xtrain.shape[1], 64, 32, n_labels]\n",
    "mlp[1] = MLP(layers, 'relu', 'softmax','mse', learning_rate = 0.01)\n",
    "\n",
    "train_losses, val_losses, train_accs, val_accs = mlp[1].train(xtrain, ytrain, xval, yval, num_epochs = 50 , batch_size = 256)"
   ]
  },
  {
   "cell_type": "code",
   "execution_count": 288,
   "id": "a6ee388f-b364-417a-8723-4a2f2060a7fc",
   "metadata": {},
   "outputs": [
    {
     "name": "stderr",
     "output_type": "stream",
     "text": [
      "/tmp/ipykernel_1435218/786607946.py:14: RuntimeWarning: overflow encountered in exp\n",
      "  return 1.0 / (1.0 + np.exp(-z))\n"
     ]
    },
    {
     "name": "stdout",
     "output_type": "stream",
     "text": [
      "Epoch 1: \t  train_loss = 940.97  \tval_loss = 403.33 \t  train_acc = 0.10  \t val_acc = 0.10\n",
      "Epoch 2: \t  train_loss = 928.85  \tval_loss = 398.03 \t  train_acc = 0.10  \t val_acc = 0.10\n",
      "Epoch 3: \t  train_loss = 901.26  \tval_loss = 386.18 \t  train_acc = 0.53  \t val_acc = 0.54\n",
      "Epoch 4: \t  train_loss = 855.13  \tval_loss = 366.33 \t  train_acc = 0.58  \t val_acc = 0.59\n",
      "Epoch 5: \t  train_loss = 768.32  \tval_loss = 329.10 \t  train_acc = 0.70  \t val_acc = 0.70\n",
      "Epoch 6: \t  train_loss = 656.37  \tval_loss = 281.27 \t  train_acc = 0.78  \t val_acc = 0.78\n",
      "Epoch 7: \t  train_loss = 538.16  \tval_loss = 230.81 \t  train_acc = 0.80  \t val_acc = 0.80\n",
      "Epoch 8: \t  train_loss = 435.75  \tval_loss = 187.01 \t  train_acc = 0.84  \t val_acc = 0.83\n",
      "Epoch 9: \t  train_loss = 368.09  \tval_loss = 158.20 \t  train_acc = 0.84  \t val_acc = 0.84\n",
      "Epoch 10: \t  train_loss = 317.87  \tval_loss = 137.24 \t  train_acc = 0.85  \t val_acc = 0.85\n",
      "Epoch 11: \t  train_loss = 281.98  \tval_loss = 122.28 \t  train_acc = 0.86  \t val_acc = 0.86\n",
      "Epoch 12: \t  train_loss = 258.38  \tval_loss = 112.97 \t  train_acc = 0.87  \t val_acc = 0.86\n",
      "Epoch 13: \t  train_loss = 235.59  \tval_loss = 103.48 \t  train_acc = 0.87  \t val_acc = 0.87\n",
      "Epoch 14: \t  train_loss = 220.44  \tval_loss = 97.58 \t  train_acc = 0.88  \t val_acc = 0.87\n",
      "Epoch 15: \t  train_loss = 209.85  \tval_loss = 93.41 \t  train_acc = 0.88  \t val_acc = 0.87\n",
      "Epoch 16: \t  train_loss = 201.13  \tval_loss = 89.70 \t  train_acc = 0.88  \t val_acc = 0.88\n",
      "Epoch 17: \t  train_loss = 196.06  \tval_loss = 87.93 \t  train_acc = 0.88  \t val_acc = 0.88\n",
      "Epoch 18: \t  train_loss = 188.05  \tval_loss = 84.83 \t  train_acc = 0.89  \t val_acc = 0.88\n",
      "Epoch 19: \t  train_loss = 185.21  \tval_loss = 83.84 \t  train_acc = 0.89  \t val_acc = 0.88\n",
      "Epoch 20: \t  train_loss = 179.17  \tval_loss = 81.16 \t  train_acc = 0.89  \t val_acc = 0.88\n",
      "Epoch 21: \t  train_loss = 175.04  \tval_loss = 79.62 \t  train_acc = 0.89  \t val_acc = 0.88\n",
      "Epoch 22: \t  train_loss = 170.87  \tval_loss = 77.72 \t  train_acc = 0.90  \t val_acc = 0.89\n",
      "Epoch 23: \t  train_loss = 166.60  \tval_loss = 76.29 \t  train_acc = 0.90  \t val_acc = 0.89\n",
      "Epoch 24: \t  train_loss = 163.43  \tval_loss = 74.56 \t  train_acc = 0.90  \t val_acc = 0.89\n",
      "Epoch 25: \t  train_loss = 161.03  \tval_loss = 73.94 \t  train_acc = 0.90  \t val_acc = 0.89\n",
      "Epoch 26: \t  train_loss = 159.02  \tval_loss = 73.30 \t  train_acc = 0.90  \t val_acc = 0.89\n",
      "Epoch 27: \t  train_loss = 158.79  \tval_loss = 73.04 \t  train_acc = 0.90  \t val_acc = 0.89\n",
      "Epoch 28: \t  train_loss = 156.38  \tval_loss = 72.56 \t  train_acc = 0.90  \t val_acc = 0.89\n",
      "Epoch 29: \t  train_loss = 152.43  \tval_loss = 70.83 \t  train_acc = 0.90  \t val_acc = 0.89\n",
      "Epoch 30: \t  train_loss = 155.83  \tval_loss = 72.25 \t  train_acc = 0.90  \t val_acc = 0.89\n",
      "Epoch 31: \t  train_loss = 147.94  \tval_loss = 68.80 \t  train_acc = 0.91  \t val_acc = 0.90\n",
      "Epoch 32: \t  train_loss = 146.44  \tval_loss = 68.55 \t  train_acc = 0.91  \t val_acc = 0.90\n",
      "Epoch 33: \t  train_loss = 145.48  \tval_loss = 67.87 \t  train_acc = 0.91  \t val_acc = 0.90\n",
      "Epoch 34: \t  train_loss = 143.84  \tval_loss = 67.77 \t  train_acc = 0.91  \t val_acc = 0.90\n",
      "Epoch 35: \t  train_loss = 142.49  \tval_loss = 67.23 \t  train_acc = 0.91  \t val_acc = 0.90\n",
      "Epoch 36: \t  train_loss = 138.81  \tval_loss = 66.09 \t  train_acc = 0.91  \t val_acc = 0.90\n",
      "Epoch 37: \t  train_loss = 138.09  \tval_loss = 65.98 \t  train_acc = 0.91  \t val_acc = 0.90\n",
      "Epoch 38: \t  train_loss = 137.79  \tval_loss = 64.99 \t  train_acc = 0.91  \t val_acc = 0.91\n",
      "Epoch 39: \t  train_loss = 134.67  \tval_loss = 63.92 \t  train_acc = 0.92  \t val_acc = 0.91\n",
      "Epoch 40: \t  train_loss = 134.22  \tval_loss = 64.27 \t  train_acc = 0.92  \t val_acc = 0.91\n",
      "Epoch 41: \t  train_loss = 133.72  \tval_loss = 63.57 \t  train_acc = 0.92  \t val_acc = 0.91\n",
      "Epoch 42: \t  train_loss = 132.40  \tval_loss = 63.71 \t  train_acc = 0.92  \t val_acc = 0.91\n",
      "Epoch 43: \t  train_loss = 129.95  \tval_loss = 63.14 \t  train_acc = 0.92  \t val_acc = 0.91\n",
      "Epoch 44: \t  train_loss = 132.07  \tval_loss = 63.78 \t  train_acc = 0.92  \t val_acc = 0.91\n",
      "Epoch 45: \t  train_loss = 129.12  \tval_loss = 62.88 \t  train_acc = 0.92  \t val_acc = 0.91\n",
      "Epoch 46: \t  train_loss = 126.57  \tval_loss = 61.50 \t  train_acc = 0.92  \t val_acc = 0.91\n",
      "Epoch 47: \t  train_loss = 124.59  \tval_loss = 60.78 \t  train_acc = 0.92  \t val_acc = 0.91\n",
      "Epoch 48: \t  train_loss = 128.63  \tval_loss = 62.45 \t  train_acc = 0.92  \t val_acc = 0.91\n",
      "Epoch 49: \t  train_loss = 138.84  \tval_loss = 66.93 \t  train_acc = 0.91  \t val_acc = 0.90\n",
      "Epoch 50: \t  train_loss = 122.32  \tval_loss = 60.52 \t  train_acc = 0.93  \t val_acc = 0.91\n"
     ]
    }
   ],
   "source": [
    "layers = [xtrain.shape[1], 128, 64, 32, n_labels]\n",
    "mlp[2] = MLP(layers, 'sigmoid', 'softmax','mse', learning_rate = 0.1)\n",
    "\n",
    "train_losses, val_losses, train_accs, val_accs = mlp[2].train(xtrain, ytrain, xval, yval, num_epochs = 50 , batch_size = 256)"
   ]
  },
  {
   "cell_type": "code",
   "execution_count": 289,
   "id": "e4302ef3-82ce-4f14-93f3-e232cd94adff",
   "metadata": {},
   "outputs": [
    {
     "name": "stderr",
     "output_type": "stream",
     "text": [
      "/tmp/ipykernel_1435218/786607946.py:28: RuntimeWarning: invalid value encountered in divide\n",
      "  return exp_z / np.sum(exp_z, axis=0, keepdims=True)\n"
     ]
    },
    {
     "name": "stdout",
     "output_type": "stream",
     "text": [
      "Epoch 1: \t  train_loss = nan  \tval_loss = nan \t  train_acc = 0.10  \t val_acc = 0.10\n",
      "Epoch 2: \t  train_loss = nan  \tval_loss = nan \t  train_acc = 0.10  \t val_acc = 0.10\n",
      "Epoch 3: \t  train_loss = nan  \tval_loss = nan \t  train_acc = 0.10  \t val_acc = 0.10\n",
      "Epoch 4: \t  train_loss = nan  \tval_loss = nan \t  train_acc = 0.10  \t val_acc = 0.10\n",
      "Epoch 5: \t  train_loss = nan  \tval_loss = nan \t  train_acc = 0.10  \t val_acc = 0.10\n",
      "Epoch 6: \t  train_loss = nan  \tval_loss = nan \t  train_acc = 0.10  \t val_acc = 0.10\n",
      "Epoch 7: \t  train_loss = nan  \tval_loss = nan \t  train_acc = 0.10  \t val_acc = 0.10\n",
      "Epoch 8: \t  train_loss = nan  \tval_loss = nan \t  train_acc = 0.10  \t val_acc = 0.10\n",
      "Epoch 9: \t  train_loss = nan  \tval_loss = nan \t  train_acc = 0.10  \t val_acc = 0.10\n",
      "Epoch 10: \t  train_loss = nan  \tval_loss = nan \t  train_acc = 0.10  \t val_acc = 0.10\n",
      "Epoch 11: \t  train_loss = nan  \tval_loss = nan \t  train_acc = 0.10  \t val_acc = 0.10\n",
      "Epoch 12: \t  train_loss = nan  \tval_loss = nan \t  train_acc = 0.10  \t val_acc = 0.10\n",
      "Epoch 13: \t  train_loss = nan  \tval_loss = nan \t  train_acc = 0.10  \t val_acc = 0.10\n",
      "Epoch 14: \t  train_loss = nan  \tval_loss = nan \t  train_acc = 0.10  \t val_acc = 0.10\n",
      "Epoch 15: \t  train_loss = nan  \tval_loss = nan \t  train_acc = 0.10  \t val_acc = 0.10\n",
      "Epoch 16: \t  train_loss = nan  \tval_loss = nan \t  train_acc = 0.10  \t val_acc = 0.10\n",
      "Epoch 17: \t  train_loss = nan  \tval_loss = nan \t  train_acc = 0.10  \t val_acc = 0.10\n",
      "Epoch 18: \t  train_loss = nan  \tval_loss = nan \t  train_acc = 0.10  \t val_acc = 0.10\n",
      "Epoch 19: \t  train_loss = nan  \tval_loss = nan \t  train_acc = 0.10  \t val_acc = 0.10\n",
      "Epoch 20: \t  train_loss = nan  \tval_loss = nan \t  train_acc = 0.10  \t val_acc = 0.10\n",
      "Epoch 21: \t  train_loss = nan  \tval_loss = nan \t  train_acc = 0.10  \t val_acc = 0.10\n",
      "Epoch 22: \t  train_loss = nan  \tval_loss = nan \t  train_acc = 0.10  \t val_acc = 0.10\n",
      "Epoch 23: \t  train_loss = nan  \tval_loss = nan \t  train_acc = 0.10  \t val_acc = 0.10\n",
      "Epoch 24: \t  train_loss = nan  \tval_loss = nan \t  train_acc = 0.10  \t val_acc = 0.10\n",
      "Epoch 25: \t  train_loss = nan  \tval_loss = nan \t  train_acc = 0.10  \t val_acc = 0.10\n",
      "Epoch 26: \t  train_loss = nan  \tval_loss = nan \t  train_acc = 0.10  \t val_acc = 0.10\n",
      "Epoch 27: \t  train_loss = nan  \tval_loss = nan \t  train_acc = 0.10  \t val_acc = 0.10\n",
      "Epoch 28: \t  train_loss = nan  \tval_loss = nan \t  train_acc = 0.10  \t val_acc = 0.10\n",
      "Epoch 29: \t  train_loss = nan  \tval_loss = nan \t  train_acc = 0.10  \t val_acc = 0.10\n",
      "Epoch 30: \t  train_loss = nan  \tval_loss = nan \t  train_acc = 0.10  \t val_acc = 0.10\n",
      "Epoch 31: \t  train_loss = nan  \tval_loss = nan \t  train_acc = 0.10  \t val_acc = 0.10\n",
      "Epoch 32: \t  train_loss = nan  \tval_loss = nan \t  train_acc = 0.10  \t val_acc = 0.10\n",
      "Epoch 33: \t  train_loss = nan  \tval_loss = nan \t  train_acc = 0.10  \t val_acc = 0.10\n",
      "Epoch 34: \t  train_loss = nan  \tval_loss = nan \t  train_acc = 0.10  \t val_acc = 0.10\n",
      "Epoch 35: \t  train_loss = nan  \tval_loss = nan \t  train_acc = 0.10  \t val_acc = 0.10\n",
      "Epoch 36: \t  train_loss = nan  \tval_loss = nan \t  train_acc = 0.10  \t val_acc = 0.10\n",
      "Epoch 37: \t  train_loss = nan  \tval_loss = nan \t  train_acc = 0.10  \t val_acc = 0.10\n",
      "Epoch 38: \t  train_loss = nan  \tval_loss = nan \t  train_acc = 0.10  \t val_acc = 0.10\n",
      "Epoch 39: \t  train_loss = nan  \tval_loss = nan \t  train_acc = 0.10  \t val_acc = 0.10\n",
      "Epoch 40: \t  train_loss = nan  \tval_loss = nan \t  train_acc = 0.10  \t val_acc = 0.10\n",
      "Epoch 41: \t  train_loss = nan  \tval_loss = nan \t  train_acc = 0.10  \t val_acc = 0.10\n",
      "Epoch 42: \t  train_loss = nan  \tval_loss = nan \t  train_acc = 0.10  \t val_acc = 0.10\n",
      "Epoch 43: \t  train_loss = nan  \tval_loss = nan \t  train_acc = 0.10  \t val_acc = 0.10\n",
      "Epoch 44: \t  train_loss = nan  \tval_loss = nan \t  train_acc = 0.10  \t val_acc = 0.10\n",
      "Epoch 45: \t  train_loss = nan  \tval_loss = nan \t  train_acc = 0.10  \t val_acc = 0.10\n",
      "Epoch 46: \t  train_loss = nan  \tval_loss = nan \t  train_acc = 0.10  \t val_acc = 0.10\n",
      "Epoch 47: \t  train_loss = nan  \tval_loss = nan \t  train_acc = 0.10  \t val_acc = 0.10\n",
      "Epoch 48: \t  train_loss = nan  \tval_loss = nan \t  train_acc = 0.10  \t val_acc = 0.10\n",
      "Epoch 49: \t  train_loss = nan  \tval_loss = nan \t  train_acc = 0.10  \t val_acc = 0.10\n",
      "Epoch 50: \t  train_loss = nan  \tval_loss = nan \t  train_acc = 0.10  \t val_acc = 0.10\n"
     ]
    }
   ],
   "source": [
    "layers = [xtrain.shape[1], 256, 128, 64, 32, n_labels]\n",
    "mlp[3] = MLP(layers, 'relu', 'softmax','ce', learning_rate = 0.1)\n",
    "\n",
    "train_losses, val_losses, train_accs, val_accs = mlp[3].train(xtrain, ytrain, xval, yval, num_epochs = 50 , batch_size = 256)"
   ]
  },
  {
   "cell_type": "markdown",
   "id": "deebcfbe-d12a-4dcd-aa26-9f45d1762774",
   "metadata": {},
   "source": [
    "#### Final accuracy and F1 score"
   ]
  },
  {
   "cell_type": "code",
   "execution_count": 291,
   "id": "072bb565-67a6-4b2d-8353-6ae79401b4eb",
   "metadata": {},
   "outputs": [
    {
     "name": "stderr",
     "output_type": "stream",
     "text": [
      "/tmp/ipykernel_1435218/786607946.py:14: RuntimeWarning: overflow encountered in exp\n",
      "  return 1.0 / (1.0 + np.exp(-z))\n"
     ]
    },
    {
     "name": "stdout",
     "output_type": "stream",
     "text": [
      "1 hidden layer, activation function: 'sigmoid', loss function: 'cross-entropy'\n",
      "Classification Accuracy :  92.05666666666666 %\n",
      "               F1 Score :  0.9205688141449585\n",
      "-------------------------------------------------------------------------------------\n",
      "2 hidden layers, activation function: 'relu', loss function: 'mean squared error'\n",
      "Classification Accuracy :  10.0 %\n",
      "               F1 Score :  0.018181818016517907\n",
      "-------------------------------------------------------------------------------------\n",
      "3 hidden layers, activation function: 'sigmoid', loss function: 'mean squared error'\n",
      "Classification Accuracy :  92.99 %\n",
      "               F1 Score :  0.929918543157336\n",
      "-------------------------------------------------------------------------------------\n",
      "4 hidden layers, activation function: 'relu', loss function: 'cross-entropy'\n",
      "Classification Accuracy :  10.0 %\n",
      "               F1 Score :  0.018181818016517907\n",
      "-------------------------------------------------------------------------------------\n"
     ]
    }
   ],
   "source": [
    "models = [\"1 hidden layer, activation function: 'sigmoid', loss function: 'cross-entropy'\",\n",
    "         \"2 hidden layers, activation function: 'relu', loss function: 'mean squared error'\",\n",
    "         \"3 hidden layers, activation function: 'sigmoid', loss function: 'mean squared error'\",\n",
    "         \"4 hidden layers, activation function: 'relu', loss function: 'cross-entropy'\"]\n",
    "\n",
    "for i in range(4):\n",
    "    pred = np.argmax(mlp[i].forward(p5['X_test']), axis=1)\n",
    "    cnf = metrics.confusionMatrix(pred, p5['Y_test'], n_labels)\n",
    "    acc = metrics.accuracy(pred, p5['Y_test'])\n",
    "    f1 = metrics.f1Score(cnf)\n",
    "                         \n",
    "    print(models[i])\n",
    "    print(\"Classification Accuracy : \", acc * 100, \"%\")\n",
    "    print(\"               F1 Score : \", np.mean(f1))\n",
    "    print(\"-------------------------------------------------------------------------------------\")"
   ]
  }
 ],
 "metadata": {
  "kernelspec": {
   "display_name": "Python 3 (ipykernel)",
   "language": "python",
   "name": "python3"
  },
  "language_info": {
   "codemirror_mode": {
    "name": "ipython",
    "version": 3
   },
   "file_extension": ".py",
   "mimetype": "text/x-python",
   "name": "python",
   "nbconvert_exporter": "python",
   "pygments_lexer": "ipython3",
   "version": "3.10.8"
  }
 },
 "nbformat": 4,
 "nbformat_minor": 5
}
