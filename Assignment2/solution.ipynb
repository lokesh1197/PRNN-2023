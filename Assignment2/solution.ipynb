{
 "cells": [
  {
   "cell_type": "markdown",
   "id": "09071dc4-5778-4cf5-84ec-e94e8a8bff4e",
   "metadata": {
    "jp-MarkdownHeadingCollapsed": true,
    "tags": []
   },
   "source": [
    "# Initialization"
   ]
  },
  {
   "cell_type": "code",
   "execution_count": 4,
   "id": "2bcc2464-43fb-47e7-98d7-289b92809c6e",
   "metadata": {},
   "outputs": [],
   "source": [
    "import numpy as np\n",
    "from matplotlib import pyplot as plt\n",
    "\n",
    "# for p-value out of significance test\n",
    "from scipy.stats import ttest_ind\n",
    "\n",
    "# for image data handling\n",
    "import os\n",
    "from os.path import join, isfile, dirname\n",
    "from PIL import Image\n",
    "\n",
    "# for svm\n",
    "from libsvm.svmutil import *"
   ]
  },
  {
   "cell_type": "markdown",
   "id": "5bac9bdd-9a79-43b7-85c3-63a97dc2156c",
   "metadata": {
    "jp-MarkdownHeadingCollapsed": true,
    "tags": []
   },
   "source": [
    "# Data Handling"
   ]
  },
  {
   "cell_type": "markdown",
   "id": "2e9b62ea-16b4-49a9-99e9-1ea5540e7c2c",
   "metadata": {
    "tags": []
   },
   "source": [
    "### Uncompress compressed files"
   ]
  },
  {
   "cell_type": "code",
   "execution_count": 5,
   "id": "f6f0be7f-2f3c-420e-b02f-f58e5c9b2843",
   "metadata": {},
   "outputs": [],
   "source": [
    "%%capture\n",
    "!unzip -n ../data/images.zip -d ../data"
   ]
  },
  {
   "cell_type": "markdown",
   "id": "0406ab32-c6bc-4307-9e80-c2cdb0432058",
   "metadata": {
    "tags": []
   },
   "source": [
    "### Custom functions"
   ]
  },
  {
   "cell_type": "code",
   "execution_count": 6,
   "id": "a81167db-99f0-4e02-8d35-4d9cc7fa9b3c",
   "metadata": {},
   "outputs": [],
   "source": [
    "def genFromImage(imageDir, size=(8, 8)):\n",
    "    dir = dirname(imageDir)\n",
    "    dataFile = join(dir, \"p4_data\") + str(size) + \".npy\"\n",
    "    if isfile(dataFile):\n",
    "        with open(dataFile, 'rb') as f:\n",
    "            return np.load(f)\n",
    "    \n",
    "    labels = os.listdir(imageDir)\n",
    "    image_data = [[] for _ in labels]\n",
    "    for label in labels:\n",
    "        dir = join(imageDir, label)\n",
    "        files = os.listdir(dir)\n",
    "        image_data[int(label)] = np.array([np.array(\n",
    "            Image.open(join(dir, file)).convert(\"L\").resize(size), dtype='uint8'\n",
    "        ) for file in files])\n",
    "        \n",
    "    image_data = np.array(image_data)\n",
    "    with open(dataFile, 'wb') as f:\n",
    "        np.save(f, image_data)\n",
    "    return image_data\n",
    "\n",
    "# returns X, Y, X_test, Y_test and classStats\n",
    "def trainTestSplit(data, train_ratio, func):\n",
    "    n = len(data)\n",
    "    m = int(np.floor(data.shape[1] * train_ratio))\n",
    "    classStats = {}\n",
    "    x_train, y_train, x_test, y_test = [[[] for _ in range(n)] for _ in range(4)]\n",
    "    for label in range(n):\n",
    "        x_train[label], y_train[label], classStats[label] = func(label, data[label][:m], True)\n",
    "        x_test[label], y_test[label] = func(label, data[label][m:])\n",
    "    \n",
    "    X, Y, X_test, Y_test = [x.reshape(-1, x.shape[-1]) for x in [np.array(x) for x in [x_train, y_train, x_test, y_test]]]\n",
    "    return X, Y.flatten(), X_test, Y_test.flatten(), classStats\n",
    "\n",
    "def imgToFeatures(label, data, stats=False):\n",
    "    X = np.array([x.flatten() for x in data]) / 255\n",
    "    Y = label * np.ones(data.shape[0])\n",
    "    if stats:\n",
    "        return X, Y, { \"mean\": np.mean(X, axis=0), \"cov\": np.cov(X.T), \"prior\": data.shape[0], \"data\": X }\n",
    "    return X, Y\n",
    "\n",
    "def stats(label, data, stats=False):\n",
    "    X = data\n",
    "    Y = label * np.ones(data.shape[0])\n",
    "    if stats:\n",
    "        return X, Y, { \"mean\": np.mean(X, axis=0), \"cov\": np.cov(X.T), \"prior\": data.shape[0], \"data\": X }\n",
    "    return X, Y"
   ]
  },
  {
   "cell_type": "markdown",
   "id": "bdafbc18-d751-4f53-970a-db90960ec5df",
   "metadata": {
    "tags": []
   },
   "source": [
    "### Data extraction"
   ]
  },
  {
   "cell_type": "code",
   "execution_count": 7,
   "id": "547e5a6d-ddf9-437d-8861-4d7bf8d6eaa9",
   "metadata": {},
   "outputs": [
    {
     "name": "stdout",
     "output_type": "stream",
     "text": [
      "--------------------------- Data Shapes ------------------------------\n",
      "    (Regression) p1[train]:       (10000, 3) , p1[test]:  (5000, 3)\n",
      "    (Regression) p2[train]:       (10000, 4) , p2[test]:  (5000, 4)\n",
      "(Classification) p3[train]:      (60000, 11) , p3[test]:  (15000, 11)\n",
      "(Classification)  p4[data]: (10, 6000, 8, 8)\n",
      "(Classification)  p5[data]:      (60000, 11)\n"
     ]
    }
   ],
   "source": [
    "dataFolder = \"../data\"\n",
    "imageDir = join(dataFolder, \"images\")\n",
    "\n",
    "p1 = { \"testDir\": dataFolder + \"/p1_test.csv\", \"trainDir\": dataFolder + \"/p1_train.csv\" } # regression\n",
    "p2 = { \"testDir\": dataFolder + \"/p2_test.csv\", \"trainDir\": dataFolder + \"/p2_train.csv\" } # regression\n",
    "p3 = { \"testDir\": dataFolder + \"/p3_test.csv\", \"trainDir\": dataFolder + \"/p3_train.csv\" } # classification\n",
    "p4 = {}                                                                                   # classification\n",
    "p5 = {}                                                                                   # classification\n",
    "\n",
    "p1[\"test\"] = np.genfromtxt(p1[\"testDir\"], delimiter=',')\n",
    "p1[\"train\"] = np.genfromtxt(p1[\"trainDir\"], delimiter=',')\n",
    "p2[\"test\"] = np.genfromtxt(p2[\"testDir\"], delimiter=',')\n",
    "p2[\"train\"] = np.genfromtxt(p2[\"trainDir\"], delimiter=',')\n",
    "p3[\"test\"] = np.genfromtxt(p3[\"testDir\"], delimiter=',')\n",
    "p3[\"train\"] = np.genfromtxt(p3[\"trainDir\"], delimiter=',')\n",
    "p4[\"data\"] = genFromImage(imageDir)\n",
    "p5[\"data\"] = np.genfromtxt(dataFolder + \"/PCA_MNIST.csv\", delimiter=',')[1:]\n",
    "\n",
    "print(\"--------------------------- Data Shapes ------------------------------\")\n",
    "print(\"    (Regression) p1[train]:      \", p1[\"train\"].shape, \", p1[test]: \", p1[\"test\"].shape)\n",
    "print(\"    (Regression) p2[train]:      \", p2[\"train\"].shape, \", p2[test]: \", p2[\"test\"].shape)\n",
    "print(\"(Classification) p3[train]:     \", p3[\"train\"].shape, \", p3[test]: \", p3[\"test\"].shape)\n",
    "print(\"(Classification)  p4[data]:\", p4[\"data\"].shape)\n",
    "print(\"(Classification)  p5[data]:     \", p5[\"data\"].shape)"
   ]
  },
  {
   "cell_type": "code",
   "execution_count": 8,
   "id": "d68cfdaa-7085-4dc2-9b09-f21659356f68",
   "metadata": {},
   "outputs": [
    {
     "data": {
      "text/plain": [
       "((60000, 10), (60000,), (15000, 10), (15000,))"
      ]
     },
     "execution_count": 8,
     "metadata": {},
     "output_type": "execute_result"
    }
   ],
   "source": [
    "classStats = {}\n",
    "for row in p3[\"train\"]:\n",
    "    label = int(row[-1]) - 1\n",
    "    if label in classStats:\n",
    "        classStats[label].append(row[:-1])\n",
    "    else:\n",
    "        classStats[label] = [row[:-1]]\n",
    "\n",
    "# classStats = [np.array(data) for data in classStats]\n",
    "for i in range(len(classStats)):\n",
    "    data = np.array(classStats[i])\n",
    "    classStats[i] = { \"mean\": np.mean(data, axis=0), \"cov\": np.cov(data.T), \"prior\": data.shape[0], \"data\": data }\n",
    "    \n",
    "def splitData(data):\n",
    "    # X = np.array([normalize(col) for col in data.T[:-1]]).T\n",
    "    X = data.T[:-1].T\n",
    "    Y = data.T[-1].T.astype(\"int\") - 1\n",
    "    return X, Y\n",
    "\n",
    "p3[\"classStats\"] = classStats\n",
    "p3[\"X\"], p3[\"Y\"] = splitData(p3[\"train\"])\n",
    "p3[\"X_test\"], p3[\"Y_test\"] = splitData(p3[\"test\"])\n",
    "\n",
    "p3[\"X\"].shape, p3[\"Y\"].shape, p3[\"X_test\"].shape, p3[\"Y_test\"].shape"
   ]
  },
  {
   "cell_type": "code",
   "execution_count": 9,
   "id": "dfe8621f-c3b8-4f87-8673-f0fe905fa846",
   "metadata": {},
   "outputs": [
    {
     "data": {
      "text/plain": [
       "((42000, 64), (42000,), (18000, 64), (18000,))"
      ]
     },
     "execution_count": 9,
     "metadata": {},
     "output_type": "execute_result"
    }
   ],
   "source": [
    "p4[\"X\"], p4[\"Y\"], p4[\"X_test\"], p4[\"Y_test\"], p4[\"classStats\"] = trainTestSplit(p4[\"data\"], 0.7, imgToFeatures)\n",
    "\n",
    "p4[\"X\"].shape, p4[\"Y\"].shape, p4[\"X_test\"].shape, p4[\"Y_test\"].shape"
   ]
  },
  {
   "cell_type": "code",
   "execution_count": 10,
   "id": "e0f6fa89",
   "metadata": {},
   "outputs": [
    {
     "data": {
      "text/plain": [
       "((30000, 10), (30000,), (30000, 10), (30000,))"
      ]
     },
     "execution_count": 10,
     "metadata": {},
     "output_type": "execute_result"
    }
   ],
   "source": [
    "classWiseData = [[] for _ in range(10)]\n",
    "for row in p5[\"data\"]:\n",
    "    label = int(row[0])\n",
    "    classWiseData[label].append(row[1:])\n",
    "    \n",
    "p5[\"X\"], p5[\"Y\"], p5[\"X_test\"], p5[\"Y_test\"], p5[\"classStats\"] = trainTestSplit(np.array(classWiseData), 0.5, stats)\n",
    "p5[\"X\"].shape, p5[\"Y\"].shape, p5[\"X_test\"].shape, p5[\"Y_test\"].shape"
   ]
  },
  {
   "cell_type": "code",
   "execution_count": 11,
   "id": "1fc25cef-9392-4252-9c9b-ca12699479ef",
   "metadata": {},
   "outputs": [
    {
     "data": {
      "image/png": "[encoded data removed]",
      "text/plain": [
       "<Figure size 1200x400 with 10 Axes>"
      ]
     },
     "metadata": {},
     "output_type": "display_data"
    }
   ],
   "source": [
    "fig, ax = plt.subplots(2, 5, figsize=(12, 4))\n",
    "for i in range(p4[\"data\"].shape[0]):\n",
    "    ax[i // 5][i % 5].imshow(p4[\"data\"][i][0].astype(np.uint8), cmap='gray')\n",
    "    ax[i // 5][i % 5].set_title(str(i))\n",
    "    ax[i // 5][i % 5].get_xaxis().set_visible(False)\n",
    "    ax[i // 5][i % 5].get_yaxis().set_visible(False)\n",
    "\n",
    "fig.tight_layout()"
   ]
  },
  {
   "cell_type": "markdown",
   "id": "d8765b9d-a70b-4a8f-8413-4e5555717473",
   "metadata": {
    "jp-MarkdownHeadingCollapsed": true,
    "tags": []
   },
   "source": [
    "# Custom common functions"
   ]
  },
  {
   "cell_type": "code",
   "execution_count": 12,
   "id": "5d88fd7a-4d01-4992-9969-a44641a513aa",
   "metadata": {},
   "outputs": [],
   "source": [
    "class metrics:\n",
    "    def accuracy(predicted, actual):\n",
    "        m = actual.size\n",
    "        correctCount = sum([1 if int(predicted[i]) == int(actual[i]) else 0 for i in range(m)])\n",
    "        return correctCount / m\n",
    "    \n",
    "    def confusionMatrix(predicted, actual, n = 5):\n",
    "        cnf = np.zeros((n, n), dtype='uint')\n",
    "        for i in range(actual.size):\n",
    "            cnf[int(actual[i])][int(predicted[i])] += 1\n",
    "        return cnf\n",
    "    \n",
    "    def f1Score(cnf):\n",
    "        sum_predict = np.sum(cnf, axis=0)\n",
    "        sum_actual  = np.sum(cnf, axis=1)\n",
    "        f1 = np.zeros(cnf.shape[1])\n",
    "        for i in range(f1.size):\n",
    "            TP = cnf[i][i]\n",
    "            FP, FN = sum_predict[i] - TP, sum_actual[i] - TP\n",
    "            p, r = TP/(TP + FP + 1e-8), TP/(TP + FN + 1e-8)\n",
    "            f1[i] = 2 * p * r / (p + r + 1e-8)\n",
    "        return f1      \n",
    "    \n",
    "    def print(pred, Y, pred_test, Y_test, result=False):\n",
    "        n_labels = len(np.unique(Y))\n",
    "                \n",
    "        cnf_train = metrics.confusionMatrix(pred, Y, n_labels)\n",
    "        cnf_test = metrics.confusionMatrix(pred_test, Y_test, n_labels)\n",
    "        acc_train = metrics.accuracy(pred, Y)\n",
    "        acc_test = metrics.accuracy(pred_test, Y_test)\n",
    "        f1_train = metrics.f1Score(cnf_train)\n",
    "        f1_test = metrics.f1Score(cnf_test)\n",
    "        \n",
    "        print(\"------------------ Train ---------------------\")\n",
    "        print(\"Classification Accuracy : \", acc_train * 100, \"%\")\n",
    "        print(\"F1 Score                : \", f1_train)\n",
    "        print(\"------------------ Test ----------------------\")\n",
    "        print(\"Classification Accuracy : \", acc_test * 100, \"%\")\n",
    "        print(\"F1 Score                : \", f1_test)\n",
    "        print(\"Confusion Matrix        : \")\n",
    "        print(cnf_test)\n",
    "        \n",
    "        fig, ax = plt.subplots(1, 2, figsize=(16, 8))\n",
    "        ax[0].matshow(cnf_train.T, cmap='GnBu')\n",
    "        ax[0].set_xlabel(\"Predicted\")\n",
    "        ax[0].set_ylabel(\"Actual\")\n",
    "        ax[0].set_title(\"Confusion Matrix (train)\")\n",
    "        for (x, y), value in np.ndenumerate(cnf_train):\n",
    "            ax[0].text(x, y, f\"{value: .0f}\", va=\"center\", ha=\"center\")\n",
    "        \n",
    "        ax[1].matshow(cnf_test.T, cmap='GnBu')\n",
    "        ax[1].set_xlabel(\"Predicted\")\n",
    "        ax[1].set_ylabel(\"Actual\")\n",
    "        ax[1].set_title(\"Confusion Matrix (test)\")\n",
    "        for (x, y), value in np.ndenumerate(cnf_test):\n",
    "            ax[1].text(x, y, f\"{value: .0f}\", va=\"center\", ha=\"center\")\n",
    "        \n",
    "        if result:\n",
    "            return [acc_train, f1_train], [acc_test, f1_test]"
   ]
  },
  {
   "cell_type": "markdown",
   "id": "c411608f-3337-476f-ae39-2c61e30896d0",
   "metadata": {
    "tags": []
   },
   "source": [
    "# P1 (SVM)\n",
    "\n",
    "- For the classification problems given in A1, implement SVMs both with and without slack formulations. \n",
    "- Experiment with at least 3 Kernels and grid search on hyper-parameters on different kernels.\n",
    "- Report your observations (you can use standard python library, LibSVM and need not implement SMO). \n",
    "- For multi-class classification, implement a one-vs-rest approach.\n",
    "\n",
    "**DATA:** `p3train/test.csv`, `images.zip (p4[data])`"
   ]
  },
  {
   "cell_type": "code",
   "execution_count": 15,
   "id": "56b60d44-defc-4830-b0b2-537204d8ebbc",
   "metadata": {
    "tags": []
   },
   "outputs": [],
   "source": [
    "# slack: -c \n",
    "# grid search on gamma: -g\n",
    "# kernel: -t 0(linear), 1(polynomial), 2(radial basis)\n",
    "def svmClassify(X, Y, X_test, Y_test, C, gamma, kernel):\n",
    "    W = svm_train(Y, X, f\"-c {C} -g {gamma} -t {kernel}\")\n",
    "    p_label, p_acc, p_val = svm_predict(Y_test, X_test, W)\n",
    "    return p_acc[0]\n",
    "\n",
    "def svmGridSearch(X, Y, X_test, Y_test, C, gamma, kernel):\n",
    "    best_acc = 0\n",
    "    best_C = 0\n",
    "    best_gamma = 0\n",
    "    for c in C:\n",
    "        for g in gamma:\n",
    "            acc = svmClassify(X, Y, X_test, Y_test, c, g, kernel)\n",
    "            if acc > best_acc:\n",
    "                best_acc = acc\n",
    "                best_C = c\n",
    "                best_gamma = g\n",
    "    return best_acc, best_C, best_gamma"
   ]
  },
  {
   "cell_type": "code",
   "execution_count": 16,
   "id": "86fc9ad8-df2f-4a20-98d7-7637701c24a2",
   "metadata": {},
   "outputs": [],
   "source": [
    "# Hyperparameters\n",
    "C = [0, 100]   # 0 -> without slack, 100 -> with slack\n",
    "G = [0.1, 0.5, 1]\n",
    "kernels = [0, 1, 2]"
   ]
  },
  {
   "cell_type": "markdown",
   "id": "d068deaf-2405-40db-92e5-17f3d0a0c568",
   "metadata": {},
   "source": [
    "## P3 Data"
   ]
  },
  {
   "cell_type": "markdown",
   "id": "f0b4b382-cf3c-47ef-bc32-abba82b5d8bc",
   "metadata": {},
   "source": [
    "### Linear Kernel"
   ]
  },
  {
   "cell_type": "code",
   "execution_count": null,
   "id": "de55e2fe-d204-4cb4-a770-ea4d912a6151",
   "metadata": {},
   "outputs": [],
   "source": [
    "acc, c, g = svmGridSearch(p3['X'], p3['Y'], p3['X_test'], p3['Y_test'], C, G, kernel[0])\n",
    "print(\"       Accuracy : \", acc)\n",
    "print(\"Tuned parameters: C = \", c, \", gamma = \", g) "
   ]
  },
  {
   "cell_type": "markdown",
   "id": "20f43b6d-0a27-4202-926d-052ccd68b8db",
   "metadata": {},
   "source": [
    "### Polynomial Kernel"
   ]
  },
  {
   "cell_type": "code",
   "execution_count": null,
   "id": "119fb09c-ff29-4f77-b9f4-5bc9294b01d2",
   "metadata": {},
   "outputs": [],
   "source": [
    "acc, c, g = svmGridSearch(p3['X'], p3['Y'], p3['X_test'], p3['Y_test'], C, G, kernel[1])\n",
    "print(\"       Accuracy : \", acc)\n",
    "print(\"Tuned parameters: C = \", c, \", gamma = \", g) "
   ]
  },
  {
   "cell_type": "markdown",
   "id": "98af34ff-696c-4fb3-9760-7d1d046ffce9",
   "metadata": {},
   "source": [
    "### Radial basis Kernel"
   ]
  },
  {
   "cell_type": "code",
   "execution_count": null,
   "id": "9be6234f-c0a3-4458-a31a-c14f4c8bf731",
   "metadata": {},
   "outputs": [],
   "source": [
    "acc, c, g = svmGridSearch(p3['X'], p3['Y'], p3['X_test'], p3['Y_test'], C, G, kernel[2])\n",
    "print(\"       Accuracy : \", acc)\n",
    "print(\"Tuned parameters: C = \", c, \", gamma = \", g) "
   ]
  },
  {
   "cell_type": "markdown",
   "id": "c10bd9c4-50dc-42dd-b880-b6c57a7fbc1e",
   "metadata": {},
   "source": [
    "## P4 Data"
   ]
  },
  {
   "cell_type": "markdown",
   "id": "e00d55b5-9695-4792-94c4-f01ac27aff4a",
   "metadata": {},
   "source": [
    "### Linear Kernel"
   ]
  },
  {
   "cell_type": "code",
   "execution_count": null,
   "id": "4359f08e-e4ae-403f-b714-effdbeceeee9",
   "metadata": {},
   "outputs": [],
   "source": [
    "acc, c, g = svmGridSearch(p4['X'], p4['Y'], p4['X_test'], p4['Y_test'], C, G, kernel[0])\n",
    "print(\"       Accuracy : \", acc)\n",
    "print(\"Tuned parameters: C = \", c, \", gamma = \", g) "
   ]
  },
  {
   "cell_type": "markdown",
   "id": "44b361b2-b041-4501-b287-d7cb900a4e02",
   "metadata": {},
   "source": [
    "### Polynomial Kernel"
   ]
  },
  {
   "cell_type": "code",
   "execution_count": null,
   "id": "aa3c2eb9-059a-4181-a266-dedd85d1725d",
   "metadata": {},
   "outputs": [],
   "source": [
    "acc, c, g = svmGridSearch(p4['X'], p4['Y'], p4['X_test'], p4['Y_test'], C, G, kernel[1])\n",
    "print(\"       Accuracy : \", acc)\n",
    "print(\"Tuned parameters: C = \", c, \", gamma = \", g) "
   ]
  },
  {
   "cell_type": "markdown",
   "id": "fc556349-fd45-4d38-b46a-f6dc2f430bfb",
   "metadata": {},
   "source": [
    "### Radial basis Kernel"
   ]
  },
  {
   "cell_type": "code",
   "execution_count": null,
   "id": "9ddda5b9-6cbb-43fc-84fb-160764534acf",
   "metadata": {},
   "outputs": [],
   "source": [
    "acc, c, g = svmGridSearch(p4['X'], p4['Y'], p4['X_test'], p4['Y_test'], C, G, kernel[2])\n",
    "print(\"       Accuracy : \", acc)\n",
    "print(\"Tuned parameters: C = \", c, \", gamma = \", g) "
   ]
  },
  {
   "cell_type": "markdown",
   "id": "b6172b60-0b08-4a74-b55f-0a5fee3395e2",
   "metadata": {},
   "source": [
    "## P5 Data"
   ]
  },
  {
   "cell_type": "markdown",
   "id": "e64d128c-e789-4502-bd3b-4190ab96dee2",
   "metadata": {},
   "source": [
    "### Linear Kernel"
   ]
  },
  {
   "cell_type": "code",
   "execution_count": null,
   "id": "3cde5ad1-55f5-4350-8602-d84a1c76ebff",
   "metadata": {},
   "outputs": [],
   "source": [
    "acc, c, g = svmGridSearch(p5['X'], p5['Y'], p5['X_test'], p5['Y_test'], C, G, kernel[0])\n",
    "print(\"       Accuracy : \", acc)\n",
    "print(\"Tuned parameters: C = \", c, \", gamma = \", g) "
   ]
  },
  {
   "cell_type": "markdown",
   "id": "355400e8-abfe-4e40-ba43-e66ce4677c9c",
   "metadata": {},
   "source": [
    "### Polynomial Kernel"
   ]
  },
  {
   "cell_type": "code",
   "execution_count": null,
   "id": "064ab040-8da4-404b-ae85-67fd806eb7f0",
   "metadata": {},
   "outputs": [],
   "source": [
    "acc, c, g = svmGridSearch(p5['X'], p5['Y'], p5['X_test'], p5['Y_test'], C, G, kernel[1])\n",
    "print(\"       Accuracy : \", acc)\n",
    "print(\"Tuned parameters: C = \", c, \", gamma = \", g) "
   ]
  },
  {
   "cell_type": "markdown",
   "id": "14eaa3ef-b6ab-46b3-87b0-c97e899b93ec",
   "metadata": {},
   "source": [
    "### Radial basis Kernel"
   ]
  },
  {
   "cell_type": "code",
   "execution_count": null,
   "id": "e3a70b67-9d99-4158-9d93-c3494b2f86b0",
   "metadata": {},
   "outputs": [],
   "source": [
    "acc, c, g = svmGridSearch(p5['X'], p5['Y'], p5['X_test'], p5['Y_test'], C, G, kernel[2])\n",
    "print(\"       Accuracy : \", acc)\n",
    "print(\"Tuned parameters: C = \", c, \", gamma = \", g) "
   ]
  },
  {
   "cell_type": "markdown",
   "id": "4da34880-85e7-4471-9ff1-2da09b1af936",
   "metadata": {
    "jp-MarkdownHeadingCollapsed": true,
    "tags": []
   },
   "source": [
    "# P2 (FLDA)\n",
    "\n",
    "Implement FLDA for the classification problems in A1 and report the metrics as in A1\n",
    "\n",
    "**DATA**: `p3train/test.csv`, `images.zip (p4[data])`, `p5[data]`"
   ]
  },
  {
   "cell_type": "code",
   "execution_count": 137,
   "id": "5a892f25-a4fe-4482-85e5-cd2303bea97b",
   "metadata": {},
   "outputs": [],
   "source": [
    "class FLDA:\n",
    "    def __init__(self):\n",
    "        self.num_classes = None\n",
    "        self.parameters = None\n",
    "        self.first_label = 0\n",
    "        self.dimension = 0\n",
    "\n",
    "    def compute_Sb_Sw(self,X,y):\n",
    "        self.means = []\n",
    "        Sb = np.zeros((self.dimension,self.dimension))\n",
    "        Sw = np.zeros((self.dimension,self.dimension))\n",
    "        mean = np.mean(X,axis = 0)\n",
    "        unique , class_count = np.unique(y,return_counts = True)  \n",
    "        for i in range(self.num_classes):\n",
    "            self.means.append(np.mean(X[y == i + self.first_label],axis = 0))\n",
    "            Sb += class_count[i] * (np.array([self.means[i]-mean]).T@np.array([self.means[i]-mean]))\n",
    "        for j in range(len(X)):\n",
    "            x = np.array([X[j]])\n",
    "            m = np.array([self.means[(y[j]-self.first_label).astype(int)]])\n",
    "            Sw += (x-m).T@(x-m)\n",
    "        return Sb,Sw \n",
    "\n",
    "    def compute_w(self,X,y):\n",
    "        Sb , Sw = self.compute_Sb_Sw(X,y)\n",
    "        e_val , e_vec =  np.linalg.eig(np.linalg.pinv(Sw)@Sb)\n",
    "        idxs = np.argsort(e_val)[::-1][:self.num_classes-1]\n",
    "        self.parameters = e_vec[:,idxs].T\n",
    "\n",
    "    def project(self,X):\n",
    "        return X @ self.parameters.T\n",
    "\n",
    "    def fit(self, x, y):\n",
    "        unique = np.unique(y,return_counts = False)\n",
    "        self.first_label = np.min(y)\n",
    "        self.num_classes = len(unique)\n",
    "        self.dimension = x.shape[1]\n",
    "        self.compute_w(x, y)\n",
    "\n",
    "    def predict(self,test_data):\n",
    "        projected_means = np.array(self.means)@self.parameters.T\n",
    "        projected_data = test_data @ self.parameters.T\n",
    "        pred_label = np.zeros(len(test_data))\n",
    "        for i in range(len(test_data)):\n",
    "            dist = np.sum((projected_means - projected_data[i])**2 , axis = 1)\n",
    "            pred_label[i] = np.argmin(dist) + self.first_label\n",
    "\n",
    "        return pred_label"
   ]
  },
  {
   "cell_type": "code",
   "execution_count": 200,
   "id": "7781e2a6-1868-4aba-81d6-e86ae78b6d1c",
   "metadata": {},
   "outputs": [
    {
     "name": "stdout",
     "output_type": "stream",
     "text": [
      "------------------ Train ---------------------\n",
      "Classification Accuracy :  57.263333333333335 %\n",
      "F1 Score                :  [0.52778935 0.56287425 0.62782332 0.5873161  0.55754795]\n",
      "------------------ Test ----------------------\n",
      "Classification Accuracy :  57.41333333333334 %\n",
      "F1 Score                :  [0.51742308 0.56262359 0.62537562 0.58599156 0.57841538]\n",
      "Confusion Matrix        : \n",
      "[[1522  395  294  364  396]\n",
      " [ 379 1707  284  270  341]\n",
      " [ 308  311 1873  252  296]\n",
      " [ 346  349  250 1736  294]\n",
      " [ 357  325  249  328 1774]]\n"
     ]
    },
    {
     "data": {
      "image/png": "[encoded data removed]",
      "text/plain": [
       "<Figure size 1600x800 with 2 Axes>"
      ]
     },
     "metadata": {},
     "output_type": "display_data"
    }
   ],
   "source": [
    "p3_model = FLDA()\n",
    "p3_model.fit(p3[\"X\"], p3[\"Y\"])\n",
    "pred = p3_model.predict(p3[\"X\"])\n",
    "pred_test = p3_model.predict(p3[\"X_test\"])\n",
    "\n",
    "metrics.print(pred, p3[\"Y\"], pred_test, p3[\"Y_test\"])"
   ]
  },
  {
   "cell_type": "code",
   "execution_count": 270,
   "id": "0b1dc225-d375-4808-9129-abea204e5f40",
   "metadata": {},
   "outputs": [
    {
     "name": "stdout",
     "output_type": "stream",
     "text": [
      "------------------ Train ---------------------\n",
      "Classification Accuracy :  88.40476190476191 %\n",
      "F1 Score                :  [0.90378869 0.89365628 0.9668858  0.84427429 0.8408551  0.89815043\n",
      " 0.85488061 0.79873602 0.91883116 0.92919163]\n",
      "------------------ Test ----------------------\n",
      "Classification Accuracy :  88.38333333333334 %\n",
      "F1 Score                :  [0.89511653 0.88997026 0.96818181 0.84026143 0.85205897 0.8973098\n",
      " 0.85567304 0.79670173 0.92254134 0.92853058]\n",
      "Confusion Matrix        : \n",
      "[[1613  133    2   25   10    0    4    4    8    1]\n",
      " [  60 1646    2   56   33    1    0    0    0    2]\n",
      " [  24   19 1704   37    2   13    1    0    0    0]\n",
      " [  18   26    0 1607   67   23    1   58    0    0]\n",
      " [   1    7    0   46 1676   62    0    0    7    1]\n",
      " [   1   11   12   46  172 1551    0    1    6    0]\n",
      " [   4    5    0   42   27    2 1497  223    0    0]\n",
      " [  29    9    0  138   33    1  189 1401    0    0]\n",
      " [  24   10    0    4   96    4    0    2 1590   70]\n",
      " [  30   33    0   24   18    0    7   28   36 1624]]\n"
     ]
    },
    {
     "data": {
      "image/png": "[encoded data removed]",
      "text/plain": [
       "<Figure size 1600x800 with 2 Axes>"
      ]
     },
     "metadata": {},
     "output_type": "display_data"
    }
   ],
   "source": [
    "p4_model = FLDA()\n",
    "p4_model.fit(p4[\"X\"], p4[\"Y\"])\n",
    "pred = p4_model.predict(p4[\"X\"])\n",
    "pred_test = p4_model.predict(p4[\"X_test\"])\n",
    "\n",
    "metrics.print(pred, p4[\"Y\"], pred_test, p4[\"Y_test\"])"
   ]
  },
  {
   "cell_type": "code",
   "execution_count": 202,
   "id": "f8e36f02-df54-4b3b-86b4-4234feafd8d7",
   "metadata": {},
   "outputs": [
    {
     "name": "stdout",
     "output_type": "stream",
     "text": [
      "------------------ Train ---------------------\n",
      "Classification Accuracy :  83.59666666666666 %\n",
      "F1 Score                :  [0.84916966 0.90407358 0.9171587  0.77918215 0.88075965 0.88698234\n",
      " 0.74750499 0.63678837 0.87582379 0.8871391 ]\n",
      "------------------ Test ----------------------\n",
      "Classification Accuracy :  86.26 %\n",
      "F1 Score                :  [0.88073707 0.90509259 0.91562388 0.85895806 0.92036827 0.88016398\n",
      " 0.77255985 0.65298776 0.93031123 0.90570021]\n",
      "Confusion Matrix        : \n",
      "[[2581  270    0   49    4    0    3   33   47   13]\n",
      " [  63 2737    0  147   10    6    1    3    7   26]\n",
      " [  27    9 2561   19    4  366    0    4    9    1]\n",
      " [  15    1    4 2704   22   48   20  185    1    0]\n",
      " [   0    1    0   47 2849   85    0    3    1   14]\n",
      " [   0    7   25   74   84 2791    5    9    4    1]\n",
      " [   1    0    0   26    4   12 2517  438    0    2]\n",
      " [   1    0    3  187   19   11  965 1814    0    0]\n",
      " [ 123   17    1    3   25   17    2    9 2750   53]\n",
      " [  50    6    0   40  170    6    3   58   93 2574]]\n"
     ]
    },
    {
     "data": {
      "image/png": "[encoded data removed]",
      "text/plain": [
       "<Figure size 1600x800 with 2 Axes>"
      ]
     },
     "metadata": {},
     "output_type": "display_data"
    }
   ],
   "source": [
    "p5_model = FLDA()\n",
    "p5_model.fit(p5[\"X\"], p5[\"Y\"])\n",
    "pred = p5_model.predict(p5[\"X\"])\n",
    "pred_test = p5_model.predict(p5[\"X_test\"])\n",
    "\n",
    "metrics.print(pred, p5[\"Y\"], pred_test, p5[\"Y_test\"])"
   ]
  },
  {
   "cell_type": "markdown",
   "id": "aeb59366-837e-49ae-b1b2-d81fbd057b35",
   "metadata": {
    "jp-MarkdownHeadingCollapsed": true,
    "tags": []
   },
   "source": [
    "# P3 (Regression)\n",
    "\n",
    "For the regression problem p1 in A1, overfit the data with over-parameterized models (at least 3). \n",
    "In the next part, impose different types of regularizers (L2, L1, and a combination of both) and \n",
    "plot the bias-variance curves.\n",
    "\n",
    "**DATA**: `p1train/test.csv`"
   ]
  },
  {
   "cell_type": "code",
   "execution_count": 489,
   "id": "e00f0e38-db0a-42c4-bbe9-635684e0058a",
   "metadata": {},
   "outputs": [],
   "source": [
    "# Compute mean squared error\n",
    "def mse(X, Y, W):\n",
    "    return (1/len(Y)) * (X @ W - Y) @ (X @ W - Y)\n",
    "\n",
    "def regression(x_train, y_train, x_test, y_test, func = lambda x : x, l1 = 0, l2 = 0, epochs = 100, alpha = 0.0001):\n",
    "    x_train = func(x_train)\n",
    "    x_test = func(x_test)\n",
    "    \n",
    "    m, n = x_train.shape\n",
    "    \n",
    "    optionalString = \"\"\n",
    "    \n",
    "    if l1 == 0 and l2 == 0:\n",
    "        w = np.linalg.pinv(x_train) @ y_train\n",
    "    elif l1 == 0 and l2 != 0:\n",
    "        w = np.linalg.pinv((x_train.T @ x_train) + l2 * np.eye(n, n)) @ x_train.T @ y_train\n",
    "        optionalString = f\" \\tl2: {l2}\"\n",
    "    else:\n",
    "        w = np.linalg.pinv((x_train.T @ x_train) + l2 * np.eye(n, n)) @ (x_train.T @ y_train)\n",
    "        w = np.linalg.pinv((x_train.T @ x_train) + l2 * np.eye(n, n)) @ (x_train.T @ y_train - l1 * np.sign(w))\n",
    "        # w = np.linalg.pinv(x_train) @ y_train\n",
    "        # for i in range(epochs):\n",
    "        #     w -= alpha * (2 * x_train.T @ (x_train @ w - y_train) + l2 * w + l1 * np.sign(w)) / m\n",
    "        optionalString = f\" \\tl1: {l1}\" + (f\" \\tl2: {l2}\" if l2 != 0 else \"\")\n",
    "\n",
    "    mse_train = mse(x_train, y_train, w)\n",
    "    mse_test = mse(x_test, y_test, w)\n",
    "        \n",
    "    print(\"MSE (train): \", mse_train, optionalString)\n",
    "    print(\"MSE        : \", mse_test, optionalString)\n",
    "    return [mse_train, mse_test]\n",
    "\n",
    "def regularizedRegression(X, Y, X_test, Y_test, func = lambda x : x, l1 = 0.01, l2 = 0.01):\n",
    "    r1 = regression(X, Y, X_test, Y_test, func)\n",
    "    r2 = regression(X, Y, X_test, Y_test, func, l1=l1)\n",
    "    r3 = regression(X, Y, X_test, Y_test, func, l2=l2)\n",
    "    r4 = regression(X, Y, X_test, Y_test, func, l1=l1, l2=l2)\n",
    "    return [r1, r2, r3, r4]\n"
   ]
  },
  {
   "cell_type": "code",
   "execution_count": 490,
   "id": "532b1b23-ccce-4033-a5f5-1b1126c384c7",
   "metadata": {},
   "outputs": [
    {
     "name": "stdout",
     "output_type": "stream",
     "text": [
      "MSE (train):  668.234786180195 \n",
      "MSE        :  688.6933406199939 \n"
     ]
    }
   ],
   "source": [
    "X, Y = np.c_[np.ones(p1[\"train\"].shape[0]), p1[\"train\"][:, :-1]], p1[\"train\"][:, -1]\n",
    "X_test, Y_test = np.c_[np.ones(p1[\"test\"].shape[0]), p1[\"test\"][:, :-1]], p1[\"test\"][:, -1]\n",
    "\n",
    "# Uniform distribution\n",
    "p3[\"result\"] = [[] for _ in range(9)]\n",
    "p3[\"result\"][0] = regression(X, Y, X_test, Y_test, lambda x : np.ones(x.shape[0]).reshape(x.shape[0], 1))"
   ]
  },
  {
   "cell_type": "markdown",
   "id": "b8f3bd4f-164f-42e1-b7c7-9b9cdab0e82d",
   "metadata": {},
   "source": [
    "## Linear regression"
   ]
  },
  {
   "cell_type": "code",
   "execution_count": 491,
   "id": "d470054a-6996-41e7-9a3b-72ba6a7ea3c4",
   "metadata": {},
   "outputs": [
    {
     "name": "stdout",
     "output_type": "stream",
     "text": [
      "MSE (train):  5.059684615643717 \n",
      "MSE        :  5.0464360039512535 \n",
      "MSE (train):  5.059684615644732  \tl1: 0.01\n",
      "MSE        :  5.04643612839802  \tl1: 0.01\n",
      "MSE (train):  5.059684615652626  \tl2: 0.01\n",
      "MSE        :  5.046436361668947  \tl2: 0.01\n",
      "MSE (train):  5.0596846156596404  \tl1: 0.01 \tl2: 0.01\n",
      "MSE        :  5.046436486121586  \tl1: 0.01 \tl2: 0.01\n"
     ]
    }
   ],
   "source": [
    "p3[\"result\"][1] = regularizedRegression(X, Y, X_test, Y_test)"
   ]
  },
  {
   "cell_type": "markdown",
   "id": "076e0d14-f7de-49e3-8b69-229ca4dcc91f",
   "metadata": {},
   "source": [
    "## Quadratic regression"
   ]
  },
  {
   "cell_type": "code",
   "execution_count": 492,
   "id": "80997323-28b1-48ae-b989-be0c1021b46d",
   "metadata": {},
   "outputs": [
    {
     "name": "stdout",
     "output_type": "stream",
     "text": [
      "MSE (train):  5.057337646427746 \n",
      "MSE        :  5.0460393419222935 \n",
      "MSE (train):  5.057337646431241  \tl1: 0.01\n",
      "MSE        :  5.04603936140009  \tl1: 0.01\n",
      "MSE (train):  5.0573376464595325  \tl2: 0.01\n",
      "MSE        :  5.04603939128649  \tl2: 0.01\n",
      "MSE (train):  5.0573376464841  \tl1: 0.01 \tl2: 0.01\n",
      "MSE        :  5.046039410784836  \tl1: 0.01 \tl2: 0.01\n"
     ]
    }
   ],
   "source": [
    "def makeQuadratic(data):\n",
    "    n = data.shape[1]\n",
    "    return np.array([data.T[i] * data.T[j] for i in range(n) for j in range(n) if j <= i]).T\n",
    "\n",
    "p3[\"result\"][2] = regularizedRegression(X, Y, X_test, Y_test, makeQuadratic)"
   ]
  },
  {
   "cell_type": "markdown",
   "id": "b750f99e-d9ec-4655-a814-c33b26fc9c70",
   "metadata": {},
   "source": [
    "## Cubic regression"
   ]
  },
  {
   "cell_type": "code",
   "execution_count": 493,
   "id": "481445bf-6c51-468a-a90d-87b0e07defb6",
   "metadata": {},
   "outputs": [
    {
     "name": "stdout",
     "output_type": "stream",
     "text": [
      "MSE (train):  5.055143947861669 \n",
      "MSE        :  5.0504576371743 \n",
      "MSE (train):  5.055143947865257  \tl1: 0.01\n",
      "MSE        :  5.05045765867438  \tl1: 0.01\n",
      "MSE (train):  5.055143947893704  \tl2: 0.01\n",
      "MSE        :  5.050457688063318  \tl2: 0.01\n",
      "MSE (train):  5.055143947918639  \tl1: 0.01 \tl2: 0.01\n",
      "MSE        :  5.050457709582472  \tl1: 0.01 \tl2: 0.01\n"
     ]
    }
   ],
   "source": [
    "def makeCubic(data):\n",
    "    n = data.shape[1]\n",
    "    return np.array([data.T[i] * data.T[j] * data.T[k] for i in range(n) for j in range(n) for k in range(n) if j <= i and k <= j]).T\n",
    "\n",
    "p3[\"result\"][3] = regularizedRegression(X, Y, X_test, Y_test, makeCubic)"
   ]
  },
  {
   "cell_type": "markdown",
   "id": "83cd466c-aea5-4d14-aeb4-e654bd7a9fb9",
   "metadata": {},
   "source": [
    "## Non-Linear regression (degree: 4)\n",
    "$h_3(x) = h_1(h_1(x))$"
   ]
  },
  {
   "cell_type": "code",
   "execution_count": 494,
   "id": "2bd95ea8-daf7-4a21-9730-0f8c37da2d6d",
   "metadata": {},
   "outputs": [
    {
     "name": "stdout",
     "output_type": "stream",
     "text": [
      "MSE (train):  5.052063535022622 \n",
      "MSE        :  5.053306488271599 \n",
      "MSE (train):  5.05206353503174  \tl1: 0.01\n",
      "MSE        :  5.053306686726845  \tl1: 0.01\n",
      "MSE (train):  5.0520635350949945  \tl2: 0.01\n",
      "MSE        :  5.05330703002223  \tl2: 0.01\n",
      "MSE (train):  5.052063535148826  \tl1: 0.01 \tl2: 0.01\n",
      "MSE        :  5.053307209308933  \tl1: 0.01 \tl2: 0.01\n"
     ]
    }
   ],
   "source": [
    "p3[\"result\"][4] = regularizedRegression(X, Y, X_test, Y_test, lambda x : makeQuadratic(makeQuadratic(x)))"
   ]
  },
  {
   "cell_type": "markdown",
   "id": "289a044f-18d8-45d3-a8f0-0d50af627a9f",
   "metadata": {},
   "source": [
    "## Non-Linear regression (degree: 5)\n",
    "$h_4(x) = h_1(h_2(x))$"
   ]
  },
  {
   "cell_type": "code",
   "execution_count": 495,
   "id": "05e1b408-cde1-46f6-bd41-e8aecf8a7e2f",
   "metadata": {},
   "outputs": [
    {
     "name": "stdout",
     "output_type": "stream",
     "text": [
      "MSE (train):  5.036182828226298 \n",
      "MSE        :  5.059898421648326 \n",
      "MSE (train):  5.77459501671974  \tl1: 0.01\n",
      "MSE        :  5.784863537578888  \tl1: 0.01\n",
      "MSE (train):  5.772633259254229  \tl2: 0.01\n",
      "MSE        :  5.782935498270248  \tl2: 0.01\n",
      "MSE (train):  5.772633302409802  \tl1: 0.01 \tl2: 0.01\n",
      "MSE        :  5.78293551111653  \tl1: 0.01 \tl2: 0.01\n"
     ]
    }
   ],
   "source": [
    "p3[\"result\"][5] = regularizedRegression(X, Y, X_test, Y_test, lambda x : makeQuadratic(makeCubic(x)))"
   ]
  },
  {
   "cell_type": "markdown",
   "id": "0fbebf47-dfb5-472e-8918-f9828a44ffd2",
   "metadata": {},
   "source": [
    "## Non-Linear regression (degree: 6)\n",
    "$h_5(x) = h_2(h_2(x))$"
   ]
  },
  {
   "cell_type": "code",
   "execution_count": 496,
   "id": "48a2a0c7-ec42-4486-a91f-4c34ac27d812",
   "metadata": {},
   "outputs": [
    {
     "name": "stdout",
     "output_type": "stream",
     "text": [
      "MSE (train):  5.025080763598227 \n",
      "MSE        :  5.074239570702316 \n",
      "MSE (train):  35.41145340757321  \tl1: 0.01\n",
      "MSE        :  35.6028826675592  \tl1: 0.01\n",
      "MSE (train):  35.41436416641033  \tl2: 0.01\n",
      "MSE        :  35.60654040708519  \tl2: 0.01\n",
      "MSE (train):  35.41436417052992  \tl1: 0.01 \tl2: 0.01\n",
      "MSE        :  35.60653613533971  \tl1: 0.01 \tl2: 0.01\n"
     ]
    }
   ],
   "source": [
    "p3[\"result\"][6] = regularizedRegression(X, Y, X_test, Y_test, lambda x : makeCubic(makeCubic(x)))"
   ]
  },
  {
   "cell_type": "markdown",
   "id": "d3c1b2b0-5a4f-4779-a0ea-d18d003f9676",
   "metadata": {},
   "source": [
    "## Non-Linear regression (degree: 7)\n",
    "$h_6(x) = h_1(h_1(h_2(x)))$"
   ]
  },
  {
   "cell_type": "code",
   "execution_count": 487,
   "id": "0aecdca0-8cd1-4b80-a1ae-cb852ff3536b",
   "metadata": {},
   "outputs": [
    {
     "name": "stdout",
     "output_type": "stream",
     "text": [
      "MSE (train):  7.278581524675927 \n",
      "MSE        :  7.492180313509383 \n",
      "MSE (train):  160.64729551389888  \tl1: 1\n",
      "MSE        :  167.2991392729456  \tl1: 1\n",
      "MSE (train):  160.64729551389777  \tl2: 1\n",
      "MSE        :  167.2991405022811  \tl2: 1\n",
      "MSE (train):  160.6472955138958  \tl1: 1 \tl2: 1\n",
      "MSE        :  167.29913921437486  \tl1: 1 \tl2: 1\n"
     ]
    }
   ],
   "source": [
    "p3[\"result\"][7] = regularizedRegression(X, Y, X_test, Y_test, lambda x : makeQuadratic(makeQuadratic(makeCubic(x))))"
   ]
  },
  {
   "cell_type": "code",
   "execution_count": 497,
   "id": "ea304ca2-79df-42e0-8d49-c9fa3e188d20",
   "metadata": {},
   "outputs": [
    {
     "data": {
      "image/png": "[encoded data removed]",
      "text/plain": [
       "<Figure size 1000x400 with 2 Axes>"
      ]
     },
     "metadata": {},
     "output_type": "display_data"
    }
   ],
   "source": [
    "count = 6\n",
    "results = np.array(p3[\"result\"][1:count+1])\n",
    "fig, [ax, ax1] = plt.subplots(1, 2, figsize=(10, 4))\n",
    "ax.plot([i + 1 for i in range(count)], results[:, 0, 0], label=\"train\", marker='o')\n",
    "ax.plot([i + 1 for i in range(count)], results[:, 0, 1], label=\"test\", marker='x')\n",
    "ax.set_xlabel(\"Complexity -->\")\n",
    "ax.set_ylabel(\"MSE\")\n",
    "ax.legend()\n",
    "ax.set_title(\"MSE vs complexity\")\n",
    "\n",
    "# ax1.plot([i + 1 for i in range(count)], results[:, 0, 0], label=\"train\", marker='o')\n",
    "ax1.plot([i + 1 for i in range(count)], results[:, 0, 1], label=\"test\", marker='x')\n",
    "ax1.plot([i + 1 for i in range(count)], results[:, 1, 1], label=\"test with l1\", marker='v')\n",
    "ax1.plot([i + 1 for i in range(count)], results[:, 2, 1], label=\"test with l2\", marker='*')\n",
    "ax1.plot([i + 1 for i in range(count)], results[:, 3, 1], label=\"test with l1, l2\", marker='.')\n",
    "ax1.set_xlabel(\"Complexity -->\")\n",
    "ax1.set_ylabel(\"MSE\")\n",
    "ax1.legend()\n",
    "ax1.set_title(\"MSE vs complexity\")\n",
    "\n",
    "fig.tight_layout()"
   ]
  },
  {
   "cell_type": "markdown",
   "id": "110885ac-036e-4ed1-916e-321a4d6b9da3",
   "metadata": {
    "jp-MarkdownHeadingCollapsed": true,
    "tags": []
   },
   "source": [
    "# Custom functions for Neural Networks"
   ]
  },
  {
   "cell_type": "markdown",
   "id": "1b96c34c-010c-4f7c-b522-f506a1d9a8ca",
   "metadata": {
    "jp-MarkdownHeadingCollapsed": true,
    "tags": []
   },
   "source": [
    "## 1. Multi-Layer Perceptron"
   ]
  },
  {
   "cell_type": "code",
   "execution_count": null,
   "id": "6c01a7ac-5279-4cc1-802d-6334d66621fb",
   "metadata": {},
   "outputs": [],
   "source": [
    "class MLP:\n",
    "    def __init__(self, sizes, activation='sigmoid', activation_last_layer='softmax', loss='ce', learning_rate=0.01, random_seed=42):\n",
    "        np.random.seed(random_seed)\n",
    "        self.num_layers = len(sizes)\n",
    "        self.sizes = sizes\n",
    "        self.activation = activation\n",
    "        self.activation_last_layer = activation_last_layer\n",
    "        self.loss = loss\n",
    "        self.learning_rate = learning_rate\n",
    "        self.weights = [np.random.randn(sizes[i], sizes[i-1]) / np.sqrt(sizes[i-1]) for i in range(1, self.num_layers)]\n",
    "        self.biases = [np.random.randn(sizes[i], 1) for i in range(1, self.num_layers)]\n",
    "\n",
    "    def sigmoid(self, z):\n",
    "        return 1.0 / (1.0 + np.exp(-z))\n",
    "\n",
    "    def sigmoid_prime(self, z):\n",
    "        return self.sigmoid(z) * (1 - self.sigmoid(z))\n",
    "\n",
    "    def relu(self, z):\n",
    "        return np.maximum(0, z)\n",
    "\n",
    "    def relu_prime(self, z):\n",
    "        return np.where(z > 0, 1, 0)\n",
    "\n",
    "\n",
    "    def softmax(self, z):\n",
    "        exp_z = np.exp(z - np.max(z))\n",
    "        return exp_z / np.sum(exp_z, axis=0, keepdims=True)\n",
    "\n",
    "    def softmax_prime(self, z):\n",
    "        return self.softmax(z) * (1 - self.softmax(z))\n",
    "\n",
    "    def cross_entropy_loss(self, y, y_pred):\n",
    "        m = y.shape[1]\n",
    "        cost = -1/m * np.sum(y * np.log(y_pred + 1e-8))\n",
    "        return np.squeeze(cost)\n",
    "\n",
    "    def cross_entropy_loss_prime(self, y, y_pred):\n",
    "        return y_pred - y\n",
    "\n",
    "    def squared_error_loss(self, y, y_pred):\n",
    "        m = y.shape[1]\n",
    "        cost = 1/(2*m) * np.sum((y_pred - y)**2)\n",
    "        return np.squeeze(cost)\n",
    "\n",
    "    def squared_error_loss_prime(self, y, y_pred):\n",
    "        return y_pred - y\n",
    "\n",
    "    def forward(self, X):\n",
    "        a = X.T\n",
    "        for i in range(self.num_layers-1):\n",
    "            z = np.dot(self.weights[i], a) + self.biases[i]\n",
    "            if i == self.num_layers-2:\n",
    "                if self.activation_last_layer == 'softmax':\n",
    "                    a = self.softmax(z)\n",
    "            else:\n",
    "                if self.activation == 'sigmoid':\n",
    "                    a = self.sigmoid(z)\n",
    "                elif self.activation == 'relu':\n",
    "                    a = self.relu(z)\n",
    "                    \n",
    "        return a.T\n",
    "\n",
    "\n",
    "    def backward(self, X, y):\n",
    "        m = X.shape[0]\n",
    "        a = [X.T]\n",
    "        z_s = []\n",
    "        for i in range(self.num_layers-1):\n",
    "            z = np.dot(self.weights[i], a[-1]) + self.biases[i]\n",
    "            z_s.append(z)\n",
    "            if i == self.num_layers-2:\n",
    "                if self.activation_last_layer == 'softmax':\n",
    "                    a.append(self.softmax(z))\n",
    "            else:\n",
    "                if self.activation == 'sigmoid':\n",
    "                    a.append(self.sigmoid(z))\n",
    "                elif self.activation == 'relu':\n",
    "                    a.append(self.relu(z))\n",
    "                    \n",
    "        if self.loss == 'ce':\n",
    "            d_a = self.cross_entropy_loss_prime(y.T, a[-1])\n",
    "        elif self.loss == 'mse':\n",
    "            d_a = self.squared_error_loss_prime(y.T, a[-1])\n",
    "            \n",
    "        d_z = d_a\n",
    "        d_weights = []\n",
    "        d_biases = []\n",
    "        for i in range(self.num_layers-2, -1, -1):\n",
    "            d_weights.insert(0, np.dot(d_z, a[i].T) / m)\n",
    "            d_biases.insert(0, np.sum(d_z, axis=1, keepdims=True) / m)\n",
    "            if i > 0:\n",
    "                if self.activation == 'sigmoid':\n",
    "                    d_z = np.dot(self.weights[i].T, d_z) * self.sigmoid_prime(z_s[i-1])\n",
    "                elif self.activation == 'relu':\n",
    "                    d_z = np.dot(self.weights[i].T, d_z) * self.relu_prime(z_s[i-1])\n",
    "                    \n",
    "        return d_weights, d_biases\n",
    "    \n",
    "\n",
    "    def train(self, X_train, Y_train, X_val, Y_val, num_epochs, batch_size): \n",
    "        n_labels = len(np.unique(Y_train))\n",
    "        y_train, y_val = [np.zeros((y.shape[0], n_labels)) for y in [Y_train, Y_val]]\n",
    "        for i, j in enumerate(Y_train):\n",
    "            y_train[i][int(j)] = 1\n",
    "        for i, j in enumerate(Y_val):\n",
    "            y_val[i][int(j)] = 1   \n",
    "            \n",
    "        train_losses = []\n",
    "        val_losses = []\n",
    "        train_accs = []\n",
    "        val_accs = []\n",
    "        \n",
    "        for i in range(num_epochs):\n",
    "            permutation = np.random.permutation(X_train.shape[0])\n",
    "            X_train = X_train[permutation, :]\n",
    "            y_train = y_train[permutation]\n",
    "            \n",
    "            for j in range(0, X_train.shape[0], batch_size):\n",
    "                \n",
    "                X_batch = X_train[j : j + batch_size, :]\n",
    "                y_batch = y_train[j : j + batch_size]\n",
    "                \n",
    "                d_weights, d_biases = self.backward(X_batch, y_batch)\n",
    "                \n",
    "                for k in range(len(self.weights)):\n",
    "                    self.weights[k] -= self.learning_rate * d_weights[k]\n",
    "                    self.biases[k] -= self.learning_rate * d_biases[k]\n",
    "                    \n",
    "            y_pred_train = self.forward(X_train)\n",
    "            y_pred_val = self.forward(X_val)\n",
    "            \n",
    "            if self.loss == 'ce':\n",
    "                train_loss = self.cross_entropy_loss(y_train, y_pred_train)\n",
    "                val_loss = self.cross_entropy_loss(y_val, y_pred_val)\n",
    "            elif self.loss == 'mse':\n",
    "                train_loss = self.squared_error_loss(y_train, y_pred_train)\n",
    "                val_loss = self.squared_error_loss(y_val, y_pred_val)\n",
    "                \n",
    "            train_losses.append(train_loss)\n",
    "            val_losses.append(val_loss)\n",
    "            \n",
    "            acc_params_train = [np.argmax(y_train, axis=1), np.argmax(y_pred_train, axis=1)]\n",
    "            acc_params_val = [np.argmax(y_val, axis=1), np.argmax(y_pred_val, axis=1)]\n",
    "            \n",
    "            train_acc = metrics.accuracy(*acc_params_train)\n",
    "            val_acc = metrics.accuracy(*acc_params_val)\n",
    "            \n",
    "            train_accs.append(train_acc)\n",
    "            val_accs.append(val_acc)\n",
    "            \n",
    "            # train_f1 = metrics.f1Score(metrics.confusionMatrix(*acc_params_train, n_labels))\n",
    "            # val_f1 = metrics.f1Score(metrics.confusionMatrix(*acc_params_val, n_labels))\n",
    "            \n",
    "            print(f\"Epoch {i+1}: \\t  train_loss = {train_loss:.2f}  \\tval_loss = {val_loss:.2f} \\t  train_acc = {train_acc:.2f}  \\t val_acc = {val_acc:.2f}\")\n",
    "        return train_losses, val_losses, train_accs, val_accs"
   ]
  },
  {
   "cell_type": "markdown",
   "id": "161fee41-743f-40ee-92d5-d677e5d474d0",
   "metadata": {
    "jp-MarkdownHeadingCollapsed": true,
    "tags": []
   },
   "source": [
    "## 2. CNN"
   ]
  },
  {
   "cell_type": "code",
   "execution_count": 500,
   "id": "c291b28f-84cf-44fb-9fb5-fe1cadb52198",
   "metadata": {
    "id": "dLZuj3aBv2GH"
   },
   "outputs": [],
   "source": [
    "class Conv3x3:\n",
    "  def __init__(self, num_filters):\n",
    "    self.num_filters = num_filters\n",
    "    self.filters = np.random.randn(num_filters, 3, 3) / 9\n",
    "\n",
    "  def iterate_regions(self, image):\n",
    "    h, w = image.shape\n",
    "    for i in range(h - 2):\n",
    "      for j in range(w - 2):\n",
    "        im_region = image[i:(i + 3), j:(j + 3)]\n",
    "        yield im_region, i, j\n",
    "\n",
    "  def forward(self, input):\n",
    "    self.last_input = input\n",
    "    h, w = input.shape\n",
    "\n",
    "    output = np.zeros((h - 2, w - 2, self.num_filters))\n",
    "\n",
    "    for im_region, i, j in self.iterate_regions(input):\n",
    "      output[i, j] = np.sum(im_region * self.filters, axis=(1, 2))\n",
    "\n",
    "    return output\n",
    "\n",
    "  def backprop(self, d_L_d_out, learn_rate):\n",
    "    d_L_d_filters = np.zeros(self.filters.shape)\n",
    "    for im_region, i, j in self.iterate_regions(self.last_input):\n",
    "      for f in range(self.num_filters):\n",
    "        d_L_d_filters[f] += d_L_d_out[i, j, f] * im_region\n",
    "\n",
    "    self.filters -= learn_rate * d_L_d_filters\n",
    "    pass"
   ]
  },
  {
   "cell_type": "code",
   "execution_count": 501,
   "id": "67a74971-c7ed-4174-9ba0-13976590b393",
   "metadata": {
    "id": "FzbjvSZRwhvl"
   },
   "outputs": [],
   "source": [
    "class MaxPool2:\n",
    "  def iterate_regions(self, image):\n",
    "    h, w, _ = image.shape\n",
    "    new_h = h // 2\n",
    "    new_w = w // 2\n",
    "\n",
    "    for i in range(new_h):\n",
    "      for j in range(new_w):\n",
    "        im_region = image[(i * 2):(i * 2 + 2), (j * 2):(j * 2 + 2)]\n",
    "        yield im_region, i, j\n",
    "\n",
    "  def forward(self, input):\n",
    "    self.last_input = input\n",
    "\n",
    "    h, w, num_filters = input.shape\n",
    "    output = np.zeros((h // 2, w // 2, num_filters))\n",
    "\n",
    "    for im_region, i, j in self.iterate_regions(input):\n",
    "      output[i, j] = np.amax(im_region, axis=(0, 1))\n",
    "\n",
    "    return output\n",
    "\n",
    "  def backprop(self, d_L_d_out):\n",
    "    d_L_d_input = np.zeros(self.last_input.shape)\n",
    "\n",
    "    for im_region, i, j in self.iterate_regions(self.last_input):\n",
    "      h, w, f = im_region.shape\n",
    "      amax = np.amax(im_region, axis=(0, 1))\n",
    "\n",
    "      for i2 in range(h):\n",
    "        for j2 in range(w):\n",
    "          for f2 in range(f):\n",
    "            if im_region[i2, j2, f2] == amax[f2]:\n",
    "              d_L_d_input[i * 2 + i2, j * 2 + j2, f2] = d_L_d_out[i, j, f2]\n",
    "\n",
    "    return d_L_d_input"
   ]
  },
  {
   "cell_type": "code",
   "execution_count": 502,
   "id": "fa83ef5b-3feb-4aae-9258-14c26311b0e7",
   "metadata": {
    "id": "8rQ4KAGi-fn-"
   },
   "outputs": [],
   "source": [
    "class AvgPool2:\n",
    "    def iterate_regions(self, image):\n",
    "        h, w, _ = image.shape\n",
    "        new_h = h // 2\n",
    "        new_w = w // 2\n",
    "\n",
    "        for i in range(new_h):\n",
    "            for j in range(new_w):\n",
    "                im_region = image[(i * 2):(i * 2 + 2), (j * 2):(j * 2 + 2)]\n",
    "                yield im_region, i, j\n",
    "\n",
    "    def forward(self, input):\n",
    "        self.last_input = input\n",
    "\n",
    "        h, w, num_filters = input.shape\n",
    "        output = np.zeros((h // 2, w // 2, num_filters))\n",
    "\n",
    "        for im_region, i, j in self.iterate_regions(input):\n",
    "            output[i, j] = np.mean(im_region, axis=(0, 1))\n",
    "\n",
    "        return output\n",
    "\n",
    "    def backprop(self, d_L_d_out):\n",
    "        d_L_d_input = np.zeros(self.last_input.shape)\n",
    "\n",
    "        for im_region, i, j in self.iterate_regions(self.last_input):\n",
    "            h, w, f = im_region.shape\n",
    "            avg = np.mean(im_region, axis=(0, 1))\n",
    "\n",
    "            for i2 in range(h):\n",
    "                for j2 in range(w):\n",
    "                    for f2 in range(f):\n",
    "                        d_L_d_input[i * 2 + i2, j * 2 + j2, f2] += d_L_d_out[i, j, f2] / (2*2)\n",
    "\n",
    "        return d_L_d_input"
   ]
  },
  {
   "cell_type": "code",
   "execution_count": 503,
   "id": "ea0d0a01-da4c-48e1-a306-021d14cc6f0f",
   "metadata": {
    "id": "CxiFoITmwh2x"
   },
   "outputs": [],
   "source": [
    "class Softmax:\n",
    "  def __init__(self, input_len, nodes):\n",
    "    self.weights = np.random.randn(input_len, nodes) / input_len\n",
    "    self.biases = np.zeros(nodes)\n",
    "\n",
    "  def forward(self, input):\n",
    "    self.last_input_shape = input.shape\n",
    "    input = input.flatten()\n",
    "    self.last_input = input\n",
    "\n",
    "    input_len, nodes = self.weights.shape\n",
    "    totals = np.dot(input, self.weights) + self.biases\n",
    "    self.last_totals = totals\n",
    "    exp = np.exp(totals)\n",
    "    return exp / np.sum(exp, axis=0)\n",
    "\n",
    "  def backprop(self, d_L_d_out, learn_rate):\n",
    "    for i, gradient in enumerate(d_L_d_out):\n",
    "      if gradient == 0:\n",
    "        continue\n",
    "\n",
    "      t_exp = np.exp(self.last_totals)\n",
    "      S = np.sum(t_exp)\n",
    "\n",
    "      d_out_d_t = -t_exp[i] * t_exp / (S ** 2)\n",
    "      d_out_d_t[i] = t_exp[i] * (S - t_exp[i]) / (S ** 2)\n",
    "\n",
    "      d_t_d_w = self.last_input\n",
    "      d_t_d_b = 1\n",
    "      d_t_d_inputs = self.weights\n",
    "\n",
    "      d_L_d_t = gradient * d_out_d_t\n",
    "\n",
    "      d_L_d_w = d_t_d_w[np.newaxis].T @ d_L_d_t[np.newaxis]\n",
    "      d_L_d_b = d_L_d_t * d_t_d_b\n",
    "      d_L_d_inputs = d_t_d_inputs @ d_L_d_t\n",
    "\n",
    "      self.weights -= learn_rate * d_L_d_w\n",
    "      self.biases -= learn_rate * d_L_d_b\n",
    "\n",
    "      return d_L_d_inputs.reshape(self.last_input_shape)"
   ]
  },
  {
   "cell_type": "code",
   "execution_count": 510,
   "id": "fa445dbc-32ea-486a-8e5a-dfde3b8f066b",
   "metadata": {},
   "outputs": [],
   "source": [
    "class layer_activation:    \n",
    "    def __init__(self,activation='sigmoid'):\n",
    "        self.act = activation\n",
    "        return\n",
    "    \n",
    "    def relu(self,x):\n",
    "        return x * (x > 0)\n",
    "\n",
    "    def grad_relu(self,x):\n",
    "        return 1. * (x > 0)\n",
    "\n",
    "    def tanh(self,x):\n",
    "        return (2.0/(1.0 + np.exp(-2.0*x))) - 1\n",
    "\n",
    "    def grad_tanh(self,x):\n",
    "        y = self.tanh(x)\n",
    "        return (1.0-(y**2))\n",
    "\n",
    "    def sigmoid(self,x):\n",
    "        return 1.0/(1.0 + np.exp(-1.0*x))\n",
    "\n",
    "    def grad_sigmoid(self,x):\n",
    "        y = self.sigmoid(x)\n",
    "        return y*(1.0-y)\n",
    "\n",
    "    act_dispatcher = {'sigmoid' : sigmoid, 'tanh': tanh, 'relu' : relu}\n",
    "    act_grad_dispatcher = {'sigmoid' : grad_sigmoid, 'tanh': grad_tanh, 'relu' : grad_relu}\n",
    "    \n",
    "    def call_activation(self, x, func):\n",
    "        try:\n",
    "            return self.act_dispatcher[func](self, x)\n",
    "        except:\n",
    "            return \"Invalid activation function\"\n",
    "\n",
    "    def call_grad_activation(self, x, func):\n",
    "        try:\n",
    "            return self.act_grad_dispatcher[func](self, x)\n",
    "        except:\n",
    "            return \"Invalid grad activation function\"\n",
    "    \n",
    "    def forward_pass(self,X):\n",
    "        self.x_in = X\n",
    "        self.out = self.call_activation(X, self.act)\n",
    "\n",
    "        return self.out\n",
    "    \n",
    "    def backward_pass(self,delta):        \n",
    "        delta_prev = np.multiply(delta,self.call_grad_activation(self.x_in, self.act))\n",
    "                \n",
    "        return delta_prev\n",
    "    \n",
    "    def output_shape(self, x):        \n",
    "        return x"
   ]
  },
  {
   "cell_type": "markdown",
   "id": "2337fbae-68a6-4b90-a8ac-27c8063205a9",
   "metadata": {
    "jp-MarkdownHeadingCollapsed": true,
    "tags": []
   },
   "source": [
    "# P4 (Neural Networks, MLP)\n",
    "\n",
    "- Construct a Multi-layer Perception (MLP) or a feed-forward neural network to work on the K-MNIST dataset. \n",
    "- Experiment with at least 3 settings of the number of hidden layers and Neurons. \n",
    "- Explicitly code the Error Backpropagation algorithm as a class and use it on MLPs with different architectures and loss functions (CE, squared error loss).\n",
    "- For this part, you should only use Numpy. \n",
    "\n",
    "Report the accuracy and F1 scores with all the considered configurations.\n",
    "\n",
    "**DATA:** `images.zip (p4['data'])`"
   ]
  },
  {
   "cell_type": "code",
   "execution_count": 276,
   "id": "7ee3fb19",
   "metadata": {},
   "outputs": [
    {
     "name": "stdout",
     "output_type": "stream",
     "text": [
      "Epoch 1: \t  train_loss = 6772.50  \tval_loss = 2904.61 \t  train_acc = 0.10  \t val_acc = 0.10\n",
      "Epoch 2: \t  train_loss = 6772.33  \tval_loss = 2904.17 \t  train_acc = 0.10  \t val_acc = 0.10\n",
      "Epoch 3: \t  train_loss = 6771.86  \tval_loss = 2904.27 \t  train_acc = 0.10  \t val_acc = 0.10\n",
      "Epoch 4: \t  train_loss = 6772.97  \tval_loss = 2904.68 \t  train_acc = 0.10  \t val_acc = 0.10\n",
      "Epoch 5: \t  train_loss = 6771.38  \tval_loss = 2903.73 \t  train_acc = 0.10  \t val_acc = 0.10\n",
      "Epoch 6: \t  train_loss = 6772.12  \tval_loss = 2902.43 \t  train_acc = 0.10  \t val_acc = 0.10\n",
      "Epoch 7: \t  train_loss = 6772.88  \tval_loss = 2904.64 \t  train_acc = 0.10  \t val_acc = 0.10\n",
      "Epoch 8: \t  train_loss = 6772.63  \tval_loss = 2904.06 \t  train_acc = 0.10  \t val_acc = 0.10\n",
      "Epoch 9: \t  train_loss = 6774.03  \tval_loss = 2903.83 \t  train_acc = 0.10  \t val_acc = 0.10\n",
      "Epoch 10: \t  train_loss = 6770.47  \tval_loss = 2902.42 \t  train_acc = 0.10  \t val_acc = 0.10\n",
      "Epoch 11: \t  train_loss = 6770.81  \tval_loss = 2903.38 \t  train_acc = 0.10  \t val_acc = 0.10\n",
      "Epoch 12: \t  train_loss = 6773.13  \tval_loss = 2905.61 \t  train_acc = 0.10  \t val_acc = 0.10\n",
      "Epoch 13: \t  train_loss = 6769.28  \tval_loss = 2902.12 \t  train_acc = 0.10  \t val_acc = 0.10\n",
      "Epoch 14: \t  train_loss = 6770.42  \tval_loss = 2901.51 \t  train_acc = 0.10  \t val_acc = 0.10\n",
      "Epoch 15: \t  train_loss = 6769.65  \tval_loss = 2901.46 \t  train_acc = 0.10  \t val_acc = 0.10\n",
      "Epoch 16: \t  train_loss = 6771.34  \tval_loss = 2901.83 \t  train_acc = 0.10  \t val_acc = 0.10\n",
      "Epoch 17: \t  train_loss = 6771.54  \tval_loss = 2902.41 \t  train_acc = 0.10  \t val_acc = 0.10\n",
      "Epoch 18: \t  train_loss = 6771.26  \tval_loss = 2902.52 \t  train_acc = 0.10  \t val_acc = 0.10\n",
      "Epoch 19: \t  train_loss = 6769.04  \tval_loss = 2901.86 \t  train_acc = 0.10  \t val_acc = 0.10\n",
      "Epoch 20: \t  train_loss = 6768.73  \tval_loss = 2900.77 \t  train_acc = 0.10  \t val_acc = 0.10\n",
      "Epoch 21: \t  train_loss = 6770.40  \tval_loss = 2901.88 \t  train_acc = 0.10  \t val_acc = 0.10\n",
      "Epoch 22: \t  train_loss = 6768.89  \tval_loss = 2901.64 \t  train_acc = 0.10  \t val_acc = 0.10\n",
      "Epoch 23: \t  train_loss = 6768.73  \tval_loss = 2903.10 \t  train_acc = 0.10  \t val_acc = 0.10\n",
      "Epoch 24: \t  train_loss = 6767.29  \tval_loss = 2901.58 \t  train_acc = 0.10  \t val_acc = 0.10\n",
      "Epoch 25: \t  train_loss = 6773.07  \tval_loss = 2902.93 \t  train_acc = 0.10  \t val_acc = 0.10\n",
      "Epoch 26: \t  train_loss = 6769.25  \tval_loss = 2902.54 \t  train_acc = 0.10  \t val_acc = 0.10\n",
      "Epoch 27: \t  train_loss = 6768.25  \tval_loss = 2901.59 \t  train_acc = 0.10  \t val_acc = 0.10\n",
      "Epoch 28: \t  train_loss = 6768.15  \tval_loss = 2900.59 \t  train_acc = 0.10  \t val_acc = 0.10\n",
      "Epoch 29: \t  train_loss = 6767.98  \tval_loss = 2900.43 \t  train_acc = 0.10  \t val_acc = 0.10\n",
      "Epoch 30: \t  train_loss = 6768.45  \tval_loss = 2901.10 \t  train_acc = 0.10  \t val_acc = 0.10\n",
      "Epoch 31: \t  train_loss = 6768.46  \tval_loss = 2901.00 \t  train_acc = 0.10  \t val_acc = 0.11\n",
      "Epoch 32: \t  train_loss = 6766.97  \tval_loss = 2900.72 \t  train_acc = 0.10  \t val_acc = 0.10\n",
      "Epoch 33: \t  train_loss = 6767.20  \tval_loss = 2900.52 \t  train_acc = 0.14  \t val_acc = 0.14\n",
      "Epoch 34: \t  train_loss = 6768.70  \tval_loss = 2900.54 \t  train_acc = 0.10  \t val_acc = 0.10\n",
      "Epoch 35: \t  train_loss = 6766.51  \tval_loss = 2901.40 \t  train_acc = 0.10  \t val_acc = 0.10\n",
      "Epoch 36: \t  train_loss = 6766.86  \tval_loss = 2900.96 \t  train_acc = 0.10  \t val_acc = 0.10\n",
      "Epoch 37: \t  train_loss = 6767.00  \tval_loss = 2900.72 \t  train_acc = 0.10  \t val_acc = 0.10\n",
      "Epoch 38: \t  train_loss = 6767.76  \tval_loss = 2902.38 \t  train_acc = 0.10  \t val_acc = 0.10\n",
      "Epoch 39: \t  train_loss = 6765.61  \tval_loss = 2900.31 \t  train_acc = 0.10  \t val_acc = 0.10\n",
      "Epoch 40: \t  train_loss = 6764.71  \tval_loss = 2900.01 \t  train_acc = 0.10  \t val_acc = 0.10\n",
      "Epoch 41: \t  train_loss = 6767.34  \tval_loss = 2902.75 \t  train_acc = 0.10  \t val_acc = 0.10\n",
      "Epoch 42: \t  train_loss = 6766.78  \tval_loss = 2901.09 \t  train_acc = 0.10  \t val_acc = 0.10\n",
      "Epoch 43: \t  train_loss = 6764.65  \tval_loss = 2899.91 \t  train_acc = 0.10  \t val_acc = 0.10\n",
      "Epoch 44: \t  train_loss = 6765.88  \tval_loss = 2899.43 \t  train_acc = 0.13  \t val_acc = 0.13\n",
      "Epoch 45: \t  train_loss = 6764.40  \tval_loss = 2898.81 \t  train_acc = 0.10  \t val_acc = 0.11\n",
      "Epoch 46: \t  train_loss = 6765.09  \tval_loss = 2901.07 \t  train_acc = 0.10  \t val_acc = 0.10\n",
      "Epoch 47: \t  train_loss = 6765.40  \tval_loss = 2900.46 \t  train_acc = 0.10  \t val_acc = 0.10\n",
      "Epoch 48: \t  train_loss = 6763.76  \tval_loss = 2898.58 \t  train_acc = 0.10  \t val_acc = 0.10\n",
      "Epoch 49: \t  train_loss = 6764.76  \tval_loss = 2901.11 \t  train_acc = 0.10  \t val_acc = 0.10\n",
      "Epoch 50: \t  train_loss = 6765.05  \tval_loss = 2899.47 \t  train_acc = 0.22  \t val_acc = 0.21\n"
     ]
    }
   ],
   "source": [
    "mlp = [[] for _ in range(4)]\n",
    "n_labels = len(np.unique(p4['Y']))\n",
    "\n",
    "# Shuffle the training data randomly\n",
    "indices = np.arange(p4['X'].shape[0])\n",
    "np.random.shuffle(indices)\n",
    "\n",
    "s = int(0.7 * p4['X'].shape[0])\n",
    "xtrain, xval = p4['X'][indices[:s]], p4['X'][indices[s:]]\n",
    "ytrain, yval = p4['Y'][indices[:s]], p4['Y'][indices[s:]]\n",
    "\n",
    "layers = [xtrain.shape[1], 128, 64, 32, n_labels]\n",
    "mlp[0] = MLP(layers, 'sigmoid', 'softmax','ce', learning_rate = 0.1)\n",
    "\n",
    "train_losses, val_losses, train_accs, val_accs = mlp[0].train(xtrain, ytrain, xval, yval, num_epochs = 50 , batch_size = 256)"
   ]
  },
  {
   "cell_type": "code",
   "execution_count": 277,
   "id": "009841fc-c712-44f1-8547-30426313f46d",
   "metadata": {},
   "outputs": [
    {
     "name": "stdout",
     "output_type": "stream",
     "text": [
      "Epoch 1: \t  train_loss = 6724.05  \tval_loss = 2882.97 \t  train_acc = 0.14  \t val_acc = 0.13\n",
      "Epoch 2: \t  train_loss = 6691.24  \tval_loss = 2868.91 \t  train_acc = 0.24  \t val_acc = 0.24\n",
      "Epoch 3: \t  train_loss = 6662.83  \tval_loss = 2856.92 \t  train_acc = 0.22  \t val_acc = 0.22\n",
      "Epoch 4: \t  train_loss = 6618.63  \tval_loss = 2837.89 \t  train_acc = 0.20  \t val_acc = 0.19\n",
      "Epoch 5: \t  train_loss = 6555.90  \tval_loss = 2809.07 \t  train_acc = 0.42  \t val_acc = 0.43\n",
      "Epoch 6: \t  train_loss = 6469.59  \tval_loss = 2773.06 \t  train_acc = 0.43  \t val_acc = 0.44\n",
      "Epoch 7: \t  train_loss = 6342.79  \tval_loss = 2718.56 \t  train_acc = 0.43  \t val_acc = 0.43\n",
      "Epoch 8: \t  train_loss = 6170.58  \tval_loss = 2641.76 \t  train_acc = 0.37  \t val_acc = 0.38\n",
      "Epoch 9: \t  train_loss = 6015.64  \tval_loss = 2583.87 \t  train_acc = 0.25  \t val_acc = 0.26\n",
      "Epoch 10: \t  train_loss = 6260.84  \tval_loss = 2697.50 \t  train_acc = 0.11  \t val_acc = 0.11\n",
      "Epoch 11: \t  train_loss = 6514.92  \tval_loss = 2778.25 \t  train_acc = 0.13  \t val_acc = 0.14\n",
      "Epoch 12: \t  train_loss = 5981.04  \tval_loss = 2578.70 \t  train_acc = 0.14  \t val_acc = 0.15\n",
      "Epoch 13: \t  train_loss = 5260.52  \tval_loss = 2261.75 \t  train_acc = 0.38  \t val_acc = 0.38\n",
      "Epoch 14: \t  train_loss = 6131.55  \tval_loss = 2614.32 \t  train_acc = 0.17  \t val_acc = 0.17\n",
      "Epoch 15: \t  train_loss = 4889.85  \tval_loss = 2096.42 \t  train_acc = 0.34  \t val_acc = 0.34\n",
      "Epoch 16: \t  train_loss = 4211.80  \tval_loss = 1814.04 \t  train_acc = 0.62  \t val_acc = 0.61\n",
      "Epoch 17: \t  train_loss = 4691.09  \tval_loss = 2002.47 \t  train_acc = 0.43  \t val_acc = 0.44\n",
      "Epoch 18: \t  train_loss = 4520.80  \tval_loss = 1964.04 \t  train_acc = 0.36  \t val_acc = 0.35\n",
      "Epoch 19: \t  train_loss = 3785.52  \tval_loss = 1618.66 \t  train_acc = 0.47  \t val_acc = 0.47\n",
      "Epoch 20: \t  train_loss = 3409.64  \tval_loss = 1477.26 \t  train_acc = 0.56  \t val_acc = 0.55\n",
      "Epoch 21: \t  train_loss = 3523.49  \tval_loss = 1507.89 \t  train_acc = 0.53  \t val_acc = 0.53\n",
      "Epoch 22: \t  train_loss = 3031.58  \tval_loss = 1303.37 \t  train_acc = 0.60  \t val_acc = 0.60\n",
      "Epoch 23: \t  train_loss = 3057.51  \tval_loss = 1308.11 \t  train_acc = 0.67  \t val_acc = 0.67\n",
      "Epoch 24: \t  train_loss = 3384.43  \tval_loss = 1449.85 \t  train_acc = 0.54  \t val_acc = 0.54\n",
      "Epoch 25: \t  train_loss = 2299.73  \tval_loss = 992.21 \t  train_acc = 0.77  \t val_acc = 0.77\n",
      "Epoch 26: \t  train_loss = 2675.32  \tval_loss = 1158.74 \t  train_acc = 0.66  \t val_acc = 0.65\n",
      "Epoch 27: \t  train_loss = 2200.32  \tval_loss = 949.83 \t  train_acc = 0.77  \t val_acc = 0.77\n",
      "Epoch 28: \t  train_loss = 3496.72  \tval_loss = 1491.84 \t  train_acc = 0.57  \t val_acc = 0.57\n",
      "Epoch 29: \t  train_loss = 2056.20  \tval_loss = 884.52 \t  train_acc = 0.79  \t val_acc = 0.78\n",
      "Epoch 30: \t  train_loss = 2205.51  \tval_loss = 951.66 \t  train_acc = 0.74  \t val_acc = 0.74\n",
      "Epoch 31: \t  train_loss = 1884.24  \tval_loss = 815.05 \t  train_acc = 0.81  \t val_acc = 0.81\n",
      "Epoch 32: \t  train_loss = 1865.37  \tval_loss = 807.44 \t  train_acc = 0.81  \t val_acc = 0.80\n",
      "Epoch 33: \t  train_loss = 2254.81  \tval_loss = 982.70 \t  train_acc = 0.72  \t val_acc = 0.71\n",
      "Epoch 34: \t  train_loss = 1956.75  \tval_loss = 847.20 \t  train_acc = 0.77  \t val_acc = 0.77\n",
      "Epoch 35: \t  train_loss = 1697.10  \tval_loss = 729.68 \t  train_acc = 0.83  \t val_acc = 0.82\n",
      "Epoch 36: \t  train_loss = 2947.47  \tval_loss = 1280.41 \t  train_acc = 0.62  \t val_acc = 0.62\n",
      "Epoch 37: \t  train_loss = 1607.54  \tval_loss = 693.94 \t  train_acc = 0.83  \t val_acc = 0.83\n",
      "Epoch 38: \t  train_loss = 1920.71  \tval_loss = 830.58 \t  train_acc = 0.77  \t val_acc = 0.76\n",
      "Epoch 39: \t  train_loss = 1694.96  \tval_loss = 732.79 \t  train_acc = 0.81  \t val_acc = 0.80\n",
      "Epoch 40: \t  train_loss = 1853.77  \tval_loss = 809.03 \t  train_acc = 0.77  \t val_acc = 0.77\n",
      "Epoch 41: \t  train_loss = 1592.65  \tval_loss = 681.26 \t  train_acc = 0.84  \t val_acc = 0.84\n",
      "Epoch 42: \t  train_loss = 1800.38  \tval_loss = 767.63 \t  train_acc = 0.77  \t val_acc = 0.77\n",
      "Epoch 43: \t  train_loss = 1570.97  \tval_loss = 665.46 \t  train_acc = 0.83  \t val_acc = 0.83\n",
      "Epoch 44: \t  train_loss = 1808.23  \tval_loss = 786.05 \t  train_acc = 0.79  \t val_acc = 0.79\n",
      "Epoch 45: \t  train_loss = 1395.97  \tval_loss = 601.98 \t  train_acc = 0.85  \t val_acc = 0.85\n",
      "Epoch 46: \t  train_loss = 1473.85  \tval_loss = 642.78 \t  train_acc = 0.84  \t val_acc = 0.84\n",
      "Epoch 47: \t  train_loss = 1665.12  \tval_loss = 719.03 \t  train_acc = 0.81  \t val_acc = 0.80\n",
      "Epoch 48: \t  train_loss = 1792.79  \tval_loss = 775.24 \t  train_acc = 0.78  \t val_acc = 0.77\n",
      "Epoch 49: \t  train_loss = 1391.77  \tval_loss = 591.85 \t  train_acc = 0.85  \t val_acc = 0.86\n",
      "Epoch 50: \t  train_loss = 1339.37  \tval_loss = 571.79 \t  train_acc = 0.86  \t val_acc = 0.86\n"
     ]
    }
   ],
   "source": [
    "layers = [xtrain.shape[1], 256, 128, 64, 32, n_labels]\n",
    "mlp[1] = MLP(layers, 'relu', 'softmax','ce', learning_rate = 0.01)\n",
    "\n",
    "train_losses, val_losses, train_accs, val_accs = mlp[1].train(xtrain, ytrain, xval, yval, num_epochs = 50 , batch_size = 256)"
   ]
  },
  {
   "cell_type": "code",
   "execution_count": 278,
   "id": "3647f1ad-d333-4c97-8fba-33ab67669c3d",
   "metadata": {},
   "outputs": [
    {
     "name": "stdout",
     "output_type": "stream",
     "text": [
      "Epoch 1: \t  train_loss = 1337.57  \tval_loss = 573.80 \t  train_acc = 0.10  \t val_acc = 0.10\n",
      "Epoch 2: \t  train_loss = 1324.50  \tval_loss = 567.93 \t  train_acc = 0.10  \t val_acc = 0.10\n",
      "Epoch 3: \t  train_loss = 1323.09  \tval_loss = 567.22 \t  train_acc = 0.10  \t val_acc = 0.10\n",
      "Epoch 4: \t  train_loss = 1322.97  \tval_loss = 567.15 \t  train_acc = 0.10  \t val_acc = 0.10\n",
      "Epoch 5: \t  train_loss = 1322.96  \tval_loss = 567.13 \t  train_acc = 0.10  \t val_acc = 0.10\n",
      "Epoch 6: \t  train_loss = 1322.95  \tval_loss = 567.11 \t  train_acc = 0.10  \t val_acc = 0.10\n",
      "Epoch 7: \t  train_loss = 1322.95  \tval_loss = 567.12 \t  train_acc = 0.10  \t val_acc = 0.10\n",
      "Epoch 8: \t  train_loss = 1322.96  \tval_loss = 567.11 \t  train_acc = 0.10  \t val_acc = 0.10\n",
      "Epoch 9: \t  train_loss = 1322.95  \tval_loss = 567.11 \t  train_acc = 0.10  \t val_acc = 0.10\n",
      "Epoch 10: \t  train_loss = 1322.95  \tval_loss = 567.11 \t  train_acc = 0.10  \t val_acc = 0.10\n",
      "Epoch 11: \t  train_loss = 1322.95  \tval_loss = 567.11 \t  train_acc = 0.10  \t val_acc = 0.10\n",
      "Epoch 12: \t  train_loss = 1322.95  \tval_loss = 567.12 \t  train_acc = 0.10  \t val_acc = 0.10\n",
      "Epoch 13: \t  train_loss = 1322.94  \tval_loss = 567.10 \t  train_acc = 0.10  \t val_acc = 0.10\n",
      "Epoch 14: \t  train_loss = 1322.94  \tval_loss = 567.09 \t  train_acc = 0.10  \t val_acc = 0.10\n",
      "Epoch 15: \t  train_loss = 1322.95  \tval_loss = 567.10 \t  train_acc = 0.10  \t val_acc = 0.10\n",
      "Epoch 16: \t  train_loss = 1322.94  \tval_loss = 567.10 \t  train_acc = 0.10  \t val_acc = 0.10\n",
      "Epoch 17: \t  train_loss = 1322.94  \tval_loss = 567.09 \t  train_acc = 0.10  \t val_acc = 0.10\n",
      "Epoch 18: \t  train_loss = 1322.94  \tval_loss = 567.10 \t  train_acc = 0.10  \t val_acc = 0.09\n",
      "Epoch 19: \t  train_loss = 1322.94  \tval_loss = 567.11 \t  train_acc = 0.10  \t val_acc = 0.10\n",
      "Epoch 20: \t  train_loss = 1322.94  \tval_loss = 567.10 \t  train_acc = 0.10  \t val_acc = 0.10\n",
      "Epoch 21: \t  train_loss = 1322.94  \tval_loss = 567.10 \t  train_acc = 0.10  \t val_acc = 0.10\n",
      "Epoch 22: \t  train_loss = 1322.94  \tval_loss = 567.11 \t  train_acc = 0.10  \t val_acc = 0.10\n",
      "Epoch 23: \t  train_loss = 1322.94  \tval_loss = 567.11 \t  train_acc = 0.10  \t val_acc = 0.10\n",
      "Epoch 24: \t  train_loss = 1322.93  \tval_loss = 567.10 \t  train_acc = 0.10  \t val_acc = 0.10\n",
      "Epoch 25: \t  train_loss = 1322.94  \tval_loss = 567.10 \t  train_acc = 0.10  \t val_acc = 0.10\n",
      "Epoch 26: \t  train_loss = 1322.93  \tval_loss = 567.09 \t  train_acc = 0.10  \t val_acc = 0.10\n",
      "Epoch 27: \t  train_loss = 1322.94  \tval_loss = 567.09 \t  train_acc = 0.10  \t val_acc = 0.10\n",
      "Epoch 28: \t  train_loss = 1322.93  \tval_loss = 567.09 \t  train_acc = 0.10  \t val_acc = 0.10\n",
      "Epoch 29: \t  train_loss = 1322.93  \tval_loss = 567.09 \t  train_acc = 0.10  \t val_acc = 0.10\n",
      "Epoch 30: \t  train_loss = 1322.93  \tval_loss = 567.10 \t  train_acc = 0.10  \t val_acc = 0.10\n",
      "Epoch 31: \t  train_loss = 1322.93  \tval_loss = 567.10 \t  train_acc = 0.14  \t val_acc = 0.13\n",
      "Epoch 32: \t  train_loss = 1322.93  \tval_loss = 567.09 \t  train_acc = 0.10  \t val_acc = 0.10\n",
      "Epoch 33: \t  train_loss = 1322.93  \tval_loss = 567.09 \t  train_acc = 0.10  \t val_acc = 0.10\n",
      "Epoch 34: \t  train_loss = 1322.93  \tval_loss = 567.09 \t  train_acc = 0.10  \t val_acc = 0.10\n",
      "Epoch 35: \t  train_loss = 1322.92  \tval_loss = 567.10 \t  train_acc = 0.10  \t val_acc = 0.10\n",
      "Epoch 36: \t  train_loss = 1322.92  \tval_loss = 567.10 \t  train_acc = 0.10  \t val_acc = 0.10\n",
      "Epoch 37: \t  train_loss = 1322.92  \tval_loss = 567.09 \t  train_acc = 0.10  \t val_acc = 0.10\n",
      "Epoch 38: \t  train_loss = 1322.92  \tval_loss = 567.10 \t  train_acc = 0.10  \t val_acc = 0.10\n",
      "Epoch 39: \t  train_loss = 1322.92  \tval_loss = 567.10 \t  train_acc = 0.10  \t val_acc = 0.10\n",
      "Epoch 40: \t  train_loss = 1322.92  \tval_loss = 567.10 \t  train_acc = 0.10  \t val_acc = 0.10\n",
      "Epoch 41: \t  train_loss = 1322.92  \tval_loss = 567.11 \t  train_acc = 0.10  \t val_acc = 0.10\n",
      "Epoch 42: \t  train_loss = 1322.92  \tval_loss = 567.11 \t  train_acc = 0.10  \t val_acc = 0.10\n",
      "Epoch 43: \t  train_loss = 1322.92  \tval_loss = 567.11 \t  train_acc = 0.10  \t val_acc = 0.10\n",
      "Epoch 44: \t  train_loss = 1322.92  \tval_loss = 567.09 \t  train_acc = 0.10  \t val_acc = 0.10\n",
      "Epoch 45: \t  train_loss = 1322.92  \tval_loss = 567.08 \t  train_acc = 0.10  \t val_acc = 0.10\n",
      "Epoch 46: \t  train_loss = 1322.92  \tval_loss = 567.10 \t  train_acc = 0.10  \t val_acc = 0.10\n",
      "Epoch 47: \t  train_loss = 1322.91  \tval_loss = 567.10 \t  train_acc = 0.10  \t val_acc = 0.10\n",
      "Epoch 48: \t  train_loss = 1322.91  \tval_loss = 567.08 \t  train_acc = 0.12  \t val_acc = 0.11\n",
      "Epoch 49: \t  train_loss = 1322.91  \tval_loss = 567.10 \t  train_acc = 0.10  \t val_acc = 0.10\n",
      "Epoch 50: \t  train_loss = 1322.91  \tval_loss = 567.09 \t  train_acc = 0.10  \t val_acc = 0.10\n"
     ]
    }
   ],
   "source": [
    "layers = [xtrain.shape[1], 128, 64, 32, n_labels]\n",
    "mlp[2] = MLP(layers, 'sigmoid', 'softmax','mse', learning_rate = 0.01)\n",
    "\n",
    "train_losses, val_losses, train_accs, val_accs = mlp[2].train(xtrain, ytrain, xval, yval, num_epochs = 50 , batch_size = 256)"
   ]
  },
  {
   "cell_type": "code",
   "execution_count": 279,
   "id": "e49df7be-0963-4127-b726-ba23bafda132",
   "metadata": {},
   "outputs": [
    {
     "name": "stdout",
     "output_type": "stream",
     "text": [
      "Epoch 1: \t  train_loss = 1312.71  \tval_loss = 562.93 \t  train_acc = 0.20  \t val_acc = 0.19\n",
      "Epoch 2: \t  train_loss = 1277.06  \tval_loss = 547.29 \t  train_acc = 0.23  \t val_acc = 0.22\n",
      "Epoch 3: \t  train_loss = 1189.88  \tval_loss = 511.03 \t  train_acc = 0.21  \t val_acc = 0.21\n",
      "Epoch 4: \t  train_loss = 1200.20  \tval_loss = 512.60 \t  train_acc = 0.22  \t val_acc = 0.23\n",
      "Epoch 5: \t  train_loss = 1171.75  \tval_loss = 501.69 \t  train_acc = 0.26  \t val_acc = 0.26\n",
      "Epoch 6: \t  train_loss = 1332.70  \tval_loss = 570.87 \t  train_acc = 0.16  \t val_acc = 0.16\n",
      "Epoch 7: \t  train_loss = 1235.68  \tval_loss = 528.01 \t  train_acc = 0.20  \t val_acc = 0.20\n",
      "Epoch 8: \t  train_loss = 896.68  \tval_loss = 385.17 \t  train_acc = 0.53  \t val_acc = 0.53\n",
      "Epoch 9: \t  train_loss = 1268.54  \tval_loss = 543.07 \t  train_acc = 0.16  \t val_acc = 0.16\n",
      "Epoch 10: \t  train_loss = 823.57  \tval_loss = 351.75 \t  train_acc = 0.58  \t val_acc = 0.58\n",
      "Epoch 11: \t  train_loss = 1075.34  \tval_loss = 461.84 \t  train_acc = 0.35  \t val_acc = 0.35\n",
      "Epoch 12: \t  train_loss = 926.83  \tval_loss = 399.04 \t  train_acc = 0.50  \t val_acc = 0.50\n",
      "Epoch 13: \t  train_loss = 759.74  \tval_loss = 325.44 \t  train_acc = 0.60  \t val_acc = 0.60\n",
      "Epoch 14: \t  train_loss = 905.04  \tval_loss = 389.85 \t  train_acc = 0.47  \t val_acc = 0.47\n",
      "Epoch 15: \t  train_loss = 924.27  \tval_loss = 396.92 \t  train_acc = 0.49  \t val_acc = 0.49\n",
      "Epoch 16: \t  train_loss = 829.39  \tval_loss = 354.07 \t  train_acc = 0.56  \t val_acc = 0.56\n",
      "Epoch 17: \t  train_loss = 391.30  \tval_loss = 168.82 \t  train_acc = 0.84  \t val_acc = 0.84\n",
      "Epoch 18: \t  train_loss = 743.46  \tval_loss = 318.90 \t  train_acc = 0.63  \t val_acc = 0.63\n",
      "Epoch 19: \t  train_loss = 583.20  \tval_loss = 255.69 \t  train_acc = 0.73  \t val_acc = 0.72\n",
      "Epoch 20: \t  train_loss = 735.57  \tval_loss = 321.04 \t  train_acc = 0.64  \t val_acc = 0.63\n",
      "Epoch 21: \t  train_loss = 457.88  \tval_loss = 193.90 \t  train_acc = 0.79  \t val_acc = 0.79\n",
      "Epoch 22: \t  train_loss = 563.89  \tval_loss = 242.84 \t  train_acc = 0.73  \t val_acc = 0.73\n",
      "Epoch 23: \t  train_loss = 552.52  \tval_loss = 240.30 \t  train_acc = 0.73  \t val_acc = 0.72\n",
      "Epoch 24: \t  train_loss = 514.46  \tval_loss = 225.59 \t  train_acc = 0.75  \t val_acc = 0.75\n",
      "Epoch 25: \t  train_loss = 1222.37  \tval_loss = 522.79 \t  train_acc = 0.22  \t val_acc = 0.22\n",
      "Epoch 26: \t  train_loss = 541.89  \tval_loss = 233.28 \t  train_acc = 0.79  \t val_acc = 0.79\n",
      "Epoch 27: \t  train_loss = 424.12  \tval_loss = 181.08 \t  train_acc = 0.81  \t val_acc = 0.81\n",
      "Epoch 28: \t  train_loss = 872.86  \tval_loss = 371.22 \t  train_acc = 0.52  \t val_acc = 0.53\n",
      "Epoch 29: \t  train_loss = 585.94  \tval_loss = 251.64 \t  train_acc = 0.70  \t val_acc = 0.70\n",
      "Epoch 30: \t  train_loss = 469.08  \tval_loss = 204.78 \t  train_acc = 0.78  \t val_acc = 0.77\n",
      "Epoch 31: \t  train_loss = 408.76  \tval_loss = 177.37 \t  train_acc = 0.80  \t val_acc = 0.80\n",
      "Epoch 32: \t  train_loss = 753.94  \tval_loss = 320.91 \t  train_acc = 0.59  \t val_acc = 0.60\n",
      "Epoch 33: \t  train_loss = 418.71  \tval_loss = 185.07 \t  train_acc = 0.80  \t val_acc = 0.80\n",
      "Epoch 34: \t  train_loss = 395.43  \tval_loss = 171.13 \t  train_acc = 0.81  \t val_acc = 0.81\n",
      "Epoch 35: \t  train_loss = 273.18  \tval_loss = 121.41 \t  train_acc = 0.88  \t val_acc = 0.87\n",
      "Epoch 36: \t  train_loss = 594.61  \tval_loss = 259.68 \t  train_acc = 0.71  \t val_acc = 0.70\n",
      "Epoch 37: \t  train_loss = 319.03  \tval_loss = 138.30 \t  train_acc = 0.85  \t val_acc = 0.85\n",
      "Epoch 38: \t  train_loss = 293.05  \tval_loss = 131.14 \t  train_acc = 0.87  \t val_acc = 0.86\n",
      "Epoch 39: \t  train_loss = 276.11  \tval_loss = 117.99 \t  train_acc = 0.87  \t val_acc = 0.88\n",
      "Epoch 40: \t  train_loss = 317.81  \tval_loss = 137.41 \t  train_acc = 0.85  \t val_acc = 0.85\n",
      "Epoch 41: \t  train_loss = 333.38  \tval_loss = 140.88 \t  train_acc = 0.84  \t val_acc = 0.85\n",
      "Epoch 42: \t  train_loss = 236.18  \tval_loss = 104.19 \t  train_acc = 0.89  \t val_acc = 0.89\n",
      "Epoch 43: \t  train_loss = 294.67  \tval_loss = 124.96 \t  train_acc = 0.86  \t val_acc = 0.86\n",
      "Epoch 44: \t  train_loss = 475.71  \tval_loss = 206.27 \t  train_acc = 0.77  \t val_acc = 0.77\n",
      "Epoch 45: \t  train_loss = 333.23  \tval_loss = 150.25 \t  train_acc = 0.84  \t val_acc = 0.83\n",
      "Epoch 46: \t  train_loss = 536.96  \tval_loss = 234.52 \t  train_acc = 0.75  \t val_acc = 0.74\n",
      "Epoch 47: \t  train_loss = 947.57  \tval_loss = 405.69 \t  train_acc = 0.50  \t val_acc = 0.50\n",
      "Epoch 48: \t  train_loss = 385.60  \tval_loss = 171.33 \t  train_acc = 0.82  \t val_acc = 0.81\n",
      "Epoch 49: \t  train_loss = 267.71  \tval_loss = 118.52 \t  train_acc = 0.88  \t val_acc = 0.87\n",
      "Epoch 50: \t  train_loss = 227.14  \tval_loss = 99.83 \t  train_acc = 0.90  \t val_acc = 0.89\n"
     ]
    }
   ],
   "source": [
    "layers = [xtrain.shape[1], 128, 64, 32, n_labels]\n",
    "mlp[3] = MLP(layers, 'relu', 'softmax','mse', learning_rate = 0.1)\n",
    "\n",
    "train_losses, val_losses, train_accs, val_accs = mlp[3].train(xtrain, ytrain, xval, yval, num_epochs = 50 , batch_size = 256)"
   ]
  },
  {
   "cell_type": "markdown",
   "id": "ea3f1337-cecd-4e95-aeef-d2ae58d8c1d2",
   "metadata": {},
   "source": [
    "#### Final accuracy and F1 score"
   ]
  },
  {
   "cell_type": "code",
   "execution_count": 280,
   "id": "9bf4dbee-5d3d-4d79-ac96-ad03a81b057c",
   "metadata": {},
   "outputs": [
    {
     "name": "stdout",
     "output_type": "stream",
     "text": [
      "3 hidden layers, activation function: 'sigmoid', loss function: 'cross-entropy'\n",
      "Classification Accuracy :  21.205555555555556 %\n",
      "               F1 Score :  0.09491137271588837\n",
      "-------------------------------------------------------------------------------------\n",
      "4 hidden layers, activation function: 'relu', loss function: 'mean squared error'\n",
      "Classification Accuracy :  85.62222222222222 %\n",
      "               F1 Score :  0.8556740540704817\n",
      "-------------------------------------------------------------------------------------\n",
      "3 hidden layers, activation function: 'sigmoid', loss function: 'cross-entropy'\n",
      "Classification Accuracy :  10.0 %\n",
      "               F1 Score :  0.01819008623753513\n",
      "-------------------------------------------------------------------------------------\n",
      "3 hidden layers, activation function: 'relu', loss function: 'mean squared error'\n",
      "Classification Accuracy :  89.3 %\n",
      "               F1 Score :  0.893049386450607\n",
      "-------------------------------------------------------------------------------------\n"
     ]
    }
   ],
   "source": [
    "models = [\"3 hidden layers, activation function: 'sigmoid', loss function: 'cross-entropy'\",\n",
    "         \"4 hidden layers, activation function: 'relu', loss function: 'mean squared error'\",\n",
    "         \"3 hidden layers, activation function: 'sigmoid', loss function: 'cross-entropy'\",\n",
    "         \"3 hidden layers, activation function: 'relu', loss function: 'mean squared error'\"]\n",
    "\n",
    "for i in range(4):\n",
    "    pred = np.argmax(mlp[i].forward(p4['X_test']), axis=1)\n",
    "    cnf = metrics.confusionMatrix(pred, p4['Y_test'], n_labels)\n",
    "    acc = metrics.accuracy(pred, p4['Y_test'])\n",
    "    f1 = metrics.f1Score(cnf)\n",
    "                         \n",
    "    print(models[i])\n",
    "    print(\"Classification Accuracy : \", acc * 100, \"%\")\n",
    "    print(\"               F1 Score : \", np.mean(f1))\n",
    "    print(\"-------------------------------------------------------------------------------------\")"
   ]
  },
  {
   "cell_type": "markdown",
   "id": "70c4ffda-da5a-4cff-8bb9-7814723417d9",
   "metadata": {
    "jp-MarkdownHeadingCollapsed": true,
    "tags": []
   },
   "source": [
    "# P5 (Neural Networks, CNN)\n",
    "\n",
    "- Construct a CNN for the K-MNIST dataset and code the back-propagation algorithm with weight sharing and local-receptive fields. \n",
    "- Experiment with 3 different architectures and report the accuracy.\n",
    "\n",
    "**DATA:** `images.zip (p4[data])`"
   ]
  },
  {
   "cell_type": "markdown",
   "id": "6f8d2d19-df41-4043-bc84-caf5b24d02c5",
   "metadata": {
    "jp-MarkdownHeadingCollapsed": true,
    "tags": []
   },
   "source": [
    "## Data Handling"
   ]
  },
  {
   "cell_type": "code",
   "execution_count": 498,
   "id": "4b674a36-c7a1-4f01-9d98-3432372a3544",
   "metadata": {},
   "outputs": [
    {
     "data": {
      "text/plain": [
       "((42000, 784),\n",
       " (42000,),\n",
       " (18000, 784),\n",
       " (18000,),\n",
       " (42000, 28, 28),\n",
       " (18000, 28, 28))"
      ]
     },
     "execution_count": 498,
     "metadata": {},
     "output_type": "execute_result"
    }
   ],
   "source": [
    "p4[\"full_data\"] = genFromImage(imageDir, (28, 28))\n",
    "p4X, p4Y, p4Xt, p4Yt, _ = trainTestSplit(p4[\"full_data\"], 0.7, imgToFeatures)\n",
    "\n",
    "train_images, train_labels = p4X.reshape(p4X.shape[0], 28, 28), p4Y.astype('int')\n",
    "test_images, test_labels = p4Xt.reshape(p4Xt.shape[0], 28, 28), p4Yt.astype('int')\n",
    "\n",
    "p4X.shape, p4Y.shape, p4Xt.shape, p4Yt.shape, train_images.shape, test_images.shape"
   ]
  },
  {
   "cell_type": "markdown",
   "id": "6bfec2f7-741a-4c16-8cca-39f6af780a9b",
   "metadata": {
    "jp-MarkdownHeadingCollapsed": true,
    "tags": []
   },
   "source": [
    "## Architecture 1"
   ]
  },
  {
   "cell_type": "code",
   "execution_count": 512,
   "id": "e65e8d9e-e63c-4906-a0a9-a58f95fd5b27",
   "metadata": {},
   "outputs": [
    {
     "name": "stdout",
     "output_type": "stream",
     "text": [
      "Training the CNN Architecture 1 !\n",
      "\n",
      "--- Epoch 1 ---\n",
      "[Step 5000] Past 5000 steps: Average Loss 0.826 | Accuracy: 71%\n",
      "[Step 10000] Past 5000 steps: Average Loss 0.274 | Accuracy: 91%\n",
      "[Step 15000] Past 5000 steps: Average Loss 0.237 | Accuracy: 92%\n",
      "[Step 20000] Past 5000 steps: Average Loss 0.196 | Accuracy: 93%\n",
      "[Step 25000] Past 5000 steps: Average Loss 0.203 | Accuracy: 93%\n",
      "[Step 30000] Past 5000 steps: Average Loss 0.151 | Accuracy: 95%\n",
      "[Step 35000] Past 5000 steps: Average Loss 0.170 | Accuracy: 94%\n",
      "[Step 40000] Past 5000 steps: Average Loss 0.160 | Accuracy: 95%\n",
      "\n",
      "Testing the CNN Architecture 1 !\n",
      "Test Loss for Architecture 1 : 0.16404584725259944\n",
      "Test Accuracy for Architecture 1 : 94.99444444444445%\n"
     ]
    }
   ],
   "source": [
    "conv = Conv3x3(8)\n",
    "pool = MaxPool2()\n",
    "softmax = Softmax(13 * 13 * 8 , 10)\n",
    "\n",
    "def forward(image, label):\n",
    "  out = conv.forward(image - 0.5)\n",
    "  out = pool.forward(out)\n",
    "  out = softmax.forward(out)\n",
    "  loss = -np.log(out[label])\n",
    "  acc = 1 if np.argmax(out) == label else 0\n",
    "\n",
    "  return out, loss, acc\n",
    "\n",
    "def train(im, label, lr=.005):\n",
    "  out, loss, acc = forward(im, label)\n",
    "  gradient = np.zeros(10)\n",
    "  gradient[label] = -1 / out[label]\n",
    "  gradient = softmax.backprop(gradient, lr)\n",
    "  gradient = pool.backprop(gradient)\n",
    "  gradient = conv.backprop(gradient, lr)\n",
    "\n",
    "  return loss, acc\n",
    "\n",
    "print('Training the CNN Architecture 1 !\\n')\n",
    "for epoch in range(1):\n",
    "  print('--- Epoch %d ---' % (epoch + 1))\n",
    "  permutation = np.random.permutation(train_images.shape[0])\n",
    "  train_images = train_images[permutation]\n",
    "  train_labels = train_labels[permutation]\n",
    "  loss = 0\n",
    "  num_correct = 0\n",
    "  for i, (im, label) in enumerate(zip(train_images, train_labels)):\n",
    "    if i % 5000 == 4999 :\n",
    "      print(\n",
    "        '[Step %d] Past 5000 steps: Average Loss %.3f | Accuracy: %d%%' %\n",
    "        (i + 1, loss / 5000, num_correct / 50)\n",
    "      )\n",
    "      loss = 0\n",
    "      num_correct = 0\n",
    "\n",
    "    l , acc = train(im, label)\n",
    "\n",
    "    loss += l\n",
    "    num_correct += acc\n",
    "\n",
    "print('\\nTesting the CNN Architecture 1 !')\n",
    "loss = 0\n",
    "num_correct = 0\n",
    "for im, label in zip(test_images, test_labels):\n",
    "  _, l, acc = forward(im, label)\n",
    "  loss += l\n",
    "  num_correct += acc\n",
    "\n",
    "num_tests = len(test_images)\n",
    "print('Test Loss for Architecture 1 :', loss / num_tests)\n",
    "print('Test Accuracy for Architecture 1 : ' + str((num_correct / num_tests) * 100) +\"%\")\n"
   ]
  },
  {
   "cell_type": "markdown",
   "id": "f5c4afbb-8299-414b-89a1-576c9bf3dc45",
   "metadata": {
    "jp-MarkdownHeadingCollapsed": true,
    "tags": []
   },
   "source": [
    "## Architecture 2"
   ]
  },
  {
   "cell_type": "code",
   "execution_count": 513,
   "id": "cde69b72-1923-40dd-8460-e4f3b5a2d433",
   "metadata": {},
   "outputs": [
    {
     "name": "stdout",
     "output_type": "stream",
     "text": [
      "--- Epoch 1 ---\n",
      "[Step 5000] Past 5000 steps: Average Loss 2.725 | Accuracy: 9%\n",
      "[Step 10000] Past 5000 steps: Average Loss 2.347 | Accuracy: 17%\n",
      "[Step 15000] Past 5000 steps: Average Loss 1.169 | Accuracy: 59%\n",
      "[Step 20000] Past 5000 steps: Average Loss 0.583 | Accuracy: 83%\n",
      "[Step 25000] Past 5000 steps: Average Loss 0.430 | Accuracy: 87%\n",
      "[Step 30000] Past 5000 steps: Average Loss 0.349 | Accuracy: 89%\n",
      "[Step 35000] Past 5000 steps: Average Loss 0.319 | Accuracy: 90%\n",
      "[Step 40000] Past 5000 steps: Average Loss 0.304 | Accuracy: 91%\n",
      "\n",
      "Testing the CNN Architecture 2 !\n",
      "Test Loss for Architecture 2 : 0.3003426599503643\n",
      "Test Accuracy for Architecture 2 : 91.08888888888889%\n"
     ]
    }
   ],
   "source": [
    "conv = Conv3x3(8)\n",
    "relu = layer_activation(\"relu\")\n",
    "pool = MaxPool2()\n",
    "sigmoid = layer_activation(\"sigmoid\")\n",
    "softmax = Softmax(13 * 13 * 8 , 10)\n",
    "\n",
    "def forward(image, label):\n",
    "  out = conv.forward(image - 0.5)\n",
    "  out = relu.forward_pass(out)\n",
    "  out = sigmoid.forward_pass(out)\n",
    "  out = pool.forward(out)\n",
    "  out = softmax.forward(out)\n",
    "  loss = -np.log(out[label])\n",
    "  acc = 1 if np.argmax(out) == label else 0\n",
    "\n",
    "  return out, loss, acc\n",
    "\n",
    "def train(im, label, lr=.005):\n",
    "  out, loss, acc = forward(im, label)\n",
    "  gradient = np.zeros(10)\n",
    "  gradient[label] = -1 / out[label]\n",
    "  gradient = softmax.backprop(gradient, lr)\n",
    "  gradient = pool.backprop(gradient)\n",
    "  gradient = sigmoid.backward_pass(gradient)\n",
    "  gradient = relu.backward_pass(gradient)\n",
    "  gradient = conv.backprop(gradient, lr)\n",
    "\n",
    "  return loss, acc\n",
    "\n",
    "for epoch in range(1):\n",
    "  print('--- Epoch %d ---' % (epoch + 1))\n",
    "  permutation = np.random.permutation(train_images.shape[0])\n",
    "  train_images = train_images[permutation]\n",
    "  train_labels = train_labels[permutation]\n",
    "  loss = 0\n",
    "  num_correct = 0\n",
    "  for i, (im, label) in enumerate(zip(train_images, train_labels)):\n",
    "    if i % 5000 == 4999 :\n",
    "      print(\n",
    "        '[Step %d] Past 5000 steps: Average Loss %.3f | Accuracy: %d%%' %\n",
    "        (i + 1, loss / 5000, num_correct / 50)\n",
    "      )\n",
    "      loss = 0\n",
    "      num_correct = 0\n",
    "\n",
    "    l , acc = train(im, label)\n",
    "\n",
    "    loss += l\n",
    "    num_correct += acc\n",
    "\n",
    "print('\\nTesting the CNN Architecture 2 !')\n",
    "loss = 0\n",
    "num_correct = 0\n",
    "for im, label in zip(test_images, test_labels):\n",
    "  _, l, acc = forward(im, label)\n",
    "  loss += l\n",
    "  num_correct += acc\n",
    "\n",
    "num_tests = len(test_images)\n",
    "print('Test Loss for Architecture 2 :', loss / num_tests)\n",
    "print('Test Accuracy for Architecture 2 : ' + str((num_correct / num_tests) * 100) + \"%\")"
   ]
  },
  {
   "cell_type": "markdown",
   "id": "6a4edc00-f9fa-4e74-98e1-33db36d6c802",
   "metadata": {
    "jp-MarkdownHeadingCollapsed": true,
    "tags": []
   },
   "source": [
    "## Architecture 3"
   ]
  },
  {
   "cell_type": "code",
   "execution_count": 514,
   "id": "c3e11f51-5dba-447b-ba45-4fb114e0eb89",
   "metadata": {},
   "outputs": [
    {
     "name": "stdout",
     "output_type": "stream",
     "text": [
      "--- Epoch 1 ---\n",
      "[Step 5000] Past 5000 steps: Average Loss 0.931 | Accuracy: 69%\n",
      "[Step 10000] Past 5000 steps: Average Loss 0.323 | Accuracy: 89%\n",
      "[Step 15000] Past 5000 steps: Average Loss 0.254 | Accuracy: 92%\n",
      "[Step 20000] Past 5000 steps: Average Loss 0.240 | Accuracy: 92%\n",
      "[Step 25000] Past 5000 steps: Average Loss 0.211 | Accuracy: 93%\n",
      "[Step 30000] Past 5000 steps: Average Loss 0.226 | Accuracy: 93%\n",
      "[Step 35000] Past 5000 steps: Average Loss 0.188 | Accuracy: 93%\n",
      "[Step 40000] Past 5000 steps: Average Loss 0.192 | Accuracy: 93%\n",
      "\n",
      "Testing the CNN Architecture 3 !\n",
      "Test Loss for Architecture 3 : 0.15684288949031627\n",
      "Test Accuracy for Architecture 3 : 95.35%\n"
     ]
    }
   ],
   "source": [
    "conv = Conv3x3(8)\n",
    "relu = layer_activation(\"relu\")\n",
    "pool = AvgPool2()\n",
    "softmax = Softmax(13 * 13 * 8, 10)\n",
    "\n",
    "def forward(image, label):\n",
    "  out = conv.forward(image - 0.5)\n",
    "  out = relu.forward_pass(out)\n",
    "  out = pool.forward(out)\n",
    "  out = softmax.forward(out)\n",
    "  loss = -np.log(out[label])\n",
    "  acc = 1 if np.argmax(out) == label else 0\n",
    "\n",
    "  return out, loss, acc\n",
    "\n",
    "def train(im, label, lr=.005):\n",
    "  out, loss, acc = forward(im, label)\n",
    "  gradient = np.zeros(10)\n",
    "  gradient[label] = -1 / out[label]\n",
    "  gradient = softmax.backprop(gradient, lr)\n",
    "  gradient = pool.backprop(gradient)\n",
    "  gradient = relu.backward_pass(gradient)\n",
    "  gradient = conv.backprop(gradient, lr)\n",
    "\n",
    "  return loss, acc\n",
    "\n",
    "for epoch in range(1):\n",
    "  print('--- Epoch %d ---' % (epoch + 1))\n",
    "  permutation = np.random.permutation(train_images.shape[0])\n",
    "  train_images = train_images[permutation]\n",
    "  train_labels = train_labels[permutation]\n",
    "  loss = 0\n",
    "  num_correct = 0\n",
    "  for i, (im, label) in enumerate(zip(train_images, train_labels)):\n",
    "    if i % 5000 == 4999 :\n",
    "      print(\n",
    "        '[Step %d] Past 5000 steps: Average Loss %.3f | Accuracy: %d%%' %\n",
    "        (i + 1, loss / 5000, num_correct / 50)\n",
    "      )\n",
    "      loss = 0\n",
    "      num_correct = 0\n",
    "    l , acc = train(im, label)\n",
    "    loss += l\n",
    "    num_correct += acc\n",
    "\n",
    "print('\\nTesting the CNN Architecture 3 !')\n",
    "loss = 0\n",
    "num_correct = 0\n",
    "for im, label in zip(test_images, test_labels):\n",
    "  _, l, acc = forward(im, label)\n",
    "  loss += l\n",
    "  num_correct += acc\n",
    "\n",
    "num_tests = len(test_images)\n",
    "print('Test Loss for Architecture 3 :', loss / num_tests)\n",
    "print('Test Accuracy for Architecture 3 : ' + str((num_correct / num_tests) * 100) + \"%\")"
   ]
  },
  {
   "cell_type": "markdown",
   "id": "92f86e37-c5c9-4dac-84bf-ad9d7eceb669",
   "metadata": {
    "jp-MarkdownHeadingCollapsed": true,
    "tags": []
   },
   "source": [
    "# P6 (Neural Networks, CNN)\n",
    "\n",
    "- For the above problem, build a big-enough CNN architecture that would overfit the K-MNIST data. \n",
    "- Impose L2 and early-stopping as regularizers and plot the bias-variance curves. \n",
    "- Perturb each of the input images with additive Gaussian noise and report its regularization impact.\n",
    "\n",
    "**DATA:** `images.zip (p4[data])`"
   ]
  },
  {
   "cell_type": "markdown",
   "id": "64819f82-6d7c-4f3c-a39e-c98779906610",
   "metadata": {
    "jp-MarkdownHeadingCollapsed": true,
    "tags": []
   },
   "source": [
    "## Data Handling"
   ]
  },
  {
   "cell_type": "code",
   "execution_count": 523,
   "id": "97126365-f65a-452d-a794-05c3d094486e",
   "metadata": {},
   "outputs": [
    {
     "data": {
      "text/plain": [
       "((43200, 28, 28, 1),\n",
       " (43200, 1),\n",
       " (4800, 28, 28, 1),\n",
       " (4800, 1),\n",
       " (12000, 28, 28, 1),\n",
       " (12000, 1))"
      ]
     },
     "execution_count": 523,
     "metadata": {},
     "output_type": "execute_result"
    }
   ],
   "source": [
    "p4[\"full_data\"] = genFromImage(imageDir, (28, 28))\n",
    "p4X, p4Y, p4Xt, p4Yt, _ = trainTestSplit(p4[\"full_data\"], 0.8, imgToFeatures)\n",
    "\n",
    "p4X, p4Y = p4X.reshape(p4X.shape[0], 28, 28, 1), p4Y.astype('int').reshape(p4Y.shape[0], 1)\n",
    "testX, testy = p4Xt.reshape(p4Xt.shape[0], 28, 28, 1), p4Yt.astype('int').reshape(p4Yt.shape[0], 1)\n",
    "\n",
    "indices = np.arange(p4X.shape[0])\n",
    "np.random.shuffle(indices)\n",
    "\n",
    "s = int(0.9 * p4X.shape[0])\n",
    "trainX, valx = p4X[indices[:s]], p4X[indices[s:]]\n",
    "trainy, valy = p4Y[indices[:s]], p4Y[indices[s:]]\n",
    "\n",
    "trainX.shape, trainy.shape, valx.shape, valy.shape, testX.shape, testy.shape"
   ]
  },
  {
   "cell_type": "markdown",
   "id": "1f76d332-f2c7-4e1a-a5ee-376bfdbce6a1",
   "metadata": {
    "id": "fh22wUeRu_Su",
    "jp-MarkdownHeadingCollapsed": true,
    "tags": []
   },
   "source": [
    "## Overfit"
   ]
  },
  {
   "cell_type": "code",
   "execution_count": 7,
   "id": "abd21104-8cc6-458c-a358-148ed3e442fb",
   "metadata": {
    "id": "OViZ1sIdsFpy"
   },
   "outputs": [],
   "source": [
    "# Make convolution class and forward, and backward propagation of it \n",
    "class image_convolution:    \n",
    "    def __init__(self, total_filter):\n",
    "        self.num_filters = total_filter\n",
    "        # Initialize the weight matrix\n",
    "        self.weight_matrix = np.random.randn(total_filter, 3, 3)\n",
    "    # For convolution we need to split into weight matrix size patches\n",
    "    def patch_maker(self, image): \n",
    "        height, width = image.shape\n",
    "        # Itrate all regions and split into 3x3   \n",
    "        for i in range(height-2):\n",
    "            for j in range(width-2):\n",
    "                img_patch = image[i:(i+3), j:(j+3)]\n",
    "                yield img_patch, i, j\n",
    "    # Now feed forward propagation        \n",
    "    def forward_prop(self, input):\n",
    "        self.last_input = input    \n",
    "        height, width = input.shape\n",
    "        # Make a dummy matrix to store the output    \n",
    "        dummy_out = np.zeros((height-2, width-2, self.num_filters))\n",
    "        # Now find patches using patch maker    \n",
    "        for img_patch, i, j in self.patch_maker(input):\n",
    "            dummy_out[i, j] = np.sum(img_patch * self.weight_matrix, axis=(1,2))\n",
    "        return dummy_out\n",
    "    # Simultaneously define backpropapgation for convolution\n",
    "    def backprop_conv(self, loss_grad_out, learning_rate):\n",
    "        # Initalize a matrix to store gradient loss of weights\n",
    "        weight_grad_loss = np.zeros(self.weight_matrix.shape)\n",
    "        for img_patch, i, j in self.patch_maker(self.last_input):\n",
    "            for f in range(self.num_filters):\n",
    "                weight_grad_loss[f] += loss_grad_out[i,j,f] * img_patch\n",
    "        # use gradient descent to update weights\n",
    "        self.weight_matrix -= learning_rate * weight_grad_loss\n",
    "        return None"
   ]
  },
  {
   "cell_type": "code",
   "execution_count": 8,
   "id": "9847e711-06c3-423b-881f-a2d0b1417e9a",
   "metadata": {
    "id": "Bz4UifS4sabb"
   },
   "outputs": [],
   "source": [
    "# Now make a class for maxpooling\n",
    "class MaxPooling:\n",
    "    def img_pooler(self, image):\n",
    "        height, width, _ = image.shape\n",
    "        # Since we need to have (2, 2) pooling    \n",
    "        new_h = height // 2\n",
    "        new_w = width // 2\n",
    "        # Now divide it on 2x2 patches\n",
    "        for i in range(new_h):\n",
    "            for j in range(new_w):\n",
    "                img_patch = image[(i*2):(i*2+2), (j*2):(j*2+2)]\n",
    "                yield img_patch, i, j\n",
    "    # Again for maxpooling make a feed_forward function            \n",
    "    def forward_max(self, input):\n",
    "        self.final_input = input\n",
    "        # Find dimesnsion of input    \n",
    "        height, width, matrix_count = input.shape\n",
    "        output = np.zeros((height//2, width//2, matrix_count))\n",
    "        # For each pooled patch find output\n",
    "        for img_patch, i, j in self.img_pooler(input):\n",
    "            output[i,j] = np.amax(img_patch,axis=(0,1))    \n",
    "        return output\n",
    "     # Same way define the backpropagation for MaxPooling\n",
    "    def backprop_max(self, loss_grad_out):\n",
    "        loss_grad_input = np.zeros(self.final_input.shape)\n",
    "        # Now from enter into each img_patch\n",
    "        for img_patch, i, j in self.img_pooler(self.final_input):\n",
    "            height, width, weight_matrix = img_patch.shape\n",
    "            patch_maxima = np.amax(img_patch, axis=(0,1))\n",
    "            # Now iterate in all weight matrix all elements\n",
    "            for row in range(height):\n",
    "                for col in range(width):\n",
    "                    for channel in range(weight_matrix):\n",
    "                        #if the pixel was the max value, copy the gradient to it\n",
    "                        if(img_patch[row,col,channel] == patch_maxima[channel]):\n",
    "                            loss_grad_input[i*2+row, j*2+col ,channel] = loss_grad_out[i, j, channel]\n",
    "                            break\n",
    "        return loss_grad_input\n"
   ]
  },
  {
   "cell_type": "code",
   "execution_count": 9,
   "id": "00107153-41de-42b4-89e9-4a28533d9780",
   "metadata": {
    "id": "DERbbsads6TV"
   },
   "outputs": [],
   "source": [
    "\n",
    " # Define the last class for classification network\n",
    "class Fully_Connected_Net:\n",
    "    def __init__(self, in_length, neuron):\n",
    "        self.weights = np.random.randn(in_length, neuron)\n",
    "        self.biases = np.zeros(neuron)\n",
    "    \n",
    "    # Since formula for FC backpropagation is different hence define once again for FC\n",
    "    def forward_fc(self, input_data):    \n",
    "        self.last_input_shape = input_data.shape\n",
    "        # Flatten the data to feed forward\n",
    "        input_data = input_data.flatten()\n",
    "        self.last_input = input_data\n",
    "        # First activation \n",
    "        active = np.dot(input_data, self.weights) + self.biases\n",
    "        self.last_layer_out = active\n",
    "        # Take softmax and return\n",
    "        exp = np.exp(active)\n",
    "        return(exp/np.sum(exp, axis=0)) \n",
    "    \n",
    "    # Backpropagation for FC Net\n",
    "    def backprop_FC(self, loss_grad, learn_rate):       \n",
    "        # Check whether the gradient is zero\n",
    "        for i, gradient in enumerate(loss_grad):\n",
    "            if(gradient == 0):\n",
    "                continue\n",
    "            last_exp = np.exp(self.last_layer_out)\n",
    "            Sum_last = np.sum(np.exp(self.last_layer_out))\n",
    "            # Now find the derivative\n",
    "            d_out = -last_exp[i] * last_exp/ (Sum_last**2)\n",
    "            d_out[i] = last_exp[i] * (Sum_last-last_exp[i]) /(Sum_last**2)\n",
    "            \n",
    "            # Gradients weights/biases\n",
    "            dw1 = self.last_input\n",
    "            db1 = 1\n",
    "            dinput = self.weights\n",
    "            # Gradients of loss with respect to output\n",
    "            df1 = gradient * d_out   \n",
    "            # Gradients of loss of next\n",
    "            dw2 = dw1[np.newaxis].T @ df1[np.newaxis]\n",
    "            db2 = df1 * db1  \n",
    "            d_inp = dinput @ df1           \n",
    "            # Now use gradient descent to update the weights\n",
    "            self.weights -= learn_rate * dw2\n",
    "            self.biases -= learn_rate * db2\n",
    "            return d_inp.reshape(self.last_input_shape)"
   ]
  },
  {
   "cell_type": "code",
   "execution_count": 14,
   "id": "3b4ffd75-5f0b-41fb-9039-edca4304dc5c",
   "metadata": {
    "colab": {
     "base_uri": "https://localhost:8080/",
     "height": 0
    },
    "id": "LGmSNHY_s_iy",
    "outputId": "16d6cca9-84c6-4c43-a2ce-64db7b05553b"
   },
   "outputs": [
    {
     "name": "stdout",
     "output_type": "stream",
     "text": [
      "---Training epoch 1 ---\n",
      "Epoch 1 training loss 26.4250 train_accuracy 49.4000, val_loss 16.9140 val_accuracy 61.0000\n",
      "---Training epoch 2 ---\n",
      "Epoch 2 training loss 10.1185 train_accuracy 73.8000, val_loss 14.6143 val_accuracy 67.0000\n",
      "---Training epoch 3 ---\n",
      "Epoch 3 training loss 6.4643 train_accuracy 82.6000, val_loss 10.4318 val_accuracy 75.0000\n",
      "---Training epoch 4 ---\n",
      "Epoch 4 training loss 5.2405 train_accuracy 84.2000, val_loss 9.8315 val_accuracy 76.0000\n",
      "---Training epoch 5 ---\n",
      "Epoch 5 training loss 4.0657 train_accuracy 85.4000, val_loss 9.7960 val_accuracy 70.0000\n",
      "---Training epoch 6 ---\n",
      "Epoch 6 training loss 3.2409 train_accuracy 87.8000, val_loss 8.9220 val_accuracy 75.0000\n",
      "---Training epoch 7 ---\n",
      "Epoch 7 training loss 2.6968 train_accuracy 89.4000, val_loss 8.2629 val_accuracy 80.0000\n",
      "---Training epoch 8 ---\n",
      "Epoch 8 training loss 2.4096 train_accuracy 89.5000, val_loss 9.9924 val_accuracy 69.0000\n",
      "---Training epoch 9 ---\n",
      "Epoch 9 training loss 2.3708 train_accuracy 89.5000, val_loss 7.4308 val_accuracy 80.0000\n",
      "---Training epoch 10 ---\n",
      "Epoch 10 training loss 1.8334 train_accuracy 91.3000, val_loss 8.9020 val_accuracy 80.0000\n"
     ]
    }
   ],
   "source": [
    "# Make an instance for all these classes\n",
    "convolution_layer = image_convolution(20)\n",
    "pooling_layer = MaxPooling()\n",
    "classification = Fully_Connected_Net(13 * 13 * 20, 10)\n",
    "\n",
    "# Now make a forward function which combine all forward models\n",
    "def feed_forward(input_image, input_label):\n",
    "    # First pass to convolution layer\n",
    "    convolved = convolution_layer.forward_prop((input_image/255))\n",
    "    # Then paa through pooling layer\n",
    "    pooled = pooling_layer.forward_max(convolved)\n",
    "    # Now classification layer\n",
    "    classi = classification.forward_fc(pooled)   \n",
    "    # Find accuracy metric\n",
    "    loss = -np.log(classi[input_label])\n",
    "    if(np.argmax(classi) == input_label):\n",
    "        accuracy =1 \n",
    "    else: \n",
    "        accuracy= 0\n",
    "    return classi, loss, accuracy\n",
    "\n",
    "# Make a function which train it\n",
    "def train(trainX, trainy, learning_rate=0.005):\n",
    "    # Feed to forward model\n",
    "    prediction, loss, acc = feed_forward(trainX, trainy)\n",
    "    # Initialialize gradient\n",
    "    gradient = np.zeros(10)\n",
    "    gradient[trainy] = -1/prediction[trainy]\n",
    "    # Update weights by Backpropagation\n",
    "    gradient = classification.backprop_FC(gradient, learning_rate)\n",
    "    pool = pooling_layer.backprop_max(gradient)\n",
    "    gradient = convolution_layer.backprop_conv(pool, learning_rate)   \n",
    "    return loss, acc\n",
    "  \n",
    "# Now simply make data ready and call the training function\n",
    "epochs = 10\n",
    "m = trainX.shape[0]\n",
    "n = valx.shape[0]\n",
    "train_loss = []\n",
    "valid_loss = []\n",
    "for epoch in range(epochs):\n",
    "    print('---Training epoch %d ---'%(epoch+1))\n",
    "    epoch_loss = 0\n",
    "    epoch_accu = 0\n",
    "    for t, (image_batch, label_batch) in enumerate(zip(trainX, trainy)):\n",
    "        img_loss, img_accu = train(image_batch, label_batch)\n",
    "        epoch_loss += img_loss\n",
    "        epoch_accu += img_accu\n",
    "    train_loss.append(epoch_loss/m)\n",
    "    validation_loss = 0\n",
    "    validation_accuracy = 0\n",
    "    for k, (val_img, val_lab) in enumerate(zip(valx, valy)):\n",
    "      classi, val_loss, val_acc = feed_forward(val_img, val_lab)\n",
    "      validation_loss += val_loss\n",
    "      validation_accuracy += val_acc\n",
    "    valid_loss.append(validation_loss/n)\n",
    "    print(f\"Epoch {epoch+1} training loss {epoch_loss/m:.4f} train_accuracy {(epoch_accu/m)*100:.4f}, val_loss {validation_loss/n:.4f} val_accuracy {(validation_accuracy/n)*100:.4f}\")\n"
   ]
  },
  {
   "cell_type": "code",
   "execution_count": 29,
   "id": "2edb668a-9793-4e6b-a3a5-16538a631cdb",
   "metadata": {
    "colab": {
     "base_uri": "https://localhost:8080/",
     "height": 489
    },
    "id": "4Z0q2OK_ul0p",
    "outputId": "edd46f9e-6380-40bd-ed8e-3d7c6780919a"
   },
   "outputs": [
    {
     "data": {
      "text/plain": [
       "Text(0.5, 1.0, 'Bias-variance curve')"
      ]
     },
     "execution_count": 29,
     "metadata": {},
     "output_type": "execute_result"
    },
    {
     "data": {
      "image/png": "[encoded data removed]",
      "text/plain": [
       "<Figure size 640x480 with 1 Axes>"
      ]
     },
     "metadata": {},
     "output_type": "display_data"
    }
   ],
   "source": [
    "# Now plot the curve\n",
    "import matplotlib.pyplot as plt\n",
    "plt.plot(train_loss)\n",
    "plt.plot(valid_loss)\n",
    "plt.legend(['Training loss', 'Validation loss'])\n",
    "plt.xlabel('number of epochs')\n",
    "plt.ylabel('Risk')\n",
    "plt.title('Bias-variance curve')"
   ]
  },
  {
   "cell_type": "markdown",
   "id": "55917a51-6204-492e-891e-a149dc6bb057",
   "metadata": {
    "id": "4lUf4OaF8fB_",
    "jp-MarkdownHeadingCollapsed": true,
    "tags": []
   },
   "source": [
    "## Regularize with L2 and early stopping"
   ]
  },
  {
   "cell_type": "code",
   "execution_count": 52,
   "id": "6ba2e717-2571-434b-b8d4-714447566fb4",
   "metadata": {
    "id": "2pb8wILEf-u5"
   },
   "outputs": [],
   "source": [
    "class Fully_Connected_Net:\n",
    "    def __init__(self, in_length, neuron, l2_reg):\n",
    "        self.weights = np.random.randn(in_length, neuron)\n",
    "        self.biases = np.zeros(neuron)\n",
    "        self.l2_reg = l2_reg\n",
    "    \n",
    "    # Since formula for FC backpropagation is different hence define once again for FC\n",
    "    def forward_fc(self, input_data):    \n",
    "        self.last_input_shape = input_data.shape\n",
    "        # Flatten the data to feed forward\n",
    "        input_data = input_data.flatten()\n",
    "        self.last_input = input_data\n",
    "        # First activation \n",
    "        active = np.dot(input_data, self.weights) + self.biases\n",
    "        self.last_layer_out = active\n",
    "        # Take softmax and return\n",
    "        exp = np.exp(active)\n",
    "        Weight = self.weights\n",
    "        Bias = self.biases\n",
    "        return (exp/np.sum(exp, axis=0)), Weight, Bias\n",
    "    \n",
    "    # Backpropagation for FC Net\n",
    "    def backprop_FC(self, loss_grad, learn_rate, l2_reg):       \n",
    "        # Check whether the gradient is zero\n",
    "        for i, gradient in enumerate(loss_grad):\n",
    "            if(gradient == 0):\n",
    "                continue\n",
    "            last_exp = np.exp(self.last_layer_out)\n",
    "            Sum_last = np.sum(np.exp(self.last_layer_out))\n",
    "            # Now find the derivative\n",
    "            d_out = -last_exp[i] * last_exp/ (Sum_last**2)\n",
    "            d_out[i] = last_exp[i] * (Sum_last-last_exp[i]) /(Sum_last**2)\n",
    "            \n",
    "            # Gradients weights/biases\n",
    "            dw1 = self.last_input\n",
    "            db1 = 1\n",
    "            dinput = self.weights\n",
    "            # Gradients of loss with respect to output\n",
    "            df1 = gradient * d_out   \n",
    "            # Gradients of loss of next\n",
    "            dw2 = dw1[np.newaxis].T @ df1[np.newaxis]\n",
    "            db2 = df1 * db1  \n",
    "            d_inp = dinput @ df1           \n",
    "            \n",
    "            # L2 regularization update\n",
    "            dw2 += self.l2_reg * self.weights\n",
    "            db2 += self.l2_reg * self.biases\n",
    "            \n",
    "            # Now use gradient descent to update the weights\n",
    "            self.weights -= learn_rate * dw2\n",
    "            self.biases -= learn_rate * db2\n",
    "        \n",
    "        return d_inp.reshape(self.last_input_shape)\n"
   ]
  },
  {
   "cell_type": "code",
   "execution_count": 53,
   "id": "65a9a27b-6d98-435a-8851-9b0df8b8dbb1",
   "metadata": {
    "colab": {
     "base_uri": "https://localhost:8080/",
     "height": 0
    },
    "id": "CdmriphO996M",
    "outputId": "5fb42ca6-a6b9-45f6-afca-f79a050dad86"
   },
   "outputs": [
    {
     "name": "stdout",
     "output_type": "stream",
     "text": [
      "---Training epoch 1 ---\n",
      "Epoch 1 training loss 30.9591 train_accuracy 47.4000, val_loss 8.0737 val_accuracy 74.9000 And val-loss deacreasing\n",
      "---Training epoch 2 ---\n",
      "Validation accuracy is not increasing. Stopping in 2 observations\n",
      "---Training epoch 3 ---\n",
      "Validation accuracy is not increasing. Stopping in 2 observations\n",
      "---Training epoch 4 ---\n",
      "Validation accuracy is not increasing. Stopping in 2 observations\n",
      "---Training epoch 5 ---\n",
      "Validation accuracy is not increasing. Stopping in 2 observations\n",
      "---Training epoch 6 ---\n",
      "Validation accuracy is not increasing. Stopping in 2 observations\n",
      "---Training epoch 7 ---\n",
      "Epoch 7 training loss 6.2723 train_accuracy 72.8000, val_loss 7.4540 val_accuracy 76.3000 And val-loss deacreasing\n",
      "---Training epoch 8 ---\n",
      "Validation accuracy is not increasing. Stopping in 2 observations\n",
      "---Training epoch 9 ---\n",
      "Epoch 9 training loss 6.8390 train_accuracy 73.1000, val_loss 6.5660 val_accuracy 74.0000 And val-loss deacreasing\n",
      "---Training epoch 10 ---\n",
      "Validation accuracy is not increasing. Stopping in 2 observations\n"
     ]
    }
   ],
   "source": [
    "# Make an instance for all these classes\n",
    "convolution_layer = image_convolution(20)\n",
    "pooling_layer = MaxPooling()\n",
    "classification = Fully_Connected_Net(13 * 13 * 20, 10, 0.1)\n",
    "\n",
    "# Now make a forward function which combine all forward models\n",
    "def feed_forward(input_image, input_label):\n",
    "    # First pass to convolution layer\n",
    "    convolved = convolution_layer.forward_prop((input_image/255))\n",
    "    # Then paa through pooling layer\n",
    "    pooled = pooling_layer.forward_max(convolved)\n",
    "    # Now classification layer\n",
    "    classi, Weight, Bias = classification.forward_fc(pooled)   \n",
    "    # Find loss with L2 regularization\n",
    "    loss = -np.log(classi[input_label])\n",
    "    # Apply regularization\n",
    "    l2_reg = 0.5*(np.sum(Weight ** 2))\n",
    "    if(np.argmax(classi) == input_label):\n",
    "        accuracy =1 \n",
    "    else: \n",
    "        accuracy= 0\n",
    "    return classi, loss, accuracy, Weight, Bias, l2_reg\n",
    "\n",
    "# Make a function which train it\n",
    "def train(trainX, trainy, learning_rate=0.005):\n",
    "    # Feed to forward model\n",
    "    prediction, loss, acc,_,_, l2_reg = feed_forward(trainX, trainy)\n",
    "    # Initialialize gradient\n",
    "    gradient = np.zeros(10)\n",
    "    gradient[trainy] = -1/prediction[trainy]\n",
    "    # Update weights by Backpropagation\n",
    "    gradient = classification.backprop_FC(gradient, learning_rate, l2_reg)\n",
    "    pool = pooling_layer.backprop_max(gradient)\n",
    "    gradient = convolution_layer.backprop_conv(pool, learning_rate)   \n",
    "    return loss, acc\n",
    "  \n",
    "# Now simply make data ready and call the training function\n",
    "epochs = 10\n",
    "m = trainX.shape[0]\n",
    "n = valx.shape[0]\n",
    "train_loss = []\n",
    "valid_loss = []\n",
    "max_loss = 1000\n",
    "for epoch in range(epochs):\n",
    "    print('---Training epoch %d ---'%(epoch+1))\n",
    "    epoch_loss = 0\n",
    "    epoch_accu = 0\n",
    "    for t, (image_batch, label_batch) in enumerate(zip(trainX, trainy)):\n",
    "        img_loss, img_accu = train(image_batch, label_batch)\n",
    "        epoch_loss += img_loss\n",
    "        epoch_accu += img_accu\n",
    "    train_loss.append(epoch_loss/m)\n",
    "    validation_loss = 0\n",
    "    validation_accuracy = 0\n",
    "    for k, (val_img, val_lab) in enumerate(zip(valx, valy)):\n",
    "      classi, val_loss, val_acc, Weight, Bias, _ = feed_forward(val_img, val_lab)\n",
    "      validation_loss += val_loss\n",
    "      validation_accuracy += val_acc\n",
    "\n",
    "    # Early stopping \n",
    "    t = validation_loss/n\n",
    "    valid_loss.append(t)\n",
    "    # Copy the weights\n",
    "    if max_loss >= t:\n",
    "      Bias = Bias\n",
    "      Weight = Weight\n",
    "      print(f\"Epoch {epoch+1} training loss {epoch_loss/m:.4f} train_accuracy {(epoch_accu/m)*100:.4f}, val_loss {t:.4f} val_accuracy {(validation_accuracy/n)*100:.4f} And val-loss deacreasing\")\n",
    "      max_loss = t\n",
    "    else:\n",
    "      print('Validation accuracy is not increasing. Stopping in 2 observations')"
   ]
  },
  {
   "cell_type": "code",
   "execution_count": 54,
   "id": "5a53be6c-9de8-49c8-86f8-fcee0e8cd27e",
   "metadata": {
    "colab": {
     "base_uri": "https://localhost:8080/",
     "height": 489
    },
    "id": "Fpak3L1_P1iS",
    "outputId": "1e10de68-6567-4f3c-8c1a-41a1338ad2c2"
   },
   "outputs": [
    {
     "data": {
      "text/plain": [
       "Text(0.5, 1.0, 'Bias-variance curve')"
      ]
     },
     "execution_count": 54,
     "metadata": {},
     "output_type": "execute_result"
    },
    {
     "data": {
      "image/png": "[encoded data removed]",
      "text/plain": [
       "<Figure size 640x480 with 1 Axes>"
      ]
     },
     "metadata": {},
     "output_type": "display_data"
    }
   ],
   "source": [
    "plt.plot(train_loss)\n",
    "plt.plot(valid_loss)\n",
    "plt.legend(['Training loss', 'Validation loss'])\n",
    "plt.xlabel('number of epochs')\n",
    "plt.ylabel('Risk')\n",
    "plt.title('Bias-variance curve')"
   ]
  },
  {
   "cell_type": "markdown",
   "id": "3385644a-f5e1-48e5-87e4-dbd00543685c",
   "metadata": {
    "id": "LjG8wEt9U_QU",
    "jp-MarkdownHeadingCollapsed": true,
    "tags": []
   },
   "source": [
    "## Regularize by input perturbation with additive Gaussian noise"
   ]
  },
  {
   "cell_type": "code",
   "execution_count": 1,
   "id": "223872e4-ab2d-4072-be9a-b6fd9f3ac572",
   "metadata": {
    "id": "2YTEp_bysavQ"
   },
   "outputs": [],
   "source": [
    "# Make convolution class and forward, and backward propagation of it \n",
    "class image_convolution:    \n",
    "    def __init__(self, total_filter):\n",
    "        self.num_filters = total_filter\n",
    "        # Initialize the weight matrix\n",
    "        self.weight_matrix = np.random.randn(total_filter, 3, 3)\n",
    "    # For convolution we need to split into weight matrix size patches\n",
    "    def patch_maker(self, image): \n",
    "        height, width = image.shape\n",
    "        # Itrate all regions and split into 3x3   \n",
    "        for i in range(height-2):\n",
    "            for j in range(width-2):\n",
    "                img_patch = image[i:(i+3), j:(j+3)]\n",
    "                yield img_patch, i, j\n",
    "    # Now feed forward propagation        \n",
    "    def forward_prop(self, input):\n",
    "        self.last_input = input    \n",
    "        height, width = input.shape\n",
    "        # Make a dummy matrix to store the output    \n",
    "        dummy_out = np.zeros((height-2, width-2, self.num_filters))\n",
    "        # Now find patches using patch maker    \n",
    "        for img_patch, i, j in self.patch_maker(input):\n",
    "            dummy_out[i, j] = np.sum(img_patch * self.weight_matrix, axis=(1,2))\n",
    "        return dummy_out\n",
    "    # Simultaneously define backpropapgation for convolution\n",
    "    def backprop_conv(self, loss_grad_out, learning_rate):\n",
    "        # Initalize a matrix to store gradient loss of weights\n",
    "        weight_grad_loss = np.zeros(self.weight_matrix.shape)\n",
    "        for img_patch, i, j in self.patch_maker(self.last_input):\n",
    "            for f in range(self.num_filters):\n",
    "                weight_grad_loss[f] += loss_grad_out[i,j,f] * img_patch\n",
    "        # use gradient descent to update weights\n",
    "        self.weight_matrix -= learning_rate * weight_grad_loss\n",
    "        return None"
   ]
  },
  {
   "cell_type": "code",
   "execution_count": 2,
   "id": "4b9360d6-1626-45f8-986c-04a4626f6c6f",
   "metadata": {
    "id": "Nnd66Y5lVN23"
   },
   "outputs": [],
   "source": [
    "# Now make a class for maxpooling\n",
    "class MaxPooling:\n",
    "    def img_pooler(self, image):\n",
    "        height, width, _ = image.shape\n",
    "        # Since we need to have (2, 2) pooling    \n",
    "        new_h = height // 2\n",
    "        new_w = width // 2\n",
    "        # Now divide it on 2x2 patches\n",
    "        for i in range(new_h):\n",
    "            for j in range(new_w):\n",
    "                img_patch = image[(i*2):(i*2+2), (j*2):(j*2+2)]\n",
    "                yield img_patch, i, j\n",
    "    # Again for maxpooling make a feed_forward function            \n",
    "    def forward_max(self, input):\n",
    "        self.final_input = input\n",
    "        # Find dimesnsion of input    \n",
    "        height, width, matrix_count = input.shape\n",
    "        output = np.zeros((height//2, width//2, matrix_count))\n",
    "        # For each pooled patch find output\n",
    "        for img_patch, i, j in self.img_pooler(input):\n",
    "            output[i,j] = np.amax(img_patch,axis=(0,1))    \n",
    "        return output\n",
    "     # Same way define the backpropagation for MaxPooling\n",
    "    def backprop_max(self, loss_grad_out):\n",
    "        loss_grad_input = np.zeros(self.final_input.shape)\n",
    "        # Now from enter into each img_patch\n",
    "        for img_patch, i, j in self.img_pooler(self.final_input):\n",
    "            height, width, weight_matrix = img_patch.shape\n",
    "            patch_maxima = np.amax(img_patch, axis=(0,1))\n",
    "            # Now iterate in all weight matrix all elements\n",
    "            for row in range(height):\n",
    "                for col in range(width):\n",
    "                    for channel in range(weight_matrix):\n",
    "                        #if the pixel was the max value, copy the gradient to it\n",
    "                        if(img_patch[row,col,channel] == patch_maxima[channel]):\n",
    "                            loss_grad_input[i*2+row, j*2+col ,channel] = loss_grad_out[i, j, channel]\n",
    "                            break\n",
    "        return loss_grad_input\n"
   ]
  },
  {
   "cell_type": "code",
   "execution_count": 3,
   "id": "23683f93-bfbb-4f11-8f54-a010fdca4a47",
   "metadata": {
    "id": "4gPoiXjaVSTC"
   },
   "outputs": [],
   "source": [
    "\n",
    " # Define the last class for classification network\n",
    "class Fully_Connected_Net:\n",
    "    def __init__(self, in_length, neuron):\n",
    "        self.weights = np.random.randn(in_length, neuron)\n",
    "        self.biases = np.zeros(neuron)\n",
    "    \n",
    "    # Since formula for FC backpropagation is different hence define once again for FC\n",
    "    def forward_fc(self, input_data):    \n",
    "        self.last_input_shape = input_data.shape\n",
    "        # Flatten the data to feed forward\n",
    "        input_data = input_data.flatten()\n",
    "        self.last_input = input_data\n",
    "        # First activation \n",
    "        active = np.dot(input_data, self.weights) + self.biases\n",
    "        self.last_layer_out = active\n",
    "        # Take softmax and return\n",
    "        exp = np.exp(active)\n",
    "        return(exp/np.sum(exp, axis=0)) \n",
    "    \n",
    "    # Backpropagation for FC Net\n",
    "    def backprop_FC(self, loss_grad, learn_rate):       \n",
    "        # Check whether the gradient is zero\n",
    "        for i, gradient in enumerate(loss_grad):\n",
    "            if(gradient == 0):\n",
    "                continue\n",
    "            last_exp = np.exp(self.last_layer_out)\n",
    "            Sum_last = np.sum(np.exp(self.last_layer_out))\n",
    "            # Now find the derivative\n",
    "            d_out = -last_exp[i] * last_exp/ (Sum_last**2)\n",
    "            d_out[i] = last_exp[i] * (Sum_last-last_exp[i]) /(Sum_last**2)\n",
    "            \n",
    "            # Gradients weights/biases\n",
    "            dw1 = self.last_input\n",
    "            db1 = 1\n",
    "            dinput = self.weights\n",
    "            # Gradients of loss with respect to output\n",
    "            df1 = gradient * d_out   \n",
    "            # Gradients of loss of next\n",
    "            dw2 = dw1[np.newaxis].T @ df1[np.newaxis]\n",
    "            db2 = df1 * db1  \n",
    "            d_inp = dinput @ df1           \n",
    "            # Now use gradient descent to update the weights\n",
    "            self.weights -= learn_rate * dw2\n",
    "            self.biases -= learn_rate * db2\n",
    "            return d_inp.reshape(self.last_input_shape)"
   ]
  },
  {
   "cell_type": "code",
   "execution_count": 21,
   "id": "f1815ee2-088e-45cb-bb49-89c4a98f853d",
   "metadata": {
    "id": "mGVpPluUWIlK"
   },
   "outputs": [],
   "source": [
    "# Add gaussian noise\n",
    "p, q, r = trainX.shape\n",
    "noise1 = np.random.randn(p, q, r)\n",
    "trainX = trainX + noise1\n",
    "p1,q1,r1 = valx.shape\n",
    "noise2 = np.random.randn(p1, q1, r1)\n",
    "valx = valx + noise2"
   ]
  },
  {
   "cell_type": "code",
   "execution_count": 23,
   "id": "af28ede1-8124-4873-95f5-f3bf9eca1197",
   "metadata": {
    "colab": {
     "base_uri": "https://localhost:8080/"
    },
    "id": "YYbT5PLWVXLk",
    "outputId": "a8f7e519-d482-41df-8dfb-1eebec13d7ec"
   },
   "outputs": [
    {
     "name": "stdout",
     "output_type": "stream",
     "text": [
      "---Training epoch 1 ---\n",
      "Epoch 1 training loss 27.1009 train_accuracy 42.6000, val_loss 20.3585 val_accuracy 48.0000\n",
      "---Training epoch 2 ---\n",
      "Epoch 2 training loss 9.7505 train_accuracy 68.8000, val_loss 17.8602 val_accuracy 56.0000\n",
      "---Training epoch 3 ---\n",
      "Epoch 3 training loss 6.3320 train_accuracy 74.6000, val_loss 14.6066 val_accuracy 59.5000\n",
      "---Training epoch 4 ---\n",
      "Epoch 4 training loss 5.7322 train_accuracy 77.3000, val_loss 13.3687 val_accuracy 59.5000\n",
      "---Training epoch 5 ---\n",
      "Epoch 5 training loss 5.1623 train_accuracy 79.7000, val_loss 18.6194 val_accuracy 51.0000\n",
      "---Training epoch 6 ---\n",
      "Epoch 6 training loss 5.3974 train_accuracy 79.6000, val_loss 11.9424 val_accuracy 72.5000\n",
      "---Training epoch 7 ---\n",
      "Epoch 7 training loss 3.8026 train_accuracy 83.6000, val_loss 11.8898 val_accuracy 71.5000\n",
      "---Training epoch 8 ---\n",
      "Epoch 8 training loss 3.6814 train_accuracy 86.0000, val_loss 14.0472 val_accuracy 68.5000\n",
      "---Training epoch 9 ---\n",
      "Epoch 9 training loss 4.3587 train_accuracy 84.0000, val_loss 17.5257 val_accuracy 65.0000\n",
      "---Training epoch 10 ---\n",
      "Epoch 10 training loss 3.1636 train_accuracy 87.3000, val_loss 14.5266 val_accuracy 65.5000\n"
     ]
    }
   ],
   "source": [
    "# Make an instance for all these classes\n",
    "convolution_layer = image_convolution(20)\n",
    "pooling_layer = MaxPooling()\n",
    "classification = Fully_Connected_Net(13 * 13 * 20, 10)\n",
    "\n",
    "# Now make a forward function which combine all forward models\n",
    "def feed_forward(input_image, input_label):\n",
    "    # First pass to convolution layer\n",
    "    convolved = convolution_layer.forward_prop((input_image/255))\n",
    "    # Then paa through pooling layer\n",
    "    pooled = pooling_layer.forward_max(convolved)\n",
    "    # Now classification layer\n",
    "    classi = classification.forward_fc(pooled)   \n",
    "    # Find accuracy metric\n",
    "    loss = -np.log(classi[input_label])\n",
    "    if(np.argmax(classi) == input_label):\n",
    "        accuracy =1 \n",
    "    else: \n",
    "        accuracy= 0\n",
    "    return classi, loss, accuracy\n",
    "\n",
    "# Make a function which train it\n",
    "def train(trainX, trainy, learning_rate=0.005):\n",
    "    # Feed to forward model\n",
    "    prediction, loss, acc = feed_forward(trainX, trainy)\n",
    "    # Initialialize gradient\n",
    "    gradient = np.zeros(10)\n",
    "    gradient[trainy] = -1/prediction[trainy]\n",
    "    # Update weights by Backpropagation\n",
    "    gradient = classification.backprop_FC(gradient, learning_rate)\n",
    "    pool = pooling_layer.backprop_max(gradient)\n",
    "    gradient = convolution_layer.backprop_conv(pool, learning_rate)   \n",
    "    return loss, acc\n",
    "  \n",
    "# Now simply make data ready and call the training function\n",
    "epochs = 10\n",
    "m = trainX.shape[0]\n",
    "n = valx.shape[0]\n",
    "train_loss = []\n",
    "valid_loss = []\n",
    "for epoch in range(epochs):\n",
    "    print('---Training epoch %d ---'%(epoch+1))\n",
    "    epoch_loss = 0\n",
    "    epoch_accu = 0\n",
    "    for t, (image_batch, label_batch) in enumerate(zip(trainX, trainy)):\n",
    "        img_loss, img_accu = train(image_batch, label_batch)\n",
    "        epoch_loss += img_loss\n",
    "        epoch_accu += img_accu\n",
    "    train_loss.append(epoch_loss/m)\n",
    "    validation_loss = 0\n",
    "    validation_accuracy = 0\n",
    "    for k, (val_img, val_lab) in enumerate(zip(valx, valy)):\n",
    "      classi, val_loss, val_acc = feed_forward(val_img, val_lab)\n",
    "      validation_loss += val_loss\n",
    "      validation_accuracy += val_acc\n",
    "    valid_loss.append(validation_loss/n)\n",
    "    print(f\"Epoch {epoch+1} training loss {epoch_loss/m:.4f} train_accuracy {(epoch_accu/m)*100:.4f}, val_loss {validation_loss/n:.4f} val_accuracy {(validation_accuracy/n)*100:.4f}\")\n"
   ]
  },
  {
   "cell_type": "code",
   "execution_count": 24,
   "id": "8be3ab52-5021-4af9-9289-44cacdea9889",
   "metadata": {
    "colab": {
     "base_uri": "https://localhost:8080/",
     "height": 489
    },
    "id": "AB2M_XEiZcmI",
    "outputId": "75a7b23b-fc60-4434-8035-9d5d9b49a6c1"
   },
   "outputs": [
    {
     "data": {
      "text/plain": [
       "Text(0.5, 1.0, 'Bias-variance curve')"
      ]
     },
     "execution_count": 24,
     "metadata": {},
     "output_type": "execute_result"
    },
    {
     "data": {
      "image/png": "[encoded data removed]",
      "text/plain": [
       "<Figure size 640x480 with 1 Axes>"
      ]
     },
     "metadata": {},
     "output_type": "display_data"
    }
   ],
   "source": [
    "# Plot the bias varaince curve\n",
    "plt.plot(train_loss)\n",
    "plt.plot(valid_loss)\n",
    "plt.legend(['Training loss', 'Validation loss'])\n",
    "plt.xlabel('number of epochs')\n",
    "plt.ylabel('Risk')\n",
    "plt.title('Bias-variance curve')"
   ]
  },
  {
   "cell_type": "markdown",
   "id": "55265079-c87a-4aa6-a23d-865a1ad9f853",
   "metadata": {
    "jp-MarkdownHeadingCollapsed": true,
    "tags": []
   },
   "source": [
    "# P7 (Neural Networks, MLP)\n",
    "\n",
    "Train an MLP on the PCA counterpart of the KMINST dataset and report your observations\n",
    "\n",
    "**DATA:** `p5[data]`"
   ]
  },
  {
   "cell_type": "code",
   "execution_count": 286,
   "id": "9b126dec-7392-4078-82f1-c1e2cb7afeda",
   "metadata": {},
   "outputs": [
    {
     "name": "stderr",
     "output_type": "stream",
     "text": [
      "/tmp/ipykernel_1435218/786607946.py:14: RuntimeWarning: overflow encountered in exp\n",
      "  return 1.0 / (1.0 + np.exp(-z))\n"
     ]
    },
    {
     "name": "stdout",
     "output_type": "stream",
     "text": [
      "Epoch 1: \t  train_loss = 1901.53  \tval_loss = 821.29 \t  train_acc = 0.82  \t val_acc = 0.82\n",
      "Epoch 2: \t  train_loss = 1331.07  \tval_loss = 577.65 \t  train_acc = 0.85  \t val_acc = 0.85\n",
      "Epoch 3: \t  train_loss = 1130.10  \tval_loss = 491.74 \t  train_acc = 0.86  \t val_acc = 0.86\n",
      "Epoch 4: \t  train_loss = 1041.30  \tval_loss = 459.21 \t  train_acc = 0.87  \t val_acc = 0.86\n",
      "Epoch 5: \t  train_loss = 965.91  \tval_loss = 426.14 \t  train_acc = 0.88  \t val_acc = 0.87\n",
      "Epoch 6: \t  train_loss = 935.50  \tval_loss = 413.98 \t  train_acc = 0.87  \t val_acc = 0.87\n",
      "Epoch 7: \t  train_loss = 884.92  \tval_loss = 394.73 \t  train_acc = 0.88  \t val_acc = 0.88\n",
      "Epoch 8: \t  train_loss = 859.36  \tval_loss = 383.16 \t  train_acc = 0.88  \t val_acc = 0.88\n",
      "Epoch 9: \t  train_loss = 835.14  \tval_loss = 374.90 \t  train_acc = 0.89  \t val_acc = 0.88\n",
      "Epoch 10: \t  train_loss = 810.50  \tval_loss = 365.90 \t  train_acc = 0.89  \t val_acc = 0.88\n",
      "Epoch 11: \t  train_loss = 790.91  \tval_loss = 356.96 \t  train_acc = 0.89  \t val_acc = 0.89\n",
      "Epoch 12: \t  train_loss = 782.83  \tval_loss = 359.56 \t  train_acc = 0.89  \t val_acc = 0.88\n",
      "Epoch 13: \t  train_loss = 765.75  \tval_loss = 346.54 \t  train_acc = 0.89  \t val_acc = 0.89\n",
      "Epoch 14: \t  train_loss = 751.93  \tval_loss = 343.00 \t  train_acc = 0.89  \t val_acc = 0.89\n",
      "Epoch 15: \t  train_loss = 743.19  \tval_loss = 339.30 \t  train_acc = 0.90  \t val_acc = 0.89\n",
      "Epoch 16: \t  train_loss = 740.26  \tval_loss = 339.11 \t  train_acc = 0.90  \t val_acc = 0.89\n",
      "Epoch 17: \t  train_loss = 720.83  \tval_loss = 332.79 \t  train_acc = 0.90  \t val_acc = 0.89\n",
      "Epoch 18: \t  train_loss = 716.72  \tval_loss = 326.33 \t  train_acc = 0.90  \t val_acc = 0.89\n",
      "Epoch 19: \t  train_loss = 718.35  \tval_loss = 323.88 \t  train_acc = 0.90  \t val_acc = 0.89\n",
      "Epoch 20: \t  train_loss = 707.09  \tval_loss = 320.41 \t  train_acc = 0.90  \t val_acc = 0.90\n",
      "Epoch 21: \t  train_loss = 759.38  \tval_loss = 340.06 \t  train_acc = 0.89  \t val_acc = 0.89\n",
      "Epoch 22: \t  train_loss = 720.84  \tval_loss = 330.81 \t  train_acc = 0.90  \t val_acc = 0.89\n",
      "Epoch 23: \t  train_loss = 706.79  \tval_loss = 325.03 \t  train_acc = 0.90  \t val_acc = 0.89\n",
      "Epoch 24: \t  train_loss = 708.81  \tval_loss = 322.84 \t  train_acc = 0.90  \t val_acc = 0.89\n",
      "Epoch 25: \t  train_loss = 700.05  \tval_loss = 316.03 \t  train_acc = 0.90  \t val_acc = 0.90\n",
      "Epoch 26: \t  train_loss = 699.77  \tval_loss = 314.49 \t  train_acc = 0.90  \t val_acc = 0.90\n",
      "Epoch 27: \t  train_loss = 688.75  \tval_loss = 314.42 \t  train_acc = 0.90  \t val_acc = 0.90\n",
      "Epoch 28: \t  train_loss = 775.16  \tval_loss = 349.46 \t  train_acc = 0.89  \t val_acc = 0.89\n",
      "Epoch 29: \t  train_loss = 715.00  \tval_loss = 327.69 \t  train_acc = 0.90  \t val_acc = 0.89\n",
      "Epoch 30: \t  train_loss = 705.36  \tval_loss = 326.95 \t  train_acc = 0.90  \t val_acc = 0.89\n",
      "Epoch 31: \t  train_loss = 701.54  \tval_loss = 319.56 \t  train_acc = 0.90  \t val_acc = 0.90\n",
      "Epoch 32: \t  train_loss = 695.20  \tval_loss = 319.32 \t  train_acc = 0.90  \t val_acc = 0.90\n",
      "Epoch 33: \t  train_loss = 687.70  \tval_loss = 320.40 \t  train_acc = 0.90  \t val_acc = 0.89\n",
      "Epoch 34: \t  train_loss = 676.15  \tval_loss = 311.40 \t  train_acc = 0.91  \t val_acc = 0.90\n",
      "Epoch 35: \t  train_loss = 680.14  \tval_loss = 315.02 \t  train_acc = 0.90  \t val_acc = 0.89\n",
      "Epoch 36: \t  train_loss = 672.58  \tval_loss = 310.95 \t  train_acc = 0.90  \t val_acc = 0.89\n",
      "Epoch 37: \t  train_loss = 674.66  \tval_loss = 309.89 \t  train_acc = 0.90  \t val_acc = 0.90\n",
      "Epoch 38: \t  train_loss = 678.64  \tval_loss = 315.70 \t  train_acc = 0.90  \t val_acc = 0.89\n",
      "Epoch 39: \t  train_loss = 683.93  \tval_loss = 317.30 \t  train_acc = 0.90  \t val_acc = 0.89\n",
      "Epoch 40: \t  train_loss = 671.23  \tval_loss = 313.15 \t  train_acc = 0.90  \t val_acc = 0.90\n",
      "Epoch 41: \t  train_loss = 668.86  \tval_loss = 311.73 \t  train_acc = 0.91  \t val_acc = 0.90\n",
      "Epoch 42: \t  train_loss = 674.24  \tval_loss = 314.79 \t  train_acc = 0.90  \t val_acc = 0.90\n",
      "Epoch 43: \t  train_loss = 677.06  \tval_loss = 311.21 \t  train_acc = 0.90  \t val_acc = 0.89\n",
      "Epoch 44: \t  train_loss = 658.44  \tval_loss = 307.78 \t  train_acc = 0.90  \t val_acc = 0.90\n",
      "Epoch 45: \t  train_loss = 657.26  \tval_loss = 303.53 \t  train_acc = 0.91  \t val_acc = 0.90\n",
      "Epoch 46: \t  train_loss = 657.01  \tval_loss = 308.94 \t  train_acc = 0.90  \t val_acc = 0.90\n",
      "Epoch 47: \t  train_loss = 644.54  \tval_loss = 306.28 \t  train_acc = 0.91  \t val_acc = 0.90\n",
      "Epoch 48: \t  train_loss = 648.86  \tval_loss = 302.16 \t  train_acc = 0.91  \t val_acc = 0.90\n",
      "Epoch 49: \t  train_loss = 651.58  \tval_loss = 303.94 \t  train_acc = 0.91  \t val_acc = 0.90\n",
      "Epoch 50: \t  train_loss = 644.58  \tval_loss = 301.22 \t  train_acc = 0.91  \t val_acc = 0.90\n"
     ]
    }
   ],
   "source": [
    "mlp = [[] for _ in range(4)]\n",
    "n_labels = len(np.unique(p4['Y']))\n",
    "\n",
    "# Shuffle the training data randomly\n",
    "indices = np.arange(p5['X'].shape[0])\n",
    "np.random.shuffle(indices)\n",
    "\n",
    "s = int(0.7 * p5['X'].shape[0])\n",
    "xtrain, xval = p5['X'][indices[:s]], p5['X'][indices[s:]]\n",
    "ytrain, yval = p5['Y'][indices[:s]], p5['Y'][indices[s:]]\n",
    "\n",
    "layers = [xtrain.shape[1], 32, n_labels]\n",
    "mlp[0] = MLP(layers, 'sigmoid', 'softmax','ce', learning_rate = 0.1)\n",
    "\n",
    "train_losses, val_losses, train_accs, val_accs = mlp[0].train(xtrain, ytrain, xval, yval, num_epochs = 50 , batch_size = 256)"
   ]
  },
  {
   "cell_type": "code",
   "execution_count": 287,
   "id": "29246440-bbdc-4cd5-828b-224dd687077c",
   "metadata": {},
   "outputs": [
    {
     "name": "stderr",
     "output_type": "stream",
     "text": [
      "/tmp/ipykernel_1435218/786607946.py:28: RuntimeWarning: invalid value encountered in divide\n",
      "  return exp_z / np.sum(exp_z, axis=0, keepdims=True)\n"
     ]
    },
    {
     "name": "stdout",
     "output_type": "stream",
     "text": [
      "Epoch 1: \t  train_loss = nan  \tval_loss = nan \t  train_acc = 0.10  \t val_acc = 0.10\n",
      "Epoch 2: \t  train_loss = nan  \tval_loss = nan \t  train_acc = 0.10  \t val_acc = 0.10\n",
      "Epoch 3: \t  train_loss = nan  \tval_loss = nan \t  train_acc = 0.10  \t val_acc = 0.10\n",
      "Epoch 4: \t  train_loss = nan  \tval_loss = nan \t  train_acc = 0.10  \t val_acc = 0.10\n",
      "Epoch 5: \t  train_loss = nan  \tval_loss = nan \t  train_acc = 0.10  \t val_acc = 0.10\n",
      "Epoch 6: \t  train_loss = nan  \tval_loss = nan \t  train_acc = 0.10  \t val_acc = 0.10\n",
      "Epoch 7: \t  train_loss = nan  \tval_loss = nan \t  train_acc = 0.10  \t val_acc = 0.10\n",
      "Epoch 8: \t  train_loss = nan  \tval_loss = nan \t  train_acc = 0.10  \t val_acc = 0.10\n",
      "Epoch 9: \t  train_loss = nan  \tval_loss = nan \t  train_acc = 0.10  \t val_acc = 0.10\n",
      "Epoch 10: \t  train_loss = nan  \tval_loss = nan \t  train_acc = 0.10  \t val_acc = 0.10\n",
      "Epoch 11: \t  train_loss = nan  \tval_loss = nan \t  train_acc = 0.10  \t val_acc = 0.10\n",
      "Epoch 12: \t  train_loss = nan  \tval_loss = nan \t  train_acc = 0.10  \t val_acc = 0.10\n",
      "Epoch 13: \t  train_loss = nan  \tval_loss = nan \t  train_acc = 0.10  \t val_acc = 0.10\n",
      "Epoch 14: \t  train_loss = nan  \tval_loss = nan \t  train_acc = 0.10  \t val_acc = 0.10\n",
      "Epoch 15: \t  train_loss = nan  \tval_loss = nan \t  train_acc = 0.10  \t val_acc = 0.10\n",
      "Epoch 16: \t  train_loss = nan  \tval_loss = nan \t  train_acc = 0.10  \t val_acc = 0.10\n",
      "Epoch 17: \t  train_loss = nan  \tval_loss = nan \t  train_acc = 0.10  \t val_acc = 0.10\n",
      "Epoch 18: \t  train_loss = nan  \tval_loss = nan \t  train_acc = 0.10  \t val_acc = 0.10\n",
      "Epoch 19: \t  train_loss = nan  \tval_loss = nan \t  train_acc = 0.10  \t val_acc = 0.10\n",
      "Epoch 20: \t  train_loss = nan  \tval_loss = nan \t  train_acc = 0.10  \t val_acc = 0.10\n",
      "Epoch 21: \t  train_loss = nan  \tval_loss = nan \t  train_acc = 0.10  \t val_acc = 0.10\n",
      "Epoch 22: \t  train_loss = nan  \tval_loss = nan \t  train_acc = 0.10  \t val_acc = 0.10\n",
      "Epoch 23: \t  train_loss = nan  \tval_loss = nan \t  train_acc = 0.10  \t val_acc = 0.10\n",
      "Epoch 24: \t  train_loss = nan  \tval_loss = nan \t  train_acc = 0.10  \t val_acc = 0.10\n",
      "Epoch 25: \t  train_loss = nan  \tval_loss = nan \t  train_acc = 0.10  \t val_acc = 0.10\n",
      "Epoch 26: \t  train_loss = nan  \tval_loss = nan \t  train_acc = 0.10  \t val_acc = 0.10\n",
      "Epoch 27: \t  train_loss = nan  \tval_loss = nan \t  train_acc = 0.10  \t val_acc = 0.10\n",
      "Epoch 28: \t  train_loss = nan  \tval_loss = nan \t  train_acc = 0.10  \t val_acc = 0.10\n",
      "Epoch 29: \t  train_loss = nan  \tval_loss = nan \t  train_acc = 0.10  \t val_acc = 0.10\n",
      "Epoch 30: \t  train_loss = nan  \tval_loss = nan \t  train_acc = 0.10  \t val_acc = 0.10\n",
      "Epoch 31: \t  train_loss = nan  \tval_loss = nan \t  train_acc = 0.10  \t val_acc = 0.10\n",
      "Epoch 32: \t  train_loss = nan  \tval_loss = nan \t  train_acc = 0.10  \t val_acc = 0.10\n",
      "Epoch 33: \t  train_loss = nan  \tval_loss = nan \t  train_acc = 0.10  \t val_acc = 0.10\n",
      "Epoch 34: \t  train_loss = nan  \tval_loss = nan \t  train_acc = 0.10  \t val_acc = 0.10\n",
      "Epoch 35: \t  train_loss = nan  \tval_loss = nan \t  train_acc = 0.10  \t val_acc = 0.10\n",
      "Epoch 36: \t  train_loss = nan  \tval_loss = nan \t  train_acc = 0.10  \t val_acc = 0.10\n",
      "Epoch 37: \t  train_loss = nan  \tval_loss = nan \t  train_acc = 0.10  \t val_acc = 0.10\n",
      "Epoch 38: \t  train_loss = nan  \tval_loss = nan \t  train_acc = 0.10  \t val_acc = 0.10\n",
      "Epoch 39: \t  train_loss = nan  \tval_loss = nan \t  train_acc = 0.10  \t val_acc = 0.10\n",
      "Epoch 40: \t  train_loss = nan  \tval_loss = nan \t  train_acc = 0.10  \t val_acc = 0.10\n",
      "Epoch 41: \t  train_loss = nan  \tval_loss = nan \t  train_acc = 0.10  \t val_acc = 0.10\n",
      "Epoch 42: \t  train_loss = nan  \tval_loss = nan \t  train_acc = 0.10  \t val_acc = 0.10\n",
      "Epoch 43: \t  train_loss = nan  \tval_loss = nan \t  train_acc = 0.10  \t val_acc = 0.10\n",
      "Epoch 44: \t  train_loss = nan  \tval_loss = nan \t  train_acc = 0.10  \t val_acc = 0.10\n",
      "Epoch 45: \t  train_loss = nan  \tval_loss = nan \t  train_acc = 0.10  \t val_acc = 0.10\n",
      "Epoch 46: \t  train_loss = nan  \tval_loss = nan \t  train_acc = 0.10  \t val_acc = 0.10\n",
      "Epoch 47: \t  train_loss = nan  \tval_loss = nan \t  train_acc = 0.10  \t val_acc = 0.10\n",
      "Epoch 48: \t  train_loss = nan  \tval_loss = nan \t  train_acc = 0.10  \t val_acc = 0.10\n",
      "Epoch 49: \t  train_loss = nan  \tval_loss = nan \t  train_acc = 0.10  \t val_acc = 0.10\n",
      "Epoch 50: \t  train_loss = nan  \tval_loss = nan \t  train_acc = 0.10  \t val_acc = 0.10\n"
     ]
    }
   ],
   "source": [
    "layers = [xtrain.shape[1], 64, 32, n_labels]\n",
    "mlp[1] = MLP(layers, 'relu', 'softmax','mse', learning_rate = 0.01)\n",
    "\n",
    "train_losses, val_losses, train_accs, val_accs = mlp[1].train(xtrain, ytrain, xval, yval, num_epochs = 50 , batch_size = 256)"
   ]
  },
  {
   "cell_type": "code",
   "execution_count": 288,
   "id": "a6ee388f-b364-417a-8723-4a2f2060a7fc",
   "metadata": {},
   "outputs": [
    {
     "name": "stderr",
     "output_type": "stream",
     "text": [
      "/tmp/ipykernel_1435218/786607946.py:14: RuntimeWarning: overflow encountered in exp\n",
      "  return 1.0 / (1.0 + np.exp(-z))\n"
     ]
    },
    {
     "name": "stdout",
     "output_type": "stream",
     "text": [
      "Epoch 1: \t  train_loss = 940.97  \tval_loss = 403.33 \t  train_acc = 0.10  \t val_acc = 0.10\n",
      "Epoch 2: \t  train_loss = 928.85  \tval_loss = 398.03 \t  train_acc = 0.10  \t val_acc = 0.10\n",
      "Epoch 3: \t  train_loss = 901.26  \tval_loss = 386.18 \t  train_acc = 0.53  \t val_acc = 0.54\n",
      "Epoch 4: \t  train_loss = 855.13  \tval_loss = 366.33 \t  train_acc = 0.58  \t val_acc = 0.59\n",
      "Epoch 5: \t  train_loss = 768.32  \tval_loss = 329.10 \t  train_acc = 0.70  \t val_acc = 0.70\n",
      "Epoch 6: \t  train_loss = 656.37  \tval_loss = 281.27 \t  train_acc = 0.78  \t val_acc = 0.78\n",
      "Epoch 7: \t  train_loss = 538.16  \tval_loss = 230.81 \t  train_acc = 0.80  \t val_acc = 0.80\n",
      "Epoch 8: \t  train_loss = 435.75  \tval_loss = 187.01 \t  train_acc = 0.84  \t val_acc = 0.83\n",
      "Epoch 9: \t  train_loss = 368.09  \tval_loss = 158.20 \t  train_acc = 0.84  \t val_acc = 0.84\n",
      "Epoch 10: \t  train_loss = 317.87  \tval_loss = 137.24 \t  train_acc = 0.85  \t val_acc = 0.85\n",
      "Epoch 11: \t  train_loss = 281.98  \tval_loss = 122.28 \t  train_acc = 0.86  \t val_acc = 0.86\n",
      "Epoch 12: \t  train_loss = 258.38  \tval_loss = 112.97 \t  train_acc = 0.87  \t val_acc = 0.86\n",
      "Epoch 13: \t  train_loss = 235.59  \tval_loss = 103.48 \t  train_acc = 0.87  \t val_acc = 0.87\n",
      "Epoch 14: \t  train_loss = 220.44  \tval_loss = 97.58 \t  train_acc = 0.88  \t val_acc = 0.87\n",
      "Epoch 15: \t  train_loss = 209.85  \tval_loss = 93.41 \t  train_acc = 0.88  \t val_acc = 0.87\n",
      "Epoch 16: \t  train_loss = 201.13  \tval_loss = 89.70 \t  train_acc = 0.88  \t val_acc = 0.88\n",
      "Epoch 17: \t  train_loss = 196.06  \tval_loss = 87.93 \t  train_acc = 0.88  \t val_acc = 0.88\n",
      "Epoch 18: \t  train_loss = 188.05  \tval_loss = 84.83 \t  train_acc = 0.89  \t val_acc = 0.88\n",
      "Epoch 19: \t  train_loss = 185.21  \tval_loss = 83.84 \t  train_acc = 0.89  \t val_acc = 0.88\n",
      "Epoch 20: \t  train_loss = 179.17  \tval_loss = 81.16 \t  train_acc = 0.89  \t val_acc = 0.88\n",
      "Epoch 21: \t  train_loss = 175.04  \tval_loss = 79.62 \t  train_acc = 0.89  \t val_acc = 0.88\n",
      "Epoch 22: \t  train_loss = 170.87  \tval_loss = 77.72 \t  train_acc = 0.90  \t val_acc = 0.89\n",
      "Epoch 23: \t  train_loss = 166.60  \tval_loss = 76.29 \t  train_acc = 0.90  \t val_acc = 0.89\n",
      "Epoch 24: \t  train_loss = 163.43  \tval_loss = 74.56 \t  train_acc = 0.90  \t val_acc = 0.89\n",
      "Epoch 25: \t  train_loss = 161.03  \tval_loss = 73.94 \t  train_acc = 0.90  \t val_acc = 0.89\n",
      "Epoch 26: \t  train_loss = 159.02  \tval_loss = 73.30 \t  train_acc = 0.90  \t val_acc = 0.89\n",
      "Epoch 27: \t  train_loss = 158.79  \tval_loss = 73.04 \t  train_acc = 0.90  \t val_acc = 0.89\n",
      "Epoch 28: \t  train_loss = 156.38  \tval_loss = 72.56 \t  train_acc = 0.90  \t val_acc = 0.89\n",
      "Epoch 29: \t  train_loss = 152.43  \tval_loss = 70.83 \t  train_acc = 0.90  \t val_acc = 0.89\n",
      "Epoch 30: \t  train_loss = 155.83  \tval_loss = 72.25 \t  train_acc = 0.90  \t val_acc = 0.89\n",
      "Epoch 31: \t  train_loss = 147.94  \tval_loss = 68.80 \t  train_acc = 0.91  \t val_acc = 0.90\n",
      "Epoch 32: \t  train_loss = 146.44  \tval_loss = 68.55 \t  train_acc = 0.91  \t val_acc = 0.90\n",
      "Epoch 33: \t  train_loss = 145.48  \tval_loss = 67.87 \t  train_acc = 0.91  \t val_acc = 0.90\n",
      "Epoch 34: \t  train_loss = 143.84  \tval_loss = 67.77 \t  train_acc = 0.91  \t val_acc = 0.90\n",
      "Epoch 35: \t  train_loss = 142.49  \tval_loss = 67.23 \t  train_acc = 0.91  \t val_acc = 0.90\n",
      "Epoch 36: \t  train_loss = 138.81  \tval_loss = 66.09 \t  train_acc = 0.91  \t val_acc = 0.90\n",
      "Epoch 37: \t  train_loss = 138.09  \tval_loss = 65.98 \t  train_acc = 0.91  \t val_acc = 0.90\n",
      "Epoch 38: \t  train_loss = 137.79  \tval_loss = 64.99 \t  train_acc = 0.91  \t val_acc = 0.91\n",
      "Epoch 39: \t  train_loss = 134.67  \tval_loss = 63.92 \t  train_acc = 0.92  \t val_acc = 0.91\n",
      "Epoch 40: \t  train_loss = 134.22  \tval_loss = 64.27 \t  train_acc = 0.92  \t val_acc = 0.91\n",
      "Epoch 41: \t  train_loss = 133.72  \tval_loss = 63.57 \t  train_acc = 0.92  \t val_acc = 0.91\n",
      "Epoch 42: \t  train_loss = 132.40  \tval_loss = 63.71 \t  train_acc = 0.92  \t val_acc = 0.91\n",
      "Epoch 43: \t  train_loss = 129.95  \tval_loss = 63.14 \t  train_acc = 0.92  \t val_acc = 0.91\n",
      "Epoch 44: \t  train_loss = 132.07  \tval_loss = 63.78 \t  train_acc = 0.92  \t val_acc = 0.91\n",
      "Epoch 45: \t  train_loss = 129.12  \tval_loss = 62.88 \t  train_acc = 0.92  \t val_acc = 0.91\n",
      "Epoch 46: \t  train_loss = 126.57  \tval_loss = 61.50 \t  train_acc = 0.92  \t val_acc = 0.91\n",
      "Epoch 47: \t  train_loss = 124.59  \tval_loss = 60.78 \t  train_acc = 0.92  \t val_acc = 0.91\n",
      "Epoch 48: \t  train_loss = 128.63  \tval_loss = 62.45 \t  train_acc = 0.92  \t val_acc = 0.91\n",
      "Epoch 49: \t  train_loss = 138.84  \tval_loss = 66.93 \t  train_acc = 0.91  \t val_acc = 0.90\n",
      "Epoch 50: \t  train_loss = 122.32  \tval_loss = 60.52 \t  train_acc = 0.93  \t val_acc = 0.91\n"
     ]
    }
   ],
   "source": [
    "layers = [xtrain.shape[1], 128, 64, 32, n_labels]\n",
    "mlp[2] = MLP(layers, 'sigmoid', 'softmax','mse', learning_rate = 0.1)\n",
    "\n",
    "train_losses, val_losses, train_accs, val_accs = mlp[2].train(xtrain, ytrain, xval, yval, num_epochs = 50 , batch_size = 256)"
   ]
  },
  {
   "cell_type": "code",
   "execution_count": 289,
   "id": "e4302ef3-82ce-4f14-93f3-e232cd94adff",
   "metadata": {},
   "outputs": [
    {
     "name": "stderr",
     "output_type": "stream",
     "text": [
      "/tmp/ipykernel_1435218/786607946.py:28: RuntimeWarning: invalid value encountered in divide\n",
      "  return exp_z / np.sum(exp_z, axis=0, keepdims=True)\n"
     ]
    },
    {
     "name": "stdout",
     "output_type": "stream",
     "text": [
      "Epoch 1: \t  train_loss = nan  \tval_loss = nan \t  train_acc = 0.10  \t val_acc = 0.10\n",
      "Epoch 2: \t  train_loss = nan  \tval_loss = nan \t  train_acc = 0.10  \t val_acc = 0.10\n",
      "Epoch 3: \t  train_loss = nan  \tval_loss = nan \t  train_acc = 0.10  \t val_acc = 0.10\n",
      "Epoch 4: \t  train_loss = nan  \tval_loss = nan \t  train_acc = 0.10  \t val_acc = 0.10\n",
      "Epoch 5: \t  train_loss = nan  \tval_loss = nan \t  train_acc = 0.10  \t val_acc = 0.10\n",
      "Epoch 6: \t  train_loss = nan  \tval_loss = nan \t  train_acc = 0.10  \t val_acc = 0.10\n",
      "Epoch 7: \t  train_loss = nan  \tval_loss = nan \t  train_acc = 0.10  \t val_acc = 0.10\n",
      "Epoch 8: \t  train_loss = nan  \tval_loss = nan \t  train_acc = 0.10  \t val_acc = 0.10\n",
      "Epoch 9: \t  train_loss = nan  \tval_loss = nan \t  train_acc = 0.10  \t val_acc = 0.10\n",
      "Epoch 10: \t  train_loss = nan  \tval_loss = nan \t  train_acc = 0.10  \t val_acc = 0.10\n",
      "Epoch 11: \t  train_loss = nan  \tval_loss = nan \t  train_acc = 0.10  \t val_acc = 0.10\n",
      "Epoch 12: \t  train_loss = nan  \tval_loss = nan \t  train_acc = 0.10  \t val_acc = 0.10\n",
      "Epoch 13: \t  train_loss = nan  \tval_loss = nan \t  train_acc = 0.10  \t val_acc = 0.10\n",
      "Epoch 14: \t  train_loss = nan  \tval_loss = nan \t  train_acc = 0.10  \t val_acc = 0.10\n",
      "Epoch 15: \t  train_loss = nan  \tval_loss = nan \t  train_acc = 0.10  \t val_acc = 0.10\n",
      "Epoch 16: \t  train_loss = nan  \tval_loss = nan \t  train_acc = 0.10  \t val_acc = 0.10\n",
      "Epoch 17: \t  train_loss = nan  \tval_loss = nan \t  train_acc = 0.10  \t val_acc = 0.10\n",
      "Epoch 18: \t  train_loss = nan  \tval_loss = nan \t  train_acc = 0.10  \t val_acc = 0.10\n",
      "Epoch 19: \t  train_loss = nan  \tval_loss = nan \t  train_acc = 0.10  \t val_acc = 0.10\n",
      "Epoch 20: \t  train_loss = nan  \tval_loss = nan \t  train_acc = 0.10  \t val_acc = 0.10\n",
      "Epoch 21: \t  train_loss = nan  \tval_loss = nan \t  train_acc = 0.10  \t val_acc = 0.10\n",
      "Epoch 22: \t  train_loss = nan  \tval_loss = nan \t  train_acc = 0.10  \t val_acc = 0.10\n",
      "Epoch 23: \t  train_loss = nan  \tval_loss = nan \t  train_acc = 0.10  \t val_acc = 0.10\n",
      "Epoch 24: \t  train_loss = nan  \tval_loss = nan \t  train_acc = 0.10  \t val_acc = 0.10\n",
      "Epoch 25: \t  train_loss = nan  \tval_loss = nan \t  train_acc = 0.10  \t val_acc = 0.10\n",
      "Epoch 26: \t  train_loss = nan  \tval_loss = nan \t  train_acc = 0.10  \t val_acc = 0.10\n",
      "Epoch 27: \t  train_loss = nan  \tval_loss = nan \t  train_acc = 0.10  \t val_acc = 0.10\n",
      "Epoch 28: \t  train_loss = nan  \tval_loss = nan \t  train_acc = 0.10  \t val_acc = 0.10\n",
      "Epoch 29: \t  train_loss = nan  \tval_loss = nan \t  train_acc = 0.10  \t val_acc = 0.10\n",
      "Epoch 30: \t  train_loss = nan  \tval_loss = nan \t  train_acc = 0.10  \t val_acc = 0.10\n",
      "Epoch 31: \t  train_loss = nan  \tval_loss = nan \t  train_acc = 0.10  \t val_acc = 0.10\n",
      "Epoch 32: \t  train_loss = nan  \tval_loss = nan \t  train_acc = 0.10  \t val_acc = 0.10\n",
      "Epoch 33: \t  train_loss = nan  \tval_loss = nan \t  train_acc = 0.10  \t val_acc = 0.10\n",
      "Epoch 34: \t  train_loss = nan  \tval_loss = nan \t  train_acc = 0.10  \t val_acc = 0.10\n",
      "Epoch 35: \t  train_loss = nan  \tval_loss = nan \t  train_acc = 0.10  \t val_acc = 0.10\n",
      "Epoch 36: \t  train_loss = nan  \tval_loss = nan \t  train_acc = 0.10  \t val_acc = 0.10\n",
      "Epoch 37: \t  train_loss = nan  \tval_loss = nan \t  train_acc = 0.10  \t val_acc = 0.10\n",
      "Epoch 38: \t  train_loss = nan  \tval_loss = nan \t  train_acc = 0.10  \t val_acc = 0.10\n",
      "Epoch 39: \t  train_loss = nan  \tval_loss = nan \t  train_acc = 0.10  \t val_acc = 0.10\n",
      "Epoch 40: \t  train_loss = nan  \tval_loss = nan \t  train_acc = 0.10  \t val_acc = 0.10\n",
      "Epoch 41: \t  train_loss = nan  \tval_loss = nan \t  train_acc = 0.10  \t val_acc = 0.10\n",
      "Epoch 42: \t  train_loss = nan  \tval_loss = nan \t  train_acc = 0.10  \t val_acc = 0.10\n",
      "Epoch 43: \t  train_loss = nan  \tval_loss = nan \t  train_acc = 0.10  \t val_acc = 0.10\n",
      "Epoch 44: \t  train_loss = nan  \tval_loss = nan \t  train_acc = 0.10  \t val_acc = 0.10\n",
      "Epoch 45: \t  train_loss = nan  \tval_loss = nan \t  train_acc = 0.10  \t val_acc = 0.10\n",
      "Epoch 46: \t  train_loss = nan  \tval_loss = nan \t  train_acc = 0.10  \t val_acc = 0.10\n",
      "Epoch 47: \t  train_loss = nan  \tval_loss = nan \t  train_acc = 0.10  \t val_acc = 0.10\n",
      "Epoch 48: \t  train_loss = nan  \tval_loss = nan \t  train_acc = 0.10  \t val_acc = 0.10\n",
      "Epoch 49: \t  train_loss = nan  \tval_loss = nan \t  train_acc = 0.10  \t val_acc = 0.10\n",
      "Epoch 50: \t  train_loss = nan  \tval_loss = nan \t  train_acc = 0.10  \t val_acc = 0.10\n"
     ]
    }
   ],
   "source": [
    "layers = [xtrain.shape[1], 256, 128, 64, 32, n_labels]\n",
    "mlp[3] = MLP(layers, 'relu', 'softmax','ce', learning_rate = 0.1)\n",
    "\n",
    "train_losses, val_losses, train_accs, val_accs = mlp[3].train(xtrain, ytrain, xval, yval, num_epochs = 50 , batch_size = 256)"
   ]
  },
  {
   "cell_type": "markdown",
   "id": "deebcfbe-d12a-4dcd-aa26-9f45d1762774",
   "metadata": {},
   "source": [
    "#### Final accuracy and F1 score"
   ]
  },
  {
   "cell_type": "code",
   "execution_count": 291,
   "id": "072bb565-67a6-4b2d-8353-6ae79401b4eb",
   "metadata": {},
   "outputs": [
    {
     "name": "stderr",
     "output_type": "stream",
     "text": [
      "/tmp/ipykernel_1435218/786607946.py:14: RuntimeWarning: overflow encountered in exp\n",
      "  return 1.0 / (1.0 + np.exp(-z))\n"
     ]
    },
    {
     "name": "stdout",
     "output_type": "stream",
     "text": [
      "1 hidden layer, activation function: 'sigmoid', loss function: 'cross-entropy'\n",
      "Classification Accuracy :  92.05666666666666 %\n",
      "               F1 Score :  0.9205688141449585\n",
      "-------------------------------------------------------------------------------------\n",
      "2 hidden layers, activation function: 'relu', loss function: 'mean squared error'\n",
      "Classification Accuracy :  10.0 %\n",
      "               F1 Score :  0.018181818016517907\n",
      "-------------------------------------------------------------------------------------\n",
      "3 hidden layers, activation function: 'sigmoid', loss function: 'mean squared error'\n",
      "Classification Accuracy :  92.99 %\n",
      "               F1 Score :  0.929918543157336\n",
      "-------------------------------------------------------------------------------------\n",
      "4 hidden layers, activation function: 'relu', loss function: 'cross-entropy'\n",
      "Classification Accuracy :  10.0 %\n",
      "               F1 Score :  0.018181818016517907\n",
      "-------------------------------------------------------------------------------------\n"
     ]
    }
   ],
   "source": [
    "models = [\"1 hidden layer, activation function: 'sigmoid', loss function: 'cross-entropy'\",\n",
    "         \"2 hidden layers, activation function: 'relu', loss function: 'mean squared error'\",\n",
    "         \"3 hidden layers, activation function: 'sigmoid', loss function: 'mean squared error'\",\n",
    "         \"4 hidden layers, activation function: 'relu', loss function: 'cross-entropy'\"]\n",
    "\n",
    "for i in range(4):\n",
    "    pred = np.argmax(mlp[i].forward(p5['X_test']), axis=1)\n",
    "    cnf = metrics.confusionMatrix(pred, p5['Y_test'], n_labels)\n",
    "    acc = metrics.accuracy(pred, p5['Y_test'])\n",
    "    f1 = metrics.f1Score(cnf)\n",
    "                         \n",
    "    print(models[i])\n",
    "    print(\"Classification Accuracy : \", acc * 100, \"%\")\n",
    "    print(\"               F1 Score : \", np.mean(f1))\n",
    "    print(\"-------------------------------------------------------------------------------------\")"
   ]
  }
 ],
 "metadata": {
  "kernelspec": {
   "display_name": "jupyter",
   "language": "python",
   "name": "jupyter"
  },
  "language_info": {
   "codemirror_mode": {
    "name": "ipython",
    "version": 3
   },
   "file_extension": ".py",
   "mimetype": "text/x-python",
   "name": "python",
   "nbconvert_exporter": "python",
   "pygments_lexer": "ipython3",
   "version": "3.10.8"
  }
 },
 "nbformat": 4,
 "nbformat_minor": 5
}
